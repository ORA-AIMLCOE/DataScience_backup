{
 "cells": [
  {
   "cell_type": "markdown",
   "id": "a982e112",
   "metadata": {},
   "source": [
    "#### Import required libraries"
   ]
  },
  {
   "cell_type": "code",
   "execution_count": 1,
   "id": "4f022c9b",
   "metadata": {},
   "outputs": [],
   "source": [
    "import pandas as pd\n",
    "import numpy as np"
   ]
  },
  {
   "cell_type": "code",
   "execution_count": 2,
   "id": "ce97dcaf",
   "metadata": {},
   "outputs": [
    {
     "name": "stdout",
     "output_type": "stream",
     "text": [
      "Requirement already satisfied: pyxlsb in c:\\users\\mithul mani\\anaconda3\\lib\\site-packages (1.0.10)\n"
     ]
    }
   ],
   "source": [
    "!pip install pyxlsb"
   ]
  },
  {
   "cell_type": "code",
   "execution_count": 3,
   "id": "5e07d9e0",
   "metadata": {},
   "outputs": [],
   "source": [
    "df = pd.read_excel(r\"AI-ML Data Input for FY22 , FY23 and FY24(Q1Q2) 12Dec2023.xlsb\", engine = 'pyxlsb')"
   ]
  },
  {
   "cell_type": "code",
   "execution_count": 5,
   "id": "47638d12",
   "metadata": {},
   "outputs": [
    {
     "data": {
      "text/html": [
       "<div>\n",
       "<style scoped>\n",
       "    .dataframe tbody tr th:only-of-type {\n",
       "        vertical-align: middle;\n",
       "    }\n",
       "\n",
       "    .dataframe tbody tr th {\n",
       "        vertical-align: top;\n",
       "    }\n",
       "\n",
       "    .dataframe thead th {\n",
       "        text-align: right;\n",
       "    }\n",
       "</style>\n",
       "<table border=\"1\" class=\"dataframe\">\n",
       "  <thead>\n",
       "    <tr style=\"text-align: right;\">\n",
       "      <th></th>\n",
       "      <th>Fiscal Year</th>\n",
       "      <th>Qtr</th>\n",
       "      <th>Consultant Mail ID</th>\n",
       "      <th>Control</th>\n",
       "      <th>E/C</th>\n",
       "      <th>Level</th>\n",
       "      <th>Manager</th>\n",
       "      <th>Pillar</th>\n",
       "      <th>Capacity Hours</th>\n",
       "      <th>Billable Hours</th>\n",
       "      <th>Domain 1</th>\n",
       "      <th>Domain 1.1</th>\n",
       "      <th>Resource Primary Skill</th>\n",
       "      <th>Secondary Primary Skill</th>\n",
       "    </tr>\n",
       "  </thead>\n",
       "  <tbody>\n",
       "    <tr>\n",
       "      <th>0</th>\n",
       "      <td>FY-22</td>\n",
       "      <td>Q1</td>\n",
       "      <td>a.aasik@oracle.com</td>\n",
       "      <td>FY-22Q1a.aasik@oracle.comC</td>\n",
       "      <td>C</td>\n",
       "      <td>C</td>\n",
       "      <td>jitendra.js.singh@oracle.com</td>\n",
       "      <td>CX Retail</td>\n",
       "      <td>520.0</td>\n",
       "      <td>432.0</td>\n",
       "      <td>App</td>\n",
       "      <td>CX</td>\n",
       "      <td>Global/CX/Technical Consultant</td>\n",
       "      <td>Global-R2/CX/Integration</td>\n",
       "    </tr>\n",
       "    <tr>\n",
       "      <th>1</th>\n",
       "      <td>FY-22</td>\n",
       "      <td>Q1</td>\n",
       "      <td>a.abhinav.s.sharma@oracle.com</td>\n",
       "      <td>FY-22Q1a.abhinav.s.sharma@oracle.comE</td>\n",
       "      <td>E</td>\n",
       "      <td>2</td>\n",
       "      <td>nitin.singh@oracle.com</td>\n",
       "      <td>CX Retail</td>\n",
       "      <td>520.0</td>\n",
       "      <td>504.0</td>\n",
       "      <td>App</td>\n",
       "      <td>CX</td>\n",
       "      <td>Global/CX/Technical Consultant</td>\n",
       "      <td>Global-R2/CX/Siebel/Data Migration(EIM)</td>\n",
       "    </tr>\n",
       "    <tr>\n",
       "      <th>2</th>\n",
       "      <td>FY-22</td>\n",
       "      <td>Q1</td>\n",
       "      <td>a.ashok.padmanaban@oracle.com</td>\n",
       "      <td>FY-22Q1a.ashok.padmanaban@oracle.comE</td>\n",
       "      <td>E</td>\n",
       "      <td>4</td>\n",
       "      <td>sreenivasa.venkatasubbarao@oracle.com</td>\n",
       "      <td>ERP SCM</td>\n",
       "      <td>280.0</td>\n",
       "      <td>192.0</td>\n",
       "      <td>App</td>\n",
       "      <td>SCM</td>\n",
       "      <td>Global/SCM/Functional Consultant</td>\n",
       "      <td>Global-R2/SCM/Procurement</td>\n",
       "    </tr>\n",
       "    <tr>\n",
       "      <th>3</th>\n",
       "      <td>FY-22</td>\n",
       "      <td>Q1</td>\n",
       "      <td>a.c.arun.thyagarajan@oracle.com</td>\n",
       "      <td>FY-22Q1a.c.arun.thyagarajan@oracle.comE</td>\n",
       "      <td>E</td>\n",
       "      <td>5</td>\n",
       "      <td>kishore.ludhani@oracle.com</td>\n",
       "      <td>ERP SCM</td>\n",
       "      <td>136.0</td>\n",
       "      <td>49.0</td>\n",
       "      <td>App</td>\n",
       "      <td>SCM</td>\n",
       "      <td>Global/SCM/Lead</td>\n",
       "      <td>Global-R2/SCM/Procurement</td>\n",
       "    </tr>\n",
       "    <tr>\n",
       "      <th>4</th>\n",
       "      <td>FY-22</td>\n",
       "      <td>Q1</td>\n",
       "      <td>a.rama.devi@oracle.com</td>\n",
       "      <td>FY-22Q1a.rama.devi@oracle.comE</td>\n",
       "      <td>E</td>\n",
       "      <td>4</td>\n",
       "      <td>anil.kumar.ragampeta@oracle.com</td>\n",
       "      <td>HCM</td>\n",
       "      <td>520.0</td>\n",
       "      <td>528.0</td>\n",
       "      <td>App</td>\n",
       "      <td>HCM</td>\n",
       "      <td>Global/HCM/Functional Consultant</td>\n",
       "      <td>Global-R2/HCM Cloud/Payroll/Functional</td>\n",
       "    </tr>\n",
       "  </tbody>\n",
       "</table>\n",
       "</div>"
      ],
      "text/plain": [
       "  Fiscal Year Qtr               Consultant Mail ID  \\\n",
       "0       FY-22  Q1               a.aasik@oracle.com   \n",
       "1       FY-22  Q1    a.abhinav.s.sharma@oracle.com   \n",
       "2       FY-22  Q1    a.ashok.padmanaban@oracle.com   \n",
       "3       FY-22  Q1  a.c.arun.thyagarajan@oracle.com   \n",
       "4       FY-22  Q1           a.rama.devi@oracle.com   \n",
       "\n",
       "                                   Control E/C Level  \\\n",
       "0               FY-22Q1a.aasik@oracle.comC   C     C   \n",
       "1    FY-22Q1a.abhinav.s.sharma@oracle.comE   E     2   \n",
       "2    FY-22Q1a.ashok.padmanaban@oracle.comE   E     4   \n",
       "3  FY-22Q1a.c.arun.thyagarajan@oracle.comE   E     5   \n",
       "4           FY-22Q1a.rama.devi@oracle.comE   E     4   \n",
       "\n",
       "                                 Manager     Pillar  Capacity Hours  \\\n",
       "0           jitendra.js.singh@oracle.com  CX Retail           520.0   \n",
       "1                 nitin.singh@oracle.com  CX Retail           520.0   \n",
       "2  sreenivasa.venkatasubbarao@oracle.com    ERP SCM           280.0   \n",
       "3             kishore.ludhani@oracle.com    ERP SCM           136.0   \n",
       "4        anil.kumar.ragampeta@oracle.com        HCM           520.0   \n",
       "\n",
       "   Billable Hours Domain 1 Domain 1.1            Resource Primary Skill  \\\n",
       "0           432.0      App         CX    Global/CX/Technical Consultant   \n",
       "1           504.0      App         CX    Global/CX/Technical Consultant   \n",
       "2           192.0      App        SCM  Global/SCM/Functional Consultant   \n",
       "3            49.0      App        SCM                   Global/SCM/Lead   \n",
       "4           528.0      App        HCM  Global/HCM/Functional Consultant   \n",
       "\n",
       "                   Secondary Primary Skill  \n",
       "0                 Global-R2/CX/Integration  \n",
       "1  Global-R2/CX/Siebel/Data Migration(EIM)  \n",
       "2                Global-R2/SCM/Procurement  \n",
       "3                Global-R2/SCM/Procurement  \n",
       "4   Global-R2/HCM Cloud/Payroll/Functional  "
      ]
     },
     "execution_count": 5,
     "metadata": {},
     "output_type": "execute_result"
    }
   ],
   "source": [
    "df.head()"
   ]
  },
  {
   "cell_type": "code",
   "execution_count": 3,
   "id": "4039f72e",
   "metadata": {},
   "outputs": [
    {
     "data": {
      "text/plain": [
       "['Capacity',\n",
       " 'Billable Days',\n",
       " 'NB Days',\n",
       " 'New Joiners ',\n",
       " 'EXIT',\n",
       " 'Promotion List',\n",
       " 'Location',\n",
       " 'T&D and Grads',\n",
       " 'Active Employee and Contractors',\n",
       " 'Onsite Offshore details',\n",
       " 'Monthly Capacity',\n",
       " 'Allocation',\n",
       " 'Consultants in Same project',\n",
       " 'Ex GSD FY22 Utl Details',\n",
       " 'Sheet1',\n",
       " 'Sheet2',\n",
       " 'Sheet5']"
      ]
     },
     "execution_count": 3,
     "metadata": {},
     "output_type": "execute_result"
    }
   ],
   "source": [
    "xls = pd.ExcelFile(r\"AI-ML Data Input for FY22 , FY23 and FY24(Q1Q2) 12Dec2023.xlsb\")\n",
    "xls.sheet_names"
   ]
  },
  {
   "cell_type": "code",
   "execution_count": 4,
   "id": "3d05bb87",
   "metadata": {},
   "outputs": [],
   "source": [
    "#store data from mutliple sheets to a variable\n",
    "capacity = pd.read_excel(r\"AI-ML Data Input for FY22 , FY23 and FY24(Q1Q2) 12Dec2023.xlsb\", engine = 'pyxlsb', sheet_name = 'Capacity')\n",
    "billable = pd.read_excel(r\"AI-ML Data Input for FY22 , FY23 and FY24(Q1Q2) 12Dec2023.xlsb\", engine = 'pyxlsb', sheet_name = 'Billable Days')\n",
    "non_billable = pd.read_excel(r\"AI-ML Data Input for FY22 , FY23 and FY24(Q1Q2) 12Dec2023.xlsb\", engine = 'pyxlsb', sheet_name = 'NB Days')\n",
    "new_joiner = pd.read_excel(r\"AI-ML Data Input for FY22 , FY23 and FY24(Q1Q2) 12Dec2023.xlsb\", engine = 'pyxlsb', sheet_name = 'New Joiners ')\n",
    "exit = pd.read_excel(r\"AI-ML Data Input for FY22 , FY23 and FY24(Q1Q2) 12Dec2023.xlsb\", engine = 'pyxlsb', sheet_name = 'EXIT')\n",
    "promotion_list = pd.read_excel(r\"AI-ML Data Input for FY22 , FY23 and FY24(Q1Q2) 12Dec2023.xlsb\", engine = 'pyxlsb', sheet_name = 'Promotion List')\n",
    "location = pd.read_excel(r\"AI-ML Data Input for FY22 , FY23 and FY24(Q1Q2) 12Dec2023.xlsb\", engine = 'pyxlsb', sheet_name = 'Location')\n",
    "t_d_grad = pd.read_excel(r\"AI-ML Data Input for FY22 , FY23 and FY24(Q1Q2) 12Dec2023.xlsb\", engine = 'pyxlsb', sheet_name = 'T&D and Grads')\n",
    "act_emp = pd.read_excel(r\"AI-ML Data Input for FY22 , FY23 and FY24(Q1Q2) 12Dec2023.xlsb\", engine = 'pyxlsb', sheet_name = 'Active Employee and Contractors')\n",
    "ons_off = pd.read_excel(r\"AI-ML Data Input for FY22 , FY23 and FY24(Q1Q2) 12Dec2023.xlsb\", engine = 'pyxlsb', sheet_name = 'Onsite Offshore details')\n",
    "monthly_capacity = pd.read_excel(r\"AI-ML Data Input for FY22 , FY23 and FY24(Q1Q2) 12Dec2023.xlsb\", engine = 'pyxlsb', sheet_name = 'Monthly Capacity')\n",
    "allocation = pd.read_excel(r\"AI-ML Data Input for FY22 , FY23 and FY24(Q1Q2) 12Dec2023.xlsb\", engine = 'pyxlsb', sheet_name = 'Allocation')\n",
    "consultant = pd.read_excel(r\"AI-ML Data Input for FY22 , FY23 and FY24(Q1Q2) 12Dec2023.xlsb\", engine = 'pyxlsb', sheet_name = 'Consultants in Same project')\n",
    "utilization = pd.read_excel(r\"AI-ML Data Input for FY22 , FY23 and FY24(Q1Q2) 12Dec2023.xlsb\", engine = 'pyxlsb', sheet_name = 'Ex GSD FY22 Utl Details')\n",
    "sheet1 = pd.read_excel(r\"AI-ML Data Input for FY22 , FY23 and FY24(Q1Q2) 12Dec2023.xlsb\", engine = 'pyxlsb', sheet_name = 'Sheet1')\n",
    "sheet2 = pd.read_excel(r\"AI-ML Data Input for FY22 , FY23 and FY24(Q1Q2) 12Dec2023.xlsb\", engine = 'pyxlsb', sheet_name = 'Sheet2')\n",
    "sheet5 = pd.read_excel(r\"AI-ML Data Input for FY22 , FY23 and FY24(Q1Q2) 12Dec2023.xlsb\", engine = 'pyxlsb', sheet_name = 'Sheet5')"
   ]
  },
  {
   "cell_type": "code",
   "execution_count": 10,
   "id": "820d6fa5",
   "metadata": {},
   "outputs": [
    {
     "data": {
      "text/plain": [
       "Index(['Fiscal Year', 'Qtr', 'Consultant Mail ID', 'Control', 'E/C', 'Level',\n",
       "       'Manager', 'Pillar', 'Capacity Hours', 'Billable Hours', 'Domain 1',\n",
       "       'Domain 1.1', 'Resource Primary Skill', 'Secondary Primary Skill'],\n",
       "      dtype='object')"
      ]
     },
     "execution_count": 10,
     "metadata": {},
     "output_type": "execute_result"
    }
   ],
   "source": [
    "capacity.columns"
   ]
  },
  {
   "cell_type": "code",
   "execution_count": 11,
   "id": "81c3ef5d",
   "metadata": {},
   "outputs": [
    {
     "name": "stdout",
     "output_type": "stream",
     "text": [
      "<class 'pandas.core.frame.DataFrame'>\n",
      "RangeIndex: 38376 entries, 0 to 38375\n",
      "Data columns (total 14 columns):\n",
      " #   Column                   Non-Null Count  Dtype  \n",
      "---  ------                   --------------  -----  \n",
      " 0   Fiscal Year              38376 non-null  object \n",
      " 1   Qtr                      38376 non-null  object \n",
      " 2   Consultant Mail ID       38376 non-null  object \n",
      " 3   Control                  38376 non-null  object \n",
      " 4   E/C                      38376 non-null  object \n",
      " 5   Level                    38376 non-null  object \n",
      " 6   Manager                  38376 non-null  object \n",
      " 7   Pillar                   38376 non-null  object \n",
      " 8   Capacity Hours           38353 non-null  float64\n",
      " 9   Billable Hours           38353 non-null  float64\n",
      " 10  Domain 1                 38376 non-null  object \n",
      " 11  Domain 1.1               38376 non-null  object \n",
      " 12  Resource Primary Skill   38162 non-null  object \n",
      " 13  Secondary Primary Skill  37129 non-null  object \n",
      "dtypes: float64(2), object(12)\n",
      "memory usage: 4.1+ MB\n"
     ]
    }
   ],
   "source": [
    "capacity.info()"
   ]
  },
  {
   "cell_type": "code",
   "execution_count": 5,
   "id": "8584575c",
   "metadata": {},
   "outputs": [
    {
     "data": {
      "text/plain": [
       "5868"
      ]
     },
     "execution_count": 5,
     "metadata": {},
     "output_type": "execute_result"
    }
   ],
   "source": [
    "capacity['Consultant Mail ID'].nunique()"
   ]
  },
  {
   "cell_type": "code",
   "execution_count": 6,
   "id": "51490435",
   "metadata": {},
   "outputs": [
    {
     "data": {
      "text/plain": [
       "4"
      ]
     },
     "execution_count": 6,
     "metadata": {},
     "output_type": "execute_result"
    }
   ],
   "source": [
    "capacity['Qtr'].nunique()"
   ]
  },
  {
   "cell_type": "code",
   "execution_count": 14,
   "id": "b032e260",
   "metadata": {},
   "outputs": [
    {
     "data": {
      "text/html": [
       "<div>\n",
       "<style scoped>\n",
       "    .dataframe tbody tr th:only-of-type {\n",
       "        vertical-align: middle;\n",
       "    }\n",
       "\n",
       "    .dataframe tbody tr th {\n",
       "        vertical-align: top;\n",
       "    }\n",
       "\n",
       "    .dataframe thead th {\n",
       "        text-align: right;\n",
       "    }\n",
       "</style>\n",
       "<table border=\"1\" class=\"dataframe\">\n",
       "  <thead>\n",
       "    <tr style=\"text-align: right;\">\n",
       "      <th></th>\n",
       "      <th>Fiscal Year</th>\n",
       "      <th>Qtr</th>\n",
       "      <th>Consultant Mail ID</th>\n",
       "      <th>Control</th>\n",
       "      <th>E/C</th>\n",
       "      <th>Level</th>\n",
       "      <th>Manager</th>\n",
       "      <th>Pillar</th>\n",
       "      <th>Capacity Hours</th>\n",
       "      <th>Billable Hours</th>\n",
       "      <th>Domain 1</th>\n",
       "      <th>Domain 1.1</th>\n",
       "      <th>Resource Primary Skill</th>\n",
       "      <th>Secondary Primary Skill</th>\n",
       "    </tr>\n",
       "  </thead>\n",
       "  <tbody>\n",
       "    <tr>\n",
       "      <th>0</th>\n",
       "      <td>FY-22</td>\n",
       "      <td>Q1</td>\n",
       "      <td>a.aasik@oracle.com</td>\n",
       "      <td>FY-22Q1a.aasik@oracle.comC</td>\n",
       "      <td>C</td>\n",
       "      <td>C</td>\n",
       "      <td>jitendra.js.singh@oracle.com</td>\n",
       "      <td>CX Retail</td>\n",
       "      <td>520.0</td>\n",
       "      <td>432.0</td>\n",
       "      <td>App</td>\n",
       "      <td>CX</td>\n",
       "      <td>Global/CX/Technical Consultant</td>\n",
       "      <td>Global-R2/CX/Integration</td>\n",
       "    </tr>\n",
       "    <tr>\n",
       "      <th>1</th>\n",
       "      <td>FY-22</td>\n",
       "      <td>Q1</td>\n",
       "      <td>a.abhinav.s.sharma@oracle.com</td>\n",
       "      <td>FY-22Q1a.abhinav.s.sharma@oracle.comE</td>\n",
       "      <td>E</td>\n",
       "      <td>2</td>\n",
       "      <td>nitin.singh@oracle.com</td>\n",
       "      <td>CX Retail</td>\n",
       "      <td>520.0</td>\n",
       "      <td>504.0</td>\n",
       "      <td>App</td>\n",
       "      <td>CX</td>\n",
       "      <td>Global/CX/Technical Consultant</td>\n",
       "      <td>Global-R2/CX/Siebel/Data Migration(EIM)</td>\n",
       "    </tr>\n",
       "    <tr>\n",
       "      <th>2</th>\n",
       "      <td>FY-22</td>\n",
       "      <td>Q1</td>\n",
       "      <td>a.ashok.padmanaban@oracle.com</td>\n",
       "      <td>FY-22Q1a.ashok.padmanaban@oracle.comE</td>\n",
       "      <td>E</td>\n",
       "      <td>4</td>\n",
       "      <td>sreenivasa.venkatasubbarao@oracle.com</td>\n",
       "      <td>ERP SCM</td>\n",
       "      <td>280.0</td>\n",
       "      <td>192.0</td>\n",
       "      <td>App</td>\n",
       "      <td>SCM</td>\n",
       "      <td>Global/SCM/Functional Consultant</td>\n",
       "      <td>Global-R2/SCM/Procurement</td>\n",
       "    </tr>\n",
       "    <tr>\n",
       "      <th>3</th>\n",
       "      <td>FY-22</td>\n",
       "      <td>Q1</td>\n",
       "      <td>a.c.arun.thyagarajan@oracle.com</td>\n",
       "      <td>FY-22Q1a.c.arun.thyagarajan@oracle.comE</td>\n",
       "      <td>E</td>\n",
       "      <td>5</td>\n",
       "      <td>kishore.ludhani@oracle.com</td>\n",
       "      <td>ERP SCM</td>\n",
       "      <td>136.0</td>\n",
       "      <td>49.0</td>\n",
       "      <td>App</td>\n",
       "      <td>SCM</td>\n",
       "      <td>Global/SCM/Lead</td>\n",
       "      <td>Global-R2/SCM/Procurement</td>\n",
       "    </tr>\n",
       "    <tr>\n",
       "      <th>4</th>\n",
       "      <td>FY-22</td>\n",
       "      <td>Q1</td>\n",
       "      <td>a.rama.devi@oracle.com</td>\n",
       "      <td>FY-22Q1a.rama.devi@oracle.comE</td>\n",
       "      <td>E</td>\n",
       "      <td>4</td>\n",
       "      <td>anil.kumar.ragampeta@oracle.com</td>\n",
       "      <td>HCM</td>\n",
       "      <td>520.0</td>\n",
       "      <td>528.0</td>\n",
       "      <td>App</td>\n",
       "      <td>HCM</td>\n",
       "      <td>Global/HCM/Functional Consultant</td>\n",
       "      <td>Global-R2/HCM Cloud/Payroll/Functional</td>\n",
       "    </tr>\n",
       "  </tbody>\n",
       "</table>\n",
       "</div>"
      ],
      "text/plain": [
       "  Fiscal Year Qtr               Consultant Mail ID  \\\n",
       "0       FY-22  Q1               a.aasik@oracle.com   \n",
       "1       FY-22  Q1    a.abhinav.s.sharma@oracle.com   \n",
       "2       FY-22  Q1    a.ashok.padmanaban@oracle.com   \n",
       "3       FY-22  Q1  a.c.arun.thyagarajan@oracle.com   \n",
       "4       FY-22  Q1           a.rama.devi@oracle.com   \n",
       "\n",
       "                                   Control E/C Level  \\\n",
       "0               FY-22Q1a.aasik@oracle.comC   C     C   \n",
       "1    FY-22Q1a.abhinav.s.sharma@oracle.comE   E     2   \n",
       "2    FY-22Q1a.ashok.padmanaban@oracle.comE   E     4   \n",
       "3  FY-22Q1a.c.arun.thyagarajan@oracle.comE   E     5   \n",
       "4           FY-22Q1a.rama.devi@oracle.comE   E     4   \n",
       "\n",
       "                                 Manager     Pillar  Capacity Hours  \\\n",
       "0           jitendra.js.singh@oracle.com  CX Retail           520.0   \n",
       "1                 nitin.singh@oracle.com  CX Retail           520.0   \n",
       "2  sreenivasa.venkatasubbarao@oracle.com    ERP SCM           280.0   \n",
       "3             kishore.ludhani@oracle.com    ERP SCM           136.0   \n",
       "4        anil.kumar.ragampeta@oracle.com        HCM           520.0   \n",
       "\n",
       "   Billable Hours Domain 1 Domain 1.1            Resource Primary Skill  \\\n",
       "0           432.0      App         CX    Global/CX/Technical Consultant   \n",
       "1           504.0      App         CX    Global/CX/Technical Consultant   \n",
       "2           192.0      App        SCM  Global/SCM/Functional Consultant   \n",
       "3            49.0      App        SCM                   Global/SCM/Lead   \n",
       "4           528.0      App        HCM  Global/HCM/Functional Consultant   \n",
       "\n",
       "                   Secondary Primary Skill  \n",
       "0                 Global-R2/CX/Integration  \n",
       "1  Global-R2/CX/Siebel/Data Migration(EIM)  \n",
       "2                Global-R2/SCM/Procurement  \n",
       "3                Global-R2/SCM/Procurement  \n",
       "4   Global-R2/HCM Cloud/Payroll/Functional  "
      ]
     },
     "execution_count": 14,
     "metadata": {},
     "output_type": "execute_result"
    }
   ],
   "source": [
    "capacity.head()"
   ]
  },
  {
   "cell_type": "code",
   "execution_count": 7,
   "id": "8631e46c",
   "metadata": {},
   "outputs": [
    {
     "data": {
      "text/plain": [
       "Qtr\n",
       "Q1    5708\n",
       "Q2    5127\n",
       "Q3    4897\n",
       "Q4    4800\n",
       "Name: Consultant Mail ID, dtype: int64"
      ]
     },
     "execution_count": 7,
     "metadata": {},
     "output_type": "execute_result"
    }
   ],
   "source": [
    "capacity.groupby('Qtr')['Consultant Mail ID'].nunique()"
   ]
  },
  {
   "cell_type": "code",
   "execution_count": 16,
   "id": "6c5cb60b",
   "metadata": {},
   "outputs": [
    {
     "data": {
      "text/html": [
       "<div>\n",
       "<style scoped>\n",
       "    .dataframe tbody tr th:only-of-type {\n",
       "        vertical-align: middle;\n",
       "    }\n",
       "\n",
       "    .dataframe tbody tr th {\n",
       "        vertical-align: top;\n",
       "    }\n",
       "\n",
       "    .dataframe thead th {\n",
       "        text-align: right;\n",
       "    }\n",
       "</style>\n",
       "<table border=\"1\" class=\"dataframe\">\n",
       "  <thead>\n",
       "    <tr style=\"text-align: right;\">\n",
       "      <th></th>\n",
       "      <th>Fiscal Year</th>\n",
       "      <th>Quarter</th>\n",
       "      <th>Employee / Contractor</th>\n",
       "      <th>Employee Number</th>\n",
       "      <th>Email Address</th>\n",
       "      <th>Hire Date</th>\n",
       "      <th>Separation Date</th>\n",
       "      <th>Check</th>\n",
       "      <th>Job Name</th>\n",
       "      <th>Level</th>\n",
       "      <th>CC</th>\n",
       "      <th>Pillar</th>\n",
       "    </tr>\n",
       "  </thead>\n",
       "  <tbody>\n",
       "    <tr>\n",
       "      <th>0</th>\n",
       "      <td>FY-23</td>\n",
       "      <td>Q1</td>\n",
       "      <td>E</td>\n",
       "      <td>1147685</td>\n",
       "      <td>swapna.yenugula@oracle.com</td>\n",
       "      <td>43748</td>\n",
       "      <td>44720</td>\n",
       "      <td>20515</td>\n",
       "      <td>20515.Principal Consultant.CONS.IMPDEL.IC3</td>\n",
       "      <td>5</td>\n",
       "      <td>504716</td>\n",
       "      <td>ERP FIN</td>\n",
       "    </tr>\n",
       "    <tr>\n",
       "      <th>1</th>\n",
       "      <td>FY-23</td>\n",
       "      <td>Q1</td>\n",
       "      <td>E</td>\n",
       "      <td>734489</td>\n",
       "      <td>sumita.x.sanyal@oracle.com</td>\n",
       "      <td>43762</td>\n",
       "      <td>44721</td>\n",
       "      <td>20515</td>\n",
       "      <td>20515.Principal Consultant.CONS.IMPDEL.IC3</td>\n",
       "      <td>5</td>\n",
       "      <td>504776</td>\n",
       "      <td>HCM</td>\n",
       "    </tr>\n",
       "    <tr>\n",
       "      <th>2</th>\n",
       "      <td>FY-23</td>\n",
       "      <td>Q1</td>\n",
       "      <td>E</td>\n",
       "      <td>894311</td>\n",
       "      <td>ravi.chandan.reddy@oracle.com</td>\n",
       "      <td>42530</td>\n",
       "      <td>44721</td>\n",
       "      <td>20515</td>\n",
       "      <td>20515.Principal Consultant.CONS.IMPDEL.IC3</td>\n",
       "      <td>5</td>\n",
       "      <td>504776</td>\n",
       "      <td>HCM</td>\n",
       "    </tr>\n",
       "    <tr>\n",
       "      <th>3</th>\n",
       "      <td>FY-23</td>\n",
       "      <td>Q1</td>\n",
       "      <td>E</td>\n",
       "      <td>1072381</td>\n",
       "      <td>vinothkannan.lakshmanan@oracle.com</td>\n",
       "      <td>43437</td>\n",
       "      <td>44722</td>\n",
       "      <td>20515</td>\n",
       "      <td>20515.Principal Consultant.CONS.IMPDEL.IC3</td>\n",
       "      <td>5</td>\n",
       "      <td>501185</td>\n",
       "      <td>ERP FIN</td>\n",
       "    </tr>\n",
       "    <tr>\n",
       "      <th>4</th>\n",
       "      <td>FY-23</td>\n",
       "      <td>Q1</td>\n",
       "      <td>E</td>\n",
       "      <td>1138808</td>\n",
       "      <td>milind.d.joshi@oracle.com</td>\n",
       "      <td>43731</td>\n",
       "      <td>44722</td>\n",
       "      <td>20515</td>\n",
       "      <td>20515.Principal Consultant.CONS.IMPDEL.IC3</td>\n",
       "      <td>5</td>\n",
       "      <td>504686</td>\n",
       "      <td>EPM</td>\n",
       "    </tr>\n",
       "  </tbody>\n",
       "</table>\n",
       "</div>"
      ],
      "text/plain": [
       "  Fiscal Year Quarter Employee / Contractor Employee Number  \\\n",
       "0       FY-23      Q1                     E         1147685   \n",
       "1       FY-23      Q1                     E          734489   \n",
       "2       FY-23      Q1                     E          894311   \n",
       "3       FY-23      Q1                     E         1072381   \n",
       "4       FY-23      Q1                     E         1138808   \n",
       "\n",
       "                        Email Address  Hire Date  Separation Date  Check  \\\n",
       "0          swapna.yenugula@oracle.com      43748            44720  20515   \n",
       "1          sumita.x.sanyal@oracle.com      43762            44721  20515   \n",
       "2       ravi.chandan.reddy@oracle.com      42530            44721  20515   \n",
       "3  vinothkannan.lakshmanan@oracle.com      43437            44722  20515   \n",
       "4           milind.d.joshi@oracle.com      43731            44722  20515   \n",
       "\n",
       "                                     Job Name Level      CC   Pillar  \n",
       "0  20515.Principal Consultant.CONS.IMPDEL.IC3     5  504716  ERP FIN  \n",
       "1  20515.Principal Consultant.CONS.IMPDEL.IC3     5  504776      HCM  \n",
       "2  20515.Principal Consultant.CONS.IMPDEL.IC3     5  504776      HCM  \n",
       "3  20515.Principal Consultant.CONS.IMPDEL.IC3     5  501185  ERP FIN  \n",
       "4  20515.Principal Consultant.CONS.IMPDEL.IC3     5  504686      EPM  "
      ]
     },
     "execution_count": 16,
     "metadata": {},
     "output_type": "execute_result"
    }
   ],
   "source": [
    "exit.head()"
   ]
  },
  {
   "cell_type": "code",
   "execution_count": 17,
   "id": "a958fa89",
   "metadata": {},
   "outputs": [
    {
     "name": "stdout",
     "output_type": "stream",
     "text": [
      "<class 'pandas.core.frame.DataFrame'>\n",
      "RangeIndex: 1855 entries, 0 to 1854\n",
      "Data columns (total 12 columns):\n",
      " #   Column                 Non-Null Count  Dtype \n",
      "---  ------                 --------------  ----- \n",
      " 0   Fiscal Year            1855 non-null   object\n",
      " 1   Quarter                1855 non-null   object\n",
      " 2   Employee / Contractor  1855 non-null   object\n",
      " 3   Employee Number        1855 non-null   object\n",
      " 4   Email Address          1855 non-null   object\n",
      " 5   Hire Date              1855 non-null   int64 \n",
      " 6   Separation Date        1855 non-null   int64 \n",
      " 7   Check                  1382 non-null   object\n",
      " 8   Job Name               1855 non-null   object\n",
      " 9   Level                  1855 non-null   object\n",
      " 10  CC                     1855 non-null   int64 \n",
      " 11  Pillar                 1855 non-null   object\n",
      "dtypes: int64(3), object(9)\n",
      "memory usage: 174.0+ KB\n"
     ]
    }
   ],
   "source": [
    "exit.info()"
   ]
  },
  {
   "cell_type": "code",
   "execution_count": 5,
   "id": "120e91a5",
   "metadata": {},
   "outputs": [],
   "source": [
    "# reformatting the date columns since it is interprested as integers\n",
    "exit['Hire Date'] = pd.to_datetime(exit['Hire Date'], unit='D', origin='1899-12-30')\n",
    "exit['Separation Date'] = pd.to_datetime(exit['Separation Date'], unit = 'D', origin = '1899-12-30')"
   ]
  },
  {
   "cell_type": "code",
   "execution_count": 23,
   "id": "580e7ae2",
   "metadata": {},
   "outputs": [
    {
     "data": {
      "text/plain": [
       "1811"
      ]
     },
     "execution_count": 23,
     "metadata": {},
     "output_type": "execute_result"
    }
   ],
   "source": [
    "exit['Email Address'].nunique()"
   ]
  },
  {
   "cell_type": "code",
   "execution_count": 24,
   "id": "73ee4177",
   "metadata": {},
   "outputs": [
    {
     "data": {
      "text/plain": [
       "<Axes: ylabel='Pillar'>"
      ]
     },
     "execution_count": 24,
     "metadata": {},
     "output_type": "execute_result"
    },
    {
     "data": {
      "image/png": "[encoded data removed]",
      "text/plain": [
       "<Figure size 640x480 with 1 Axes>"
      ]
     },
     "metadata": {},
     "output_type": "display_data"
    }
   ],
   "source": [
    "exit.Pillar.value_counts().sort_values().plot(kind = 'barh')"
   ]
  },
  {
   "cell_type": "code",
   "execution_count": 6,
   "id": "61f1785a",
   "metadata": {},
   "outputs": [],
   "source": [
    "from datetime import timedelta\n",
    "exit['diff_in_days'] = exit['Separation Date'] - exit['Hire Date']\n",
    "exit['diff_in_years'] = exit[\"diff_in_days\"] / timedelta(days=365)"
   ]
  },
  {
   "cell_type": "code",
   "execution_count": 10,
   "id": "e616a9e4",
   "metadata": {},
   "outputs": [
    {
     "data": {
      "text/plain": [
       "count    1855.000000\n",
       "mean        2.370025\n",
       "std         2.629268\n",
       "min         0.000000\n",
       "25%         0.827397\n",
       "50%         1.660274\n",
       "75%         2.801370\n",
       "max        24.424658\n",
       "Name: diff_in_years, dtype: float64"
      ]
     },
     "execution_count": 10,
     "metadata": {},
     "output_type": "execute_result"
    }
   ],
   "source": [
    "exit['diff_in_years'].describe()"
   ]
  },
  {
   "cell_type": "code",
   "execution_count": 7,
   "id": "f5755734",
   "metadata": {},
   "outputs": [],
   "source": [
    "capacity.rename(columns = {'Consultant Mail ID': 'Email Address'}, inplace = True)"
   ]
  },
  {
   "cell_type": "code",
   "execution_count": 8,
   "id": "e1216e91",
   "metadata": {},
   "outputs": [],
   "source": [
    "capacity_exit = pd.merge(capacity, exit, on = 'Email Address')"
   ]
  },
  {
   "cell_type": "code",
   "execution_count": 9,
   "id": "3ec0612f",
   "metadata": {},
   "outputs": [
    {
     "data": {
      "text/plain": [
       "(10336, 27)"
      ]
     },
     "execution_count": 9,
     "metadata": {},
     "output_type": "execute_result"
    }
   ],
   "source": [
    "capacity_exit.shape"
   ]
  },
  {
   "cell_type": "code",
   "execution_count": 10,
   "id": "00a8f7e6",
   "metadata": {},
   "outputs": [
    {
     "data": {
      "text/plain": [
       "1746"
      ]
     },
     "execution_count": 10,
     "metadata": {},
     "output_type": "execute_result"
    }
   ],
   "source": [
    "capacity_exit['Email Address'].nunique()"
   ]
  },
  {
   "cell_type": "code",
   "execution_count": 11,
   "id": "b0679515",
   "metadata": {},
   "outputs": [
    {
     "data": {
      "text/plain": [
       "Fiscal Year_x                 0\n",
       "Qtr                           0\n",
       "Email Address                 0\n",
       "Control                       0\n",
       "E/C                           0\n",
       "Level_x                       0\n",
       "Manager                       0\n",
       "Pillar_x                      0\n",
       "Capacity Hours                0\n",
       "Billable Hours                0\n",
       "Domain 1                      0\n",
       "Domain 1.1                    0\n",
       "Resource Primary Skill       26\n",
       "Secondary Primary Skill     542\n",
       "Fiscal Year_y                 0\n",
       "Quarter                       0\n",
       "Employee / Contractor         0\n",
       "Employee Number               0\n",
       "Hire Date                     0\n",
       "Separation Date               0\n",
       "Check                      3443\n",
       "Job Name                      0\n",
       "Level_y                       0\n",
       "CC                            0\n",
       "Pillar_y                      0\n",
       "diff_in_days                  0\n",
       "diff_in_years                 0\n",
       "dtype: int64"
      ]
     },
     "execution_count": 11,
     "metadata": {},
     "output_type": "execute_result"
    }
   ],
   "source": [
    "capacity_exit.isnull().sum()"
   ]
  },
  {
   "cell_type": "code",
   "execution_count": 12,
   "id": "9b47abb5",
   "metadata": {},
   "outputs": [],
   "source": [
    "capacity_exit['stay/left'] = 1"
   ]
  },
  {
   "cell_type": "code",
   "execution_count": 13,
   "id": "df3fe134",
   "metadata": {},
   "outputs": [
    {
     "data": {
      "text/html": [
       "<div>\n",
       "<style scoped>\n",
       "    .dataframe tbody tr th:only-of-type {\n",
       "        vertical-align: middle;\n",
       "    }\n",
       "\n",
       "    .dataframe tbody tr th {\n",
       "        vertical-align: top;\n",
       "    }\n",
       "\n",
       "    .dataframe thead th {\n",
       "        text-align: right;\n",
       "    }\n",
       "</style>\n",
       "<table border=\"1\" class=\"dataframe\">\n",
       "  <thead>\n",
       "    <tr style=\"text-align: right;\">\n",
       "      <th></th>\n",
       "      <th>Fiscal Year_x</th>\n",
       "      <th>Qtr</th>\n",
       "      <th>Email Address</th>\n",
       "      <th>Control</th>\n",
       "      <th>E/C</th>\n",
       "      <th>Level_x</th>\n",
       "      <th>Manager</th>\n",
       "      <th>Pillar_x</th>\n",
       "      <th>Capacity Hours</th>\n",
       "      <th>Billable Hours</th>\n",
       "      <th>...</th>\n",
       "      <th>Hire Date</th>\n",
       "      <th>Separation Date</th>\n",
       "      <th>Check</th>\n",
       "      <th>Job Name</th>\n",
       "      <th>Level_y</th>\n",
       "      <th>CC</th>\n",
       "      <th>Pillar_y</th>\n",
       "      <th>diff_in_days</th>\n",
       "      <th>diff_in_years</th>\n",
       "      <th>stay/left</th>\n",
       "    </tr>\n",
       "  </thead>\n",
       "  <tbody>\n",
       "    <tr>\n",
       "      <th>0</th>\n",
       "      <td>FY-22</td>\n",
       "      <td>Q1</td>\n",
       "      <td>a.aasik@oracle.com</td>\n",
       "      <td>FY-22Q1a.aasik@oracle.comC</td>\n",
       "      <td>C</td>\n",
       "      <td>C</td>\n",
       "      <td>jitendra.js.singh@oracle.com</td>\n",
       "      <td>CX Retail</td>\n",
       "      <td>520.0</td>\n",
       "      <td>432.0</td>\n",
       "      <td>...</td>\n",
       "      <td>2021-02-22</td>\n",
       "      <td>2023-05-31</td>\n",
       "      <td>NaN</td>\n",
       "      <td>8888.Contractor-Billable.N/A</td>\n",
       "      <td>C</td>\n",
       "      <td>504626</td>\n",
       "      <td>CX Retail</td>\n",
       "      <td>828 days</td>\n",
       "      <td>2.268493</td>\n",
       "      <td>1</td>\n",
       "    </tr>\n",
       "    <tr>\n",
       "      <th>1</th>\n",
       "      <td>FY-22</td>\n",
       "      <td>Q2</td>\n",
       "      <td>a.aasik@oracle.com</td>\n",
       "      <td>FY-22Q2a.aasik@oracle.comC</td>\n",
       "      <td>C</td>\n",
       "      <td>C</td>\n",
       "      <td>jitendra.js.singh@oracle.com</td>\n",
       "      <td>CX Retail</td>\n",
       "      <td>520.0</td>\n",
       "      <td>172.0</td>\n",
       "      <td>...</td>\n",
       "      <td>2021-02-22</td>\n",
       "      <td>2023-05-31</td>\n",
       "      <td>NaN</td>\n",
       "      <td>8888.Contractor-Billable.N/A</td>\n",
       "      <td>C</td>\n",
       "      <td>504626</td>\n",
       "      <td>CX Retail</td>\n",
       "      <td>828 days</td>\n",
       "      <td>2.268493</td>\n",
       "      <td>1</td>\n",
       "    </tr>\n",
       "    <tr>\n",
       "      <th>2</th>\n",
       "      <td>FY-22</td>\n",
       "      <td>Q3</td>\n",
       "      <td>a.aasik@oracle.com</td>\n",
       "      <td>FY-22Q3a.aasik@oracle.comC</td>\n",
       "      <td>C</td>\n",
       "      <td>C</td>\n",
       "      <td>jitendra.js.singh@oracle.com</td>\n",
       "      <td>CX Retail</td>\n",
       "      <td>520.0</td>\n",
       "      <td>300.0</td>\n",
       "      <td>...</td>\n",
       "      <td>2021-02-22</td>\n",
       "      <td>2023-05-31</td>\n",
       "      <td>NaN</td>\n",
       "      <td>8888.Contractor-Billable.N/A</td>\n",
       "      <td>C</td>\n",
       "      <td>504626</td>\n",
       "      <td>CX Retail</td>\n",
       "      <td>828 days</td>\n",
       "      <td>2.268493</td>\n",
       "      <td>1</td>\n",
       "    </tr>\n",
       "    <tr>\n",
       "      <th>3</th>\n",
       "      <td>FY-22</td>\n",
       "      <td>Q4</td>\n",
       "      <td>a.aasik@oracle.com</td>\n",
       "      <td>FY-22Q4a.aasik@oracle.comC</td>\n",
       "      <td>C</td>\n",
       "      <td>C</td>\n",
       "      <td>jitendra.js.singh@oracle.com</td>\n",
       "      <td>CX Retail</td>\n",
       "      <td>520.0</td>\n",
       "      <td>296.0</td>\n",
       "      <td>...</td>\n",
       "      <td>2021-02-22</td>\n",
       "      <td>2023-05-31</td>\n",
       "      <td>NaN</td>\n",
       "      <td>8888.Contractor-Billable.N/A</td>\n",
       "      <td>C</td>\n",
       "      <td>504626</td>\n",
       "      <td>CX Retail</td>\n",
       "      <td>828 days</td>\n",
       "      <td>2.268493</td>\n",
       "      <td>1</td>\n",
       "    </tr>\n",
       "    <tr>\n",
       "      <th>4</th>\n",
       "      <td>FY-23</td>\n",
       "      <td>Q1</td>\n",
       "      <td>a.aasik@oracle.com</td>\n",
       "      <td>FY-23Q1a.aasik@oracle.comC</td>\n",
       "      <td>C</td>\n",
       "      <td>C</td>\n",
       "      <td>v.vikas.g.gupta@oracle.com</td>\n",
       "      <td>CX Retail</td>\n",
       "      <td>520.0</td>\n",
       "      <td>360.0</td>\n",
       "      <td>...</td>\n",
       "      <td>2021-02-22</td>\n",
       "      <td>2023-05-31</td>\n",
       "      <td>NaN</td>\n",
       "      <td>8888.Contractor-Billable.N/A</td>\n",
       "      <td>C</td>\n",
       "      <td>504626</td>\n",
       "      <td>CX Retail</td>\n",
       "      <td>828 days</td>\n",
       "      <td>2.268493</td>\n",
       "      <td>1</td>\n",
       "    </tr>\n",
       "  </tbody>\n",
       "</table>\n",
       "<p>5 rows × 28 columns</p>\n",
       "</div>"
      ],
      "text/plain": [
       "  Fiscal Year_x Qtr       Email Address                     Control E/C  \\\n",
       "0         FY-22  Q1  a.aasik@oracle.com  FY-22Q1a.aasik@oracle.comC   C   \n",
       "1         FY-22  Q2  a.aasik@oracle.com  FY-22Q2a.aasik@oracle.comC   C   \n",
       "2         FY-22  Q3  a.aasik@oracle.com  FY-22Q3a.aasik@oracle.comC   C   \n",
       "3         FY-22  Q4  a.aasik@oracle.com  FY-22Q4a.aasik@oracle.comC   C   \n",
       "4         FY-23  Q1  a.aasik@oracle.com  FY-23Q1a.aasik@oracle.comC   C   \n",
       "\n",
       "  Level_x                       Manager   Pillar_x  Capacity Hours  \\\n",
       "0       C  jitendra.js.singh@oracle.com  CX Retail           520.0   \n",
       "1       C  jitendra.js.singh@oracle.com  CX Retail           520.0   \n",
       "2       C  jitendra.js.singh@oracle.com  CX Retail           520.0   \n",
       "3       C  jitendra.js.singh@oracle.com  CX Retail           520.0   \n",
       "4       C    v.vikas.g.gupta@oracle.com  CX Retail           520.0   \n",
       "\n",
       "   Billable Hours  ...  Hire Date Separation Date Check  \\\n",
       "0           432.0  ... 2021-02-22      2023-05-31   NaN   \n",
       "1           172.0  ... 2021-02-22      2023-05-31   NaN   \n",
       "2           300.0  ... 2021-02-22      2023-05-31   NaN   \n",
       "3           296.0  ... 2021-02-22      2023-05-31   NaN   \n",
       "4           360.0  ... 2021-02-22      2023-05-31   NaN   \n",
       "\n",
       "                       Job Name Level_y      CC   Pillar_y diff_in_days  \\\n",
       "0  8888.Contractor-Billable.N/A       C  504626  CX Retail     828 days   \n",
       "1  8888.Contractor-Billable.N/A       C  504626  CX Retail     828 days   \n",
       "2  8888.Contractor-Billable.N/A       C  504626  CX Retail     828 days   \n",
       "3  8888.Contractor-Billable.N/A       C  504626  CX Retail     828 days   \n",
       "4  8888.Contractor-Billable.N/A       C  504626  CX Retail     828 days   \n",
       "\n",
       "  diff_in_years stay/left  \n",
       "0      2.268493         1  \n",
       "1      2.268493         1  \n",
       "2      2.268493         1  \n",
       "3      2.268493         1  \n",
       "4      2.268493         1  \n",
       "\n",
       "[5 rows x 28 columns]"
      ]
     },
     "execution_count": 13,
     "metadata": {},
     "output_type": "execute_result"
    }
   ],
   "source": [
    "capacity_exit.head()"
   ]
  },
  {
   "cell_type": "code",
   "execution_count": 44,
   "id": "684aadb5",
   "metadata": {},
   "outputs": [
    {
     "data": {
      "text/plain": [
       "Index(['Fiscal Year_x', 'Qtr', 'Email Address', 'Control', 'E/C', 'Level_x',\n",
       "       'Manager', 'Pillar_x', 'Capacity Hours', 'Billable Hours', 'Domain 1',\n",
       "       'Domain 1.1', 'Resource Primary Skill', 'Secondary Primary Skill',\n",
       "       'Fiscal Year_y', 'Quarter', 'Employee / Contractor', 'Employee Number',\n",
       "       'Hire Date', 'Separation Date', 'Check', 'Job Name', 'Level_y', 'CC',\n",
       "       'Pillar_y', 'diff_in_days', 'diff_in_years', 'stay/left'],\n",
       "      dtype='object')"
      ]
     },
     "execution_count": 44,
     "metadata": {},
     "output_type": "execute_result"
    }
   ],
   "source": [
    "capacity_exit.columns"
   ]
  },
  {
   "cell_type": "code",
   "execution_count": 14,
   "id": "4df80f47",
   "metadata": {},
   "outputs": [],
   "source": [
    "capacity_exit = capacity_exit[['Fiscal Year_x','Qtr','Email Address','E/C','Pillar_x','Capacity Hours','Billable Hours','Resource Primary Skill','Employee Number','diff_in_years','Hire Date','Separation Date','stay/left']]"
   ]
  },
  {
   "cell_type": "code",
   "execution_count": 15,
   "id": "24babc4b",
   "metadata": {},
   "outputs": [],
   "source": [
    "promotion_list.rename(columns = {'Email ID':'Email Address'}, inplace = True)"
   ]
  },
  {
   "cell_type": "code",
   "execution_count": 16,
   "id": "6d3aad39",
   "metadata": {},
   "outputs": [],
   "source": [
    "# Merge dataframes based on email column\n",
    "promote_exit = pd.merge(capacity_exit, promotion_list, on='Email Address', how='inner', suffixes=('_df1', '_df2'))"
   ]
  },
  {
   "cell_type": "code",
   "execution_count": 17,
   "id": "0f67bef3",
   "metadata": {},
   "outputs": [],
   "source": [
    "promote_exit['promotion'] = 1"
   ]
  },
  {
   "cell_type": "code",
   "execution_count": 18,
   "id": "5495d9e8",
   "metadata": {},
   "outputs": [
    {
     "data": {
      "text/plain": [
       "promotion\n",
       "1    1233\n",
       "Name: count, dtype: int64"
      ]
     },
     "execution_count": 18,
     "metadata": {},
     "output_type": "execute_result"
    }
   ],
   "source": [
    "promote_exit['promotion'].value_counts()"
   ]
  },
  {
   "cell_type": "code",
   "execution_count": 19,
   "id": "615c04b5",
   "metadata": {},
   "outputs": [],
   "source": [
    "cap_prom_exit = pd.merge(capacity_exit, promote_exit, on = 'Email Address', how = 'outer', suffixes = ('_df1','_df2'))"
   ]
  },
  {
   "cell_type": "code",
   "execution_count": 30,
   "id": "e52bfc49",
   "metadata": {},
   "outputs": [
    {
     "data": {
      "text/html": [
       "<div>\n",
       "<style scoped>\n",
       "    .dataframe tbody tr th:only-of-type {\n",
       "        vertical-align: middle;\n",
       "    }\n",
       "\n",
       "    .dataframe tbody tr th {\n",
       "        vertical-align: top;\n",
       "    }\n",
       "\n",
       "    .dataframe thead th {\n",
       "        text-align: right;\n",
       "    }\n",
       "</style>\n",
       "<table border=\"1\" class=\"dataframe\">\n",
       "  <thead>\n",
       "    <tr style=\"text-align: right;\">\n",
       "      <th></th>\n",
       "      <th>Email Address</th>\n",
       "      <th>E/C</th>\n",
       "      <th>Pillar_x</th>\n",
       "      <th>Capacity Hours</th>\n",
       "      <th>Billable Hours</th>\n",
       "      <th>Resource Primary Skill</th>\n",
       "      <th>Employee Number</th>\n",
       "      <th>diff_in_years</th>\n",
       "      <th>Hire Date</th>\n",
       "      <th>Separation Date</th>\n",
       "      <th>stay/left</th>\n",
       "    </tr>\n",
       "  </thead>\n",
       "  <tbody>\n",
       "    <tr>\n",
       "      <th>0</th>\n",
       "      <td>a.aasik@oracle.com</td>\n",
       "      <td>C</td>\n",
       "      <td>CX Retail</td>\n",
       "      <td>520.0</td>\n",
       "      <td>432.0</td>\n",
       "      <td>Global/CX/Technical Consultant</td>\n",
       "      <td>C4997</td>\n",
       "      <td>2.268493</td>\n",
       "      <td>2021-02-22</td>\n",
       "      <td>2023-05-31</td>\n",
       "      <td>1</td>\n",
       "    </tr>\n",
       "    <tr>\n",
       "      <th>1</th>\n",
       "      <td>a.aasik@oracle.com</td>\n",
       "      <td>C</td>\n",
       "      <td>CX Retail</td>\n",
       "      <td>520.0</td>\n",
       "      <td>172.0</td>\n",
       "      <td>Global/CX/Technical Consultant</td>\n",
       "      <td>C4997</td>\n",
       "      <td>2.268493</td>\n",
       "      <td>2021-02-22</td>\n",
       "      <td>2023-05-31</td>\n",
       "      <td>1</td>\n",
       "    </tr>\n",
       "    <tr>\n",
       "      <th>2</th>\n",
       "      <td>a.aasik@oracle.com</td>\n",
       "      <td>C</td>\n",
       "      <td>CX Retail</td>\n",
       "      <td>520.0</td>\n",
       "      <td>300.0</td>\n",
       "      <td>Global/CX/Technical Consultant</td>\n",
       "      <td>C4997</td>\n",
       "      <td>2.268493</td>\n",
       "      <td>2021-02-22</td>\n",
       "      <td>2023-05-31</td>\n",
       "      <td>1</td>\n",
       "    </tr>\n",
       "    <tr>\n",
       "      <th>3</th>\n",
       "      <td>a.aasik@oracle.com</td>\n",
       "      <td>C</td>\n",
       "      <td>CX Retail</td>\n",
       "      <td>520.0</td>\n",
       "      <td>296.0</td>\n",
       "      <td>Global/CX/Technical Consultant</td>\n",
       "      <td>C4997</td>\n",
       "      <td>2.268493</td>\n",
       "      <td>2021-02-22</td>\n",
       "      <td>2023-05-31</td>\n",
       "      <td>1</td>\n",
       "    </tr>\n",
       "    <tr>\n",
       "      <th>4</th>\n",
       "      <td>a.aasik@oracle.com</td>\n",
       "      <td>C</td>\n",
       "      <td>CX Retail</td>\n",
       "      <td>520.0</td>\n",
       "      <td>360.0</td>\n",
       "      <td>Global/CX/Technical Consultant</td>\n",
       "      <td>C4997</td>\n",
       "      <td>2.268493</td>\n",
       "      <td>2021-02-22</td>\n",
       "      <td>2023-05-31</td>\n",
       "      <td>1</td>\n",
       "    </tr>\n",
       "  </tbody>\n",
       "</table>\n",
       "</div>"
      ],
      "text/plain": [
       "        Email Address E/C   Pillar_x  Capacity Hours  Billable Hours  \\\n",
       "0  a.aasik@oracle.com   C  CX Retail           520.0           432.0   \n",
       "1  a.aasik@oracle.com   C  CX Retail           520.0           172.0   \n",
       "2  a.aasik@oracle.com   C  CX Retail           520.0           300.0   \n",
       "3  a.aasik@oracle.com   C  CX Retail           520.0           296.0   \n",
       "4  a.aasik@oracle.com   C  CX Retail           520.0           360.0   \n",
       "\n",
       "           Resource Primary Skill Employee Number  diff_in_years  Hire Date  \\\n",
       "0  Global/CX/Technical Consultant           C4997       2.268493 2021-02-22   \n",
       "1  Global/CX/Technical Consultant           C4997       2.268493 2021-02-22   \n",
       "2  Global/CX/Technical Consultant           C4997       2.268493 2021-02-22   \n",
       "3  Global/CX/Technical Consultant           C4997       2.268493 2021-02-22   \n",
       "4  Global/CX/Technical Consultant           C4997       2.268493 2021-02-22   \n",
       "\n",
       "  Separation Date  stay/left  \n",
       "0      2023-05-31          1  \n",
       "1      2023-05-31          1  \n",
       "2      2023-05-31          1  \n",
       "3      2023-05-31          1  \n",
       "4      2023-05-31          1  "
      ]
     },
     "execution_count": 30,
     "metadata": {},
     "output_type": "execute_result"
    }
   ],
   "source": [
    "capacity_exit.head()"
   ]
  },
  {
   "cell_type": "code",
   "execution_count": 25,
   "id": "eb33eed9",
   "metadata": {},
   "outputs": [
    {
     "data": {
      "text/html": [
       "<div>\n",
       "<style scoped>\n",
       "    .dataframe tbody tr th:only-of-type {\n",
       "        vertical-align: middle;\n",
       "    }\n",
       "\n",
       "    .dataframe tbody tr th {\n",
       "        vertical-align: top;\n",
       "    }\n",
       "\n",
       "    .dataframe thead th {\n",
       "        text-align: right;\n",
       "    }\n",
       "</style>\n",
       "<table border=\"1\" class=\"dataframe\">\n",
       "  <thead>\n",
       "    <tr style=\"text-align: right;\">\n",
       "      <th></th>\n",
       "      <th>Email Address</th>\n",
       "      <th>E/C</th>\n",
       "      <th>Pillar_x</th>\n",
       "      <th>Capacity Hours</th>\n",
       "      <th>Billable Hours</th>\n",
       "      <th>Resource Primary Skill</th>\n",
       "      <th>Employee Number</th>\n",
       "      <th>diff_in_years</th>\n",
       "      <th>Hire Date</th>\n",
       "      <th>Separation Date</th>\n",
       "      <th>Fiscal Year</th>\n",
       "      <th>New Level</th>\n",
       "      <th>promotion</th>\n",
       "    </tr>\n",
       "  </thead>\n",
       "  <tbody>\n",
       "    <tr>\n",
       "      <th>0</th>\n",
       "      <td>aditya.vemparala@oracle.com</td>\n",
       "      <td>E</td>\n",
       "      <td>HCM</td>\n",
       "      <td>520.0</td>\n",
       "      <td>548.0</td>\n",
       "      <td>Global/HCM/Functional Consultant</td>\n",
       "      <td>1315135</td>\n",
       "      <td>2.416438</td>\n",
       "      <td>2020-09-25</td>\n",
       "      <td>2023-02-24</td>\n",
       "      <td>FY-23</td>\n",
       "      <td>3</td>\n",
       "      <td>1</td>\n",
       "    </tr>\n",
       "    <tr>\n",
       "      <th>1</th>\n",
       "      <td>aditya.vemparala@oracle.com</td>\n",
       "      <td>E</td>\n",
       "      <td>HCM</td>\n",
       "      <td>520.0</td>\n",
       "      <td>448.0</td>\n",
       "      <td>Global/HCM/Functional Consultant</td>\n",
       "      <td>1315135</td>\n",
       "      <td>2.416438</td>\n",
       "      <td>2020-09-25</td>\n",
       "      <td>2023-02-24</td>\n",
       "      <td>FY-23</td>\n",
       "      <td>3</td>\n",
       "      <td>1</td>\n",
       "    </tr>\n",
       "    <tr>\n",
       "      <th>2</th>\n",
       "      <td>aditya.vemparala@oracle.com</td>\n",
       "      <td>E</td>\n",
       "      <td>HCM</td>\n",
       "      <td>520.0</td>\n",
       "      <td>424.0</td>\n",
       "      <td>Global/HCM/Functional Consultant</td>\n",
       "      <td>1315135</td>\n",
       "      <td>2.416438</td>\n",
       "      <td>2020-09-25</td>\n",
       "      <td>2023-02-24</td>\n",
       "      <td>FY-23</td>\n",
       "      <td>3</td>\n",
       "      <td>1</td>\n",
       "    </tr>\n",
       "    <tr>\n",
       "      <th>3</th>\n",
       "      <td>aditya.vemparala@oracle.com</td>\n",
       "      <td>E</td>\n",
       "      <td>HCM</td>\n",
       "      <td>520.0</td>\n",
       "      <td>488.0</td>\n",
       "      <td>Global/HCM/Functional Consultant</td>\n",
       "      <td>1315135</td>\n",
       "      <td>2.416438</td>\n",
       "      <td>2020-09-25</td>\n",
       "      <td>2023-02-24</td>\n",
       "      <td>FY-23</td>\n",
       "      <td>3</td>\n",
       "      <td>1</td>\n",
       "    </tr>\n",
       "    <tr>\n",
       "      <th>4</th>\n",
       "      <td>aditya.vemparala@oracle.com</td>\n",
       "      <td>E</td>\n",
       "      <td>HCM</td>\n",
       "      <td>520.0</td>\n",
       "      <td>456.0</td>\n",
       "      <td>Global/HCM/Functional Consultant</td>\n",
       "      <td>1315135</td>\n",
       "      <td>2.416438</td>\n",
       "      <td>2020-09-25</td>\n",
       "      <td>2023-02-24</td>\n",
       "      <td>FY-23</td>\n",
       "      <td>3</td>\n",
       "      <td>1</td>\n",
       "    </tr>\n",
       "  </tbody>\n",
       "</table>\n",
       "</div>"
      ],
      "text/plain": [
       "                 Email Address E/C Pillar_x  Capacity Hours  Billable Hours  \\\n",
       "0  aditya.vemparala@oracle.com   E      HCM           520.0           548.0   \n",
       "1  aditya.vemparala@oracle.com   E      HCM           520.0           448.0   \n",
       "2  aditya.vemparala@oracle.com   E      HCM           520.0           424.0   \n",
       "3  aditya.vemparala@oracle.com   E      HCM           520.0           488.0   \n",
       "4  aditya.vemparala@oracle.com   E      HCM           520.0           456.0   \n",
       "\n",
       "             Resource Primary Skill Employee Number  diff_in_years  Hire Date  \\\n",
       "0  Global/HCM/Functional Consultant         1315135       2.416438 2020-09-25   \n",
       "1  Global/HCM/Functional Consultant         1315135       2.416438 2020-09-25   \n",
       "2  Global/HCM/Functional Consultant         1315135       2.416438 2020-09-25   \n",
       "3  Global/HCM/Functional Consultant         1315135       2.416438 2020-09-25   \n",
       "4  Global/HCM/Functional Consultant         1315135       2.416438 2020-09-25   \n",
       "\n",
       "  Separation Date Fiscal Year New Level  promotion  \n",
       "0      2023-02-24       FY-23         3          1  \n",
       "1      2023-02-24       FY-23         3          1  \n",
       "2      2023-02-24       FY-23         3          1  \n",
       "3      2023-02-24       FY-23         3          1  \n",
       "4      2023-02-24       FY-23         3          1  "
      ]
     },
     "execution_count": 25,
     "metadata": {},
     "output_type": "execute_result"
    }
   ],
   "source": [
    "promote_exit.head()"
   ]
  },
  {
   "cell_type": "code",
   "execution_count": 20,
   "id": "591e1ba6",
   "metadata": {},
   "outputs": [],
   "source": [
    "capacity_promote_exit = pd.merge(capacity_exit,promote_exit[['Email Address','promotion']], on = 'Email Address', how= 'left')\n",
    "# Fill NaN values with 0 in promotion column\n",
    "capacity_promote_exit['promotion'] = capacity_promote_exit['promotion'].fillna(0).astype(int)"
   ]
  },
  {
   "cell_type": "code",
   "execution_count": 33,
   "id": "c374b9e6",
   "metadata": {},
   "outputs": [
    {
     "data": {
      "text/html": [
       "<div>\n",
       "<style scoped>\n",
       "    .dataframe tbody tr th:only-of-type {\n",
       "        vertical-align: middle;\n",
       "    }\n",
       "\n",
       "    .dataframe tbody tr th {\n",
       "        vertical-align: top;\n",
       "    }\n",
       "\n",
       "    .dataframe thead th {\n",
       "        text-align: right;\n",
       "    }\n",
       "</style>\n",
       "<table border=\"1\" class=\"dataframe\">\n",
       "  <thead>\n",
       "    <tr style=\"text-align: right;\">\n",
       "      <th></th>\n",
       "      <th>Email Address</th>\n",
       "      <th>E/C</th>\n",
       "      <th>Pillar_x</th>\n",
       "      <th>Capacity Hours</th>\n",
       "      <th>Billable Hours</th>\n",
       "      <th>Resource Primary Skill</th>\n",
       "      <th>Employee Number</th>\n",
       "      <th>diff_in_years</th>\n",
       "      <th>Hire Date</th>\n",
       "      <th>Separation Date</th>\n",
       "      <th>stay/left</th>\n",
       "      <th>promotion</th>\n",
       "    </tr>\n",
       "  </thead>\n",
       "  <tbody>\n",
       "    <tr>\n",
       "      <th>0</th>\n",
       "      <td>a.aasik@oracle.com</td>\n",
       "      <td>C</td>\n",
       "      <td>CX Retail</td>\n",
       "      <td>520.0</td>\n",
       "      <td>432.0</td>\n",
       "      <td>Global/CX/Technical Consultant</td>\n",
       "      <td>C4997</td>\n",
       "      <td>2.268493</td>\n",
       "      <td>2021-02-22</td>\n",
       "      <td>2023-05-31</td>\n",
       "      <td>1</td>\n",
       "      <td>0</td>\n",
       "    </tr>\n",
       "    <tr>\n",
       "      <th>1</th>\n",
       "      <td>a.aasik@oracle.com</td>\n",
       "      <td>C</td>\n",
       "      <td>CX Retail</td>\n",
       "      <td>520.0</td>\n",
       "      <td>172.0</td>\n",
       "      <td>Global/CX/Technical Consultant</td>\n",
       "      <td>C4997</td>\n",
       "      <td>2.268493</td>\n",
       "      <td>2021-02-22</td>\n",
       "      <td>2023-05-31</td>\n",
       "      <td>1</td>\n",
       "      <td>0</td>\n",
       "    </tr>\n",
       "    <tr>\n",
       "      <th>2</th>\n",
       "      <td>a.aasik@oracle.com</td>\n",
       "      <td>C</td>\n",
       "      <td>CX Retail</td>\n",
       "      <td>520.0</td>\n",
       "      <td>300.0</td>\n",
       "      <td>Global/CX/Technical Consultant</td>\n",
       "      <td>C4997</td>\n",
       "      <td>2.268493</td>\n",
       "      <td>2021-02-22</td>\n",
       "      <td>2023-05-31</td>\n",
       "      <td>1</td>\n",
       "      <td>0</td>\n",
       "    </tr>\n",
       "    <tr>\n",
       "      <th>3</th>\n",
       "      <td>a.aasik@oracle.com</td>\n",
       "      <td>C</td>\n",
       "      <td>CX Retail</td>\n",
       "      <td>520.0</td>\n",
       "      <td>296.0</td>\n",
       "      <td>Global/CX/Technical Consultant</td>\n",
       "      <td>C4997</td>\n",
       "      <td>2.268493</td>\n",
       "      <td>2021-02-22</td>\n",
       "      <td>2023-05-31</td>\n",
       "      <td>1</td>\n",
       "      <td>0</td>\n",
       "    </tr>\n",
       "    <tr>\n",
       "      <th>4</th>\n",
       "      <td>a.aasik@oracle.com</td>\n",
       "      <td>C</td>\n",
       "      <td>CX Retail</td>\n",
       "      <td>520.0</td>\n",
       "      <td>360.0</td>\n",
       "      <td>Global/CX/Technical Consultant</td>\n",
       "      <td>C4997</td>\n",
       "      <td>2.268493</td>\n",
       "      <td>2021-02-22</td>\n",
       "      <td>2023-05-31</td>\n",
       "      <td>1</td>\n",
       "      <td>0</td>\n",
       "    </tr>\n",
       "  </tbody>\n",
       "</table>\n",
       "</div>"
      ],
      "text/plain": [
       "        Email Address E/C   Pillar_x  Capacity Hours  Billable Hours  \\\n",
       "0  a.aasik@oracle.com   C  CX Retail           520.0           432.0   \n",
       "1  a.aasik@oracle.com   C  CX Retail           520.0           172.0   \n",
       "2  a.aasik@oracle.com   C  CX Retail           520.0           300.0   \n",
       "3  a.aasik@oracle.com   C  CX Retail           520.0           296.0   \n",
       "4  a.aasik@oracle.com   C  CX Retail           520.0           360.0   \n",
       "\n",
       "           Resource Primary Skill Employee Number  diff_in_years  Hire Date  \\\n",
       "0  Global/CX/Technical Consultant           C4997       2.268493 2021-02-22   \n",
       "1  Global/CX/Technical Consultant           C4997       2.268493 2021-02-22   \n",
       "2  Global/CX/Technical Consultant           C4997       2.268493 2021-02-22   \n",
       "3  Global/CX/Technical Consultant           C4997       2.268493 2021-02-22   \n",
       "4  Global/CX/Technical Consultant           C4997       2.268493 2021-02-22   \n",
       "\n",
       "  Separation Date  stay/left  promotion  \n",
       "0      2023-05-31          1          0  \n",
       "1      2023-05-31          1          0  \n",
       "2      2023-05-31          1          0  \n",
       "3      2023-05-31          1          0  \n",
       "4      2023-05-31          1          0  "
      ]
     },
     "execution_count": 33,
     "metadata": {},
     "output_type": "execute_result"
    }
   ],
   "source": [
    "capacity_promote_exit.head()"
   ]
  },
  {
   "cell_type": "code",
   "execution_count": 21,
   "id": "101cec23",
   "metadata": {},
   "outputs": [],
   "source": [
    "capacity_promote_exit.rename(columns={'diff_in_years':'tenure'}, inplace = True)"
   ]
  },
  {
   "cell_type": "code",
   "execution_count": 22,
   "id": "65973e2e",
   "metadata": {},
   "outputs": [
    {
     "data": {
      "text/plain": [
       "stay/left\n",
       "1    20860\n",
       "Name: count, dtype: int64"
      ]
     },
     "execution_count": 22,
     "metadata": {},
     "output_type": "execute_result"
    }
   ],
   "source": [
    "capacity_promote_exit['stay/left'].value_counts()"
   ]
  },
  {
   "cell_type": "code",
   "execution_count": 23,
   "id": "06904707",
   "metadata": {},
   "outputs": [
    {
     "data": {
      "text/plain": [
       "promotion\n",
       "1    11757\n",
       "0     9103\n",
       "Name: count, dtype: int64"
      ]
     },
     "execution_count": 23,
     "metadata": {},
     "output_type": "execute_result"
    }
   ],
   "source": [
    "capacity_promote_exit['promotion'].value_counts()"
   ]
  },
  {
   "cell_type": "code",
   "execution_count": 24,
   "id": "6f1e38c3",
   "metadata": {},
   "outputs": [
    {
     "data": {
      "text/plain": [
       "(38376, 14)"
      ]
     },
     "execution_count": 24,
     "metadata": {},
     "output_type": "execute_result"
    }
   ],
   "source": [
    "capacity.shape"
   ]
  },
  {
   "cell_type": "code",
   "execution_count": 37,
   "id": "899d5ac4",
   "metadata": {},
   "outputs": [
    {
     "data": {
      "text/html": [
       "<div>\n",
       "<style scoped>\n",
       "    .dataframe tbody tr th:only-of-type {\n",
       "        vertical-align: middle;\n",
       "    }\n",
       "\n",
       "    .dataframe tbody tr th {\n",
       "        vertical-align: top;\n",
       "    }\n",
       "\n",
       "    .dataframe thead th {\n",
       "        text-align: right;\n",
       "    }\n",
       "</style>\n",
       "<table border=\"1\" class=\"dataframe\">\n",
       "  <thead>\n",
       "    <tr style=\"text-align: right;\">\n",
       "      <th></th>\n",
       "      <th>Fiscal Year</th>\n",
       "      <th>Qtr</th>\n",
       "      <th>Email Address</th>\n",
       "      <th>Control</th>\n",
       "      <th>E/C</th>\n",
       "      <th>Level</th>\n",
       "      <th>Manager</th>\n",
       "      <th>Pillar</th>\n",
       "      <th>Capacity Hours</th>\n",
       "      <th>Billable Hours</th>\n",
       "      <th>Domain 1</th>\n",
       "      <th>Domain 1.1</th>\n",
       "      <th>Resource Primary Skill</th>\n",
       "      <th>Secondary Primary Skill</th>\n",
       "    </tr>\n",
       "  </thead>\n",
       "  <tbody>\n",
       "    <tr>\n",
       "      <th>0</th>\n",
       "      <td>FY-22</td>\n",
       "      <td>Q1</td>\n",
       "      <td>a.aasik@oracle.com</td>\n",
       "      <td>FY-22Q1a.aasik@oracle.comC</td>\n",
       "      <td>C</td>\n",
       "      <td>C</td>\n",
       "      <td>jitendra.js.singh@oracle.com</td>\n",
       "      <td>CX Retail</td>\n",
       "      <td>520.0</td>\n",
       "      <td>432.0</td>\n",
       "      <td>App</td>\n",
       "      <td>CX</td>\n",
       "      <td>Global/CX/Technical Consultant</td>\n",
       "      <td>Global-R2/CX/Integration</td>\n",
       "    </tr>\n",
       "    <tr>\n",
       "      <th>1</th>\n",
       "      <td>FY-22</td>\n",
       "      <td>Q1</td>\n",
       "      <td>a.abhinav.s.sharma@oracle.com</td>\n",
       "      <td>FY-22Q1a.abhinav.s.sharma@oracle.comE</td>\n",
       "      <td>E</td>\n",
       "      <td>2</td>\n",
       "      <td>nitin.singh@oracle.com</td>\n",
       "      <td>CX Retail</td>\n",
       "      <td>520.0</td>\n",
       "      <td>504.0</td>\n",
       "      <td>App</td>\n",
       "      <td>CX</td>\n",
       "      <td>Global/CX/Technical Consultant</td>\n",
       "      <td>Global-R2/CX/Siebel/Data Migration(EIM)</td>\n",
       "    </tr>\n",
       "    <tr>\n",
       "      <th>2</th>\n",
       "      <td>FY-22</td>\n",
       "      <td>Q1</td>\n",
       "      <td>a.ashok.padmanaban@oracle.com</td>\n",
       "      <td>FY-22Q1a.ashok.padmanaban@oracle.comE</td>\n",
       "      <td>E</td>\n",
       "      <td>4</td>\n",
       "      <td>sreenivasa.venkatasubbarao@oracle.com</td>\n",
       "      <td>ERP SCM</td>\n",
       "      <td>280.0</td>\n",
       "      <td>192.0</td>\n",
       "      <td>App</td>\n",
       "      <td>SCM</td>\n",
       "      <td>Global/SCM/Functional Consultant</td>\n",
       "      <td>Global-R2/SCM/Procurement</td>\n",
       "    </tr>\n",
       "    <tr>\n",
       "      <th>3</th>\n",
       "      <td>FY-22</td>\n",
       "      <td>Q1</td>\n",
       "      <td>a.c.arun.thyagarajan@oracle.com</td>\n",
       "      <td>FY-22Q1a.c.arun.thyagarajan@oracle.comE</td>\n",
       "      <td>E</td>\n",
       "      <td>5</td>\n",
       "      <td>kishore.ludhani@oracle.com</td>\n",
       "      <td>ERP SCM</td>\n",
       "      <td>136.0</td>\n",
       "      <td>49.0</td>\n",
       "      <td>App</td>\n",
       "      <td>SCM</td>\n",
       "      <td>Global/SCM/Lead</td>\n",
       "      <td>Global-R2/SCM/Procurement</td>\n",
       "    </tr>\n",
       "    <tr>\n",
       "      <th>4</th>\n",
       "      <td>FY-22</td>\n",
       "      <td>Q1</td>\n",
       "      <td>a.rama.devi@oracle.com</td>\n",
       "      <td>FY-22Q1a.rama.devi@oracle.comE</td>\n",
       "      <td>E</td>\n",
       "      <td>4</td>\n",
       "      <td>anil.kumar.ragampeta@oracle.com</td>\n",
       "      <td>HCM</td>\n",
       "      <td>520.0</td>\n",
       "      <td>528.0</td>\n",
       "      <td>App</td>\n",
       "      <td>HCM</td>\n",
       "      <td>Global/HCM/Functional Consultant</td>\n",
       "      <td>Global-R2/HCM Cloud/Payroll/Functional</td>\n",
       "    </tr>\n",
       "  </tbody>\n",
       "</table>\n",
       "</div>"
      ],
      "text/plain": [
       "  Fiscal Year Qtr                    Email Address  \\\n",
       "0       FY-22  Q1               a.aasik@oracle.com   \n",
       "1       FY-22  Q1    a.abhinav.s.sharma@oracle.com   \n",
       "2       FY-22  Q1    a.ashok.padmanaban@oracle.com   \n",
       "3       FY-22  Q1  a.c.arun.thyagarajan@oracle.com   \n",
       "4       FY-22  Q1           a.rama.devi@oracle.com   \n",
       "\n",
       "                                   Control E/C Level  \\\n",
       "0               FY-22Q1a.aasik@oracle.comC   C     C   \n",
       "1    FY-22Q1a.abhinav.s.sharma@oracle.comE   E     2   \n",
       "2    FY-22Q1a.ashok.padmanaban@oracle.comE   E     4   \n",
       "3  FY-22Q1a.c.arun.thyagarajan@oracle.comE   E     5   \n",
       "4           FY-22Q1a.rama.devi@oracle.comE   E     4   \n",
       "\n",
       "                                 Manager     Pillar  Capacity Hours  \\\n",
       "0           jitendra.js.singh@oracle.com  CX Retail           520.0   \n",
       "1                 nitin.singh@oracle.com  CX Retail           520.0   \n",
       "2  sreenivasa.venkatasubbarao@oracle.com    ERP SCM           280.0   \n",
       "3             kishore.ludhani@oracle.com    ERP SCM           136.0   \n",
       "4        anil.kumar.ragampeta@oracle.com        HCM           520.0   \n",
       "\n",
       "   Billable Hours Domain 1 Domain 1.1            Resource Primary Skill  \\\n",
       "0           432.0      App         CX    Global/CX/Technical Consultant   \n",
       "1           504.0      App         CX    Global/CX/Technical Consultant   \n",
       "2           192.0      App        SCM  Global/SCM/Functional Consultant   \n",
       "3            49.0      App        SCM                   Global/SCM/Lead   \n",
       "4           528.0      App        HCM  Global/HCM/Functional Consultant   \n",
       "\n",
       "                   Secondary Primary Skill  \n",
       "0                 Global-R2/CX/Integration  \n",
       "1  Global-R2/CX/Siebel/Data Migration(EIM)  \n",
       "2                Global-R2/SCM/Procurement  \n",
       "3                Global-R2/SCM/Procurement  \n",
       "4   Global-R2/HCM Cloud/Payroll/Functional  "
      ]
     },
     "execution_count": 37,
     "metadata": {},
     "output_type": "execute_result"
    }
   ],
   "source": [
    "capacity.head()"
   ]
  },
  {
   "cell_type": "code",
   "execution_count": 51,
   "id": "2fafd73b",
   "metadata": {},
   "outputs": [
    {
     "data": {
      "text/plain": [
       "(20860, 14)"
      ]
     },
     "execution_count": 51,
     "metadata": {},
     "output_type": "execute_result"
    }
   ],
   "source": [
    "capacity_promote_exit.shape"
   ]
  },
  {
   "cell_type": "code",
   "execution_count": 52,
   "id": "c25e6158",
   "metadata": {},
   "outputs": [
    {
     "data": {
      "text/html": [
       "<div>\n",
       "<style scoped>\n",
       "    .dataframe tbody tr th:only-of-type {\n",
       "        vertical-align: middle;\n",
       "    }\n",
       "\n",
       "    .dataframe tbody tr th {\n",
       "        vertical-align: top;\n",
       "    }\n",
       "\n",
       "    .dataframe thead th {\n",
       "        text-align: right;\n",
       "    }\n",
       "</style>\n",
       "<table border=\"1\" class=\"dataframe\">\n",
       "  <thead>\n",
       "    <tr style=\"text-align: right;\">\n",
       "      <th></th>\n",
       "      <th>Fiscal Year_x</th>\n",
       "      <th>Qtr</th>\n",
       "      <th>Email Address</th>\n",
       "      <th>E/C</th>\n",
       "      <th>Pillar_x</th>\n",
       "      <th>Capacity Hours</th>\n",
       "      <th>Billable Hours</th>\n",
       "      <th>Resource Primary Skill</th>\n",
       "      <th>Employee Number</th>\n",
       "      <th>tenure</th>\n",
       "      <th>Hire Date</th>\n",
       "      <th>Separation Date</th>\n",
       "      <th>stay/left</th>\n",
       "      <th>promotion</th>\n",
       "    </tr>\n",
       "  </thead>\n",
       "  <tbody>\n",
       "    <tr>\n",
       "      <th>0</th>\n",
       "      <td>FY-22</td>\n",
       "      <td>Q1</td>\n",
       "      <td>a.aasik@oracle.com</td>\n",
       "      <td>C</td>\n",
       "      <td>CX Retail</td>\n",
       "      <td>520.0</td>\n",
       "      <td>432.0</td>\n",
       "      <td>Global/CX/Technical Consultant</td>\n",
       "      <td>C4997</td>\n",
       "      <td>2.268493</td>\n",
       "      <td>2021-02-22</td>\n",
       "      <td>2023-05-31</td>\n",
       "      <td>1</td>\n",
       "      <td>0</td>\n",
       "    </tr>\n",
       "    <tr>\n",
       "      <th>1</th>\n",
       "      <td>FY-22</td>\n",
       "      <td>Q2</td>\n",
       "      <td>a.aasik@oracle.com</td>\n",
       "      <td>C</td>\n",
       "      <td>CX Retail</td>\n",
       "      <td>520.0</td>\n",
       "      <td>172.0</td>\n",
       "      <td>Global/CX/Technical Consultant</td>\n",
       "      <td>C4997</td>\n",
       "      <td>2.268493</td>\n",
       "      <td>2021-02-22</td>\n",
       "      <td>2023-05-31</td>\n",
       "      <td>1</td>\n",
       "      <td>0</td>\n",
       "    </tr>\n",
       "    <tr>\n",
       "      <th>2</th>\n",
       "      <td>FY-22</td>\n",
       "      <td>Q3</td>\n",
       "      <td>a.aasik@oracle.com</td>\n",
       "      <td>C</td>\n",
       "      <td>CX Retail</td>\n",
       "      <td>520.0</td>\n",
       "      <td>300.0</td>\n",
       "      <td>Global/CX/Technical Consultant</td>\n",
       "      <td>C4997</td>\n",
       "      <td>2.268493</td>\n",
       "      <td>2021-02-22</td>\n",
       "      <td>2023-05-31</td>\n",
       "      <td>1</td>\n",
       "      <td>0</td>\n",
       "    </tr>\n",
       "    <tr>\n",
       "      <th>3</th>\n",
       "      <td>FY-22</td>\n",
       "      <td>Q4</td>\n",
       "      <td>a.aasik@oracle.com</td>\n",
       "      <td>C</td>\n",
       "      <td>CX Retail</td>\n",
       "      <td>520.0</td>\n",
       "      <td>296.0</td>\n",
       "      <td>Global/CX/Technical Consultant</td>\n",
       "      <td>C4997</td>\n",
       "      <td>2.268493</td>\n",
       "      <td>2021-02-22</td>\n",
       "      <td>2023-05-31</td>\n",
       "      <td>1</td>\n",
       "      <td>0</td>\n",
       "    </tr>\n",
       "    <tr>\n",
       "      <th>4</th>\n",
       "      <td>FY-23</td>\n",
       "      <td>Q1</td>\n",
       "      <td>a.aasik@oracle.com</td>\n",
       "      <td>C</td>\n",
       "      <td>CX Retail</td>\n",
       "      <td>520.0</td>\n",
       "      <td>360.0</td>\n",
       "      <td>Global/CX/Technical Consultant</td>\n",
       "      <td>C4997</td>\n",
       "      <td>2.268493</td>\n",
       "      <td>2021-02-22</td>\n",
       "      <td>2023-05-31</td>\n",
       "      <td>1</td>\n",
       "      <td>0</td>\n",
       "    </tr>\n",
       "  </tbody>\n",
       "</table>\n",
       "</div>"
      ],
      "text/plain": [
       "  Fiscal Year_x Qtr       Email Address E/C   Pillar_x  Capacity Hours  \\\n",
       "0         FY-22  Q1  a.aasik@oracle.com   C  CX Retail           520.0   \n",
       "1         FY-22  Q2  a.aasik@oracle.com   C  CX Retail           520.0   \n",
       "2         FY-22  Q3  a.aasik@oracle.com   C  CX Retail           520.0   \n",
       "3         FY-22  Q4  a.aasik@oracle.com   C  CX Retail           520.0   \n",
       "4         FY-23  Q1  a.aasik@oracle.com   C  CX Retail           520.0   \n",
       "\n",
       "   Billable Hours          Resource Primary Skill Employee Number    tenure  \\\n",
       "0           432.0  Global/CX/Technical Consultant           C4997  2.268493   \n",
       "1           172.0  Global/CX/Technical Consultant           C4997  2.268493   \n",
       "2           300.0  Global/CX/Technical Consultant           C4997  2.268493   \n",
       "3           296.0  Global/CX/Technical Consultant           C4997  2.268493   \n",
       "4           360.0  Global/CX/Technical Consultant           C4997  2.268493   \n",
       "\n",
       "   Hire Date Separation Date  stay/left  promotion  \n",
       "0 2021-02-22      2023-05-31          1          0  \n",
       "1 2021-02-22      2023-05-31          1          0  \n",
       "2 2021-02-22      2023-05-31          1          0  \n",
       "3 2021-02-22      2023-05-31          1          0  \n",
       "4 2021-02-22      2023-05-31          1          0  "
      ]
     },
     "execution_count": 52,
     "metadata": {},
     "output_type": "execute_result"
    }
   ],
   "source": [
    "capacity_promote_exit.head()"
   ]
  },
  {
   "cell_type": "code",
   "execution_count": 25,
   "id": "2420a709",
   "metadata": {},
   "outputs": [],
   "source": [
    "# retaining only the required particulars\n",
    "cap_prom_exit_short = capacity_promote_exit.drop_duplicates(keep = 'first', subset = 'Email Address')"
   ]
  },
  {
   "cell_type": "code",
   "execution_count": 26,
   "id": "080ec4dc",
   "metadata": {},
   "outputs": [],
   "source": [
    "# merge capacity with promotion and exit details\n",
    "capacity_with_promotion_exit = pd.merge(capacity,cap_prom_exit_short[['Email Address','Hire Date','Separation Date','stay/left','promotion','tenure']], on = 'Email Address', how = 'left')"
   ]
  },
  {
   "cell_type": "code",
   "execution_count": 77,
   "id": "393818a9",
   "metadata": {},
   "outputs": [
    {
     "data": {
      "text/html": [
       "<div>\n",
       "<style scoped>\n",
       "    .dataframe tbody tr th:only-of-type {\n",
       "        vertical-align: middle;\n",
       "    }\n",
       "\n",
       "    .dataframe tbody tr th {\n",
       "        vertical-align: top;\n",
       "    }\n",
       "\n",
       "    .dataframe thead th {\n",
       "        text-align: right;\n",
       "    }\n",
       "</style>\n",
       "<table border=\"1\" class=\"dataframe\">\n",
       "  <thead>\n",
       "    <tr style=\"text-align: right;\">\n",
       "      <th></th>\n",
       "      <th>Fiscal Year</th>\n",
       "      <th>Qtr</th>\n",
       "      <th>Email Address</th>\n",
       "      <th>Control</th>\n",
       "      <th>E/C</th>\n",
       "      <th>Level</th>\n",
       "      <th>Manager</th>\n",
       "      <th>Pillar</th>\n",
       "      <th>Capacity Hours</th>\n",
       "      <th>Billable Hours</th>\n",
       "      <th>Domain 1</th>\n",
       "      <th>Domain 1.1</th>\n",
       "      <th>Resource Primary Skill</th>\n",
       "      <th>Secondary Primary Skill</th>\n",
       "      <th>Hire Date</th>\n",
       "      <th>Separation Date</th>\n",
       "      <th>stay/left</th>\n",
       "      <th>promotion</th>\n",
       "      <th>tenure</th>\n",
       "    </tr>\n",
       "  </thead>\n",
       "  <tbody>\n",
       "    <tr>\n",
       "      <th>0</th>\n",
       "      <td>FY-22</td>\n",
       "      <td>Q1</td>\n",
       "      <td>a.aasik@oracle.com</td>\n",
       "      <td>FY-22Q1a.aasik@oracle.comC</td>\n",
       "      <td>C</td>\n",
       "      <td>C</td>\n",
       "      <td>jitendra.js.singh@oracle.com</td>\n",
       "      <td>CX Retail</td>\n",
       "      <td>520.0</td>\n",
       "      <td>432.0</td>\n",
       "      <td>App</td>\n",
       "      <td>CX</td>\n",
       "      <td>Global/CX/Technical Consultant</td>\n",
       "      <td>Global-R2/CX/Integration</td>\n",
       "      <td>2021-02-22</td>\n",
       "      <td>2023-05-31</td>\n",
       "      <td>1.0</td>\n",
       "      <td>0.0</td>\n",
       "      <td>2.268493</td>\n",
       "    </tr>\n",
       "    <tr>\n",
       "      <th>1</th>\n",
       "      <td>FY-22</td>\n",
       "      <td>Q1</td>\n",
       "      <td>a.abhinav.s.sharma@oracle.com</td>\n",
       "      <td>FY-22Q1a.abhinav.s.sharma@oracle.comE</td>\n",
       "      <td>E</td>\n",
       "      <td>2</td>\n",
       "      <td>nitin.singh@oracle.com</td>\n",
       "      <td>CX Retail</td>\n",
       "      <td>520.0</td>\n",
       "      <td>504.0</td>\n",
       "      <td>App</td>\n",
       "      <td>CX</td>\n",
       "      <td>Global/CX/Technical Consultant</td>\n",
       "      <td>Global-R2/CX/Siebel/Data Migration(EIM)</td>\n",
       "      <td>2018-01-04</td>\n",
       "      <td>2021-12-17</td>\n",
       "      <td>1.0</td>\n",
       "      <td>0.0</td>\n",
       "      <td>3.953425</td>\n",
       "    </tr>\n",
       "    <tr>\n",
       "      <th>2</th>\n",
       "      <td>FY-22</td>\n",
       "      <td>Q1</td>\n",
       "      <td>a.ashok.padmanaban@oracle.com</td>\n",
       "      <td>FY-22Q1a.ashok.padmanaban@oracle.comE</td>\n",
       "      <td>E</td>\n",
       "      <td>4</td>\n",
       "      <td>sreenivasa.venkatasubbarao@oracle.com</td>\n",
       "      <td>ERP SCM</td>\n",
       "      <td>280.0</td>\n",
       "      <td>192.0</td>\n",
       "      <td>App</td>\n",
       "      <td>SCM</td>\n",
       "      <td>Global/SCM/Functional Consultant</td>\n",
       "      <td>Global-R2/SCM/Procurement</td>\n",
       "      <td>2019-10-28</td>\n",
       "      <td>2021-07-16</td>\n",
       "      <td>1.0</td>\n",
       "      <td>0.0</td>\n",
       "      <td>1.717808</td>\n",
       "    </tr>\n",
       "    <tr>\n",
       "      <th>3</th>\n",
       "      <td>FY-22</td>\n",
       "      <td>Q1</td>\n",
       "      <td>a.c.arun.thyagarajan@oracle.com</td>\n",
       "      <td>FY-22Q1a.c.arun.thyagarajan@oracle.comE</td>\n",
       "      <td>E</td>\n",
       "      <td>5</td>\n",
       "      <td>kishore.ludhani@oracle.com</td>\n",
       "      <td>ERP SCM</td>\n",
       "      <td>136.0</td>\n",
       "      <td>49.0</td>\n",
       "      <td>App</td>\n",
       "      <td>SCM</td>\n",
       "      <td>Global/SCM/Lead</td>\n",
       "      <td>Global-R2/SCM/Procurement</td>\n",
       "      <td>NaT</td>\n",
       "      <td>NaT</td>\n",
       "      <td>0.0</td>\n",
       "      <td>0.0</td>\n",
       "      <td>NaN</td>\n",
       "    </tr>\n",
       "    <tr>\n",
       "      <th>4</th>\n",
       "      <td>FY-22</td>\n",
       "      <td>Q1</td>\n",
       "      <td>a.rama.devi@oracle.com</td>\n",
       "      <td>FY-22Q1a.rama.devi@oracle.comE</td>\n",
       "      <td>E</td>\n",
       "      <td>4</td>\n",
       "      <td>anil.kumar.ragampeta@oracle.com</td>\n",
       "      <td>HCM</td>\n",
       "      <td>520.0</td>\n",
       "      <td>528.0</td>\n",
       "      <td>App</td>\n",
       "      <td>HCM</td>\n",
       "      <td>Global/HCM/Functional Consultant</td>\n",
       "      <td>Global-R2/HCM Cloud/Payroll/Functional</td>\n",
       "      <td>NaT</td>\n",
       "      <td>NaT</td>\n",
       "      <td>0.0</td>\n",
       "      <td>0.0</td>\n",
       "      <td>NaN</td>\n",
       "    </tr>\n",
       "  </tbody>\n",
       "</table>\n",
       "</div>"
      ],
      "text/plain": [
       "  Fiscal Year Qtr                    Email Address  \\\n",
       "0       FY-22  Q1               a.aasik@oracle.com   \n",
       "1       FY-22  Q1    a.abhinav.s.sharma@oracle.com   \n",
       "2       FY-22  Q1    a.ashok.padmanaban@oracle.com   \n",
       "3       FY-22  Q1  a.c.arun.thyagarajan@oracle.com   \n",
       "4       FY-22  Q1           a.rama.devi@oracle.com   \n",
       "\n",
       "                                   Control E/C Level  \\\n",
       "0               FY-22Q1a.aasik@oracle.comC   C     C   \n",
       "1    FY-22Q1a.abhinav.s.sharma@oracle.comE   E     2   \n",
       "2    FY-22Q1a.ashok.padmanaban@oracle.comE   E     4   \n",
       "3  FY-22Q1a.c.arun.thyagarajan@oracle.comE   E     5   \n",
       "4           FY-22Q1a.rama.devi@oracle.comE   E     4   \n",
       "\n",
       "                                 Manager     Pillar  Capacity Hours  \\\n",
       "0           jitendra.js.singh@oracle.com  CX Retail           520.0   \n",
       "1                 nitin.singh@oracle.com  CX Retail           520.0   \n",
       "2  sreenivasa.venkatasubbarao@oracle.com    ERP SCM           280.0   \n",
       "3             kishore.ludhani@oracle.com    ERP SCM           136.0   \n",
       "4        anil.kumar.ragampeta@oracle.com        HCM           520.0   \n",
       "\n",
       "   Billable Hours Domain 1 Domain 1.1            Resource Primary Skill  \\\n",
       "0           432.0      App         CX    Global/CX/Technical Consultant   \n",
       "1           504.0      App         CX    Global/CX/Technical Consultant   \n",
       "2           192.0      App        SCM  Global/SCM/Functional Consultant   \n",
       "3            49.0      App        SCM                   Global/SCM/Lead   \n",
       "4           528.0      App        HCM  Global/HCM/Functional Consultant   \n",
       "\n",
       "                   Secondary Primary Skill  Hire Date Separation Date  \\\n",
       "0                 Global-R2/CX/Integration 2021-02-22      2023-05-31   \n",
       "1  Global-R2/CX/Siebel/Data Migration(EIM) 2018-01-04      2021-12-17   \n",
       "2                Global-R2/SCM/Procurement 2019-10-28      2021-07-16   \n",
       "3                Global-R2/SCM/Procurement        NaT             NaT   \n",
       "4   Global-R2/HCM Cloud/Payroll/Functional        NaT             NaT   \n",
       "\n",
       "   stay/left  promotion    tenure  \n",
       "0        1.0        0.0  2.268493  \n",
       "1        1.0        0.0  3.953425  \n",
       "2        1.0        0.0  1.717808  \n",
       "3        0.0        0.0       NaN  \n",
       "4        0.0        0.0       NaN  "
      ]
     },
     "execution_count": 77,
     "metadata": {},
     "output_type": "execute_result"
    }
   ],
   "source": [
    "capacity_with_promotion_exit.head()"
   ]
  },
  {
   "cell_type": "code",
   "execution_count": 27,
   "id": "da9fdae9",
   "metadata": {},
   "outputs": [
    {
     "data": {
      "text/plain": [
       "stay/left\n",
       "1.0    10000\n",
       "Name: count, dtype: int64"
      ]
     },
     "execution_count": 27,
     "metadata": {},
     "output_type": "execute_result"
    }
   ],
   "source": [
    "capacity_with_promotion_exit['stay/left'].value_counts()"
   ]
  },
  {
   "cell_type": "code",
   "execution_count": 28,
   "id": "24d58bab",
   "metadata": {},
   "outputs": [
    {
     "data": {
      "text/plain": [
       "promotion\n",
       "0.0    8822\n",
       "1.0    1178\n",
       "Name: count, dtype: int64"
      ]
     },
     "execution_count": 28,
     "metadata": {},
     "output_type": "execute_result"
    }
   ],
   "source": [
    "capacity_with_promotion_exit['promotion'].value_counts()"
   ]
  },
  {
   "cell_type": "code",
   "execution_count": 99,
   "id": "5e393e00",
   "metadata": {},
   "outputs": [
    {
     "data": {
      "text/plain": [
       "Fiscal Year                    0\n",
       "Qtr                            0\n",
       "Email Address                  0\n",
       "Control                        0\n",
       "E/C                            0\n",
       "Level                          0\n",
       "Manager                        0\n",
       "Pillar                         0\n",
       "Capacity Hours                23\n",
       "Billable Hours                23\n",
       "Domain 1                       0\n",
       "Domain 1.1                     0\n",
       "Resource Primary Skill       214\n",
       "Secondary Primary Skill     1247\n",
       "Hire Date                  28376\n",
       "Separation Date            28376\n",
       "stay/left                      0\n",
       "promotion                      0\n",
       "tenure                     28376\n",
       "dtype: int64"
      ]
     },
     "execution_count": 99,
     "metadata": {},
     "output_type": "execute_result"
    }
   ],
   "source": [
    "capacity_with_promotion_exit.isnull().sum()"
   ]
  },
  {
   "cell_type": "code",
   "execution_count": 29,
   "id": "988bf719",
   "metadata": {},
   "outputs": [],
   "source": [
    "capacity_with_promotion_exit['stay/left'] = capacity_with_promotion_exit['stay/left'].fillna(0)\n",
    "capacity_with_promotion_exit['promotion'] = capacity_with_promotion_exit['promotion'].fillna(0)"
   ]
  },
  {
   "cell_type": "code",
   "execution_count": 30,
   "id": "9b8c32dd",
   "metadata": {},
   "outputs": [
    {
     "data": {
      "text/plain": [
       "stay/left\n",
       "0.0    28376\n",
       "1.0    10000\n",
       "Name: count, dtype: int64"
      ]
     },
     "execution_count": 30,
     "metadata": {},
     "output_type": "execute_result"
    }
   ],
   "source": [
    "capacity_with_promotion_exit['stay/left'].value_counts()"
   ]
  },
  {
   "cell_type": "code",
   "execution_count": 31,
   "id": "53e2224f",
   "metadata": {},
   "outputs": [],
   "source": [
    "new_joiner['Hire Date'] = pd.to_datetime(new_joiner['Hire Date'], origin = '1899-12-30', unit = 'D')"
   ]
  },
  {
   "cell_type": "code",
   "execution_count": 83,
   "id": "fa48a226",
   "metadata": {},
   "outputs": [
    {
     "data": {
      "text/html": [
       "<div>\n",
       "<style scoped>\n",
       "    .dataframe tbody tr th:only-of-type {\n",
       "        vertical-align: middle;\n",
       "    }\n",
       "\n",
       "    .dataframe tbody tr th {\n",
       "        vertical-align: top;\n",
       "    }\n",
       "\n",
       "    .dataframe thead th {\n",
       "        text-align: right;\n",
       "    }\n",
       "</style>\n",
       "<table border=\"1\" class=\"dataframe\">\n",
       "  <thead>\n",
       "    <tr style=\"text-align: right;\">\n",
       "      <th></th>\n",
       "      <th>Fiscal Year</th>\n",
       "      <th>Quarter</th>\n",
       "      <th>Employee / Contractor</th>\n",
       "      <th>Employee Number</th>\n",
       "      <th>Email Address</th>\n",
       "      <th>Hire Date</th>\n",
       "      <th>Job Name</th>\n",
       "      <th>Level</th>\n",
       "      <th>CC</th>\n",
       "      <th>Pillar</th>\n",
       "    </tr>\n",
       "  </thead>\n",
       "  <tbody>\n",
       "    <tr>\n",
       "      <th>0</th>\n",
       "      <td>FY-22</td>\n",
       "      <td>Q4</td>\n",
       "      <td>E</td>\n",
       "      <td>1577352</td>\n",
       "      <td>manoj.v.bagul@oracle.com</td>\n",
       "      <td>2022-05-26</td>\n",
       "      <td>20610.Senior Principal Consultant.IC3</td>\n",
       "      <td>6S</td>\n",
       "      <td>504736</td>\n",
       "      <td>ERP SCM</td>\n",
       "    </tr>\n",
       "    <tr>\n",
       "      <th>1</th>\n",
       "      <td>FY-22</td>\n",
       "      <td>Q4</td>\n",
       "      <td>E</td>\n",
       "      <td>1569826</td>\n",
       "      <td>vishal.deep@oracle.com</td>\n",
       "      <td>2022-05-26</td>\n",
       "      <td>20410.Senior Consultant.IC2</td>\n",
       "      <td>4</td>\n",
       "      <td>504636</td>\n",
       "      <td>CX Retail</td>\n",
       "    </tr>\n",
       "    <tr>\n",
       "      <th>2</th>\n",
       "      <td>FY-22</td>\n",
       "      <td>Q4</td>\n",
       "      <td>E</td>\n",
       "      <td>1615589</td>\n",
       "      <td>dharsana.george@oracle.com</td>\n",
       "      <td>2022-05-26</td>\n",
       "      <td>20310.Staff Consultant.IC1</td>\n",
       "      <td>3</td>\n",
       "      <td>504636</td>\n",
       "      <td>CX Retail</td>\n",
       "    </tr>\n",
       "    <tr>\n",
       "      <th>3</th>\n",
       "      <td>FY-22</td>\n",
       "      <td>Q4</td>\n",
       "      <td>E</td>\n",
       "      <td>1624093</td>\n",
       "      <td>riaz.haneef.mohammed@oracle.com</td>\n",
       "      <td>2022-05-26</td>\n",
       "      <td>20515.Principal Consultant.IC3</td>\n",
       "      <td>5</td>\n",
       "      <td>504776</td>\n",
       "      <td>HCM</td>\n",
       "    </tr>\n",
       "    <tr>\n",
       "      <th>4</th>\n",
       "      <td>FY-22</td>\n",
       "      <td>Q4</td>\n",
       "      <td>E</td>\n",
       "      <td>1610427</td>\n",
       "      <td>sridhar.s.kanaparthi@oracle.com</td>\n",
       "      <td>2022-05-26</td>\n",
       "      <td>20515.Principal Consultant.IC3</td>\n",
       "      <td>5</td>\n",
       "      <td>504826</td>\n",
       "      <td>Tech Cloud</td>\n",
       "    </tr>\n",
       "  </tbody>\n",
       "</table>\n",
       "</div>"
      ],
      "text/plain": [
       "  Fiscal Year Quarter Employee / Contractor Employee Number  \\\n",
       "0       FY-22      Q4                     E         1577352   \n",
       "1       FY-22      Q4                     E         1569826   \n",
       "2       FY-22      Q4                     E         1615589   \n",
       "3       FY-22      Q4                     E         1624093   \n",
       "4       FY-22      Q4                     E         1610427   \n",
       "\n",
       "                     Email Address  Hire Date  \\\n",
       "0         manoj.v.bagul@oracle.com 2022-05-26   \n",
       "1           vishal.deep@oracle.com 2022-05-26   \n",
       "2       dharsana.george@oracle.com 2022-05-26   \n",
       "3  riaz.haneef.mohammed@oracle.com 2022-05-26   \n",
       "4  sridhar.s.kanaparthi@oracle.com 2022-05-26   \n",
       "\n",
       "                                Job Name Level      CC      Pillar  \n",
       "0  20610.Senior Principal Consultant.IC3    6S  504736     ERP SCM  \n",
       "1            20410.Senior Consultant.IC2     4  504636   CX Retail  \n",
       "2             20310.Staff Consultant.IC1     3  504636   CX Retail  \n",
       "3         20515.Principal Consultant.IC3     5  504776         HCM  \n",
       "4         20515.Principal Consultant.IC3     5  504826  Tech Cloud  "
      ]
     },
     "execution_count": 83,
     "metadata": {},
     "output_type": "execute_result"
    }
   ],
   "source": [
    "new_joiner.head()"
   ]
  },
  {
   "cell_type": "code",
   "execution_count": 32,
   "id": "65df07dc",
   "metadata": {},
   "outputs": [],
   "source": [
    "new_joiner_short = new_joiner.drop_duplicates(keep='first', subset = 'Email Address')"
   ]
  },
  {
   "cell_type": "code",
   "execution_count": 87,
   "id": "5ecd6344",
   "metadata": {},
   "outputs": [
    {
     "data": {
      "text/plain": [
       "(3318, 10)"
      ]
     },
     "execution_count": 87,
     "metadata": {},
     "output_type": "execute_result"
    }
   ],
   "source": [
    "new_joiner_short.shape"
   ]
  },
  {
   "cell_type": "code",
   "execution_count": 36,
   "id": "b3b4bf32",
   "metadata": {},
   "outputs": [],
   "source": [
    "capacity_hire_updated = pd.merge(capacity_with_promotion_exit,new_joiner_short[['Email Address','Hire Date']], on = 'Email Address', how = 'left')"
   ]
  },
  {
   "cell_type": "code",
   "execution_count": 37,
   "id": "d2bec9e1",
   "metadata": {},
   "outputs": [
    {
     "data": {
      "text/plain": [
       "Fiscal Year                    0\n",
       "Qtr                            0\n",
       "Email Address                  0\n",
       "Control                        0\n",
       "E/C                            0\n",
       "Level                          0\n",
       "Manager                        0\n",
       "Pillar                         0\n",
       "Capacity Hours                23\n",
       "Billable Hours                23\n",
       "Domain 1                       0\n",
       "Domain 1.1                     0\n",
       "Resource Primary Skill       214\n",
       "Secondary Primary Skill     1247\n",
       "Hire Date_x                28376\n",
       "Separation Date            28376\n",
       "stay/left                      0\n",
       "promotion                      0\n",
       "tenure                     28376\n",
       "Hire Date_y                19665\n",
       "dtype: int64"
      ]
     },
     "execution_count": 37,
     "metadata": {},
     "output_type": "execute_result"
    }
   ],
   "source": [
    "capacity_hire_updated.isnull().sum()"
   ]
  },
  {
   "cell_type": "code",
   "execution_count": 34,
   "id": "0f30d5d8",
   "metadata": {},
   "outputs": [],
   "source": [
    "capacity_hire_updated['utilization'] = (capacity_hire_updated['Billable Hours']/capacity_hire_updated['Capacity Hours'])*100"
   ]
  },
  {
   "cell_type": "code",
   "execution_count": 139,
   "id": "f637da19",
   "metadata": {},
   "outputs": [
    {
     "data": {
      "text/plain": [
       "count    35663.000000\n",
       "mean        74.197767\n",
       "std         31.895907\n",
       "min          0.000000\n",
       "25%         64.615385\n",
       "50%         86.153846\n",
       "75%         93.846154\n",
       "90%         99.615385\n",
       "95%        100.000000\n",
       "99%        116.034615\n",
       "max       1966.666667\n",
       "Name: utilization, dtype: float64"
      ]
     },
     "execution_count": 139,
     "metadata": {},
     "output_type": "execute_result"
    }
   ],
   "source": [
    "capacity_hire_updated['utilization'].describe(percentiles = [0.25,0.5,0.75,0.9,0.95,0.99])"
   ]
  },
  {
   "cell_type": "code",
   "execution_count": 140,
   "id": "205bebe3",
   "metadata": {},
   "outputs": [
    {
     "data": {
      "text/html": [
       "<div>\n",
       "<style scoped>\n",
       "    .dataframe tbody tr th:only-of-type {\n",
       "        vertical-align: middle;\n",
       "    }\n",
       "\n",
       "    .dataframe tbody tr th {\n",
       "        vertical-align: top;\n",
       "    }\n",
       "\n",
       "    .dataframe thead th {\n",
       "        text-align: right;\n",
       "    }\n",
       "</style>\n",
       "<table border=\"1\" class=\"dataframe\">\n",
       "  <thead>\n",
       "    <tr style=\"text-align: right;\">\n",
       "      <th></th>\n",
       "      <th>Fiscal Year</th>\n",
       "      <th>Qtr</th>\n",
       "      <th>Email Address</th>\n",
       "      <th>Control</th>\n",
       "      <th>E/C</th>\n",
       "      <th>Level</th>\n",
       "      <th>Manager</th>\n",
       "      <th>Pillar</th>\n",
       "      <th>Capacity Hours</th>\n",
       "      <th>Billable Hours</th>\n",
       "      <th>...</th>\n",
       "      <th>Resource Primary Skill</th>\n",
       "      <th>Secondary Primary Skill</th>\n",
       "      <th>Hire Date_x</th>\n",
       "      <th>Separation Date</th>\n",
       "      <th>stay/left</th>\n",
       "      <th>promotion</th>\n",
       "      <th>tenure</th>\n",
       "      <th>Hire Date_y</th>\n",
       "      <th>Hire Date</th>\n",
       "      <th>utilization</th>\n",
       "    </tr>\n",
       "  </thead>\n",
       "  <tbody>\n",
       "    <tr>\n",
       "      <th>0</th>\n",
       "      <td>FY-22</td>\n",
       "      <td>Q1</td>\n",
       "      <td>a.aasik@oracle.com</td>\n",
       "      <td>FY-22Q1a.aasik@oracle.comC</td>\n",
       "      <td>C</td>\n",
       "      <td>C</td>\n",
       "      <td>jitendra.js.singh@oracle.com</td>\n",
       "      <td>CX Retail</td>\n",
       "      <td>520.0</td>\n",
       "      <td>432.0</td>\n",
       "      <td>...</td>\n",
       "      <td>Global/CX/Technical Consultant</td>\n",
       "      <td>Global-R2/CX/Integration</td>\n",
       "      <td>2021-02-22</td>\n",
       "      <td>2023-05-31</td>\n",
       "      <td>1.0</td>\n",
       "      <td>0.0</td>\n",
       "      <td>2.268493</td>\n",
       "      <td>NaT</td>\n",
       "      <td>2021-02-22</td>\n",
       "      <td>83.076923</td>\n",
       "    </tr>\n",
       "    <tr>\n",
       "      <th>1</th>\n",
       "      <td>FY-22</td>\n",
       "      <td>Q1</td>\n",
       "      <td>a.abhinav.s.sharma@oracle.com</td>\n",
       "      <td>FY-22Q1a.abhinav.s.sharma@oracle.comE</td>\n",
       "      <td>E</td>\n",
       "      <td>2</td>\n",
       "      <td>nitin.singh@oracle.com</td>\n",
       "      <td>CX Retail</td>\n",
       "      <td>520.0</td>\n",
       "      <td>504.0</td>\n",
       "      <td>...</td>\n",
       "      <td>Global/CX/Technical Consultant</td>\n",
       "      <td>Global-R2/CX/Siebel/Data Migration(EIM)</td>\n",
       "      <td>2018-01-04</td>\n",
       "      <td>2021-12-17</td>\n",
       "      <td>1.0</td>\n",
       "      <td>0.0</td>\n",
       "      <td>3.953425</td>\n",
       "      <td>NaT</td>\n",
       "      <td>2018-01-04</td>\n",
       "      <td>96.923077</td>\n",
       "    </tr>\n",
       "    <tr>\n",
       "      <th>2</th>\n",
       "      <td>FY-22</td>\n",
       "      <td>Q1</td>\n",
       "      <td>a.ashok.padmanaban@oracle.com</td>\n",
       "      <td>FY-22Q1a.ashok.padmanaban@oracle.comE</td>\n",
       "      <td>E</td>\n",
       "      <td>4</td>\n",
       "      <td>sreenivasa.venkatasubbarao@oracle.com</td>\n",
       "      <td>ERP SCM</td>\n",
       "      <td>280.0</td>\n",
       "      <td>192.0</td>\n",
       "      <td>...</td>\n",
       "      <td>Global/SCM/Functional Consultant</td>\n",
       "      <td>Global-R2/SCM/Procurement</td>\n",
       "      <td>2019-10-28</td>\n",
       "      <td>2021-07-16</td>\n",
       "      <td>1.0</td>\n",
       "      <td>0.0</td>\n",
       "      <td>1.717808</td>\n",
       "      <td>2022-06-06</td>\n",
       "      <td>2019-10-28</td>\n",
       "      <td>68.571429</td>\n",
       "    </tr>\n",
       "    <tr>\n",
       "      <th>3</th>\n",
       "      <td>FY-22</td>\n",
       "      <td>Q1</td>\n",
       "      <td>a.c.arun.thyagarajan@oracle.com</td>\n",
       "      <td>FY-22Q1a.c.arun.thyagarajan@oracle.comE</td>\n",
       "      <td>E</td>\n",
       "      <td>5</td>\n",
       "      <td>kishore.ludhani@oracle.com</td>\n",
       "      <td>ERP SCM</td>\n",
       "      <td>136.0</td>\n",
       "      <td>49.0</td>\n",
       "      <td>...</td>\n",
       "      <td>Global/SCM/Lead</td>\n",
       "      <td>Global-R2/SCM/Procurement</td>\n",
       "      <td>NaT</td>\n",
       "      <td>NaT</td>\n",
       "      <td>0.0</td>\n",
       "      <td>0.0</td>\n",
       "      <td>NaN</td>\n",
       "      <td>2021-08-05</td>\n",
       "      <td>2021-08-05</td>\n",
       "      <td>36.029412</td>\n",
       "    </tr>\n",
       "    <tr>\n",
       "      <th>4</th>\n",
       "      <td>FY-22</td>\n",
       "      <td>Q1</td>\n",
       "      <td>a.rama.devi@oracle.com</td>\n",
       "      <td>FY-22Q1a.rama.devi@oracle.comE</td>\n",
       "      <td>E</td>\n",
       "      <td>4</td>\n",
       "      <td>anil.kumar.ragampeta@oracle.com</td>\n",
       "      <td>HCM</td>\n",
       "      <td>520.0</td>\n",
       "      <td>528.0</td>\n",
       "      <td>...</td>\n",
       "      <td>Global/HCM/Functional Consultant</td>\n",
       "      <td>Global-R2/HCM Cloud/Payroll/Functional</td>\n",
       "      <td>NaT</td>\n",
       "      <td>NaT</td>\n",
       "      <td>0.0</td>\n",
       "      <td>0.0</td>\n",
       "      <td>NaN</td>\n",
       "      <td>NaT</td>\n",
       "      <td>NaT</td>\n",
       "      <td>101.538462</td>\n",
       "    </tr>\n",
       "  </tbody>\n",
       "</table>\n",
       "<p>5 rows × 22 columns</p>\n",
       "</div>"
      ],
      "text/plain": [
       "  Fiscal Year Qtr                    Email Address  \\\n",
       "0       FY-22  Q1               a.aasik@oracle.com   \n",
       "1       FY-22  Q1    a.abhinav.s.sharma@oracle.com   \n",
       "2       FY-22  Q1    a.ashok.padmanaban@oracle.com   \n",
       "3       FY-22  Q1  a.c.arun.thyagarajan@oracle.com   \n",
       "4       FY-22  Q1           a.rama.devi@oracle.com   \n",
       "\n",
       "                                   Control E/C Level  \\\n",
       "0               FY-22Q1a.aasik@oracle.comC   C     C   \n",
       "1    FY-22Q1a.abhinav.s.sharma@oracle.comE   E     2   \n",
       "2    FY-22Q1a.ashok.padmanaban@oracle.comE   E     4   \n",
       "3  FY-22Q1a.c.arun.thyagarajan@oracle.comE   E     5   \n",
       "4           FY-22Q1a.rama.devi@oracle.comE   E     4   \n",
       "\n",
       "                                 Manager     Pillar  Capacity Hours  \\\n",
       "0           jitendra.js.singh@oracle.com  CX Retail           520.0   \n",
       "1                 nitin.singh@oracle.com  CX Retail           520.0   \n",
       "2  sreenivasa.venkatasubbarao@oracle.com    ERP SCM           280.0   \n",
       "3             kishore.ludhani@oracle.com    ERP SCM           136.0   \n",
       "4        anil.kumar.ragampeta@oracle.com        HCM           520.0   \n",
       "\n",
       "   Billable Hours  ...            Resource Primary Skill  \\\n",
       "0           432.0  ...    Global/CX/Technical Consultant   \n",
       "1           504.0  ...    Global/CX/Technical Consultant   \n",
       "2           192.0  ...  Global/SCM/Functional Consultant   \n",
       "3            49.0  ...                   Global/SCM/Lead   \n",
       "4           528.0  ...  Global/HCM/Functional Consultant   \n",
       "\n",
       "                   Secondary Primary Skill Hire Date_x Separation Date  \\\n",
       "0                 Global-R2/CX/Integration  2021-02-22      2023-05-31   \n",
       "1  Global-R2/CX/Siebel/Data Migration(EIM)  2018-01-04      2021-12-17   \n",
       "2                Global-R2/SCM/Procurement  2019-10-28      2021-07-16   \n",
       "3                Global-R2/SCM/Procurement         NaT             NaT   \n",
       "4   Global-R2/HCM Cloud/Payroll/Functional         NaT             NaT   \n",
       "\n",
       "  stay/left promotion    tenure  Hire Date_y  Hire Date utilization  \n",
       "0       1.0       0.0  2.268493          NaT 2021-02-22   83.076923  \n",
       "1       1.0       0.0  3.953425          NaT 2018-01-04   96.923077  \n",
       "2       1.0       0.0  1.717808   2022-06-06 2019-10-28   68.571429  \n",
       "3       0.0       0.0       NaN   2021-08-05 2021-08-05   36.029412  \n",
       "4       0.0       0.0       NaN          NaT        NaT  101.538462  \n",
       "\n",
       "[5 rows x 22 columns]"
      ]
     },
     "execution_count": 140,
     "metadata": {},
     "output_type": "execute_result"
    }
   ],
   "source": [
    "capacity_hire_updated.head()"
   ]
  },
  {
   "cell_type": "code",
   "execution_count": 35,
   "id": "24fe3d06",
   "metadata": {},
   "outputs": [
    {
     "ename": "KeyError",
     "evalue": "\"Column(s) ['Hire Date'] do not exist\"",
     "output_type": "error",
     "traceback": [
      "\u001b[1;31m---------------------------------------------------------------------------\u001b[0m",
      "\u001b[1;31mKeyError\u001b[0m                                  Traceback (most recent call last)",
      "Cell \u001b[1;32mIn[35], line 1\u001b[0m\n\u001b[1;32m----> 1\u001b[0m capacity_exit_promo_summary \u001b[38;5;241m=\u001b[39m capacity_hire_updated\u001b[38;5;241m.\u001b[39mgroupby(\u001b[38;5;124m'\u001b[39m\u001b[38;5;124mEmail Address\u001b[39m\u001b[38;5;124m'\u001b[39m)\u001b[38;5;241m.\u001b[39magg({\n\u001b[0;32m      2\u001b[0m     \u001b[38;5;124m'\u001b[39m\u001b[38;5;124mFiscal Year\u001b[39m\u001b[38;5;124m'\u001b[39m : \u001b[38;5;124m'\u001b[39m\u001b[38;5;124mlast\u001b[39m\u001b[38;5;124m'\u001b[39m,\n\u001b[0;32m      3\u001b[0m     \u001b[38;5;124m'\u001b[39m\u001b[38;5;124mQtr\u001b[39m\u001b[38;5;124m'\u001b[39m: \u001b[38;5;124m'\u001b[39m\u001b[38;5;124mlast\u001b[39m\u001b[38;5;124m'\u001b[39m,\n\u001b[0;32m      4\u001b[0m     \u001b[38;5;124m'\u001b[39m\u001b[38;5;124mutilization\u001b[39m\u001b[38;5;124m'\u001b[39m: \u001b[38;5;124m'\u001b[39m\u001b[38;5;124mmean\u001b[39m\u001b[38;5;124m'\u001b[39m,\n\u001b[0;32m      5\u001b[0m     \u001b[38;5;124m'\u001b[39m\u001b[38;5;124mtenure\u001b[39m\u001b[38;5;124m'\u001b[39m: \u001b[38;5;124m'\u001b[39m\u001b[38;5;124mlast\u001b[39m\u001b[38;5;124m'\u001b[39m,\n\u001b[0;32m      6\u001b[0m     \u001b[38;5;124m'\u001b[39m\u001b[38;5;124mHire Date\u001b[39m\u001b[38;5;124m'\u001b[39m: \u001b[38;5;124m'\u001b[39m\u001b[38;5;124mlast\u001b[39m\u001b[38;5;124m'\u001b[39m,\n\u001b[0;32m      7\u001b[0m     \u001b[38;5;124m'\u001b[39m\u001b[38;5;124mSeparation Date\u001b[39m\u001b[38;5;124m'\u001b[39m: \u001b[38;5;124m'\u001b[39m\u001b[38;5;124mlast\u001b[39m\u001b[38;5;124m'\u001b[39m,\n\u001b[0;32m      8\u001b[0m     \u001b[38;5;124m'\u001b[39m\u001b[38;5;124mstay/left\u001b[39m\u001b[38;5;124m'\u001b[39m: \u001b[38;5;124m'\u001b[39m\u001b[38;5;124mlast\u001b[39m\u001b[38;5;124m'\u001b[39m,\n\u001b[0;32m      9\u001b[0m     \u001b[38;5;124m'\u001b[39m\u001b[38;5;124mpromotion\u001b[39m\u001b[38;5;124m'\u001b[39m: \u001b[38;5;124m'\u001b[39m\u001b[38;5;124mlast\u001b[39m\u001b[38;5;124m'\u001b[39m,\n\u001b[0;32m     10\u001b[0m     \u001b[38;5;124m'\u001b[39m\u001b[38;5;124mPillar\u001b[39m\u001b[38;5;124m'\u001b[39m: \u001b[38;5;124m'\u001b[39m\u001b[38;5;124mlast\u001b[39m\u001b[38;5;124m'\u001b[39m,\n\u001b[0;32m     11\u001b[0m     \u001b[38;5;124m'\u001b[39m\u001b[38;5;124mResource Primary Skill\u001b[39m\u001b[38;5;124m'\u001b[39m: \u001b[38;5;124m'\u001b[39m\u001b[38;5;124mlast\u001b[39m\u001b[38;5;124m'\u001b[39m\n\u001b[0;32m     12\u001b[0m })\u001b[38;5;241m.\u001b[39mreset_index()\n",
      "File \u001b[1;32m~\\anaconda3\\Lib\\site-packages\\pandas\\core\\groupby\\generic.py:1269\u001b[0m, in \u001b[0;36mDataFrameGroupBy.aggregate\u001b[1;34m(self, func, engine, engine_kwargs, *args, **kwargs)\u001b[0m\n\u001b[0;32m   1266\u001b[0m func \u001b[38;5;241m=\u001b[39m maybe_mangle_lambdas(func)\n\u001b[0;32m   1268\u001b[0m op \u001b[38;5;241m=\u001b[39m GroupByApply(\u001b[38;5;28mself\u001b[39m, func, args, kwargs)\n\u001b[1;32m-> 1269\u001b[0m result \u001b[38;5;241m=\u001b[39m op\u001b[38;5;241m.\u001b[39magg()\n\u001b[0;32m   1270\u001b[0m \u001b[38;5;28;01mif\u001b[39;00m \u001b[38;5;129;01mnot\u001b[39;00m is_dict_like(func) \u001b[38;5;129;01mand\u001b[39;00m result \u001b[38;5;129;01mis\u001b[39;00m \u001b[38;5;129;01mnot\u001b[39;00m \u001b[38;5;28;01mNone\u001b[39;00m:\n\u001b[0;32m   1271\u001b[0m     \u001b[38;5;28;01mreturn\u001b[39;00m result\n",
      "File \u001b[1;32m~\\anaconda3\\Lib\\site-packages\\pandas\\core\\apply.py:163\u001b[0m, in \u001b[0;36mApply.agg\u001b[1;34m(self)\u001b[0m\n\u001b[0;32m    160\u001b[0m     \u001b[38;5;28;01mreturn\u001b[39;00m \u001b[38;5;28mself\u001b[39m\u001b[38;5;241m.\u001b[39mapply_str()\n\u001b[0;32m    162\u001b[0m \u001b[38;5;28;01mif\u001b[39;00m is_dict_like(arg):\n\u001b[1;32m--> 163\u001b[0m     \u001b[38;5;28;01mreturn\u001b[39;00m \u001b[38;5;28mself\u001b[39m\u001b[38;5;241m.\u001b[39magg_dict_like()\n\u001b[0;32m    164\u001b[0m \u001b[38;5;28;01melif\u001b[39;00m is_list_like(arg):\n\u001b[0;32m    165\u001b[0m     \u001b[38;5;66;03m# we require a list, but not a 'str'\u001b[39;00m\n\u001b[0;32m    166\u001b[0m     \u001b[38;5;28;01mreturn\u001b[39;00m \u001b[38;5;28mself\u001b[39m\u001b[38;5;241m.\u001b[39magg_list_like()\n",
      "File \u001b[1;32m~\\anaconda3\\Lib\\site-packages\\pandas\\core\\apply.py:403\u001b[0m, in \u001b[0;36mApply.agg_dict_like\u001b[1;34m(self)\u001b[0m\n\u001b[0;32m    400\u001b[0m     selected_obj \u001b[38;5;241m=\u001b[39m obj\u001b[38;5;241m.\u001b[39m_selected_obj\n\u001b[0;32m    401\u001b[0m     selection \u001b[38;5;241m=\u001b[39m obj\u001b[38;5;241m.\u001b[39m_selection\n\u001b[1;32m--> 403\u001b[0m arg \u001b[38;5;241m=\u001b[39m \u001b[38;5;28mself\u001b[39m\u001b[38;5;241m.\u001b[39mnormalize_dictlike_arg(\u001b[38;5;124m\"\u001b[39m\u001b[38;5;124magg\u001b[39m\u001b[38;5;124m\"\u001b[39m, selected_obj, arg)\n\u001b[0;32m    405\u001b[0m is_groupby \u001b[38;5;241m=\u001b[39m \u001b[38;5;28misinstance\u001b[39m(obj, (DataFrameGroupBy, SeriesGroupBy))\n\u001b[0;32m    406\u001b[0m context_manager: ContextManager\n",
      "File \u001b[1;32m~\\anaconda3\\Lib\\site-packages\\pandas\\core\\apply.py:535\u001b[0m, in \u001b[0;36mApply.normalize_dictlike_arg\u001b[1;34m(self, how, obj, func)\u001b[0m\n\u001b[0;32m    533\u001b[0m     \u001b[38;5;28;01mif\u001b[39;00m \u001b[38;5;28mlen\u001b[39m(cols) \u001b[38;5;241m>\u001b[39m \u001b[38;5;241m0\u001b[39m:\n\u001b[0;32m    534\u001b[0m         cols_sorted \u001b[38;5;241m=\u001b[39m \u001b[38;5;28mlist\u001b[39m(safe_sort(\u001b[38;5;28mlist\u001b[39m(cols)))\n\u001b[1;32m--> 535\u001b[0m         \u001b[38;5;28;01mraise\u001b[39;00m \u001b[38;5;167;01mKeyError\u001b[39;00m(\u001b[38;5;124mf\u001b[39m\u001b[38;5;124m\"\u001b[39m\u001b[38;5;124mColumn(s) \u001b[39m\u001b[38;5;132;01m{\u001b[39;00mcols_sorted\u001b[38;5;132;01m}\u001b[39;00m\u001b[38;5;124m do not exist\u001b[39m\u001b[38;5;124m\"\u001b[39m)\n\u001b[0;32m    537\u001b[0m aggregator_types \u001b[38;5;241m=\u001b[39m (\u001b[38;5;28mlist\u001b[39m, \u001b[38;5;28mtuple\u001b[39m, \u001b[38;5;28mdict\u001b[39m)\n\u001b[0;32m    539\u001b[0m \u001b[38;5;66;03m# if we have a dict of any non-scalars\u001b[39;00m\n\u001b[0;32m    540\u001b[0m \u001b[38;5;66;03m# eg. {'A' : ['mean']}, normalize all to\u001b[39;00m\n\u001b[0;32m    541\u001b[0m \u001b[38;5;66;03m# be list-likes\u001b[39;00m\n\u001b[0;32m    542\u001b[0m \u001b[38;5;66;03m# Cannot use func.values() because arg may be a Series\u001b[39;00m\n",
      "\u001b[1;31mKeyError\u001b[0m: \"Column(s) ['Hire Date'] do not exist\""
     ]
    }
   ],
   "source": [
    "capacity_exit_promo_summary = capacity_hire_updated.groupby('Email Address').agg({\n",
    "    'Fiscal Year' : 'last',\n",
    "    'Qtr': 'last',\n",
    "    'utilization': 'mean',\n",
    "    'tenure': 'last',\n",
    "    'Hire Date': 'last',\n",
    "    'Separation Date': 'last',\n",
    "    'stay/left': 'last',\n",
    "    'promotion': 'last',\n",
    "    'Pillar': 'last',\n",
    "    'Resource Primary Skill': 'last'\n",
    "}).reset_index()  # Reset index to make 'Email Address' a regular column"
   ]
  },
  {
   "cell_type": "code",
   "execution_count": 160,
   "id": "f34b3749",
   "metadata": {},
   "outputs": [
    {
     "data": {
      "text/plain": [
       "(5868, 11)"
      ]
     },
     "execution_count": 160,
     "metadata": {},
     "output_type": "execute_result"
    }
   ],
   "source": [
    "capacity_exit_promo_summary.shape"
   ]
  },
  {
   "cell_type": "code",
   "execution_count": 161,
   "id": "a362cade",
   "metadata": {},
   "outputs": [
    {
     "data": {
      "text/plain": [
       "Email Address                0\n",
       "Fiscal Year                  0\n",
       "Qtr                          0\n",
       "utilization                  0\n",
       "tenure                    4122\n",
       "Hire Date                 1788\n",
       "Separation Date           4122\n",
       "stay/left                    0\n",
       "promotion                    0\n",
       "Pillar                       0\n",
       "Resource Primary Skill     107\n",
       "dtype: int64"
      ]
     },
     "execution_count": 161,
     "metadata": {},
     "output_type": "execute_result"
    }
   ],
   "source": [
    "capacity_exit_promo_summary.isnull().sum()"
   ]
  },
  {
   "cell_type": "code",
   "execution_count": 144,
   "id": "bc07319e",
   "metadata": {},
   "outputs": [
    {
     "data": {
      "text/plain": [
       "stay/left\n",
       "0.0    4122\n",
       "1.0    1746\n",
       "Name: count, dtype: int64"
      ]
     },
     "execution_count": 144,
     "metadata": {},
     "output_type": "execute_result"
    }
   ],
   "source": [
    "capacity_exit_promo_summary['stay/left'].value_counts()"
   ]
  },
  {
   "cell_type": "code",
   "execution_count": 38,
   "id": "985cc10d",
   "metadata": {},
   "outputs": [],
   "source": [
    "capacity_hire_updated['Hire Date'] = capacity_hire_updated['Hire Date_x'].combine_first(capacity_hire_updated['Hire Date_y'])"
   ]
  },
  {
   "cell_type": "code",
   "execution_count": 89,
   "id": "dc6fb61d",
   "metadata": {},
   "outputs": [
    {
     "data": {
      "text/plain": [
       "14866"
      ]
     },
     "execution_count": 89,
     "metadata": {},
     "output_type": "execute_result"
    }
   ],
   "source": [
    "capacity_hire_updated['Hire Date'].isnull().sum()"
   ]
  },
  {
   "cell_type": "code",
   "execution_count": 91,
   "id": "8f9f02b7",
   "metadata": {},
   "outputs": [],
   "source": [
    "capacity_hire_updated = pd.merge(capacity_drop_hire,new_joiner_short[['Email Address','Hire Date']], on = 'Email Address', how = 'left')"
   ]
  },
  {
   "cell_type": "code",
   "execution_count": 92,
   "id": "4e20ae36",
   "metadata": {},
   "outputs": [
    {
     "data": {
      "text/plain": [
       "Fiscal Year                    0\n",
       "Qtr                            0\n",
       "Email Address                  0\n",
       "Control                        0\n",
       "E/C                            0\n",
       "Level                          0\n",
       "Manager                        0\n",
       "Pillar                         0\n",
       "Capacity Hours                23\n",
       "Billable Hours                23\n",
       "Domain 1                       0\n",
       "Domain 1.1                     0\n",
       "Resource Primary Skill       214\n",
       "Secondary Primary Skill     1247\n",
       "Separation Date            28376\n",
       "stay/left                      0\n",
       "promotion                      0\n",
       "tenure                     28376\n",
       "Hire Date                  19665\n",
       "dtype: int64"
      ]
     },
     "execution_count": 92,
     "metadata": {},
     "output_type": "execute_result"
    }
   ],
   "source": [
    "capacity_hire_updated.isnull().sum()"
   ]
  },
  {
   "cell_type": "code",
   "execution_count": 127,
   "id": "436272e2",
   "metadata": {},
   "outputs": [],
   "source": [
    "act_emp['Hire Date'] = pd.to_datetime(act_emp['Hire Date'], origin = '1899-12-30', unit = 'D' )"
   ]
  },
  {
   "cell_type": "code",
   "execution_count": 128,
   "id": "b196d623",
   "metadata": {},
   "outputs": [],
   "source": [
    "act_emp.rename(columns = {'Employee Email Address': 'Email Address'}, inplace = True)"
   ]
  },
  {
   "cell_type": "code",
   "execution_count": 162,
   "id": "262520b9",
   "metadata": {},
   "outputs": [],
   "source": [
    "capacity_hire_updated_test4 = pd.merge(capacity_exit_promo_summary, act_emp[['Email Address', 'Hire Date']], on = 'Email Address', how = 'left', suffixes =('_df1','_df2'))"
   ]
  },
  {
   "cell_type": "code",
   "execution_count": 163,
   "id": "ca1cc45d",
   "metadata": {},
   "outputs": [],
   "source": [
    "capacity_hire_updated_test4['Hire Date'] = capacity_hire_updated_test4['Hire Date_df1'].combine_first(capacity_hire_updated_test4['Hire Date_df2'])"
   ]
  },
  {
   "cell_type": "code",
   "execution_count": 148,
   "id": "02afa8d2",
   "metadata": {},
   "outputs": [
    {
     "data": {
      "text/html": [
       "<div>\n",
       "<style scoped>\n",
       "    .dataframe tbody tr th:only-of-type {\n",
       "        vertical-align: middle;\n",
       "    }\n",
       "\n",
       "    .dataframe tbody tr th {\n",
       "        vertical-align: top;\n",
       "    }\n",
       "\n",
       "    .dataframe thead th {\n",
       "        text-align: right;\n",
       "    }\n",
       "</style>\n",
       "<table border=\"1\" class=\"dataframe\">\n",
       "  <thead>\n",
       "    <tr style=\"text-align: right;\">\n",
       "      <th></th>\n",
       "      <th>Email Address</th>\n",
       "      <th>Fiscal Year</th>\n",
       "      <th>Qtr</th>\n",
       "      <th>utilization</th>\n",
       "      <th>tenure</th>\n",
       "      <th>Hire Date_df1</th>\n",
       "      <th>Separation Date</th>\n",
       "      <th>stay/left</th>\n",
       "      <th>promotion</th>\n",
       "      <th>Hire Date_df2</th>\n",
       "      <th>Hire Date</th>\n",
       "    </tr>\n",
       "  </thead>\n",
       "  <tbody>\n",
       "    <tr>\n",
       "      <th>0</th>\n",
       "      <td>GANGA.K.K_INACTIVE@ORACLE.COM</td>\n",
       "      <td>FY-22</td>\n",
       "      <td>Q4</td>\n",
       "      <td>0.000000</td>\n",
       "      <td>NaN</td>\n",
       "      <td>2022-04-21</td>\n",
       "      <td>NaT</td>\n",
       "      <td>0.0</td>\n",
       "      <td>0.0</td>\n",
       "      <td>NaT</td>\n",
       "      <td>2022-04-21</td>\n",
       "    </tr>\n",
       "    <tr>\n",
       "      <th>1</th>\n",
       "      <td>a.aasik@oracle.com</td>\n",
       "      <td>FY-24</td>\n",
       "      <td>Q2</td>\n",
       "      <td>63.760684</td>\n",
       "      <td>2.268493</td>\n",
       "      <td>2021-02-22</td>\n",
       "      <td>2023-05-31</td>\n",
       "      <td>1.0</td>\n",
       "      <td>0.0</td>\n",
       "      <td>NaT</td>\n",
       "      <td>2021-02-22</td>\n",
       "    </tr>\n",
       "    <tr>\n",
       "      <th>2</th>\n",
       "      <td>a.abhijeet.k.kumar@oracle.com</td>\n",
       "      <td>FY-24</td>\n",
       "      <td>Q1</td>\n",
       "      <td>0.000000</td>\n",
       "      <td>NaN</td>\n",
       "      <td>2023-10-09</td>\n",
       "      <td>NaT</td>\n",
       "      <td>0.0</td>\n",
       "      <td>0.0</td>\n",
       "      <td>2023-10-09</td>\n",
       "      <td>2023-10-09</td>\n",
       "    </tr>\n",
       "    <tr>\n",
       "      <th>3</th>\n",
       "      <td>a.abhinav.s.sharma@oracle.com</td>\n",
       "      <td>FY-22</td>\n",
       "      <td>Q3</td>\n",
       "      <td>66.367521</td>\n",
       "      <td>3.953425</td>\n",
       "      <td>2018-01-04</td>\n",
       "      <td>2021-12-17</td>\n",
       "      <td>1.0</td>\n",
       "      <td>0.0</td>\n",
       "      <td>NaT</td>\n",
       "      <td>2018-01-04</td>\n",
       "    </tr>\n",
       "    <tr>\n",
       "      <th>4</th>\n",
       "      <td>a.abhishek.tiwari@oracle.com</td>\n",
       "      <td>FY-24</td>\n",
       "      <td>Q2</td>\n",
       "      <td>64.471127</td>\n",
       "      <td>1.501370</td>\n",
       "      <td>2022-04-04</td>\n",
       "      <td>2023-10-04</td>\n",
       "      <td>1.0</td>\n",
       "      <td>0.0</td>\n",
       "      <td>2023-10-05</td>\n",
       "      <td>2022-04-04</td>\n",
       "    </tr>\n",
       "  </tbody>\n",
       "</table>\n",
       "</div>"
      ],
      "text/plain": [
       "                   Email Address Fiscal Year Qtr  utilization    tenure  \\\n",
       "0  GANGA.K.K_INACTIVE@ORACLE.COM       FY-22  Q4     0.000000       NaN   \n",
       "1             a.aasik@oracle.com       FY-24  Q2    63.760684  2.268493   \n",
       "2  a.abhijeet.k.kumar@oracle.com       FY-24  Q1     0.000000       NaN   \n",
       "3  a.abhinav.s.sharma@oracle.com       FY-22  Q3    66.367521  3.953425   \n",
       "4   a.abhishek.tiwari@oracle.com       FY-24  Q2    64.471127  1.501370   \n",
       "\n",
       "  Hire Date_df1 Separation Date  stay/left  promotion Hire Date_df2  Hire Date  \n",
       "0    2022-04-21             NaT        0.0        0.0           NaT 2022-04-21  \n",
       "1    2021-02-22      2023-05-31        1.0        0.0           NaT 2021-02-22  \n",
       "2    2023-10-09             NaT        0.0        0.0    2023-10-09 2023-10-09  \n",
       "3    2018-01-04      2021-12-17        1.0        0.0           NaT 2018-01-04  \n",
       "4    2022-04-04      2023-10-04        1.0        0.0    2023-10-05 2022-04-04  "
      ]
     },
     "execution_count": 148,
     "metadata": {},
     "output_type": "execute_result"
    }
   ],
   "source": [
    "capacity_hire_updated_test4.head()"
   ]
  },
  {
   "cell_type": "code",
   "execution_count": 164,
   "id": "da75c691",
   "metadata": {},
   "outputs": [
    {
     "data": {
      "text/plain": [
       "Email Address                0\n",
       "Fiscal Year                  0\n",
       "Qtr                          0\n",
       "utilization                  0\n",
       "tenure                    4122\n",
       "Hire Date_df1             1788\n",
       "Separation Date           4122\n",
       "stay/left                    0\n",
       "promotion                    0\n",
       "Pillar                       0\n",
       "Resource Primary Skill     107\n",
       "Hire Date_df2             1930\n",
       "Hire Date                  369\n",
       "dtype: int64"
      ]
     },
     "execution_count": 164,
     "metadata": {},
     "output_type": "execute_result"
    }
   ],
   "source": [
    "capacity_hire_updated_test4.isnull().sum()"
   ]
  },
  {
   "cell_type": "code",
   "execution_count": 165,
   "id": "4ce1b0c6",
   "metadata": {},
   "outputs": [],
   "source": [
    "capacity_hire_updated_test4.dropna(subset = 'Hire Date',inplace = True)"
   ]
  },
  {
   "cell_type": "code",
   "execution_count": 166,
   "id": "3200b8bf",
   "metadata": {},
   "outputs": [
    {
     "data": {
      "text/plain": [
       "Email Address                0\n",
       "Fiscal Year                  0\n",
       "Qtr                          0\n",
       "utilization                  0\n",
       "tenure                    3753\n",
       "Hire Date_df1             1419\n",
       "Separation Date           3753\n",
       "stay/left                    0\n",
       "promotion                    0\n",
       "Pillar                       0\n",
       "Resource Primary Skill     101\n",
       "Hire Date_df2             1561\n",
       "Hire Date                    0\n",
       "dtype: int64"
      ]
     },
     "execution_count": 166,
     "metadata": {},
     "output_type": "execute_result"
    }
   ],
   "source": [
    "capacity_hire_updated_test4.isnull().sum()"
   ]
  },
  {
   "cell_type": "code",
   "execution_count": 167,
   "id": "94499571",
   "metadata": {},
   "outputs": [],
   "source": [
    "capacity_hire_updated_test4 = capacity_hire_updated_test4.drop(columns = ['Hire Date_df2','Hire Date_df1'])"
   ]
  },
  {
   "cell_type": "code",
   "execution_count": 155,
   "id": "a7a8701c",
   "metadata": {},
   "outputs": [
    {
     "data": {
      "text/html": [
       "<div>\n",
       "<style scoped>\n",
       "    .dataframe tbody tr th:only-of-type {\n",
       "        vertical-align: middle;\n",
       "    }\n",
       "\n",
       "    .dataframe tbody tr th {\n",
       "        vertical-align: top;\n",
       "    }\n",
       "\n",
       "    .dataframe thead th {\n",
       "        text-align: right;\n",
       "    }\n",
       "</style>\n",
       "<table border=\"1\" class=\"dataframe\">\n",
       "  <thead>\n",
       "    <tr style=\"text-align: right;\">\n",
       "      <th></th>\n",
       "      <th>Email Address</th>\n",
       "      <th>Fiscal Year</th>\n",
       "      <th>Qtr</th>\n",
       "      <th>utilization</th>\n",
       "      <th>tenure</th>\n",
       "      <th>Separation Date</th>\n",
       "      <th>stay/left</th>\n",
       "      <th>promotion</th>\n",
       "      <th>Hire Date</th>\n",
       "    </tr>\n",
       "  </thead>\n",
       "  <tbody>\n",
       "    <tr>\n",
       "      <th>0</th>\n",
       "      <td>GANGA.K.K_INACTIVE@ORACLE.COM</td>\n",
       "      <td>FY-22</td>\n",
       "      <td>Q4</td>\n",
       "      <td>0.000000</td>\n",
       "      <td>NaN</td>\n",
       "      <td>NaT</td>\n",
       "      <td>0.0</td>\n",
       "      <td>0.0</td>\n",
       "      <td>2022-04-21</td>\n",
       "    </tr>\n",
       "    <tr>\n",
       "      <th>1</th>\n",
       "      <td>a.aasik@oracle.com</td>\n",
       "      <td>FY-24</td>\n",
       "      <td>Q2</td>\n",
       "      <td>63.760684</td>\n",
       "      <td>2.268493</td>\n",
       "      <td>2023-05-31</td>\n",
       "      <td>1.0</td>\n",
       "      <td>0.0</td>\n",
       "      <td>2021-02-22</td>\n",
       "    </tr>\n",
       "    <tr>\n",
       "      <th>2</th>\n",
       "      <td>a.abhijeet.k.kumar@oracle.com</td>\n",
       "      <td>FY-24</td>\n",
       "      <td>Q1</td>\n",
       "      <td>0.000000</td>\n",
       "      <td>NaN</td>\n",
       "      <td>NaT</td>\n",
       "      <td>0.0</td>\n",
       "      <td>0.0</td>\n",
       "      <td>2023-10-09</td>\n",
       "    </tr>\n",
       "    <tr>\n",
       "      <th>3</th>\n",
       "      <td>a.abhinav.s.sharma@oracle.com</td>\n",
       "      <td>FY-22</td>\n",
       "      <td>Q3</td>\n",
       "      <td>66.367521</td>\n",
       "      <td>3.953425</td>\n",
       "      <td>2021-12-17</td>\n",
       "      <td>1.0</td>\n",
       "      <td>0.0</td>\n",
       "      <td>2018-01-04</td>\n",
       "    </tr>\n",
       "    <tr>\n",
       "      <th>4</th>\n",
       "      <td>a.abhishek.tiwari@oracle.com</td>\n",
       "      <td>FY-24</td>\n",
       "      <td>Q2</td>\n",
       "      <td>64.471127</td>\n",
       "      <td>1.501370</td>\n",
       "      <td>2023-10-04</td>\n",
       "      <td>1.0</td>\n",
       "      <td>0.0</td>\n",
       "      <td>2022-04-04</td>\n",
       "    </tr>\n",
       "  </tbody>\n",
       "</table>\n",
       "</div>"
      ],
      "text/plain": [
       "                   Email Address Fiscal Year Qtr  utilization    tenure  \\\n",
       "0  GANGA.K.K_INACTIVE@ORACLE.COM       FY-22  Q4     0.000000       NaN   \n",
       "1             a.aasik@oracle.com       FY-24  Q2    63.760684  2.268493   \n",
       "2  a.abhijeet.k.kumar@oracle.com       FY-24  Q1     0.000000       NaN   \n",
       "3  a.abhinav.s.sharma@oracle.com       FY-22  Q3    66.367521  3.953425   \n",
       "4   a.abhishek.tiwari@oracle.com       FY-24  Q2    64.471127  1.501370   \n",
       "\n",
       "  Separation Date  stay/left  promotion  Hire Date  \n",
       "0             NaT        0.0        0.0 2022-04-21  \n",
       "1      2023-05-31        1.0        0.0 2021-02-22  \n",
       "2             NaT        0.0        0.0 2023-10-09  \n",
       "3      2021-12-17        1.0        0.0 2018-01-04  \n",
       "4      2023-10-04        1.0        0.0 2022-04-04  "
      ]
     },
     "execution_count": 155,
     "metadata": {},
     "output_type": "execute_result"
    }
   ],
   "source": [
    "capacity_hire_updated_test4.head()"
   ]
  },
  {
   "cell_type": "code",
   "execution_count": 181,
   "id": "e2b47cdd",
   "metadata": {},
   "outputs": [],
   "source": [
    "from datetime import datetime, timedelta\n",
    "# Replace NaT values in Separation Date with today's date\n",
    "capacity_hire_updated_test4['Separation Date'] = capacity_hire_updated_test4['Separation Date'].fillna(pd.to_datetime(datetime.now().date()))\n",
    "\n",
    "# Compute tenure\n",
    "capacity_hire_updated_test4['tenure'] = (capacity_hire_updated_test4['Separation Date'] - capacity_hire_updated_test4['Hire Date']).dt.days/365.25"
   ]
  },
  {
   "cell_type": "code",
   "execution_count": 182,
   "id": "0a5312e4",
   "metadata": {},
   "outputs": [
    {
     "data": {
      "text/plain": [
       "Email Address             0\n",
       "Fiscal Year               0\n",
       "Qtr                       0\n",
       "utilization               0\n",
       "tenure                    0\n",
       "Separation Date           0\n",
       "stay/left                 0\n",
       "promotion                 0\n",
       "Pillar                    0\n",
       "Resource Primary Skill    0\n",
       "Hire Date                 0\n",
       "dtype: int64"
      ]
     },
     "execution_count": 182,
     "metadata": {},
     "output_type": "execute_result"
    }
   ],
   "source": [
    "capacity_hire_updated_test4.isnull().sum()"
   ]
  },
  {
   "cell_type": "code",
   "execution_count": 170,
   "id": "c970df8f",
   "metadata": {},
   "outputs": [],
   "source": [
    "capacity_hire_updated_test4.dropna(subset = 'Resource Primary Skill',inplace = True)"
   ]
  },
  {
   "cell_type": "markdown",
   "id": "71b7598e",
   "metadata": {},
   "source": [
    "### Visualizations"
   ]
  },
  {
   "cell_type": "code",
   "execution_count": 177,
   "id": "921f242c",
   "metadata": {},
   "outputs": [
    {
     "data": {
      "text/plain": [
       "(array([0, 1, 2, 3, 4, 5, 6, 7, 8, 9]),\n",
       " [Text(0, 0, 'ACX'),\n",
       "  Text(1, 0, 'CX Retail'),\n",
       "  Text(2, 0, 'Cloud Infra & Platform'),\n",
       "  Text(3, 0, 'EPM'),\n",
       "  Text(4, 0, 'ERP (GSD)'),\n",
       "  Text(5, 0, 'ERP FIN'),\n",
       "  Text(6, 0, 'ERP SCM'),\n",
       "  Text(7, 0, 'HCM'),\n",
       "  Text(8, 0, 'Others'),\n",
       "  Text(9, 0, 'Tech Cloud')])"
      ]
     },
     "execution_count": 177,
     "metadata": {},
     "output_type": "execute_result"
    },
    {
     "data": {
      "image/png": "[encoded data removed]",
      "text/plain": [
       "<Figure size 1000x600 with 1 Axes>"
      ]
     },
     "metadata": {},
     "output_type": "display_data"
    }
   ],
   "source": [
    "import matplotlib.pyplot as plt\n",
    "#create a plot for cross tab\n",
    "pd.crosstab(capacity_hire_updated_test4['Pillar'],capacity_hire_updated_test4['stay/left']).plot(kind=\"bar\", figsize=(10,6))\n",
    "plt.title(\"Stay/Left vs Pillar\")\n",
    "plt.xlabel(\"Stay/Left\")\n",
    "plt.ylabel(\"No. of people who left/stay based on pillar\")\n",
    "plt.legend([\"Left\",\"Stay\"])\n",
    "plt.xticks(rotation=90)"
   ]
  },
  {
   "cell_type": "markdown",
   "id": "e4ac16ef",
   "metadata": {},
   "source": [
    "Here, in the chart, we can see that the maximum number of employees in ERP (GSD) have left compared to the ones that are staying in the company.\n",
    "On the other hand ERP FIN, ERP SCM, HCM and Tech cloud has maximum exits compared to the others and one possible reason could be for the fact that there could be more number of employees in there.\n",
    "Overall people who have left are more than the ones that are in the company.\n",
    "There could be some learning from EPM which the high attrition pillars could learn from."
   ]
  },
  {
   "cell_type": "code",
   "execution_count": 185,
   "id": "55e45b50",
   "metadata": {},
   "outputs": [
    {
     "data": {
      "text/plain": [
       "(array([0, 1]), [Text(0, 0, '0.0'), Text(1, 0, '1.0')])"
      ]
     },
     "execution_count": 185,
     "metadata": {},
     "output_type": "execute_result"
    },
    {
     "data": {
      "image/png": "[encoded data removed]",
      "text/plain": [
       "<Figure size 1000x600 with 1 Axes>"
      ]
     },
     "metadata": {},
     "output_type": "display_data"
    }
   ],
   "source": [
    "pd.crosstab(capacity_hire_updated_test4['promotion'],capacity_hire_updated_test4['stay/left']).plot(kind=\"bar\", figsize=(10,6))\n",
    "plt.title(\"Stay/Left vs Promoted/Non Promoted\")\n",
    "plt.xlabel(\"Stay/Left\")\n",
    "plt.ylabel(\"No. of people who left/stay based on promotion\")\n",
    "plt.legend([\"Left\",\"Stay\"])\n",
    "plt.xticks(rotation=0)"
   ]
  },
  {
   "cell_type": "markdown",
   "id": "5b8c32a0",
   "metadata": {},
   "source": [
    "Here, from the chart, it’s visible that the ones who are not promoted are leaving the company more as compared to the ones who are promoted which is also an obvious thing likely to happen."
   ]
  },
  {
   "cell_type": "code",
   "execution_count": 219,
   "id": "838c5138",
   "metadata": {},
   "outputs": [
    {
     "data": {
      "text/plain": [
       "(array([0, 1, 2]),\n",
       " [Text(0, 0, 'FY-22'), Text(1, 0, 'FY-23'), Text(2, 0, 'FY-24')])"
      ]
     },
     "execution_count": 219,
     "metadata": {},
     "output_type": "execute_result"
    },
    {
     "data": {
      "image/png": "[encoded data removed]",
      "text/plain": [
       "<Figure size 1000x600 with 1 Axes>"
      ]
     },
     "metadata": {},
     "output_type": "display_data"
    }
   ],
   "source": [
    "pd.crosstab(capacity_hire_updated_test4['Fiscal Year'],capacity_hire_updated_test4['stay/left']).plot(kind=\"bar\", figsize=(10,6))\n",
    "plt.title(\"Stay/Left vs Period\")\n",
    "plt.xlabel(\"Stay/Left\")\n",
    "plt.ylabel(\"No. of people who left/stay based on period\")\n",
    "plt.legend([\"Stay\",\"Left\"])\n",
    "plt.xticks(rotation=0)"
   ]
  },
  {
   "cell_type": "code",
   "execution_count": 218,
   "id": "36245fa1",
   "metadata": {},
   "outputs": [
    {
     "name": "stdout",
     "output_type": "stream",
     "text": [
      "stay/left\n",
      "1.0    742\n",
      "0.0     52\n",
      "Name: count, dtype: int64\n"
     ]
    }
   ],
   "source": [
    "subset = capacity_hire_updated_test4[capacity_hire_updated_test4['Fiscal Year'] == 'FY-22']\n",
    "stay_left_counts = subset['stay/left'].value_counts()\n",
    "print(stay_left_counts)"
   ]
  },
  {
   "cell_type": "code",
   "execution_count": 1,
   "id": "d546ec27",
   "metadata": {},
   "outputs": [
    {
     "ename": "NameError",
     "evalue": "name 'subset' is not defined",
     "output_type": "error",
     "traceback": [
      "\u001b[1;31m---------------------------------------------------------------------------\u001b[0m",
      "\u001b[1;31mNameError\u001b[0m                                 Traceback (most recent call last)",
      "Cell \u001b[1;32mIn[1], line 1\u001b[0m\n\u001b[1;32m----> 1\u001b[0m subset\n",
      "\u001b[1;31mNameError\u001b[0m: name 'subset' is not defined"
     ]
    }
   ],
   "source": [
    "subset"
   ]
  },
  {
   "cell_type": "code",
   "execution_count": 187,
   "id": "8beaf3fa",
   "metadata": {},
   "outputs": [
    {
     "data": {
      "text/plain": [
       "<Axes: title={'center': 'Promoted and Non Promoted'}, xlabel='promotion'>"
      ]
     },
     "execution_count": 187,
     "metadata": {},
     "output_type": "execute_result"
    },
    {
     "data": {
      "image/png": "[encoded data removed]",
      "text/plain": [
       "<Figure size 640x480 with 1 Axes>"
      ]
     },
     "metadata": {},
     "output_type": "display_data"
    }
   ],
   "source": [
    "capacity_hire_updated_test4['promotion'].value_counts().plot(kind='bar',color=['salmon','lightblue'],title=\"Promoted and Non Promoted\")"
   ]
  },
  {
   "cell_type": "markdown",
   "id": "e2e18017",
   "metadata": {},
   "source": [
    "From the above chart it is clear that the promotion rates are poor, it's almost negligible compared to the ones that haven't been promoted"
   ]
  },
  {
   "cell_type": "code",
   "execution_count": 191,
   "id": "882d1ae6",
   "metadata": {},
   "outputs": [
    {
     "data": {
      "image/png": "[encoded data removed]",
      "text/plain": [
       "<Figure size 1000x600 with 1 Axes>"
      ]
     },
     "metadata": {},
     "output_type": "display_data"
    }
   ],
   "source": [
    "import seaborn as sns\n",
    "# Let's visualize if the primary skill has any influence on those who have left\n",
    "left_df = capacity_hire_updated_test4[capacity_hire_updated_test4['stay/left']==1]\n",
    "left_counts = left_df['Resource Primary Skill'].value_counts()\n",
    "# Plot the distribution\n",
    "plt.figure(figsize=(10, 6))\n",
    "sns.barplot(x=left_counts.index, y=left_counts.values)\n",
    "plt.title('Distribution of Employees Who Have Left by Primary Skill')\n",
    "plt.xlabel('Primary Skill')\n",
    "plt.ylabel('Number of Employees Left')\n",
    "plt.xticks(rotation=90)\n",
    "plt.show()"
   ]
  },
  {
   "cell_type": "code",
   "execution_count": 193,
   "id": "ee1541c2",
   "metadata": {},
   "outputs": [
    {
     "data": {
      "image/png": "[encoded data removed]",
      "text/plain": [
       "<Figure size 1000x600 with 1 Axes>"
      ]
     },
     "metadata": {},
     "output_type": "display_data"
    }
   ],
   "source": [
    "# Select the top 10 primary skills\n",
    "top_10_left_counts = left_counts[:10]\n",
    "\n",
    "# Plot the distribution\n",
    "plt.figure(figsize=(10, 6))\n",
    "sns.barplot(x=top_10_left_counts.index, y=top_10_left_counts.values)\n",
    "plt.title('Top 10 Primary Skills of Employees Who Have Left')\n",
    "plt.xlabel('Primary Skill')\n",
    "plt.ylabel('Number of Employees Left')\n",
    "plt.xticks(rotation=90)  # Rotate x-axis labels for better readability\n",
    "plt.show()"
   ]
  },
  {
   "cell_type": "markdown",
   "id": "8295776a",
   "metadata": {},
   "source": [
    "This chart depitcts the top 10 skills where there has been an attrition % of about 80% in the org. "
   ]
  },
  {
   "cell_type": "code",
   "execution_count": 204,
   "id": "cec821a4",
   "metadata": {},
   "outputs": [
    {
     "data": {
      "text/plain": [
       "Email Address                     object\n",
       "Fiscal Year                       object\n",
       "Qtr                               object\n",
       "utilization                      float64\n",
       "tenure                           float64\n",
       "Separation Date           datetime64[ns]\n",
       "stay/left                        float64\n",
       "promotion                        float64\n",
       "Pillar                            object\n",
       "Resource Primary Skill            object\n",
       "Hire Date                 datetime64[ns]\n",
       "id                                 int64\n",
       "dtype: object"
      ]
     },
     "execution_count": 204,
     "metadata": {},
     "output_type": "execute_result"
    }
   ],
   "source": [
    "capacity_hire_updated_test4.dtypes"
   ]
  },
  {
   "cell_type": "code",
   "execution_count": 210,
   "id": "cf4ac1ce",
   "metadata": {},
   "outputs": [
    {
     "data": {
      "text/plain": [
       "stay/left\n",
       "0.0    3665\n",
       "1.0    1733\n",
       "Name: count, dtype: int64"
      ]
     },
     "execution_count": 210,
     "metadata": {},
     "output_type": "execute_result"
    }
   ],
   "source": [
    "capacity_hire_updated_test4['stay/left'].value_counts()"
   ]
  },
  {
   "cell_type": "code",
   "execution_count": 211,
   "id": "fecb26be",
   "metadata": {},
   "outputs": [
    {
     "data": {
      "text/plain": [
       "<seaborn.axisgrid.JointGrid at 0x203e66fa050>"
      ]
     },
     "execution_count": 211,
     "metadata": {},
     "output_type": "execute_result"
    },
    {
     "data": {
      "image/png": "[encoded data removed]",
      "text/plain": [
       "<Figure size 600x600 with 3 Axes>"
      ]
     },
     "metadata": {},
     "output_type": "display_data"
    }
   ],
   "source": [
    "sns.jointplot(x = 'stay/left', y= 'tenure', data = capacity_hire_updated_test4)"
   ]
  },
  {
   "cell_type": "markdown",
   "id": "9fee769c",
   "metadata": {},
   "source": [
    "Most of them those who have left have their average tenure around 2 years"
   ]
  },
  {
   "cell_type": "code",
   "execution_count": 212,
   "id": "ab2bdb59",
   "metadata": {},
   "outputs": [
    {
     "data": {
      "text/plain": [
       "<seaborn.axisgrid.JointGrid at 0x203e67c5a90>"
      ]
     },
     "execution_count": 212,
     "metadata": {},
     "output_type": "execute_result"
    },
    {
     "data": {
      "image/png": "[encoded data removed]",
      "text/plain": [
       "<Figure size 600x600 with 3 Axes>"
      ]
     },
     "metadata": {},
     "output_type": "display_data"
    }
   ],
   "source": [
    "sns.jointplot(x = 'stay/left', y= 'utilization', data = capacity_hire_updated_test4)"
   ]
  },
  {
   "cell_type": "markdown",
   "id": "3d9e22bc",
   "metadata": {},
   "source": [
    "Likewise people who have left seems to have utilization over and above 80% most of the time"
   ]
  },
  {
   "cell_type": "code",
   "execution_count": 214,
   "id": "a050b868",
   "metadata": {},
   "outputs": [
    {
     "data": {
      "image/png": "[encoded data removed]",
      "text/plain": [
       "<Figure size 1500x1000 with 2 Axes>"
      ]
     },
     "metadata": {},
     "output_type": "display_data"
    }
   ],
   "source": [
    "corr_matrix=capacity_hire_updated_test4.corr(numeric_only='True')\n",
    "fig,ax=plt.subplots(figsize=(15,10))\n",
    "ax=sns.heatmap(corr_matrix,\n",
    "               annot=True,\n",
    "               linewidths=0.5,\n",
    "               fmt=\".2f\"\n",
    "              )"
   ]
  },
  {
   "cell_type": "markdown",
   "id": "37584cb9",
   "metadata": {},
   "source": [
    "The correlation heatmap indicates that the factors like promotion and the period around which the employees have left plays a vital role in predicting the attrition"
   ]
  },
  {
   "cell_type": "markdown",
   "id": "56617671",
   "metadata": {},
   "source": [
    "### Preprocessing before modeling"
   ]
  },
  {
   "cell_type": "code",
   "execution_count": 203,
   "id": "f26eae5b",
   "metadata": {},
   "outputs": [],
   "source": [
    "capacity_hire_updated_test4['id'] = pd.factorize(capacity_hire_updated_test4['Email Address'])[0]"
   ]
  },
  {
   "cell_type": "code",
   "execution_count": 205,
   "id": "5b6952a8",
   "metadata": {},
   "outputs": [],
   "source": [
    "# Label encoding for Fiscal Year\n",
    "capacity_hire_updated_test4['Fiscal Year Encoded'] = capacity_hire_updated_test4['Fiscal Year'].astype('category').cat.codes\n",
    "\n",
    "# Label encoding for Quarter\n",
    "capacity_hire_updated_test4['Quarter Encoded'] = capacity_hire_updated_test4['Qtr'].astype('category').cat.codes"
   ]
  },
  {
   "cell_type": "code",
   "execution_count": 206,
   "id": "1ad2484c",
   "metadata": {},
   "outputs": [],
   "source": [
    "# One-hot encoding for Vertical\n",
    "vertical_encoded = pd.get_dummies(capacity_hire_updated_test4['Pillar'], prefix='Vertical')\n",
    "\n",
    "# One-hot encoding for Primary Skills\n",
    "skills_encoded = pd.get_dummies(capacity_hire_updated_test4['Resource Primary Skill'], prefix='Skills')\n",
    "\n",
    "# Concatenate the encoded columns with the original DataFrame\n",
    "df_encoded = pd.concat([capacity_hire_updated_test4, vertical_encoded, skills_encoded], axis=1)"
   ]
  },
  {
   "cell_type": "code",
   "execution_count": 208,
   "id": "c604c841",
   "metadata": {},
   "outputs": [
    {
     "data": {
      "text/plain": [
       "Email Address                                  object\n",
       "Fiscal Year                                    object\n",
       "Qtr                                            object\n",
       "utilization                                   float64\n",
       "tenure                                        float64\n",
       "                                               ...   \n",
       "Skills_HCM Cloud/Talent Mgmt/Functional          bool\n",
       "Skills_HCM Cloud/Taleo Soar                      bool\n",
       "Skills_HCM Cloud/Time and Labor/Functional       bool\n",
       "Skills_INVALID - CE/IaaS/Engineer                bool\n",
       "Skills_OnPrem ERP/OnPrem IC                      bool\n",
       "Length: 143, dtype: object"
      ]
     },
     "execution_count": 208,
     "metadata": {},
     "output_type": "execute_result"
    }
   ],
   "source": [
    "df_encoded.dtypes"
   ]
  }
 ],
 "metadata": {
  "kernelspec": {
   "display_name": "Python 3 (ipykernel)",
   "language": "python",
   "name": "python3"
  },
  "language_info": {
   "codemirror_mode": {
    "name": "ipython",
    "version": 3
   },
   "file_extension": ".py",
   "mimetype": "text/x-python",
   "name": "python",
   "nbconvert_exporter": "python",
   "pygments_lexer": "ipython3",
   "version": "3.8.17"
  }
 },
 "nbformat": 4,
 "nbformat_minor": 5
}
