{
 "cells": [
  {
   "cell_type": "markdown",
   "id": "001d18d5-13ac-4d9b-a141-323dd0b9ce5f",
   "metadata": {},
   "source": [
    "### OCI Data Science - Useful Tips\n",
    "<details>\n",
    "<summary><font size=\"2\">Check for Public Internet Access</font></summary>\n",
    "\n",
    "```python\n",
    "import requests\n",
    "response = requests.get(\"https://oracle.com\")\n",
    "assert response.status_code==200, \"Internet connection failed\"\n",
    "```\n",
    "</details>\n",
    "<details>\n",
    "<summary><font size=\"2\">Helpful Documentation </font></summary>\n",
    "<ul><li><a href=\"https://docs.cloud.oracle.com/en-us/iaas/data-science/using/data-science.htm\">Data Science Service Documentation</a></li>\n",
    "<li><a href=\"https://docs.cloud.oracle.com/iaas/tools/ads-sdk/latest/index.html\">ADS documentation</a></li>\n",
    "</ul>\n",
    "</details>\n",
    "<details>\n",
    "<summary><font size=\"2\">Typical Cell Imports and Settings for ADS</font></summary>\n",
    "\n",
    "```python\n",
    "%load_ext autoreload\n",
    "%autoreload 2\n",
    "%matplotlib inline\n",
    "\n",
    "import warnings\n",
    "warnings.filterwarnings('ignore')\n",
    "\n",
    "import logging\n",
    "logging.basicConfig(format='%(levelname)s:%(message)s', level=logging.ERROR)\n",
    "\n",
    "import ads\n",
    "from ads.dataset.factory import DatasetFactory\n",
    "from ads.automl.provider import OracleAutoMLProvider\n",
    "from ads.automl.driver import AutoML\n",
    "from ads.evaluations.evaluator import ADSEvaluator\n",
    "from ads.common.data import ADSData\n",
    "from ads.explanations.explainer import ADSExplainer\n",
    "from ads.explanations.mlx_global_explainer import MLXGlobalExplainer\n",
    "from ads.explanations.mlx_local_explainer import MLXLocalExplainer\n",
    "from ads.catalog.model import ModelCatalog\n",
    "from ads.common.model_artifact import ModelArtifact\n",
    "```\n",
    "</details>\n",
    "<details>\n",
    "<summary><font size=\"2\">Useful Environment Variables</font></summary>\n",
    "\n",
    "```python\n",
    "import os\n",
    "print(os.environ[\"NB_SESSION_COMPARTMENT_OCID\"])\n",
    "print(os.environ[\"PROJECT_OCID\"])\n",
    "print(os.environ[\"USER_OCID\"])\n",
    "print(os.environ[\"TENANCY_OCID\"])\n",
    "print(os.environ[\"NB_REGION\"])\n",
    "```\n",
    "</details>"
   ]
  },
  {
   "cell_type": "code",
   "execution_count": 27,
   "id": "0331111d-57d5-4134-aec8-d98773df4425",
   "metadata": {
    "tags": []
   },
   "outputs": [],
   "source": [
    "import openpyxl\n",
    "import oci\n",
    "import io\n",
    "from datetime import datetime, timedelta\n",
    "import docx"
   ]
  },
  {
   "cell_type": "code",
   "execution_count": 2,
   "id": "205006c6-536e-4d20-8c96-ce2c4e669281",
   "metadata": {
    "tags": []
   },
   "outputs": [],
   "source": [
    "# Setup OCI and basic configurations\n",
    "compartment_id = \"ocid1.compartment.oc1..aaaaaaaaretksgipt3jgwfpzgh4ijyw54uynyfviaxs5li4wtl744fj4fi3q\"\n",
    "CONFIG_PROFILE = \"DEFAULT\"\n",
    "config = oci.config.from_file('config', CONFIG_PROFILE)"
   ]
  },
  {
   "cell_type": "code",
   "execution_count": 3,
   "id": "9c3d5ce9-66d5-4fe6-b7f9-53b4a03edd3f",
   "metadata": {
    "tags": []
   },
   "outputs": [],
   "source": [
    "# Service endpoint for Generative AI Inference\n",
    "endpoint = \"https://inference.generativeai.us-chicago-1.oci.oraclecloud.com\"\n",
    "generative_ai_inference_client = oci.generative_ai_inference.GenerativeAiInferenceClient(config=config, service_endpoint=endpoint)"
   ]
  },
  {
   "cell_type": "code",
   "execution_count": 30,
   "id": "c22e1eb3-3084-4332-8453-762194dd215a",
   "metadata": {
    "tags": []
   },
   "outputs": [],
   "source": [
    "def ask_question(question, input_text):\n",
    "    chat_detail = oci.generative_ai_inference.models.ChatDetails()\n",
    "    chat_request = oci.generative_ai_inference.models.CohereChatRequest()\n",
    "    \n",
    "    # Craft the input for the AI model\n",
    "    chat_request.message = f\"{question}\\n\\nContext:\\n{input_text}\"\n",
    "    chat_request.max_tokens = 1600\n",
    "    chat_request.temperature = 0.85  # Low temperature for precise responses\n",
    "    chat_request.frequency_penalty = 0\n",
    "    chat_request.top_p = 0.85  # Bias towards more likely words to maintain technical tone\n",
    "    chat_request.top_k = 0\n",
    "\n",
    "    chat_detail.serving_mode = oci.generative_ai_inference.models.OnDemandServingMode(model_id=\"ocid1.generativeaimodel.oc1.us-chicago-1.amaaaaaask7dceya7ozidbukxwtun4ocm4ngco2jukoaht5mygpgr6gq2lgq\")\n",
    "    chat_detail.chat_request = chat_request\n",
    "    chat_detail.compartment_id = compartment_id\n",
    "\n",
    "    chat_response = generative_ai_inference_client.chat(chat_detail)\n",
    "    chat_history = chat_response.data.chat_response.chat_history\n",
    "    if chat_history:\n",
    "        return chat_history[-1].message\n",
    "    return \"No response\""
   ]
  },
  {
   "cell_type": "code",
   "execution_count": 23,
   "id": "37a41b1a-4630-473f-9a15-baa6303f8aa9",
   "metadata": {
    "tags": []
   },
   "outputs": [],
   "source": [
    "import pdfplumber\n",
    "from docx import Document\n",
    "\n",
    "# Extract text from PDF\n",
    "def extract_text_from_pdf(pdf_path):\n",
    "    with pdfplumber.open(pdf_path) as pdf:\n",
    "        text = ''\n",
    "        for page in pdf.pages:\n",
    "            text += page.extract_text()\n",
    "    return text\n",
    "\n",
    "# Extract text from PPTX (using python-pptx)\n",
    "from pptx import Presentation\n",
    "\n",
    "def extract_text_from_pptx(pptx_path):\n",
    "    prs = Presentation(pptx_path)\n",
    "    text = ''\n",
    "    for slide in prs.slides:\n",
    "        for shape in slide.shapes:\n",
    "            if hasattr(shape, \"text\"):\n",
    "                text += shape.text + \"\\n\"\n",
    "    return text\n",
    "\n",
    "# Extract relevant sections using keywords\n",
    "def extract_sections(text, keywords):\n",
    "    sections = {}\n",
    "    for keyword in keywords:\n",
    "        sections[keyword] = []\n",
    "        for line in text.split(\"\\n\"):\n",
    "            if keyword.lower() in line.lower():\n",
    "                sections[keyword].append(line)\n",
    "    return sections\n",
    "\n",
    "def extract_text_from_requirements_docx(file_path):\n",
    "    doc = docx.Document(file_path)\n",
    "    full_text = []\n",
    "    for para in doc.paragraphs:\n",
    "        full_text.append(para.text)\n",
    "    return '\\n'.join(full_text)"
   ]
  },
  {
   "cell_type": "code",
   "execution_count": 6,
   "id": "305673e5-495c-4e44-b8f9-5f4b36a259fa",
   "metadata": {
    "tags": []
   },
   "outputs": [],
   "source": [
    "few_shot_examples = [\n",
    "    \"Phase: Project Initiation (Engage)\\nTask: Project Kickoff and Project Team Mobilization\\nDuration: 2 days\\nStart: July 4, 2024\\nEnd: July 5, 2024\\nResources: Oracle, ADA\",\n",
    "    \"Phase: Requirement Gathering and Analysis\\nTask: Define Functional and Non-Functional Requirements\\nDuration: 7 days\\nStart: October 22, 2024\\nEnd: October 29, 2024\\nResources: Oracle, ADA\"\n",
    "]"
   ]
  },
  {
   "cell_type": "code",
   "execution_count": 97,
   "id": "a190e8ac-8084-4832-8ee8-46c9f6b5e412",
   "metadata": {
    "tags": []
   },
   "outputs": [],
   "source": [
    "questions = [\n",
    "    \"Can you generate a comprehensive list of tasks for the project initiation phase based on the RFP, response and the requirements?\",\n",
    "    \"What are the exhaustive list of tasks required for the requirement gathering phase?\",\n",
    "    \"Please list all the tasks related to design phases of the project.\",\n",
    "    \"Please list all the tasks related to development phase of the project.\",\n",
    "    \"Please list all the tasks related to testing phase of the project.\",\n",
    "    \"What are the different deployment tasks?\", \n",
    "    \"List down all the post-implementation support activities?\"\n",
    "]\n"
   ]
  },
  {
   "cell_type": "code",
   "execution_count": 28,
   "id": "4dd94598-5fed-4cde-b4dd-3c593cab65a9",
   "metadata": {
    "tags": []
   },
   "outputs": [],
   "source": [
    "# Load RFP and RFP Response\n",
    "rfp_text = extract_text_from_pdf('rfp.pdf')\n",
    "rfp_response_text = extract_text_from_pptx('rfp_response.pptx')\n",
    "requirements_text = extract_text_from_requirements_docx('PROJECT_SPEAK_MATE_DELIVERY_DOCS_updated_requirements_document (4).docx')"
   ]
  },
  {
   "cell_type": "code",
   "execution_count": 98,
   "id": "ce7cc965-2680-4392-a367-be7503772338",
   "metadata": {
    "tags": []
   },
   "outputs": [],
   "source": [
    "def generate_tasks(questions, rfp_text, rfp_response_text, requirements_text):\n",
    "    combined_input = f\"RFP Document:\\n{rfp_text}\\n\\nRFP Response Document:\\n{rfp_response_text}\\n\\nRequirements Document:\\n{requirements_text}\"\n",
    "    \n",
    "    task_list = []\n",
    "    for question in questions:\n",
    "        response = ask_question(question, combined_input)\n",
    "        task_list.append({\"Phase\": question, \"Tasks\": response})\n",
    "    return task_list"
   ]
  },
  {
   "cell_type": "code",
   "execution_count": 99,
   "id": "5c25fb5a-b789-4d63-b955-c4f541ba7f9a",
   "metadata": {
    "tags": []
   },
   "outputs": [],
   "source": [
    "task_list = generate_tasks(questions, rfp_text, rfp_response_text, requirements_text)"
   ]
  },
  {
   "cell_type": "code",
   "execution_count": 100,
   "id": "ba858b33-31d2-4717-8686-745c29473428",
   "metadata": {
    "tags": []
   },
   "outputs": [
    {
     "data": {
      "text/plain": [
       "[{'Phase': 'Can you generate a comprehensive list of tasks for the project initiation phase based on the RFP, response and the requirements?',\n",
       "  'Tasks': \"Here is a comprehensive list of tasks for the project initiation phase based on the information provided: \\n\\n- **Kick-off Meeting:** \\n   - Introduce the project team members and stakeholders. \\n   - Review the project objectives, scope, and timelines. \\n   - Discuss the overall project plan and next steps. \\n\\n- **Requirement Gathering:** \\n   - Conduct sessions to gather and analyze business, functional, and technical requirements. \\n   - Identify and document specific needs for reporting, consolidation, data integration, security, and other aspects. \\n\\n- **Solution Design:** \\n   - Design the solution architecture, including data flow, system components, and integrations. \\n   - Identify and assess any potential risks and dependencies. \\n   - Create a detailed plan for implementation, including task breakdown and resource allocation. \\n\\n- **Environment Setup:** \\n   - Provision and configure the necessary environments (Non-Prod and Prod) on OCI. \\n   - Set up required services such as Oracle Data Integration, Autonomous Database, Oracle Digital Assistant, Object Storage, etc. \\n\\n- **Data Mart Development:** \\n   - Extract and load data from FCCS and other source systems into the Data Mart. \\n   - Define data models, transformations, and mappings to structure the data for analysis. \\n\\n- **LLM Model Training:** \\n   - Select and train Large Language Models (LLMs) for advanced conversational capabilities. \\n   - Fine-tune and optimize the LLMs for specific use cases and language requirements. \\n\\n- **Chat Interface and Avatar Development:** \\n   - Develop a user-friendly chat interface, integrating it with the LLM and avatar system. \\n   - Customize the avatar system according to ADA branding and language requirements. \\n\\n- **Dashboards and Reports:** \\n   - Design and develop insightful dashboards and reports using Oracle Analytics Cloud (OAC). \\n   - Ensure the dashboards and reports meet the business needs and provide value to users. \\n\\n- **Project Governance:** \\n   - Establish a project governance structure, including roles, responsibilities, and decision-making processes. \\n   - Define communication protocols and status reporting mechanisms. \\n\\n- **Training and Documentation:** \\n   - Develop training materials and conduct train-the-trainer sessions. \\n   - Create user guides, administration manuals, and other relevant documentation. \\n\\n- **UAT and Go-Live Support:** \\n   - Provide support during User Acceptance Testing (UAT) to address any issues and ensure the solution meets requirements. \\n   - Assist with the go-live process, ensuring a smooth transition to the new system. \\n\\n- **Post-Implementation Support:** \\n   - Offer ongoing support post-implementation to address any issues and ensure long-term stability. \\n   - Establish a process for handling change requests and ongoing enhancements. \\n\\nThese tasks outline the key activities for the project initiation phase, setting the foundation for a successful implementation. It's important to note that the specific tasks and timelines may vary depending on the project's complexity and unique requirements.\"},\n",
       " {'Phase': 'What are the exhaustive list of tasks required for the requirement gathering phase?',\n",
       "  'Tasks': \"Here is a comprehensive list of tasks typically involved in the requirement-gathering phase for a software development project:\\n\\n- **Identify Stakeholders:** Determine all the stakeholders, including business users, subject matter experts, and technical teams, who will provide input and feedback during requirement gathering.\\n- **Conduct Interviews:** Schedule and conduct interviews with stakeholders to understand their needs, expectations, and pain points. Discuss the current processes, challenges, and desired improvements.\\n- **Facilitate Workshops:** Organize workshops or focus groups to gather requirements collaboratively. These sessions can help identify common themes, prioritize requirements, and build consensus.\\n- **Review Existing Documentation:** Study and analyze existing documentation, such as business plans, process flow diagrams, user manuals, and system specifications, to gain a deeper understanding of the current system and requirements.\\n- **Perform Requirements Elicitation:** Use techniques like brainstorming, questionnaires, surveys, and prototyping to elicit requirements from stakeholders. Identify functional and non-functional requirements.\\n- **Define Scope:** Clearly define the scope of the project, including the features, functionalities, and boundaries. This helps set expectations and ensures that the project stays focused.\\n- **Create User Stories:** Write user stories or use cases to describe specific user interactions with the system. These stories should capture the user's goals, actions, and expected outcomes.\\n- **Prioritize Requirements:** Prioritize the gathered requirements based on their importance to the business, urgency, and impact. This helps in resource allocation and ensures that the most critical requirements are addressed first.\\n- **Identify Constraints and Dependencies:** Identify any constraints, such as budget, timeline, regulatory requirements, or technical limitations, that may impact the project. Also, note any dependencies on external factors or systems.\\n- **Perform Gap Analysis:** Compare the current state with the desired state to identify gaps and determine the changes or enhancements needed to meet the requirements.\\n- **Define Acceptance Criteria:** Establish clear and measurable acceptance criteria for each requirement to determine when it is met. This ensures that the final solution aligns with the specified needs.\\n- **Document Requirements:** Create a comprehensive requirements document that captures all the gathered information. This document should be well-organized, easy to understand, and accessible to all stakeholders.\\n- **Obtain Stakeholder Sign-off:** Present the requirements document to stakeholders for review and approval. Address any concerns or feedback before obtaining final sign-off, ensuring that the documented requirements are agreed upon.\\n- **Plan for Changes:** Establish a change management process to handle any changes or updates to requirements during the project. This ensures that requirements remain aligned with evolving business needs.\\n\\nThese tasks help in thoroughly understanding the business needs, gathering functional and non-functional requirements, defining the scope, prioritizing requirements, and obtaining stakeholder approval. Effective requirement gathering is crucial for the success of any software development project as it forms the foundation for design, development, and testing phases.\"},\n",
       " {'Phase': 'Please list all the tasks related to design phases of the project.',\n",
       "  'Tasks': \"Here is a list of tasks related to the design phases of the project:\\n\\n- **Application Build and Configuration:** Set up the ADA FCCS application using standard configurations while considering the scope and requirements for consolidation and reporting. Enable multi-currency reporting and set the local/functional currency for each entity.\\n- **Dimensions:** Modify dimensions in the Re-Build FCCS application to align with ADQ Aviation dimensions, including adjustments to the Account, Entity, Intercompany, Consolidation, Data Source, Movement, Scenario, Currency, View, Period, Year, and Custom dimensions.\\n- **Data Integrations and Automations:** Establish a data integration approach, including single trial balance for both actual and management scenarios, calculation of YTD balances, standardized file formats, and automated data load processes. Implement quarterly adjustments and journal entries for statutory data.\\n- **Data Forms:** Configure data forms to meet specific requirements, such as variance commentary in notes, enabling users to input reasons for variances.\\n- **Supplemental Data Manager (SDM):** Utilize SDM to capture additional breakups and disclosures of financial information. Map and validate SDM data with account balances in the application.\\n- **Intercompany:** Activate all base entities for inter-company transactions. Retain the existing inter-company structure for statutory data transfer.\\n- **Ownership Management and Consolidations:** Set up ownership management separately for statutory and management reporting scenarios. Deploy default consolidation rules and methods, with customizations as needed for specific ADA scenarios.\\n- **Consolidation Calculations:** Automate consolidation calculations, including equity accounting, goodwill offset, cash flow management, SOCIE, and purchase price adjustments.\\n- **Dashboards and Analytics:** Configure out-of-the-box dashboards for close management, compliance, and financial insights. Provide training on building additional dashboards. Utilize Oracle Analytics Cloud for powerful analytics and data visualization.\\n- **Valid Intersections:** Implement valid intersections to ensure data integrity and optimize the financial close process. Prevent users from entering data in invalid cell combinations.\\n- **Financial Close Management, Security, and Approval Units:** Utilize close manager features to monitor monthly, quarterly, and yearly close cycles. Implement a structured security matrix, providing access to entity and corporate users.\\n- **Data Mart and Analytics Platform:** Develop a centralized Data Mart to aggregate and store data from various sources, including FCCS, Procurement, and HR systems. Utilize Oracle Analytics Cloud for insightful dashboards and reports, with a data model tailored to ADA's business needs.\\n- **LLM-Powered Oracle Chat:** Implement a chatbot integrated with the Data Mart, leveraging Large Language Model (LLM) technology for advanced conversational capabilities. Train and fine-tune LLMs to understand and generate human-like text.\\n\\nThese tasks encompass the design and configuration of the application, data integration and management, ownership and consolidations, reporting and analytics, security, and the implementation of the LLM-powered Oracle Chatbot.\"},\n",
       " {'Phase': 'Please list all the tasks related to development phase of the project.',\n",
       "  'Tasks': \"Here is a list of tasks related to the development phase of the project:\\n\\n- **Data Mart Development:**\\n   - Design and develop the Data Mart to serve as a centralized repository for data from various sources, including FCCS, Procurement, and HR systems.\\n   - Define the data model, schema, and relationships to ensure efficient data storage and retrieval.\\n   - Implement data security protocols, such as encryption and access controls, to protect sensitive data.\\n   - Establish data integration processes to extract, transform, and load data from source systems into the Data Mart.\\n\\n- **LLM Training and Integration:**\\n   - Train and fine-tune Large Language Models (LLMs) to understand and generate human-like text.\\n   - Integrate LLMs with the Oracle Digital Assistant (ODA) to enable advanced conversational capabilities.\\n   - Test and validate the LLM-powered Oracle Chatbot to ensure accurate and context-aware responses.\\n\\n- **Chat Interface and Avatar System:**\\n   - Develop a user-friendly chat interface that allows users to interact with the system through natural language queries.\\n   - Integrate the avatar system with text-to-speech and speech-to-text capabilities to enhance the user experience.\\n   - Customize the avatar's appearance, background, and branding to align with ADA's guidelines.\\n\\n- **Oracle Analytics Cloud (OAC) Reports and Dashboards:**\\n   - Design and develop insightful reports and dashboards using OAC to visualize data and support decision-making.\\n   - Ensure that the reports and dashboards meet the specific needs of ADA's finance and operations teams.\\n   - Establish processes for data extraction, transformation, and loading into OAC for analysis.\\n\\n- **Security and Access Control:**\\n   - Implement role-based access control (RBAC) to restrict data access based on user roles and responsibilities.\\n   - Set up multi-factor authentication (MFA) and privileged access management (PAM) to enhance security for privileged users.\\n   - Configure encryption methods for data-at-rest and data-in-transit to protect sensitive information.\\n\\n- **Testing and Validation:**\\n   - Conduct unit testing, integration testing, and system testing to identify and address any issues or bugs.\\n   - Perform load testing to ensure the system can handle expected user loads and transaction volumes.\\n   - Validate the accuracy and completeness of data, including data loaded into the Data Mart and data used for reporting.\\n\\n- **Documentation:**\\n   - Create comprehensive documentation, including user manuals, administrator guides, and technical specifications.\\n   - Document the solution architecture, data flow diagrams, and system configurations for future reference and maintenance.\\n   - Provide training materials and tutorials to assist users in adopting the new system effectively.\\n\\n- **Training and Knowledge Transfer:**\\n   - Conduct train-the-trainer sessions to equip ADA's team with the knowledge and skills needed to use and maintain the solution.\\n   - Provide user training to ensure employees understand how to interact with the system and perform their tasks effectively.\\n   - Establish a knowledge transfer process to share best practices, lessons learned, and technical expertise with ADA's team.\\n\\nThese tasks encompass the development activities required to build and deploy the solution, including the Data Mart, LLM-powered Oracle Chat, OAC reports and dashboards, security measures, testing, documentation, and training.\"},\n",
       " {'Phase': 'Please list all the tasks related to testing phase of the project.',\n",
       "  'Tasks': \"Here is a list of tasks related to the testing phase of the project:\\n\\n- Test Plan Development: Create a comprehensive test plan that outlines the testing objectives, strategies, schedules, and resources. Identify the test environment, test data requirements, and test case development approach.\\n- Test Case Preparation: Develop detailed test cases that cover functional, integration, performance, and user acceptance testing. Ensure that test cases cover all critical business processes, data flows, and system functionalities.\\n- Test Environment Setup: Establish a test environment that mirrors the production environment, including relevant data, configurations, and dependencies. Ensure that the test environment is stable and secure.\\n- Test Data Preparation: Identify and prepare the necessary test data, including both realistic and edge-case scenarios. Anonymize or mask sensitive data to protect confidentiality.\\n- Test Execution: Execute the test cases systematically, following the test plan and schedules. Involve relevant stakeholders, such as business users, to participate in testing.\\n- Defect Tracking and Management: Establish a process for tracking and managing defects identified during testing. Use a defect tracking tool to log, prioritize, and assign defects for resolution.\\n- Regression Testing: Perform regression testing to ensure that changes or fixes made during the development process have not introduced new issues or impacted existing functionalities.\\n- Performance Testing: Conduct performance testing to evaluate the system's performance, including response time, throughput, and resource utilization. Identify and address any bottlenecks or scalability issues.\\n- User Acceptance Testing (UAT): Facilitate UAT by involving key business users to validate that the solution meets their requirements. Address any issues or feedback raised during UAT.\\n- Test Reporting: Generate test reports that summarize the testing activities, including test case execution status, defect tracking, and test coverage analysis. Provide insights into the system's readiness for go-live.\\n- Test Closure: Conduct a test closure meeting to review the testing outcomes, finalize any open issues, and obtain sign-off from relevant stakeholders. Ensure that all test artifacts, including test cases, test data, and test results, are documented and stored securely.\\n\\nThese tasks cover the key aspects of the testing phase, ensuring that the solution is thoroughly evaluated and validated before go-live.\"},\n",
       " {'Phase': 'What are the different deployment tasks?',\n",
       "  'Tasks': \"Deployment tasks can be broken down into several categories to ensure a smooth and successful rollout. Here are some key deployment tasks to consider:\\n\\n1. **Planning and Preparation:**\\n   - Develop a detailed deployment plan: Outline the steps, timelines, and responsibilities for the deployment process.\\n   - Environment Setup: Prepare the production environment by configuring servers, databases, and other necessary components.\\n   - Data Migration: Ensure data is migrated accurately and securely from the staging environment to the production environment.\\n   - Testing: Conduct thorough testing, including unit testing, integration testing, and user acceptance testing (UAT), to identify and address any issues.\\n\\n2. **Configuration and Customization:**\\n   - Server Configuration: Configure production servers to meet performance, security, and scalability requirements.\\n   - Application Customization: Customize the application to meet specific business needs, including branding, user interface, and functionality.\\n   - Integration Configuration: Set up integrations with external systems, APIs, or data sources to enable data exchange.\\n\\n3. **Security and Access Control:**\\n   - User Access Control: Define and implement role-based access control (RBAC) to restrict user access based on their roles and responsibilities.\\n   - Authentication and Authorization: Implement authentication mechanisms (e.g., single sign-on, multi-factor authentication) and authorize user access to specific resources.\\n   - Data Security: Ensure data encryption, both at rest and in transit, and establish key management practices.\\n\\n4. **Monitoring and Performance Optimization:**\\n   - Monitoring and Alerting: Set up monitoring tools to track system performance, resource utilization, and error logs. Implement alerting mechanisms for critical issues.\\n   - Performance Optimization: Optimize the application's performance by tuning databases, improving code efficiency, and utilizing caching mechanisms.\\n   - Scalability Testing: Conduct scalability tests to ensure the system can handle expected user loads and growth.\\n\\n5. **Documentation and Training:**\\n   - User Documentation: Create user manuals, tutorials, and FAQs to guide users in using the system effectively.\\n   - Administrator Documentation: Provide comprehensive documentation for system administrators, including setup instructions, configuration details, and troubleshooting guides.\\n   - Training: Offer training sessions for end-users and administrators to ensure they are familiar with the system and can utilize its full potential.\\n\\n6. **Go-Live and Post-Deployment Support:**\\n   - Go-Live: Execute the go-live process, ensuring a smooth transition to the new system.\\n   - Post-Deployment Support: Provide ongoing support and maintenance post-deployment to address user queries, fix issues, and ensure system stability.\\n   - Feedback Loop: Establish a feedback mechanism to collect user feedback and continuously improve the system.\\n\\nRemember that each deployment is unique, and the specific tasks may vary depending on the complexity of the project, the technology stack used, and the organization's requirements. It's important to have a well-defined deployment strategy, involving key stakeholders, to ensure a successful rollout.\"},\n",
       " {'Phase': 'List down all the post-implementation support activities?',\n",
       "  'Tasks': \"Here is a list of post-implementation support activities that are typically involved in ensuring the stability and ongoing improvement of a solution:\\n\\n1. **Monitoring and Incident Management:**\\n   - Set up monitoring tools and processes to track the performance and availability of the solution.\\n   - Establish incident management procedures to handle any issues or errors that arise.\\n   - Define service level agreements (SLAs) for response and resolution times.\\n   - Provide a support ticketing system for users to report issues and track their resolution.\\n\\n2. **User Training and Knowledge Transfer:**\\n   - Develop comprehensive training materials and conduct training sessions for end-users.\\n   - Create knowledge base articles, how-to guides, and tutorials to empower users to utilize the solution effectively.\\n   - Establish a help desk or support channel to address user queries and provide assistance.\\n\\n3. **Change Management:**\\n   - Implement a change management process to handle requests for changes or enhancements to the solution.\\n   - Evaluate the impact of proposed changes and prioritize them based on business needs and resource availability.\\n   - Establish a change control board to review, approve, and oversee the implementation of changes.\\n\\n4. **System Maintenance and Upgrades:**\\n   - Perform regular system maintenance, including backups, updates, and patch installations.\\n   - Monitor and apply security patches and updates to address vulnerabilities and ensure data security.\\n   - Plan and execute system upgrades to incorporate new features, improvements, and bug fixes.\\n\\n5. **Performance Optimization:**\\n   - Continuously monitor and optimize system performance to ensure it meets response time and throughput requirements.\\n   - Identify and address bottlenecks or inefficiencies in the solution's architecture or code.\\n   - Conduct performance testing and benchmarking to evaluate the system's performance against industry standards.\\n\\n6. **Data Management:**\\n   - Ensure data integrity and consistency by performing regular data quality checks and validations.\\n   - Implement data governance policies and procedures to manage data throughout its lifecycle.\\n   - Monitor data usage and storage to optimize data retention and archiving strategies.\\n\\n7. **Feedback and Continuous Improvement:**\\n   - Establish feedback loops with users to gather insights and suggestions for improvement.\\n   - Analyze user feedback and prioritize improvement initiatives based on business impact and feasibility.\\n   - Conduct regular solution reviews and retrospective analyses to identify areas for enhancement.\\n\\n8. **Documentation and Knowledge Management:**\\n   - Maintain and update solution documentation, including user manuals, technical specifications, and process guides.\\n   - Establish a knowledge management system to organize and share knowledge across the organization.\\n   - Document and communicate any changes or enhancements made to the solution.\\n\\n9. **Vendor Management:**\\n   - Maintain a positive relationship with vendors and service providers involved in the solution.\\n   - Manage contracts, licenses, and support agreements with vendors to ensure ongoing support and compliance.\\n   - Stay informed about vendor updates, enhancements, and roadmaps to leverage new features and improvements.\\n\\n10. **Compliance and Regulatory Requirements:**\\n    - Ensure that the solution complies with relevant regulatory and industry standards.\\n    - Monitor and address any changes in regulatory requirements that may impact the solution.\\n    - Conduct periodic security assessments and audits to identify and mitigate risks.\\n\\nThese post-implementation support activities aim to maintain the stability and performance of the solution, address user queries and issues, and continuously improve the solution based on feedback and evolving business needs.\"}]"
      ]
     },
     "execution_count": 100,
     "metadata": {},
     "output_type": "execute_result"
    }
   ],
   "source": [
    "task_list"
   ]
  },
  {
   "cell_type": "code",
   "execution_count": 113,
   "id": "1e98276d-b9b8-45e8-9036-27ede584b884",
   "metadata": {
    "tags": []
   },
   "outputs": [],
   "source": [
    "import pandas as pd\n",
    "import random\n",
    "import numpy as np\n",
    "\n",
    "# Function to extract the main phase from the 'Phase' text\n",
    "def extract_phase(phase_text):\n",
    "    phase_keywords = {\n",
    "        \"Project Initiation\": [\"initiation\", \"kickoff\"],\n",
    "        \"Requirements Gathering\": [\"requirement gathering\"],\n",
    "        \"Design\": [\"design\"],\n",
    "        \"Development\": [\"development\"],\n",
    "        \"Testing\": [\"testing\"],\n",
    "        \"Deployment\": [\"deployment\"],\n",
    "        \"Post-Implementation Support\": [\"post-implementation\"]\n",
    "    }\n",
    "    \n",
    "    for keyword, patterns in phase_keywords.items():\n",
    "        for pattern in patterns:\n",
    "            if re.search(pattern, phase_text, re.IGNORECASE):\n",
    "                return keyword\n",
    "    return \"Other\"  # If no specific phase is matched\n",
    "\n",
    "# Function to split tasks into individual items\n",
    "def extract_tasks(tasks_text):\n",
    "    tasks = []\n",
    "    lines = tasks_text.split(\"\\n\")\n",
    "    \n",
    "    for line in lines:\n",
    "        line = line.strip()\n",
    "        if line.startswith(\"- \"):  # Main task or sub-task indicator\n",
    "            task_name = re.sub(r\"^[-*]\\s*\\*\\*(.*?)\\*\\*.*$\", r\"\\1\", line)\n",
    "            tasks.append({\"Task Name\": task_name})\n",
    "    \n",
    "    return tasks\n",
    "\n",
    "# Function to assign random resource names with a 60% allocation to \"Oracle-Client\"\n",
    "def assign_random_resource():\n",
    "    resources = ['Oracle-Client', 'Client', 'Oracle']\n",
    "    return np.random.choice(resources, p=[0.6, 0.2, 0.2])\n",
    "\n",
    "# Function to build the project plan by phase\n",
    "def build_project_plan(task_list):\n",
    "    project_plan = []\n",
    "\n",
    "    for entry in task_list:\n",
    "        phase = extract_phase(entry['Phase'])  # Extracting phase from the Phase text\n",
    "        tasks_text = entry['Tasks']  # Extract the task description string\n",
    "\n",
    "        # For each phase, append the phase and the tasks underneath it\n",
    "        tasks = extract_tasks(tasks_text)\n",
    "        for task in tasks:\n",
    "            # Randomly assign duration and percentage completion for demonstration purposes\n",
    "            duration = random.randint(2, 10)  # Random duration between 2-10 days\n",
    "            percentage_completion = 0  # All tasks are initially 0% completed\n",
    "            \n",
    "            # Random start and end date for demonstration purposes\n",
    "            start_date = pd.Timestamp.now() + pd.DateOffset(days=random.randint(0, 30))\n",
    "            end_date = start_date + pd.DateOffset(days=duration)\n",
    "            \n",
    "            # Assign random resources\n",
    "            resource_name = assign_random_resource()\n",
    "            \n",
    "            # Add the task with additional columns to the project plan\n",
    "            project_plan.append({\n",
    "                \"Percentage_completion\": percentage_completion,\n",
    "                \"Phase\": phase,\n",
    "                \"Task Name\": task['Task Name'],\n",
    "                \"Duration\": f\"{duration} days\",\n",
    "                \"Start Date\": start_date.strftime(\"%Y-%m-%d\"),\n",
    "                \"End Date\": end_date.strftime(\"%Y-%m-%d\"),\n",
    "                \"Resource Names\": resource_name\n",
    "            })\n",
    "\n",
    "    return project_plan"
   ]
  },
  {
   "cell_type": "code",
   "execution_count": 114,
   "id": "43baccc8-6b04-43de-8e34-9464ce2a3f1e",
   "metadata": {
    "tags": []
   },
   "outputs": [],
   "source": [
    "project_plan = build_project_plan(task_list)\n",
    "\n",
    "# Convert project plan to DataFrame for easier handling and to save to Excel\n",
    "df_project_plan = pd.DataFrame(project_plan)"
   ]
  },
  {
   "cell_type": "code",
   "execution_count": 115,
   "id": "4d36d050-f638-425c-a358-2a45b5078b15",
   "metadata": {
    "tags": []
   },
   "outputs": [
    {
     "data": {
      "text/plain": [
       "(159, 7)"
      ]
     },
     "execution_count": 115,
     "metadata": {},
     "output_type": "execute_result"
    }
   ],
   "source": [
    "df_project_plan.shape"
   ]
  },
  {
   "cell_type": "code",
   "execution_count": 108,
   "id": "f7330c77-3d10-45df-9f73-bfda36c2f69a",
   "metadata": {
    "tags": []
   },
   "outputs": [
    {
     "data": {
      "text/html": [
       "<div>\n",
       "<style scoped>\n",
       "    .dataframe tbody tr th:only-of-type {\n",
       "        vertical-align: middle;\n",
       "    }\n",
       "\n",
       "    .dataframe tbody tr th {\n",
       "        vertical-align: top;\n",
       "    }\n",
       "\n",
       "    .dataframe thead th {\n",
       "        text-align: right;\n",
       "    }\n",
       "</style>\n",
       "<table border=\"1\" class=\"dataframe\">\n",
       "  <thead>\n",
       "    <tr style=\"text-align: right;\">\n",
       "      <th></th>\n",
       "      <th>Phase</th>\n",
       "      <th>Task Name</th>\n",
       "      <th>Task Description</th>\n",
       "      <th>Duration</th>\n",
       "      <th>Start Date</th>\n",
       "      <th>End Date</th>\n",
       "      <th>Percentage_completion</th>\n",
       "      <th>Resource Names</th>\n",
       "    </tr>\n",
       "  </thead>\n",
       "  <tbody>\n",
       "    <tr>\n",
       "      <th>0</th>\n",
       "      <td>Project Initiation</td>\n",
       "      <td>Kick-off Meeting:</td>\n",
       "      <td>- **Kick-off Meeting:**</td>\n",
       "      <td>2 days</td>\n",
       "      <td>2024-10-24</td>\n",
       "      <td>2024-10-26</td>\n",
       "      <td>0</td>\n",
       "      <td>Oracle-Client</td>\n",
       "    </tr>\n",
       "    <tr>\n",
       "      <th>1</th>\n",
       "      <td>Project Initiation</td>\n",
       "      <td>- Introduce the project team members and stake...</td>\n",
       "      <td>- Introduce the project team members and stake...</td>\n",
       "      <td>10 days</td>\n",
       "      <td>2024-11-08</td>\n",
       "      <td>2024-11-18</td>\n",
       "      <td>0</td>\n",
       "      <td>Oracle-Client</td>\n",
       "    </tr>\n",
       "    <tr>\n",
       "      <th>2</th>\n",
       "      <td>Project Initiation</td>\n",
       "      <td>- Review the project objectives, scope, and ti...</td>\n",
       "      <td>- Review the project objectives, scope, and ti...</td>\n",
       "      <td>7 days</td>\n",
       "      <td>2024-10-27</td>\n",
       "      <td>2024-11-03</td>\n",
       "      <td>0</td>\n",
       "      <td>Oracle-Client</td>\n",
       "    </tr>\n",
       "    <tr>\n",
       "      <th>3</th>\n",
       "      <td>Project Initiation</td>\n",
       "      <td>- Discuss the overall project plan and next st...</td>\n",
       "      <td>- Discuss the overall project plan and next st...</td>\n",
       "      <td>8 days</td>\n",
       "      <td>2024-11-01</td>\n",
       "      <td>2024-11-09</td>\n",
       "      <td>0</td>\n",
       "      <td>Client</td>\n",
       "    </tr>\n",
       "    <tr>\n",
       "      <th>4</th>\n",
       "      <td>Project Initiation</td>\n",
       "      <td>Requirement Gathering:</td>\n",
       "      <td>- **Requirement Gathering:**</td>\n",
       "      <td>10 days</td>\n",
       "      <td>2024-11-21</td>\n",
       "      <td>2024-12-01</td>\n",
       "      <td>0</td>\n",
       "      <td>Oracle-Client</td>\n",
       "    </tr>\n",
       "  </tbody>\n",
       "</table>\n",
       "</div>"
      ],
      "text/plain": [
       "                Phase                                          Task Name  \\\n",
       "0  Project Initiation                                  Kick-off Meeting:   \n",
       "1  Project Initiation  - Introduce the project team members and stake...   \n",
       "2  Project Initiation  - Review the project objectives, scope, and ti...   \n",
       "3  Project Initiation  - Discuss the overall project plan and next st...   \n",
       "4  Project Initiation                             Requirement Gathering:   \n",
       "\n",
       "                                    Task Description Duration  Start Date  \\\n",
       "0                            - **Kick-off Meeting:**   2 days  2024-10-24   \n",
       "1  - Introduce the project team members and stake...  10 days  2024-11-08   \n",
       "2  - Review the project objectives, scope, and ti...   7 days  2024-10-27   \n",
       "3  - Discuss the overall project plan and next st...   8 days  2024-11-01   \n",
       "4                       - **Requirement Gathering:**  10 days  2024-11-21   \n",
       "\n",
       "     End Date  Percentage_completion Resource Names  \n",
       "0  2024-10-26                      0  Oracle-Client  \n",
       "1  2024-11-18                      0  Oracle-Client  \n",
       "2  2024-11-03                      0  Oracle-Client  \n",
       "3  2024-11-09                      0         Client  \n",
       "4  2024-12-01                      0  Oracle-Client  "
      ]
     },
     "execution_count": 108,
     "metadata": {},
     "output_type": "execute_result"
    }
   ],
   "source": [
    "df_project_plan.head()"
   ]
  },
  {
   "cell_type": "code",
   "execution_count": 116,
   "id": "01f190ee-d3e0-4b2f-82eb-e7c9d36b952d",
   "metadata": {
    "tags": []
   },
   "outputs": [],
   "source": [
    "# Define your Object Storage details\n",
    "namespace_name = \"gc35013\"\n",
    "compartment_id = \"ocid1.compartment.oc1..aaaaaaaaretksgipt3jgwfpzgh4ijyw54uynyfviaxs5li4wtl744fj4fi3q\"\n",
    "bucket_name = \"ECHO\"\n",
    "folder_path = \"PROJECT_SPEAK_MATE/DELIVERY_DOCS\"\n",
    "config = oci.config.from_file(\"config\", \"DEFAULT\")\n",
    "object_storage_client = oci.object_storage.ObjectStorageClient(config)"
   ]
  },
  {
   "cell_type": "code",
   "execution_count": 117,
   "id": "fb111ecc-ee6a-4eb2-a32a-310c640d4951",
   "metadata": {
    "tags": []
   },
   "outputs": [
    {
     "name": "stdout",
     "output_type": "stream",
     "text": [
      "Project plan successfully uploaded to Object Storage at: PROJECT_SPEAK_MATE/DELIVERY_DOCS/updated_project_plan.xlsx\n"
     ]
    }
   ],
   "source": [
    "output_stream = io.BytesIO()\n",
    "df_project_plan.to_excel(output_stream, index=False)\n",
    "output_stream.seek(0)\n",
    "\n",
    "# Upload to Object Storage\n",
    "object_name = f\"{folder_path}/updated_project_plan.xlsx\"\n",
    "response = object_storage_client.put_object(\n",
    "    namespace_name=namespace_name,\n",
    "    bucket_name=bucket_name,\n",
    "    object_name=object_name,\n",
    "    put_object_body=output_stream\n",
    ")\n",
    "\n",
    "print(f\"Project plan successfully uploaded to Object Storage at: {object_name}\")"
   ]
  }
 ],
 "metadata": {
  "kernelspec": {
   "display_name": "Python 3 (ipykernel)",
   "language": "python",
   "name": "python3"
  },
  "language_info": {
   "codemirror_mode": {
    "name": "ipython",
    "version": 3
   },
   "file_extension": ".py",
   "mimetype": "text/x-python",
   "name": "python",
   "nbconvert_exporter": "python",
   "pygments_lexer": "ipython3",
   "version": "3.11.9"
  }
 },
 "nbformat": 4,
 "nbformat_minor": 5
}
