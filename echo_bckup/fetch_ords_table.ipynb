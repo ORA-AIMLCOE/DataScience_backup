{
 "cells": [
  {
   "cell_type": "markdown",
   "id": "4ee7faa6-2a86-466d-8232-36aa6f8d1a94",
   "metadata": {},
   "source": [
    "### OCI Data Science - Useful Tips\n",
    "<details>\n",
    "<summary><font size=\"2\">Check for Public Internet Access</font></summary>\n",
    "\n",
    "```python\n",
    "import requests\n",
    "response = requests.get(\"https://oracle.com\")\n",
    "assert response.status_code==200, \"Internet connection failed\"\n",
    "```\n",
    "</details>\n",
    "<details>\n",
    "<summary><font size=\"2\">Helpful Documentation </font></summary>\n",
    "<ul><li><a href=\"https://docs.cloud.oracle.com/en-us/iaas/data-science/using/data-science.htm\">Data Science Service Documentation</a></li>\n",
    "<li><a href=\"https://docs.cloud.oracle.com/iaas/tools/ads-sdk/latest/index.html\">ADS documentation</a></li>\n",
    "</ul>\n",
    "</details>\n",
    "<details>\n",
    "<summary><font size=\"2\">Typical Cell Imports and Settings for ADS</font></summary>\n",
    "\n",
    "```python\n",
    "%load_ext autoreload\n",
    "%autoreload 2\n",
    "%matplotlib inline\n",
    "\n",
    "import warnings\n",
    "warnings.filterwarnings('ignore')\n",
    "\n",
    "import logging\n",
    "logging.basicConfig(format='%(levelname)s:%(message)s', level=logging.ERROR)\n",
    "\n",
    "import ads\n",
    "from ads.dataset.factory import DatasetFactory\n",
    "from ads.automl.provider import OracleAutoMLProvider\n",
    "from ads.automl.driver import AutoML\n",
    "from ads.evaluations.evaluator import ADSEvaluator\n",
    "from ads.common.data import ADSData\n",
    "from ads.explanations.explainer import ADSExplainer\n",
    "from ads.explanations.mlx_global_explainer import MLXGlobalExplainer\n",
    "from ads.explanations.mlx_local_explainer import MLXLocalExplainer\n",
    "from ads.catalog.model import ModelCatalog\n",
    "from ads.common.model_artifact import ModelArtifact\n",
    "```\n",
    "</details>\n",
    "<details>\n",
    "<summary><font size=\"2\">Useful Environment Variables</font></summary>\n",
    "\n",
    "```python\n",
    "import os\n",
    "print(os.environ[\"NB_SESSION_COMPARTMENT_OCID\"])\n",
    "print(os.environ[\"PROJECT_OCID\"])\n",
    "print(os.environ[\"USER_OCID\"])\n",
    "print(os.environ[\"TENANCY_OCID\"])\n",
    "print(os.environ[\"NB_REGION\"])\n",
    "```\n",
    "</details>"
   ]
  },
  {
   "cell_type": "code",
   "execution_count": 3,
   "id": "d44ec341-5cf5-4226-b0ca-d6763abb9dda",
   "metadata": {
    "tags": []
   },
   "outputs": [
    {
     "name": "stdout",
     "output_type": "stream",
     "text": [
      "Fetched Data:\n",
      "                                         productname  price  \\\n",
      "0  Oracle Autonomous Data Warehouse on Dedicated ...   0.34   \n",
      "1  Oracle Autonomous Data Warehouse on Dedicated ...   0.08   \n",
      "2  Oracle Autonomous Transaction Processing on De...   0.34   \n",
      "3  Oracle Autonomous Transaction Processing on De...   0.08   \n",
      "4  Oracle Autonomous Database on Dedicated Exadat...  14.52   \n",
      "\n",
      "  universal_credits_minimums minimum_universal_credits_details   payasyougo  \\\n",
      "0                       .336                     ECPU Per Hour  Always Free   \n",
      "1                      .0807                     ECPU Per Hour  Always Free   \n",
      "2                       .336                     ECPU Per Hour  Always Free   \n",
      "3                      .0807                     ECPU Per Hour  Always Free   \n",
      "4                    14.5162       Hosted Environment Per Hour  Always Free   \n",
      "\n",
      "    annualflex                       metric  \\\n",
      "0  Always Free                ECPU Per Hour   \n",
      "1  Always Free                ECPU Per Hour   \n",
      "2  Always Free                ECPU Per Hour   \n",
      "3  Always Free                ECPU Per Hour   \n",
      "4  Always Free  Hosted Environment Per Hour   \n",
      "\n",
      "                               additionalinformation notes part_number  \\\n",
      "0  Partial ECPU hours consumed are billed per sec...     1      895712   \n",
      "1  Partial ECPU hours consumed are billed per sec...     1      895714   \n",
      "2  Partial ECPU hours consumed are billed per sec...     1      895713   \n",
      "3  Partial ECPU hours consumed are billed per sec...     1      895715   \n",
      "4  Zero (0) OCPUs enabled. 149 terabytes of usabl...     1      B91535   \n",
      "\n",
      "  product_other_names  \n",
      "0                None  \n",
      "1                None  \n",
      "2                None  \n",
      "3                None  \n",
      "4                None  \n",
      "Data saved to ords_table_data.csv\n"
     ]
    }
   ],
   "source": [
    "import requests\n",
    "import pandas as pd\n",
    "\n",
    "# ORDS credentials and endpoint (Replace with your actual values)\n",
    "ORDS_USERNAME = \"INTEGRATION_USER\"\n",
    "ORDS_PASSWORD = \"ORA@ora123456\"\n",
    "ORDS_ENDPOINT = \"https://xc1jkwmwg759api-apexsolutions.adb.us-ashburn-1.oraclecloudapps.com/ords/echo/ECHO/getProductPricing\"\n",
    "\n",
    "def fetch_ords_table_data(ords_endpoint, username, password):\n",
    "    try:\n",
    "        # Make a GET request to the ORDS endpoint\n",
    "        response = requests.get(ords_endpoint, auth=(username, password))\n",
    "\n",
    "        # Check if the request was successful\n",
    "        if response.status_code != 200:\n",
    "            print(f\"Failed to fetch data from ORDS. Status Code: {response.status_code}\")\n",
    "            print(response.text)\n",
    "            return None\n",
    "\n",
    "        # Parse the JSON response\n",
    "        data = response.json()\n",
    "        rows = data.get('items', [])  # Extract the 'items' key where data resides\n",
    "\n",
    "        # Convert to a Pandas DataFrame\n",
    "        df = pd.DataFrame(rows)\n",
    "        print(\"Fetched Data:\")\n",
    "        print(df.head())  # Display the first few rows\n",
    "\n",
    "        # Save the data to a CSV file\n",
    "        df.to_csv(\"ords_table_data.csv\", index=False)\n",
    "        print(\"Data saved to ords_table_data.csv\")\n",
    "\n",
    "        return df\n",
    "\n",
    "    except Exception as e:\n",
    "        print(f\"An error occurred: {e}\")\n",
    "\n",
    "# Usage\n",
    "if __name__ == \"__main__\":\n",
    "    df = fetch_ords_table_data(ORDS_ENDPOINT, ORDS_USERNAME, ORDS_PASSWORD)\n"
   ]
  },
  {
   "cell_type": "code",
   "execution_count": 4,
   "id": "8d3cefe2-f251-42fc-8839-d6260bb487f6",
   "metadata": {
    "tags": []
   },
   "outputs": [
    {
     "data": {
      "text/plain": [
       "(386, 11)"
      ]
     },
     "execution_count": 4,
     "metadata": {},
     "output_type": "execute_result"
    }
   ],
   "source": [
    "df.shape"
   ]
  }
 ],
 "metadata": {
  "kernelspec": {
   "display_name": "Python 3 (ipykernel)",
   "language": "python",
   "name": "python3"
  },
  "language_info": {
   "codemirror_mode": {
    "name": "ipython",
    "version": 3
   },
   "file_extension": ".py",
   "mimetype": "text/x-python",
   "name": "python",
   "nbconvert_exporter": "python",
   "pygments_lexer": "ipython3",
   "version": "3.8.19"
  }
 },
 "nbformat": 4,
 "nbformat_minor": 5
}
