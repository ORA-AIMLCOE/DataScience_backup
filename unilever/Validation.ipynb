{
 "cells": [
  {
   "cell_type": "markdown",
   "id": "d4e32ce3-98a3-4e14-83fc-7672658f8af4",
   "metadata": {},
   "source": [
    "### OCI Data Science - Useful Tips\n",
    "<details>\n",
    "<summary><font size=\"2\">Check for Public Internet Access</font></summary>\n",
    "\n",
    "```python\n",
    "import requests\n",
    "response = requests.get(\"https://oracle.com\")\n",
    "assert response.status_code==200, \"Internet connection failed\"\n",
    "```\n",
    "</details>\n",
    "<details>\n",
    "<summary><font size=\"2\">Helpful Documentation </font></summary>\n",
    "<ul><li><a href=\"https://docs.cloud.oracle.com/en-us/iaas/data-science/using/data-science.htm\">Data Science Service Documentation</a></li>\n",
    "<li><a href=\"https://docs.cloud.oracle.com/iaas/tools/ads-sdk/latest/index.html\">ADS documentation</a></li>\n",
    "</ul>\n",
    "</details>\n",
    "<details>\n",
    "<summary><font size=\"2\">Typical Cell Imports and Settings for ADS</font></summary>\n",
    "\n",
    "```python\n",
    "%load_ext autoreload\n",
    "%autoreload 2\n",
    "%matplotlib inline\n",
    "\n",
    "import warnings\n",
    "warnings.filterwarnings('ignore')\n",
    "\n",
    "import logging\n",
    "logging.basicConfig(format='%(levelname)s:%(message)s', level=logging.ERROR)\n",
    "\n",
    "import ads\n",
    "from ads.dataset.factory import DatasetFactory\n",
    "from ads.automl.provider import OracleAutoMLProvider\n",
    "from ads.automl.driver import AutoML\n",
    "from ads.evaluations.evaluator import ADSEvaluator\n",
    "from ads.common.data import ADSData\n",
    "from ads.explanations.explainer import ADSExplainer\n",
    "from ads.explanations.mlx_global_explainer import MLXGlobalExplainer\n",
    "from ads.explanations.mlx_local_explainer import MLXLocalExplainer\n",
    "from ads.catalog.model import ModelCatalog\n",
    "from ads.common.model_artifact import ModelArtifact\n",
    "```\n",
    "</details>\n",
    "<details>\n",
    "<summary><font size=\"2\">Useful Environment Variables</font></summary>\n",
    "\n",
    "```python\n",
    "import os\n",
    "print(os.environ[\"NB_SESSION_COMPARTMENT_OCID\"])\n",
    "print(os.environ[\"PROJECT_OCID\"])\n",
    "print(os.environ[\"USER_OCID\"])\n",
    "print(os.environ[\"TENANCY_OCID\"])\n",
    "print(os.environ[\"NB_REGION\"])\n",
    "```\n",
    "</details>"
   ]
  },
  {
   "cell_type": "markdown",
   "id": "af706cab-9342-4fe1-8a27-6834c36f99b5",
   "metadata": {},
   "source": [
    "#### Validation for header devation concept"
   ]
  },
  {
   "cell_type": "code",
   "execution_count": 30,
   "id": "059239b7-9d8e-448e-af6d-dc0afee9d184",
   "metadata": {
    "tags": []
   },
   "outputs": [],
   "source": [
    "# importing the required packages\n",
    "import pandas as pd\n",
    "import numpy as np"
   ]
  },
  {
   "cell_type": "code",
   "execution_count": 31,
   "id": "f59a9f3c-dcab-4f2c-9dca-0fbc6b3ee0b0",
   "metadata": {
    "tags": []
   },
   "outputs": [],
   "source": [
    "import warnings\n",
    "warnings.filterwarnings('ignore')"
   ]
  },
  {
   "cell_type": "code",
   "execution_count": 32,
   "id": "9b12f461-329a-42a5-8bb1-059ef3a1afc6",
   "metadata": {
    "tags": []
   },
   "outputs": [],
   "source": [
    "# read the data\n",
    "df_4 = pd.read_csv(r'validation.csv')"
   ]
  },
  {
   "cell_type": "code",
   "execution_count": 5,
   "id": "9f806fc1-0d47-445e-8d3b-badc16f7bc10",
   "metadata": {
    "tags": []
   },
   "outputs": [
    {
     "data": {
      "text/html": [
       "<div>\n",
       "<style scoped>\n",
       "    .dataframe tbody tr th:only-of-type {\n",
       "        vertical-align: middle;\n",
       "    }\n",
       "\n",
       "    .dataframe tbody tr th {\n",
       "        vertical-align: top;\n",
       "    }\n",
       "\n",
       "    .dataframe thead th {\n",
       "        text-align: right;\n",
       "    }\n",
       "</style>\n",
       "<table border=\"1\" class=\"dataframe\">\n",
       "  <thead>\n",
       "    <tr style=\"text-align: right;\">\n",
       "      <th></th>\n",
       "      <th>P_INV_START_DATE</th>\n",
       "      <th>P_INV_END_DATE</th>\n",
       "      <th>INVOICE_ID</th>\n",
       "      <th>INV</th>\n",
       "      <th>LANE_ID</th>\n",
       "      <th>CURRENCY</th>\n",
       "      <th>LOADING_DATE</th>\n",
       "      <th>INVOICE_DATE</th>\n",
       "      <th>BL_NUMBER</th>\n",
       "      <th>CARRIER</th>\n",
       "      <th>...</th>\n",
       "      <th>RATE_OFFERING_ID</th>\n",
       "      <th>INV_UNIT_PRICE</th>\n",
       "      <th>RATE_CURR</th>\n",
       "      <th>FOURTY_FEET_RATE_RECORD_ID</th>\n",
       "      <th>ASSIGNED_USER</th>\n",
       "      <th>INV_COMMENTS</th>\n",
       "      <th>L_INV_LINE_COMMENTS</th>\n",
       "      <th>CONTRACT_NO</th>\n",
       "      <th>INV_REASON_CODE</th>\n",
       "      <th>INV_CATEGORY</th>\n",
       "    </tr>\n",
       "  </thead>\n",
       "  <tbody>\n",
       "    <tr>\n",
       "      <th>0</th>\n",
       "      <td>1/1/2023</td>\n",
       "      <td>30-04-2023</td>\n",
       "      <td>HLCU-BSC2112AZSG4-2138011963</td>\n",
       "      <td>2138011963</td>\n",
       "      <td>USORF-PKKHI-DRY</td>\n",
       "      <td>PKR</td>\n",
       "      <td>12/31/2021</td>\n",
       "      <td>1/31/2022</td>\n",
       "      <td>BSC2112AZSG4</td>\n",
       "      <td>HLCU</td>\n",
       "      <td>...</td>\n",
       "      <td>NaN</td>\n",
       "      <td>25.0</td>\n",
       "      <td>NaN</td>\n",
       "      <td>NaN</td>\n",
       "      <td>NaN</td>\n",
       "      <td>NaN</td>\n",
       "      <td>NaN</td>\n",
       "      <td>NaN</td>\n",
       "      <td>NaN</td>\n",
       "      <td>NaN</td>\n",
       "    </tr>\n",
       "    <tr>\n",
       "      <th>1</th>\n",
       "      <td>1/5/2023</td>\n",
       "      <td>31-08-2023</td>\n",
       "      <td>MSCU-MEDUV8289492-DI157324</td>\n",
       "      <td>DI157324</td>\n",
       "      <td>ESALG-ZADUR-REEFER</td>\n",
       "      <td>ZAR</td>\n",
       "      <td>1/16/2023</td>\n",
       "      <td>2/17/2023</td>\n",
       "      <td>MEDUV8289492</td>\n",
       "      <td>MSCU</td>\n",
       "      <td>...</td>\n",
       "      <td>RO_MSCU_V1</td>\n",
       "      <td>NaN</td>\n",
       "      <td>USD</td>\n",
       "      <td>RR_MSCU_PTLIS-ZADUR-REEFER_MINI_141122</td>\n",
       "      <td>NaN</td>\n",
       "      <td>NaN</td>\n",
       "      <td>NaN</td>\n",
       "      <td>NaN</td>\n",
       "      <td>NaN</td>\n",
       "      <td>NaN</td>\n",
       "    </tr>\n",
       "    <tr>\n",
       "      <th>2</th>\n",
       "      <td>01-09-2023</td>\n",
       "      <td>31-12-2023</td>\n",
       "      <td>CMCU-JAXS3M078265-JAXS3M078265</td>\n",
       "      <td>JAXS3M078265</td>\n",
       "      <td>USPHL-PRSJU-DRY</td>\n",
       "      <td>USD</td>\n",
       "      <td>2023-08-24</td>\n",
       "      <td>2023-08-25</td>\n",
       "      <td>JAXS3M078265</td>\n",
       "      <td>CMCU</td>\n",
       "      <td>...</td>\n",
       "      <td>NaN</td>\n",
       "      <td>82.0</td>\n",
       "      <td>NaN</td>\n",
       "      <td>NaN</td>\n",
       "      <td>NaN</td>\n",
       "      <td>NaN</td>\n",
       "      <td>NaN</td>\n",
       "      <td>NaN</td>\n",
       "      <td>NaN</td>\n",
       "      <td>NaN</td>\n",
       "    </tr>\n",
       "    <tr>\n",
       "      <th>3</th>\n",
       "      <td>1/1/2023</td>\n",
       "      <td>30-04-2023</td>\n",
       "      <td>OOLU-2701363570-4163830711</td>\n",
       "      <td>4163830711</td>\n",
       "      <td>IDJKT-MYPKG-DRY</td>\n",
       "      <td>IDR</td>\n",
       "      <td>6/26/2022</td>\n",
       "      <td>6/28/2022</td>\n",
       "      <td>2701363570</td>\n",
       "      <td>OOLU</td>\n",
       "      <td>...</td>\n",
       "      <td>RO_OOLU_V1</td>\n",
       "      <td>145.0</td>\n",
       "      <td>USD</td>\n",
       "      <td>RR_OOLU_IDJKT-MYPKG-DRY_MAIN_010721</td>\n",
       "      <td>NaN</td>\n",
       "      <td>NaN</td>\n",
       "      <td>NaN</td>\n",
       "      <td>GW210021v038</td>\n",
       "      <td>NaN</td>\n",
       "      <td>NaN</td>\n",
       "    </tr>\n",
       "    <tr>\n",
       "      <th>4</th>\n",
       "      <td>01-01-2024</td>\n",
       "      <td>29-02-2024</td>\n",
       "      <td>HLCU-SYD231047907-2070014418</td>\n",
       "      <td>2070014418</td>\n",
       "      <td>AUSYD-HKHKG-DRY</td>\n",
       "      <td>HKD</td>\n",
       "      <td>2024-01-01</td>\n",
       "      <td>2024-02-02</td>\n",
       "      <td>SYD231047907</td>\n",
       "      <td>HLCU</td>\n",
       "      <td>...</td>\n",
       "      <td>RO_HLCU_V1</td>\n",
       "      <td>200.0</td>\n",
       "      <td>USD</td>\n",
       "      <td>RR_HLCU_AUSYD-HKHKG-DRY_40_MAIN_010723</td>\n",
       "      <td>NaN</td>\n",
       "      <td>NaN</td>\n",
       "      <td>NaN</td>\n",
       "      <td>NaN</td>\n",
       "      <td>NaN</td>\n",
       "      <td>NaN</td>\n",
       "    </tr>\n",
       "  </tbody>\n",
       "</table>\n",
       "<p>5 rows × 79 columns</p>\n",
       "</div>"
      ],
      "text/plain": [
       "  P_INV_START_DATE P_INV_END_DATE                      INVOICE_ID  \\\n",
       "0         1/1/2023     30-04-2023    HLCU-BSC2112AZSG4-2138011963   \n",
       "1         1/5/2023     31-08-2023      MSCU-MEDUV8289492-DI157324   \n",
       "2       01-09-2023     31-12-2023  CMCU-JAXS3M078265-JAXS3M078265   \n",
       "3         1/1/2023     30-04-2023      OOLU-2701363570-4163830711   \n",
       "4       01-01-2024     29-02-2024    HLCU-SYD231047907-2070014418   \n",
       "\n",
       "            INV             LANE_ID CURRENCY LOADING_DATE INVOICE_DATE  \\\n",
       "0    2138011963     USORF-PKKHI-DRY      PKR   12/31/2021    1/31/2022   \n",
       "1      DI157324  ESALG-ZADUR-REEFER      ZAR    1/16/2023    2/17/2023   \n",
       "2  JAXS3M078265     USPHL-PRSJU-DRY      USD   2023-08-24   2023-08-25   \n",
       "3    4163830711     IDJKT-MYPKG-DRY      IDR    6/26/2022    6/28/2022   \n",
       "4    2070014418     AUSYD-HKHKG-DRY      HKD   2024-01-01   2024-02-02   \n",
       "\n",
       "      BL_NUMBER CARRIER  ... RATE_OFFERING_ID INV_UNIT_PRICE RATE_CURR  \\\n",
       "0  BSC2112AZSG4    HLCU  ...              NaN           25.0       NaN   \n",
       "1  MEDUV8289492    MSCU  ...       RO_MSCU_V1            NaN       USD   \n",
       "2  JAXS3M078265    CMCU  ...              NaN           82.0       NaN   \n",
       "3    2701363570    OOLU  ...       RO_OOLU_V1          145.0       USD   \n",
       "4  SYD231047907    HLCU  ...       RO_HLCU_V1          200.0       USD   \n",
       "\n",
       "               FOURTY_FEET_RATE_RECORD_ID ASSIGNED_USER  INV_COMMENTS  \\\n",
       "0                                     NaN           NaN           NaN   \n",
       "1  RR_MSCU_PTLIS-ZADUR-REEFER_MINI_141122           NaN           NaN   \n",
       "2                                     NaN           NaN           NaN   \n",
       "3     RR_OOLU_IDJKT-MYPKG-DRY_MAIN_010721           NaN           NaN   \n",
       "4  RR_HLCU_AUSYD-HKHKG-DRY_40_MAIN_010723           NaN           NaN   \n",
       "\n",
       "   L_INV_LINE_COMMENTS   CONTRACT_NO INV_REASON_CODE INV_CATEGORY  \n",
       "0                  NaN           NaN             NaN          NaN  \n",
       "1                  NaN           NaN             NaN          NaN  \n",
       "2                  NaN           NaN             NaN          NaN  \n",
       "3                  NaN  GW210021v038             NaN          NaN  \n",
       "4                  NaN           NaN             NaN          NaN  \n",
       "\n",
       "[5 rows x 79 columns]"
      ]
     },
     "execution_count": 5,
     "metadata": {},
     "output_type": "execute_result"
    }
   ],
   "source": [
    "df_4.head()"
   ]
  },
  {
   "cell_type": "code",
   "execution_count": 4,
   "id": "a31dc141-9571-4ded-92cb-8eb1d7c2bb89",
   "metadata": {
    "tags": []
   },
   "outputs": [
    {
     "data": {
      "text/plain": [
       "(33066, 79)"
      ]
     },
     "execution_count": 4,
     "metadata": {},
     "output_type": "execute_result"
    }
   ],
   "source": [
    "df_4.shape"
   ]
  },
  {
   "cell_type": "code",
   "execution_count": 5,
   "id": "cdeec22f-8861-4ac3-b58f-913b1a9e5ec1",
   "metadata": {
    "tags": []
   },
   "outputs": [],
   "source": [
    "# taking the final dataframe\n",
    "df_for_modeling = df_4[['H_EXCESS_FREIGHT_EUR','REFUND_EUR','NO_OF_CONTAINERS','QUANTITY','INV_LINE_TOTAL','INV_LINE_TOTAL_EUR',\n",
    "                             'RATE_UNIT_PRICE','RLINE_TOTAL','RLINE_TOTAL_EUR','L_EXCESS_FREIGHT_EUR','INVOICE_ID','LANE_ID','CURRENCY','CARRIER','POL','POD','AMOUNT_DUE','AUDIT_STATUS','INVOICE_TYPE','RATETYPE',\n",
    "                                 'CALCTYPE','ALTCARRIER','CODE','INV_UNIT_PRICE','ILINE_CURR','ALTLANE_FLAG','CARRIER_NAME','INVOICE_SOURCE','H_TOTAL_DEVIATION']]"
   ]
  },
  {
   "cell_type": "code",
   "execution_count": 8,
   "id": "3d9c40e8-47ca-48e0-a119-13e2ee7bb73d",
   "metadata": {
    "tags": []
   },
   "outputs": [
    {
     "data": {
      "text/plain": [
       "H_EXCESS_FREIGHT_EUR        1\n",
       "REFUND_EUR                  1\n",
       "NO_OF_CONTAINERS          529\n",
       "QUANTITY                    7\n",
       "INV_LINE_TOTAL              2\n",
       "INV_LINE_TOTAL_EUR          1\n",
       "RATE_UNIT_PRICE             1\n",
       "RLINE_TOTAL                 1\n",
       "RLINE_TOTAL_EUR             1\n",
       "L_EXCESS_FREIGHT_EUR        1\n",
       "INVOICE_ID                  1\n",
       "LANE_ID                     8\n",
       "CURRENCY                    1\n",
       "CARRIER                     1\n",
       "POL                         1\n",
       "POD                         1\n",
       "AMOUNT_DUE                  1\n",
       "AUDIT_STATUS               10\n",
       "INVOICE_TYPE                9\n",
       "RATETYPE                    9\n",
       "CALCTYPE                    9\n",
       "ALTCARRIER              27273\n",
       "CODE                        1\n",
       "INV_UNIT_PRICE           8385\n",
       "ILINE_CURR                  2\n",
       "ALTLANE_FLAG                1\n",
       "CARRIER_NAME                1\n",
       "INVOICE_SOURCE             15\n",
       "H_TOTAL_DEVIATION           1\n",
       "dtype: int64"
      ]
     },
     "execution_count": 8,
     "metadata": {},
     "output_type": "execute_result"
    }
   ],
   "source": [
    "df_for_modeling.isnull().sum()"
   ]
  },
  {
   "cell_type": "code",
   "execution_count": 6,
   "id": "7afd417c-3503-4856-adbc-04c43c6925d1",
   "metadata": {
    "tags": []
   },
   "outputs": [],
   "source": [
    "# remove 'ALTCARRIER','INV_UNIT_PRICE' since there are many null values.\n",
    "df_for_modeling.drop(columns = ['ALTCARRIER','INV_UNIT_PRICE','LANE_ID'], inplace = True)"
   ]
  },
  {
   "cell_type": "code",
   "execution_count": 7,
   "id": "af9f97a3-4b74-4dd1-9bfe-80f3363d21ef",
   "metadata": {
    "tags": []
   },
   "outputs": [],
   "source": [
    "# Extract numeric values from strings using a regular expression\n",
    "df_for_modeling['amount_numeric'] = df_for_modeling['AMOUNT_DUE'].str.extract(r'(\\d+\\.\\d+)').astype(float)"
   ]
  },
  {
   "cell_type": "code",
   "execution_count": 8,
   "id": "586e508f-b51f-422a-94d0-67b06bd7ee45",
   "metadata": {
    "tags": []
   },
   "outputs": [],
   "source": [
    "df_for_modeling['H_TOTAL_DEVIATION'] = df_for_modeling['H_TOTAL_DEVIATION'].str.extract(r'([-]?\\d+\\.\\d+)').astype(float)"
   ]
  },
  {
   "cell_type": "code",
   "execution_count": 9,
   "id": "f1200d86-fdb2-40b9-826b-105c7635aecc",
   "metadata": {
    "tags": []
   },
   "outputs": [],
   "source": [
    "# consider only these contract charges OCF, BAF, DTHC, OTHC for both 20ft & 40ft\n",
    "df_for_modeling = df_for_modeling[(df_for_modeling['CODE'] == 'OCF_40')|(df_for_modeling['CODE'] == 'OCF_20') | (df_for_modeling['CODE'] == 'BAF_40') |(df_for_modeling['CODE'] == 'BAF_20') | (df_for_modeling['CODE'] == 'DTHC_40') |(df_for_modeling['CODE'] == 'DTHC_20') | (df_for_modeling['CODE'] == 'OTHC_40') | (df_for_modeling['CODE'] == 'OTHC_20')]"
   ]
  },
  {
   "cell_type": "code",
   "execution_count": 10,
   "id": "3085992d-d0c8-4101-9055-5c9540b84382",
   "metadata": {
    "tags": []
   },
   "outputs": [],
   "source": [
    "df_for_modeling.drop_duplicates(subset = 'INVOICE_ID', keep = 'first',inplace = True)"
   ]
  },
  {
   "cell_type": "code",
   "execution_count": 11,
   "id": "f1f2e3ac-0893-4582-8a89-a69c8e2bc232",
   "metadata": {
    "tags": []
   },
   "outputs": [],
   "source": [
    "# drop the invoice id column since it might lead to overfitting of the model\n",
    "df_for_modeling.drop(columns = ['INVOICE_ID','AMOUNT_DUE'], inplace = True)"
   ]
  },
  {
   "cell_type": "code",
   "execution_count": 12,
   "id": "eccdba26-e2d2-4cfd-b427-c0c568d0d635",
   "metadata": {
    "tags": []
   },
   "outputs": [],
   "source": [
    "# deriving the target column from 'H_EXCESS_FREIGHT_EUR', and 'L_EXCESS_FREIGHT_EUR' based on their values\n",
    "conditions = [\n",
    "    (df_for_modeling['H_TOTAL_DEVIATION'] < 0),  # Both negative\n",
    "    (df_for_modeling['H_TOTAL_DEVIATION'] == 0),\n",
    "    (df_for_modeling['H_TOTAL_DEVIATION'] > 0)\n",
    "]\n",
    "choices = ['neg', 'ok', 'pos']\n",
    "\n",
    "# Create the new column based on the conditions and choices\n",
    "df_for_modeling['act_invoice_status'] = np.select(conditions, choices, default='ok')"
   ]
  },
  {
   "cell_type": "code",
   "execution_count": 13,
   "id": "44abc127-66c9-4238-b34e-c7671bc9413d",
   "metadata": {
    "tags": []
   },
   "outputs": [],
   "source": [
    "# Define a mapping dictionary\n",
    "status_mapping = {'ok': 0, 'neg': 1, 'pos': 2}\n",
    "\n",
    "# Replace the categorical values with the defined mapping\n",
    "df_for_modeling['invoice_status_code'] = df_for_modeling['act_invoice_status'].replace(status_mapping)"
   ]
  },
  {
   "cell_type": "code",
   "execution_count": 14,
   "id": "fa7666bc-22e9-42bb-96d0-48929b005c6e",
   "metadata": {
    "tags": []
   },
   "outputs": [],
   "source": [
    "df_for_modeling.drop(columns = ['H_EXCESS_FREIGHT_EUR','L_EXCESS_FREIGHT_EUR','H_TOTAL_DEVIATION','act_invoice_status'], inplace = True)"
   ]
  },
  {
   "cell_type": "code",
   "execution_count": 15,
   "id": "d5bc2bcb-e197-4f32-86c4-f332390b867f",
   "metadata": {
    "tags": []
   },
   "outputs": [
    {
     "data": {
      "text/plain": [
       "(14460, 23)"
      ]
     },
     "execution_count": 15,
     "metadata": {},
     "output_type": "execute_result"
    }
   ],
   "source": [
    "df_for_modeling.shape"
   ]
  },
  {
   "cell_type": "code",
   "execution_count": 52,
   "id": "5bf6230f-1d0a-415b-9535-9f090f97fe55",
   "metadata": {
    "tags": []
   },
   "outputs": [
    {
     "data": {
      "text/plain": [
       "invoice_status_code\n",
       "2    6115\n",
       "1    5463\n",
       "0    2882\n",
       "Name: count, dtype: int64"
      ]
     },
     "execution_count": 52,
     "metadata": {},
     "output_type": "execute_result"
    }
   ],
   "source": [
    "df_for_modeling['invoice_status_code'].value_counts()"
   ]
  },
  {
   "cell_type": "code",
   "execution_count": 53,
   "id": "5133cd5c-b19a-400a-be97-4183a44deaea",
   "metadata": {
    "tags": []
   },
   "outputs": [
    {
     "data": {
      "text/plain": [
       "REFUND_EUR             float64\n",
       "NO_OF_CONTAINERS       float64\n",
       "QUANTITY               float64\n",
       "INV_LINE_TOTAL         float64\n",
       "INV_LINE_TOTAL_EUR     float64\n",
       "RATE_UNIT_PRICE        float64\n",
       "RLINE_TOTAL            float64\n",
       "RLINE_TOTAL_EUR        float64\n",
       "CURRENCY                object\n",
       "CARRIER                 object\n",
       "POL                     object\n",
       "POD                     object\n",
       "AUDIT_STATUS            object\n",
       "INVOICE_TYPE            object\n",
       "RATETYPE                object\n",
       "CALCTYPE                object\n",
       "CODE                    object\n",
       "ILINE_CURR              object\n",
       "ALTLANE_FLAG            object\n",
       "CARRIER_NAME            object\n",
       "INVOICE_SOURCE          object\n",
       "amount_numeric         float64\n",
       "invoice_status_code      int64\n",
       "dtype: object"
      ]
     },
     "execution_count": 53,
     "metadata": {},
     "output_type": "execute_result"
    }
   ],
   "source": [
    "df_for_modeling.dtypes"
   ]
  },
  {
   "cell_type": "code",
   "execution_count": 15,
   "id": "5abfca77-44c3-43fd-b294-f9eddedc6720",
   "metadata": {
    "tags": []
   },
   "outputs": [],
   "source": [
    "# Identify categorical variables. You might want to exclude certain columns that are not useful for modeling.\n",
    "categorical_cols = df_for_modeling.select_dtypes(include=['object']).columns\n",
    "\n",
    "# Apply One-Hot Encoding to these columns\n",
    "df_ohe = pd.get_dummies(df_for_modeling, columns=categorical_cols)"
   ]
  },
  {
   "cell_type": "code",
   "execution_count": 16,
   "id": "14e14d18-9bec-4198-814b-a648e8651ef9",
   "metadata": {
    "tags": []
   },
   "outputs": [],
   "source": [
    "df_ohe.dropna(inplace = True)"
   ]
  },
  {
   "cell_type": "code",
   "execution_count": 58,
   "id": "8f49b6d0-7450-4367-9f54-f832b3907d63",
   "metadata": {
    "tags": []
   },
   "outputs": [
    {
     "data": {
      "text/plain": [
       "0"
      ]
     },
     "execution_count": 58,
     "metadata": {},
     "output_type": "execute_result"
    }
   ],
   "source": [
    "df_ohe['invoice_status_code'].isnull().sum()"
   ]
  },
  {
   "cell_type": "code",
   "execution_count": 17,
   "id": "e4f296fa-716c-47ac-a9de-e69765b5fc07",
   "metadata": {
    "tags": []
   },
   "outputs": [
    {
     "data": {
      "text/plain": [
       "(13497, 698)"
      ]
     },
     "execution_count": 17,
     "metadata": {},
     "output_type": "execute_result"
    }
   ],
   "source": [
    "df_ohe.shape"
   ]
  },
  {
   "cell_type": "code",
   "execution_count": 19,
   "id": "72156f06-3eac-4c52-8fb4-2a928bd2f70e",
   "metadata": {
    "tags": []
   },
   "outputs": [
    {
     "data": {
      "text/plain": [
       "invoice_status_code\n",
       "2    5739\n",
       "1    5214\n",
       "0    2544\n",
       "Name: count, dtype: int64"
      ]
     },
     "execution_count": 19,
     "metadata": {},
     "output_type": "execute_result"
    }
   ],
   "source": [
    "df_ohe['invoice_status_code'].value_counts()"
   ]
  },
  {
   "cell_type": "code",
   "execution_count": 18,
   "id": "e6dd7caa-ca91-4b61-85df-73357063a9c0",
   "metadata": {
    "tags": []
   },
   "outputs": [],
   "source": [
    "from joblib import load\n",
    "header_model = load(r'Inputs/head_dev_classifier.joblib')"
   ]
  },
  {
   "cell_type": "code",
   "execution_count": 29,
   "id": "c0e4f055-5ef4-4220-b42b-6cea3f4f09fd",
   "metadata": {
    "tags": []
   },
   "outputs": [
    {
     "name": "stdout",
     "output_type": "stream",
     "text": [
      "invoice.csv\n",
      "UGOF.UL_INVOICE_PROCESS_REPORT_V1 (3).csv\n",
      "UGOF.UL_INVOICE_PROCESS_REPORT_V1 (4).csv\n",
      "UGOF.UL_INVOICE_PROCESS_REPORT_V1 (5).csv\n",
      "UGOF.UL_INVOICE_PROCESS_REPORT_V1 (6).csv\n"
     ]
    }
   ],
   "source": [
    "!ls"
   ]
  },
  {
   "cell_type": "code",
   "execution_count": 42,
   "id": "2850d7a3-732b-4bea-aeda-82f6fccbbc8e",
   "metadata": {
    "tags": []
   },
   "outputs": [],
   "source": [
    "def align_features(train_df, val_df):\n",
    "    # Add missing dummy columns to validation set\n",
    "    for column in train_df.columns:\n",
    "        if column not in val_df.columns:\n",
    "            val_df[column] = 0\n",
    "    \n",
    "    # Remove extra columns from validation set\n",
    "    for column in val_df.columns:\n",
    "        if column not in train_df.columns:\n",
    "            val_df.drop(column, axis=1, inplace=True)\n",
    "    \n",
    "    # Ensure the order of columns matches the training set\n",
    "    val_df = val_df[train_df.columns]\n",
    "    \n",
    "    return val_df"
   ]
  },
  {
   "cell_type": "code",
   "execution_count": 20,
   "id": "9d702982-dbee-4e2c-8600-c173050cd1cc",
   "metadata": {
    "tags": []
   },
   "outputs": [],
   "source": [
    "df_train = pd.read_csv(r'Inputs/train.csv')"
   ]
  },
  {
   "cell_type": "code",
   "execution_count": 47,
   "id": "76e64578-4217-4bea-a42f-c6b6f5afcc22",
   "metadata": {
    "tags": []
   },
   "outputs": [
    {
     "data": {
      "text/plain": [
       "Index(['Unnamed: 0', 'REFUND_EUR', 'NO_OF_CONTAINERS', 'QUANTITY',\n",
       "       'INV_LINE_TOTAL', 'INV_LINE_TOTAL_EUR', 'RATE_UNIT_PRICE',\n",
       "       'RLINE_TOTAL', 'RLINE_TOTAL_EUR', 'amount_numeric',\n",
       "       ...\n",
       "       'INVOICE_SOURCE_OMPROMPT JUNE - 2023',\n",
       "       'INVOICE_SOURCE_OMPROMPT JUNE 2023', 'INVOICE_SOURCE_OMPROMPT MAY 2023',\n",
       "       'INVOICE_SOURCE_OMPROMPT NOVEMBER 2023',\n",
       "       'INVOICE_SOURCE_OMPROMPT NOVEMBER 2023 RESIDUE',\n",
       "       'INVOICE_SOURCE_OMPROMPT OCT 2023',\n",
       "       'INVOICE_SOURCE_OMPROMPT OCTOBER 2023',\n",
       "       'INVOICE_SOURCE_OMPROMPT PRANAV UPLOAD',\n",
       "       'INVOICE_SOURCE_OMPROMPT Q2 - 2023',\n",
       "       'INVOICE_SOURCE_OMPROMPT SEP 2023'],\n",
       "      dtype='object', length=761)"
      ]
     },
     "execution_count": 47,
     "metadata": {},
     "output_type": "execute_result"
    }
   ],
   "source": [
    "df_train = df_train[['"
   ]
  },
  {
   "cell_type": "code",
   "execution_count": 21,
   "id": "1007e9f1-63be-4505-8fbc-0fd488609d45",
   "metadata": {
    "tags": []
   },
   "outputs": [
    {
     "data": {
      "text/plain": [
       "(35225, 761)"
      ]
     },
     "execution_count": 21,
     "metadata": {},
     "output_type": "execute_result"
    }
   ],
   "source": [
    "df_train.shape"
   ]
  },
  {
   "cell_type": "code",
   "execution_count": 63,
   "id": "8d3e01b6-2524-4b48-845b-085d68dc7acd",
   "metadata": {
    "tags": []
   },
   "outputs": [
    {
     "data": {
      "text/plain": [
       "invoice_status_code\n",
       "2    14173\n",
       "1    13674\n",
       "0     7378\n",
       "Name: count, dtype: int64"
      ]
     },
     "execution_count": 63,
     "metadata": {},
     "output_type": "execute_result"
    }
   ],
   "source": [
    "df_train['invoice_status_code'].value_counts()"
   ]
  },
  {
   "cell_type": "code",
   "execution_count": 22,
   "id": "3baf0627-496f-4a0b-93cf-008af00f3ff5",
   "metadata": {
    "tags": []
   },
   "outputs": [],
   "source": [
    "df_val_processed = align_features(df_train, df_ohe)"
   ]
  },
  {
   "cell_type": "code",
   "execution_count": 23,
   "id": "4f3d3f39-3f5a-4a36-a793-66e5ce5b87e9",
   "metadata": {
    "tags": []
   },
   "outputs": [
    {
     "data": {
      "text/plain": [
       "(13497, 761)"
      ]
     },
     "execution_count": 23,
     "metadata": {},
     "output_type": "execute_result"
    }
   ],
   "source": [
    "df_val_processed.shape"
   ]
  },
  {
   "cell_type": "code",
   "execution_count": 25,
   "id": "b1750c24-b417-4d4b-9f71-ed58fc4dc71c",
   "metadata": {
    "tags": []
   },
   "outputs": [
    {
     "data": {
      "text/plain": [
       "invoice_status_code\n",
       "2    5739\n",
       "1    5214\n",
       "0    2544\n",
       "Name: count, dtype: int64"
      ]
     },
     "execution_count": 25,
     "metadata": {},
     "output_type": "execute_result"
    }
   ],
   "source": [
    "df_val_processed['invoice_status_code'].value_counts()"
   ]
  },
  {
   "cell_type": "code",
   "execution_count": 24,
   "id": "afa193d6-df71-45db-bd57-d2d075ec6d7c",
   "metadata": {
    "tags": []
   },
   "outputs": [],
   "source": [
    "# target variable is not included in the unseen data\n",
    "y_actual = df_val_processed['invoice_status_code'].copy()\n",
    "X_unseen = df_val_processed.drop('invoice_status_code', axis=1, errors='ignore')"
   ]
  },
  {
   "cell_type": "code",
   "execution_count": 31,
   "id": "363a376f-7977-4177-bbd0-b839eb48890f",
   "metadata": {
    "tags": []
   },
   "outputs": [
    {
     "data": {
      "text/html": [
       "<div>\n",
       "<style scoped>\n",
       "    .dataframe tbody tr th:only-of-type {\n",
       "        vertical-align: middle;\n",
       "    }\n",
       "\n",
       "    .dataframe tbody tr th {\n",
       "        vertical-align: top;\n",
       "    }\n",
       "\n",
       "    .dataframe thead th {\n",
       "        text-align: right;\n",
       "    }\n",
       "</style>\n",
       "<table border=\"1\" class=\"dataframe\">\n",
       "  <thead>\n",
       "    <tr style=\"text-align: right;\">\n",
       "      <th></th>\n",
       "      <th>Unnamed: 0</th>\n",
       "      <th>REFUND_EUR</th>\n",
       "      <th>NO_OF_CONTAINERS</th>\n",
       "      <th>QUANTITY</th>\n",
       "      <th>INV_LINE_TOTAL</th>\n",
       "      <th>INV_LINE_TOTAL_EUR</th>\n",
       "      <th>RATE_UNIT_PRICE</th>\n",
       "      <th>RLINE_TOTAL</th>\n",
       "      <th>RLINE_TOTAL_EUR</th>\n",
       "      <th>amount_numeric</th>\n",
       "      <th>...</th>\n",
       "      <th>INVOICE_SOURCE_OMPROMPT JUNE - 2023</th>\n",
       "      <th>INVOICE_SOURCE_OMPROMPT JUNE 2023</th>\n",
       "      <th>INVOICE_SOURCE_OMPROMPT MAY 2023</th>\n",
       "      <th>INVOICE_SOURCE_OMPROMPT NOVEMBER 2023</th>\n",
       "      <th>INVOICE_SOURCE_OMPROMPT NOVEMBER 2023 RESIDUE</th>\n",
       "      <th>INVOICE_SOURCE_OMPROMPT OCT 2023</th>\n",
       "      <th>INVOICE_SOURCE_OMPROMPT OCTOBER 2023</th>\n",
       "      <th>INVOICE_SOURCE_OMPROMPT PRANAV UPLOAD</th>\n",
       "      <th>INVOICE_SOURCE_OMPROMPT Q2 - 2023</th>\n",
       "      <th>INVOICE_SOURCE_OMPROMPT SEP 2023</th>\n",
       "    </tr>\n",
       "  </thead>\n",
       "  <tbody>\n",
       "    <tr>\n",
       "      <th>1</th>\n",
       "      <td>0</td>\n",
       "      <td>0.0</td>\n",
       "      <td>4.0</td>\n",
       "      <td>4.0</td>\n",
       "      <td>356573.13</td>\n",
       "      <td>18718.41</td>\n",
       "      <td>1813.0</td>\n",
       "      <td>7252.0</td>\n",
       "      <td>6732.46</td>\n",
       "      <td>22732.37</td>\n",
       "      <td>...</td>\n",
       "      <td>False</td>\n",
       "      <td>False</td>\n",
       "      <td>False</td>\n",
       "      <td>False</td>\n",
       "      <td>False</td>\n",
       "      <td>False</td>\n",
       "      <td>False</td>\n",
       "      <td>False</td>\n",
       "      <td>False</td>\n",
       "      <td>False</td>\n",
       "    </tr>\n",
       "    <tr>\n",
       "      <th>2</th>\n",
       "      <td>0</td>\n",
       "      <td>0.0</td>\n",
       "      <td>1.0</td>\n",
       "      <td>1.0</td>\n",
       "      <td>82.00</td>\n",
       "      <td>76.39</td>\n",
       "      <td>0.0</td>\n",
       "      <td>0.0</td>\n",
       "      <td>0.00</td>\n",
       "      <td>5708.96</td>\n",
       "      <td>...</td>\n",
       "      <td>False</td>\n",
       "      <td>False</td>\n",
       "      <td>False</td>\n",
       "      <td>False</td>\n",
       "      <td>False</td>\n",
       "      <td>False</td>\n",
       "      <td>False</td>\n",
       "      <td>False</td>\n",
       "      <td>False</td>\n",
       "      <td>False</td>\n",
       "    </tr>\n",
       "    <tr>\n",
       "      <th>3</th>\n",
       "      <td>0</td>\n",
       "      <td>0.0</td>\n",
       "      <td>1.0</td>\n",
       "      <td>1.0</td>\n",
       "      <td>2138170.00</td>\n",
       "      <td>127.09</td>\n",
       "      <td>145.0</td>\n",
       "      <td>145.0</td>\n",
       "      <td>136.73</td>\n",
       "      <td>127.09</td>\n",
       "      <td>...</td>\n",
       "      <td>False</td>\n",
       "      <td>False</td>\n",
       "      <td>False</td>\n",
       "      <td>False</td>\n",
       "      <td>False</td>\n",
       "      <td>False</td>\n",
       "      <td>False</td>\n",
       "      <td>False</td>\n",
       "      <td>False</td>\n",
       "      <td>False</td>\n",
       "    </tr>\n",
       "    <tr>\n",
       "      <th>6</th>\n",
       "      <td>0</td>\n",
       "      <td>0.0</td>\n",
       "      <td>1.0</td>\n",
       "      <td>1.0</td>\n",
       "      <td>10830.53</td>\n",
       "      <td>183.61</td>\n",
       "      <td>190.0</td>\n",
       "      <td>190.0</td>\n",
       "      <td>174.18</td>\n",
       "      <td>468.68</td>\n",
       "      <td>...</td>\n",
       "      <td>False</td>\n",
       "      <td>False</td>\n",
       "      <td>True</td>\n",
       "      <td>False</td>\n",
       "      <td>False</td>\n",
       "      <td>False</td>\n",
       "      <td>False</td>\n",
       "      <td>False</td>\n",
       "      <td>False</td>\n",
       "      <td>False</td>\n",
       "    </tr>\n",
       "    <tr>\n",
       "      <th>7</th>\n",
       "      <td>0</td>\n",
       "      <td>0.0</td>\n",
       "      <td>2.0</td>\n",
       "      <td>2.0</td>\n",
       "      <td>3787.35</td>\n",
       "      <td>186.68</td>\n",
       "      <td>0.0</td>\n",
       "      <td>0.0</td>\n",
       "      <td>0.00</td>\n",
       "      <td>1895.35</td>\n",
       "      <td>...</td>\n",
       "      <td>False</td>\n",
       "      <td>False</td>\n",
       "      <td>False</td>\n",
       "      <td>False</td>\n",
       "      <td>False</td>\n",
       "      <td>False</td>\n",
       "      <td>False</td>\n",
       "      <td>False</td>\n",
       "      <td>False</td>\n",
       "      <td>False</td>\n",
       "    </tr>\n",
       "  </tbody>\n",
       "</table>\n",
       "<p>5 rows × 761 columns</p>\n",
       "</div>"
      ],
      "text/plain": [
       "   Unnamed: 0  REFUND_EUR  NO_OF_CONTAINERS  QUANTITY  INV_LINE_TOTAL  \\\n",
       "1           0         0.0               4.0       4.0       356573.13   \n",
       "2           0         0.0               1.0       1.0           82.00   \n",
       "3           0         0.0               1.0       1.0      2138170.00   \n",
       "6           0         0.0               1.0       1.0        10830.53   \n",
       "7           0         0.0               2.0       2.0         3787.35   \n",
       "\n",
       "   INV_LINE_TOTAL_EUR  RATE_UNIT_PRICE  RLINE_TOTAL  RLINE_TOTAL_EUR  \\\n",
       "1            18718.41           1813.0       7252.0          6732.46   \n",
       "2               76.39              0.0          0.0             0.00   \n",
       "3              127.09            145.0        145.0           136.73   \n",
       "6              183.61            190.0        190.0           174.18   \n",
       "7              186.68              0.0          0.0             0.00   \n",
       "\n",
       "   amount_numeric  ...  INVOICE_SOURCE_OMPROMPT JUNE - 2023  \\\n",
       "1        22732.37  ...                                False   \n",
       "2         5708.96  ...                                False   \n",
       "3          127.09  ...                                False   \n",
       "6          468.68  ...                                False   \n",
       "7         1895.35  ...                                False   \n",
       "\n",
       "   INVOICE_SOURCE_OMPROMPT JUNE 2023  INVOICE_SOURCE_OMPROMPT MAY 2023  \\\n",
       "1                              False                             False   \n",
       "2                              False                             False   \n",
       "3                              False                             False   \n",
       "6                              False                              True   \n",
       "7                              False                             False   \n",
       "\n",
       "   INVOICE_SOURCE_OMPROMPT NOVEMBER 2023  \\\n",
       "1                                  False   \n",
       "2                                  False   \n",
       "3                                  False   \n",
       "6                                  False   \n",
       "7                                  False   \n",
       "\n",
       "   INVOICE_SOURCE_OMPROMPT NOVEMBER 2023 RESIDUE  \\\n",
       "1                                          False   \n",
       "2                                          False   \n",
       "3                                          False   \n",
       "6                                          False   \n",
       "7                                          False   \n",
       "\n",
       "   INVOICE_SOURCE_OMPROMPT OCT 2023  INVOICE_SOURCE_OMPROMPT OCTOBER 2023  \\\n",
       "1                             False                                 False   \n",
       "2                             False                                 False   \n",
       "3                             False                                 False   \n",
       "6                             False                                 False   \n",
       "7                             False                                 False   \n",
       "\n",
       "   INVOICE_SOURCE_OMPROMPT PRANAV UPLOAD  INVOICE_SOURCE_OMPROMPT Q2 - 2023  \\\n",
       "1                                  False                              False   \n",
       "2                                  False                              False   \n",
       "3                                  False                              False   \n",
       "6                                  False                              False   \n",
       "7                                  False                              False   \n",
       "\n",
       "   INVOICE_SOURCE_OMPROMPT SEP 2023  \n",
       "1                             False  \n",
       "2                             False  \n",
       "3                             False  \n",
       "6                             False  \n",
       "7                             False  \n",
       "\n",
       "[5 rows x 761 columns]"
      ]
     },
     "execution_count": 31,
     "metadata": {},
     "output_type": "execute_result"
    }
   ],
   "source": [
    "df_val_processed.head()"
   ]
  },
  {
   "cell_type": "code",
   "execution_count": 25,
   "id": "b6493df8-9da7-48d1-a563-08cc00a06999",
   "metadata": {
    "tags": []
   },
   "outputs": [],
   "source": [
    "if 'Unnamed: 0' in X_unseen.columns:\n",
    "    X_unseen = X_unseen.drop('Unnamed: 0', axis=1)"
   ]
  },
  {
   "cell_type": "code",
   "execution_count": 26,
   "id": "e4b1a55f-2993-46c8-8a1c-3a52909c3e4a",
   "metadata": {
    "tags": []
   },
   "outputs": [],
   "source": [
    "# Make predictions\n",
    "predictions = header_model.predict(X_unseen)"
   ]
  },
  {
   "cell_type": "code",
   "execution_count": 94,
   "id": "10025282-caf1-448c-b631-1f4473e93e02",
   "metadata": {
    "tags": []
   },
   "outputs": [
    {
     "data": {
      "text/plain": [
       "(16330, 759)"
      ]
     },
     "execution_count": 94,
     "metadata": {},
     "output_type": "execute_result"
    }
   ],
   "source": [
    "X_unseen.shape"
   ]
  },
  {
   "cell_type": "code",
   "execution_count": 27,
   "id": "b688b710-00e3-4d9c-8503-7f4cf719c2e2",
   "metadata": {
    "tags": []
   },
   "outputs": [],
   "source": [
    "# Create a DataFrame for the predictions\n",
    "df_predictions = pd.DataFrame(predictions, columns=['predictions'])\n",
    "\n",
    "# Append the actual values\n",
    "df_predictions['actual'] = y_actual.reset_index(drop=True)  # Reset index to ensure alignment if needed"
   ]
  },
  {
   "cell_type": "code",
   "execution_count": 28,
   "id": "0c05003e-c4b0-4f5c-8cc3-774d9f37e020",
   "metadata": {
    "tags": []
   },
   "outputs": [
    {
     "name": "stdout",
     "output_type": "stream",
     "text": [
      "Accuracy: 0.9250\n",
      "Precision: 0.9253\n",
      "Recall: 0.9250\n",
      "F1 Score: 0.9250\n"
     ]
    }
   ],
   "source": [
    "from sklearn.metrics import accuracy_score, precision_score, recall_score, f1_score\n",
    "\n",
    "# Calculate accuracy\n",
    "accuracy = accuracy_score(df_predictions['actual'], df_predictions['predictions'])\n",
    "print(f'Accuracy: {accuracy:.4f}')\n",
    "\n",
    "# Calculate precision\n",
    "precision = precision_score(df_predictions['actual'], df_predictions['predictions'], average='weighted')\n",
    "print(f'Precision: {precision:.4f}')\n",
    "\n",
    "# Calculate recall\n",
    "recall = recall_score(df_predictions['actual'], df_predictions['predictions'], average='weighted')\n",
    "print(f'Recall: {recall:.4f}')\n",
    "\n",
    "# Calculate F1 score\n",
    "f1 = f1_score(df_predictions['actual'], df_predictions['predictions'], average='weighted')\n",
    "print(f'F1 Score: {f1:.4f}')"
   ]
  },
  {
   "cell_type": "code",
   "execution_count": 114,
   "id": "157474dc-af5f-45ad-b911-a350aa67f5bf",
   "metadata": {
    "tags": []
   },
   "outputs": [
    {
     "data": {
      "image/png": "[encoded data removed]",
      "text/plain": [
       "<Figure size 1000x800 with 1 Axes>"
      ]
     },
     "metadata": {},
     "output_type": "display_data"
    }
   ],
   "source": [
    "import matplotlib.pyplot as plt\n",
    "\n",
    "# Check if the model has 'feature_importances_' attribute\n",
    "if hasattr(header_model, 'feature_importances_'):\n",
    "    # Get feature importances\n",
    "    importances = header_model.feature_importances_\n",
    "    # Get feature names\n",
    "    feature_names = X_unseen.columns\n",
    "    \n",
    "    # Create a DataFrame to visualize them\n",
    "    feature_importance_df = pd.DataFrame({'Feature': feature_names, 'Importance': importances})\n",
    "     # Sort the DataFrame by importance in descending order and select the top 20\n",
    "    top_features = feature_importance_df.sort_values(by='Importance', ascending=False).head(10)\n",
    "\n",
    "    # Plotting\n",
    "    plt.figure(figsize=(10, 8))\n",
    "    plt.barh(top_features['Feature'], top_features['Importance'])\n",
    "    plt.xlabel('Importance')\n",
    "    plt.ylabel('Feature')\n",
    "    plt.title('Top 10 Influential Features')\n",
    "    plt.gca().invert_yaxis()  # Invert y-axis to have the most important at the top\n",
    "    plt.show()\n",
    "else:\n",
    "    print(\"Model does not support feature importance directly\")"
   ]
  },
  {
   "cell_type": "code",
   "execution_count": 116,
   "id": "dc1d5648-3868-49ec-8006-8c1d77fc63c2",
   "metadata": {
    "tags": []
   },
   "outputs": [
    {
     "name": "stdout",
     "output_type": "stream",
     "text": [
      "Collecting shap\n",
      "  Downloading shap-0.44.1-cp38-cp38-manylinux_2_12_x86_64.manylinux2010_x86_64.manylinux_2_17_x86_64.manylinux2014_x86_64.whl.metadata (24 kB)\n",
      "Requirement already satisfied: numpy in /opt/conda/lib/python3.8/site-packages (from shap) (1.24.4)\n",
      "Requirement already satisfied: scipy in /opt/conda/lib/python3.8/site-packages (from shap) (1.10.1)\n",
      "Requirement already satisfied: scikit-learn in /opt/conda/lib/python3.8/site-packages (from shap) (1.3.2)\n",
      "Requirement already satisfied: pandas in /opt/conda/lib/python3.8/site-packages (from shap) (2.0.3)\n",
      "Requirement already satisfied: tqdm>=4.27.0 in /opt/conda/lib/python3.8/site-packages (from shap) (4.66.2)\n",
      "Requirement already satisfied: packaging>20.9 in /opt/conda/lib/python3.8/site-packages (from shap) (24.0)\n",
      "Collecting slicer==0.0.7 (from shap)\n",
      "  Downloading slicer-0.0.7-py3-none-any.whl.metadata (3.7 kB)\n",
      "Collecting numba (from shap)\n",
      "  Downloading numba-0.58.1-cp38-cp38-manylinux2014_x86_64.manylinux_2_17_x86_64.whl.metadata (2.7 kB)\n",
      "Requirement already satisfied: cloudpickle in /opt/conda/lib/python3.8/site-packages (from shap) (3.0.0)\n",
      "Collecting llvmlite<0.42,>=0.41.0dev0 (from numba->shap)\n",
      "  Downloading llvmlite-0.41.1-cp38-cp38-manylinux_2_17_x86_64.manylinux2014_x86_64.whl.metadata (4.8 kB)\n",
      "Requirement already satisfied: importlib-metadata in /opt/conda/lib/python3.8/site-packages (from numba->shap) (7.1.0)\n",
      "Requirement already satisfied: python-dateutil>=2.8.2 in /opt/conda/lib/python3.8/site-packages (from pandas->shap) (2.9.0)\n",
      "Requirement already satisfied: pytz>=2020.1 in /opt/conda/lib/python3.8/site-packages (from pandas->shap) (2024.1)\n",
      "Requirement already satisfied: tzdata>=2022.1 in /opt/conda/lib/python3.8/site-packages (from pandas->shap) (2024.1)\n",
      "Requirement already satisfied: joblib>=1.1.1 in /opt/conda/lib/python3.8/site-packages (from scikit-learn->shap) (1.3.2)\n",
      "Requirement already satisfied: threadpoolctl>=2.0.0 in /opt/conda/lib/python3.8/site-packages (from scikit-learn->shap) (3.4.0)\n",
      "Requirement already satisfied: six>=1.5 in /opt/conda/lib/python3.8/site-packages (from python-dateutil>=2.8.2->pandas->shap) (1.16.0)\n",
      "Requirement already satisfied: zipp>=0.5 in /opt/conda/lib/python3.8/site-packages (from importlib-metadata->numba->shap) (3.17.0)\n",
      "Downloading shap-0.44.1-cp38-cp38-manylinux_2_12_x86_64.manylinux2010_x86_64.manylinux_2_17_x86_64.manylinux2014_x86_64.whl (538 kB)\n",
      "\u001b[2K   \u001b[90m━━━━━━━━━━━━━━━━━━━━━━━━━━━━━━━━━━━━━━━━\u001b[0m \u001b[32m538.6/538.6 kB\u001b[0m \u001b[31m41.2 MB/s\u001b[0m eta \u001b[36m0:00:00\u001b[0m\n",
      "\u001b[?25hDownloading slicer-0.0.7-py3-none-any.whl (14 kB)\n",
      "Downloading numba-0.58.1-cp38-cp38-manylinux2014_x86_64.manylinux_2_17_x86_64.whl (3.7 MB)\n",
      "\u001b[2K   \u001b[90m━━━━━━━━━━━━━━━━━━━━━━━━━━━━━━━━━━━━━━━━\u001b[0m \u001b[32m3.7/3.7 MB\u001b[0m \u001b[31m65.1 MB/s\u001b[0m eta \u001b[36m0:00:00\u001b[0m:00:01\u001b[0m\n",
      "\u001b[?25hDownloading llvmlite-0.41.1-cp38-cp38-manylinux_2_17_x86_64.manylinux2014_x86_64.whl (43.6 MB)\n",
      "\u001b[2K   \u001b[90m━━━━━━━━━━━━━━━━━━━━━━━━━━━━━━━━━━━━━━━━\u001b[0m \u001b[32m43.6/43.6 MB\u001b[0m \u001b[31m23.5 MB/s\u001b[0m eta \u001b[36m0:00:00\u001b[0m:00:01\u001b[0m00:01\u001b[0m\n",
      "\u001b[?25hInstalling collected packages: slicer, llvmlite, numba, shap\n",
      "Successfully installed llvmlite-0.41.1 numba-0.58.1 shap-0.44.1 slicer-0.0.7\n"
     ]
    }
   ],
   "source": [
    "!pip install shap"
   ]
  },
  {
   "cell_type": "code",
   "execution_count": 29,
   "id": "9564068f-8fcb-495d-8074-7e034d3e47c8",
   "metadata": {
    "tags": []
   },
   "outputs": [],
   "source": [
    "import shap\n",
    "# Create the SHAP Explainer\n",
    "explainer = shap.TreeExplainer(header_model)\n",
    "# shap_values = explainer.shap_values(X_unseen)"
   ]
  },
  {
   "cell_type": "code",
   "execution_count": null,
   "id": "b33da9ad-7bc0-4707-9489-7409051e453b",
   "metadata": {
    "tags": []
   },
   "outputs": [
    {
     "name": "stderr",
     "output_type": "stream",
     "text": [
      "Using 1000 background data samples could cause slower run times. Consider using shap.sample(data, K) or shap.kmeans(data, K) to summarize the background as K samples.\n"
     ]
    },
    {
     "data": {
      "application/vnd.jupyter.widget-view+json": {
       "model_id": "7d906db7ec1e4ee183a80b0192b3f3e0",
       "version_major": 2,
       "version_minor": 0
      },
      "text/plain": [
       "  0%|          | 0/1000 [00:00<?, ?it/s]"
      ]
     },
     "metadata": {},
     "output_type": "display_data"
    }
   ],
   "source": [
    "explainer = shap.KernelExplainer(header_model.predict_proba, shap.sample(X_unseen, 1000))\n",
    "shap_values = explainer.shap_values(shap.sample(X_unseen, 1000), nsamples=1000)  # Limit the number of samples"
   ]
  },
  {
   "cell_type": "markdown",
   "id": "8a16b8c2-e800-4976-813f-517b0f056110",
   "metadata": {},
   "source": [
    "#### Validation for line level deviation concept"
   ]
  },
  {
   "cell_type": "code",
   "execution_count": 34,
   "id": "b8bdf717-3feb-4d8a-b077-87dfded25063",
   "metadata": {
    "tags": []
   },
   "outputs": [],
   "source": [
    "# taking the final dataframe\n",
    "df_for_ll_modeling = df_4[['H_EXCESS_FREIGHT_EUR','REFUND_EUR','NO_OF_CONTAINERS','QUANTITY','INV_LINE_TOTAL','INV_LINE_TOTAL_EUR',\n",
    "                             'L_EXCESS_FREIGHT_EUR','INVOICE_ID','LANE_ID','CURRENCY','CARRIER','POL','POD','AMOUNT_DUE','INVOICE_TYPE',\n",
    "                                 'ALTCARRIER','CODE','INV_UNIT_PRICE','ILINE_CURR','ALTLANE_FLAG','INVOICE_SOURCE','LINE_DEVIATION']]"
   ]
  },
  {
   "cell_type": "code",
   "execution_count": 35,
   "id": "1f85f7f2-85d0-4d95-b73e-968d0cec8922",
   "metadata": {
    "tags": []
   },
   "outputs": [],
   "source": [
    "# remove 'ALTCARRIER','INV_UNIT_PRICE' since there are many null values.\n",
    "df_for_ll_modeling.drop(columns = ['ALTCARRIER','INV_UNIT_PRICE','LANE_ID'], inplace = True)"
   ]
  },
  {
   "cell_type": "code",
   "execution_count": 36,
   "id": "64551835-21e7-4fa7-aab6-b255674165a4",
   "metadata": {
    "tags": []
   },
   "outputs": [],
   "source": [
    "# Extract numeric values from strings using a regular expression\n",
    "df_for_ll_modeling['amount_numeric'] = df_for_ll_modeling['AMOUNT_DUE'].str.extract(r'(\\d+\\.\\d+)').astype(float)"
   ]
  },
  {
   "cell_type": "code",
   "execution_count": 37,
   "id": "a1ee4ee1-1f0d-46e7-a3f8-fc999f377e52",
   "metadata": {
    "tags": []
   },
   "outputs": [],
   "source": [
    "df_for_ll_modeling['LINE_DEVIATION'] = df_for_ll_modeling['LINE_DEVIATION'].str.extract(r'([-]?\\d+\\.\\d+)').astype(float)"
   ]
  },
  {
   "cell_type": "code",
   "execution_count": 38,
   "id": "e52e47f5-c7e9-4b64-9738-fbf6d8ebeff1",
   "metadata": {
    "tags": []
   },
   "outputs": [],
   "source": [
    "# consider only these contract charges OCF, BAF, DTHC, OTHC for both 20ft & 40ft\n",
    "df_for_ll_modeling = df_for_ll_modeling[(df_for_ll_modeling['CODE'] == 'OCF_40')|(df_for_ll_modeling['CODE'] == 'OCF_20') | (df_for_ll_modeling['CODE'] == 'BAF_40') |(df_for_ll_modeling['CODE'] == 'BAF_20') | (df_for_ll_modeling['CODE'] == 'DTHC_40') |(df_for_ll_modeling['CODE'] == 'DTHC_20') | (df_for_ll_modeling['CODE'] == 'OTHC_40') | (df_for_ll_modeling['CODE'] == 'OTHC_20')]"
   ]
  },
  {
   "cell_type": "code",
   "execution_count": 39,
   "id": "d1582ce2-6c12-4561-986d-8cda251073a2",
   "metadata": {
    "tags": []
   },
   "outputs": [],
   "source": [
    "# drop the invoice id column since it might lead to overfitting of the model\n",
    "df_for_ll_modeling.drop(columns = ['INVOICE_ID','AMOUNT_DUE'], inplace = True)\n",
    "# deriving the target column from 'LINE_DEVIATION'\n",
    "conditions = [\n",
    "    (df_for_ll_modeling['LINE_DEVIATION'] < 0),  # Both negative\n",
    "    (df_for_ll_modeling['LINE_DEVIATION'] == 0),\n",
    "    (df_for_ll_modeling['LINE_DEVIATION'] > 0)\n",
    "]\n",
    "choices = ['neg', 'ok', 'pos']\n",
    "\n",
    "# Create the new column based on the conditions and choices\n",
    "df_for_ll_modeling['invoice_status'] = np.select(conditions, choices, default='ok')\n",
    "# Define a mapping dictionary\n",
    "status_mapping = {'ok': 0, 'neg': 1, 'pos': 2}\n",
    "\n",
    "# Replace the categorical values with the defined mapping\n",
    "df_for_ll_modeling['invoice_status_code'] = df_for_ll_modeling['invoice_status'].replace(status_mapping)\n",
    "df_for_ll_modeling.drop(columns = ['H_EXCESS_FREIGHT_EUR','L_EXCESS_FREIGHT_EUR','LINE_DEVIATION','invoice_status'], inplace = True)"
   ]
  },
  {
   "cell_type": "code",
   "execution_count": 61,
   "id": "ae8a9cc5-6739-40cd-af7a-ad8cc26109c5",
   "metadata": {
    "tags": []
   },
   "outputs": [
    {
     "data": {
      "text/plain": [
       "Index(['REFUND_EUR', 'NO_OF_CONTAINERS', 'QUANTITY', 'INV_LINE_TOTAL',\n",
       "       'INV_LINE_TOTAL_EUR', 'CURRENCY', 'CARRIER', 'POL', 'POD',\n",
       "       'INVOICE_TYPE', 'CODE', 'ILINE_CURR', 'ALTLANE_FLAG', 'INVOICE_SOURCE',\n",
       "       'amount_numeric', 'invoice_status_code'],\n",
       "      dtype='object')"
      ]
     },
     "execution_count": 61,
     "metadata": {},
     "output_type": "execute_result"
    }
   ],
   "source": [
    "df_for_ll_modeling.columns"
   ]
  },
  {
   "cell_type": "code",
   "execution_count": 40,
   "id": "e8c1a4eb-5c3f-4a92-908c-02d56412bb74",
   "metadata": {
    "tags": []
   },
   "outputs": [],
   "source": [
    "# Identify categorical variables. You might want to exclude certain columns that are not useful for modeling.\n",
    "categorical_cols = df_for_ll_modeling.select_dtypes(include=['object']).columns\n",
    "\n",
    "# Apply One-Hot Encoding to these columns\n",
    "df_ll_ohe = pd.get_dummies(df_for_ll_modeling, columns=categorical_cols)\n",
    "df_ll_ohe.dropna(inplace = True)"
   ]
  },
  {
   "cell_type": "code",
   "execution_count": 41,
   "id": "66bdcb31-fe4a-4f32-82dc-622185c3f6bf",
   "metadata": {
    "tags": []
   },
   "outputs": [],
   "source": [
    "line_model = load(r'linedev_classifier2.joblib')"
   ]
  },
  {
   "cell_type": "code",
   "execution_count": 54,
   "id": "c9105389-4c34-421f-a70f-98fb2a8f1362",
   "metadata": {
    "tags": []
   },
   "outputs": [],
   "source": [
    "df_train = pd.read_csv(r'train_set.csv')"
   ]
  },
  {
   "cell_type": "code",
   "execution_count": 55,
   "id": "506974cd-4667-4356-b761-e55edfb56c1a",
   "metadata": {
    "tags": []
   },
   "outputs": [],
   "source": [
    "df_val_processed = align_features(df_train, df_ll_ohe)"
   ]
  },
  {
   "cell_type": "code",
   "execution_count": 56,
   "id": "03708fe5-f625-465b-a0ed-601df3cb4b36",
   "metadata": {
    "tags": []
   },
   "outputs": [],
   "source": [
    "# target variable is not included in the unseen data\n",
    "y_actual = df_val_processed['invoice_status_code'].copy()\n",
    "X_unseen = df_val_processed.drop('invoice_status_code', axis=1, errors='ignore')"
   ]
  },
  {
   "cell_type": "code",
   "execution_count": 57,
   "id": "cc0f4033-a70d-47f8-b067-5fa3078533ab",
   "metadata": {
    "tags": []
   },
   "outputs": [],
   "source": [
    "if 'Unnamed: 0' in X_unseen.columns:\n",
    "    X_unseen = X_unseen.drop('Unnamed: 0', axis=1)"
   ]
  },
  {
   "cell_type": "code",
   "execution_count": 58,
   "id": "5be92af9-da7e-4107-8dea-24e67c2cd2d6",
   "metadata": {
    "tags": []
   },
   "outputs": [],
   "source": [
    "# Make predictions\n",
    "predictions = line_model.predict(X_unseen)"
   ]
  },
  {
   "cell_type": "code",
   "execution_count": 59,
   "id": "88933c1b-060d-4741-aa21-27a92d8a0de3",
   "metadata": {
    "tags": []
   },
   "outputs": [],
   "source": [
    "# Create a DataFrame for the predictions\n",
    "df_predictions = pd.DataFrame(predictions, columns=['predictions'])\n",
    "\n",
    "# Append the actual values\n",
    "df_predictions['actual'] = y_actual.reset_index(drop=True)  # Reset index to ensure alignment if needed"
   ]
  },
  {
   "cell_type": "code",
   "execution_count": 60,
   "id": "166b0b48-4de0-4a86-b9a3-33f38c9fafcf",
   "metadata": {
    "tags": []
   },
   "outputs": [
    {
     "name": "stdout",
     "output_type": "stream",
     "text": [
      "Accuracy: 0.9040\n",
      "Precision: 0.9039\n",
      "Recall: 0.9040\n",
      "F1 Score: 0.9039\n"
     ]
    }
   ],
   "source": [
    "# Calculate accuracy\n",
    "accuracy = accuracy_score(df_predictions['actual'], df_predictions['predictions'])\n",
    "print(f'Accuracy: {accuracy:.4f}')\n",
    "\n",
    "# Calculate precision\n",
    "precision = precision_score(df_predictions['actual'], df_predictions['predictions'], average='weighted')\n",
    "print(f'Precision: {precision:.4f}')\n",
    "\n",
    "# Calculate recall\n",
    "recall = recall_score(df_predictions['actual'], df_predictions['predictions'], average='weighted')\n",
    "print(f'Recall: {recall:.4f}')\n",
    "\n",
    "# Calculate F1 score\n",
    "f1 = f1_score(df_predictions['actual'], df_predictions['predictions'], average='weighted')\n",
    "print(f'F1 Score: {f1:.4f}')"
   ]
  },
  {
   "cell_type": "code",
   "execution_count": 111,
   "id": "8e4d0d3f-4e4e-4f1d-8628-1d68d5b888d2",
   "metadata": {
    "tags": []
   },
   "outputs": [
    {
     "data": {
      "text/plain": [
       "(16330, 2)"
      ]
     },
     "execution_count": 111,
     "metadata": {},
     "output_type": "execute_result"
    }
   ],
   "source": [
    "df_predictions.shape"
   ]
  },
  {
   "cell_type": "code",
   "execution_count": 112,
   "id": "e9d04975-70bb-4246-bf41-253defd0f9e1",
   "metadata": {
    "tags": []
   },
   "outputs": [
    {
     "data": {
      "image/png": "[encoded data removed]",
      "text/plain": [
       "<Figure size 1000x800 with 1 Axes>"
      ]
     },
     "metadata": {},
     "output_type": "display_data"
    }
   ],
   "source": [
    "# Check if the model has 'feature_importances_' attribute\n",
    "if hasattr(line_model, 'feature_importances_'):\n",
    "    # Get feature importances\n",
    "    importances = line_model.feature_importances_\n",
    "    # Get feature names\n",
    "    feature_names = X_unseen.columns\n",
    "    \n",
    "    # Create a DataFrame to visualize them\n",
    "    feature_importance_df = pd.DataFrame({'Feature': feature_names, 'Importance': importances})\n",
    "     # Sort the DataFrame by importance in descending order and select the top 20\n",
    "    top_features = feature_importance_df.sort_values(by='Importance', ascending=False).head(20)\n",
    "\n",
    "    # Plotting\n",
    "    plt.figure(figsize=(10, 8))\n",
    "    plt.barh(top_features['Feature'], top_features['Importance'])\n",
    "    plt.xlabel('Importance')\n",
    "    plt.ylabel('Feature')\n",
    "    plt.title('Top 20 Feature Importances')\n",
    "    plt.gca().invert_yaxis()  # Invert y-axis to have the most important at the top\n",
    "    plt.show()\n",
    "else:\n",
    "    print(\"Model does not support feature importance directly\")"
   ]
  },
  {
   "cell_type": "code",
   "execution_count": 198,
   "id": "0268aeac-20bd-4caf-a2b3-534bcc731dec",
   "metadata": {
    "tags": []
   },
   "outputs": [
    {
     "name": "stdout",
     "output_type": "stream",
     "text": [
      "Collecting gradio\n",
      "  Using cached gradio-4.27.0-py3-none-any.whl.metadata (15 kB)\n",
      "Requirement already satisfied: aiofiles<24.0,>=22.0 in /opt/conda/lib/python3.8/site-packages (from gradio) (22.1.0)\n",
      "Collecting altair<6.0,>=4.2.0 (from gradio)\n",
      "  Using cached altair-5.3.0-py3-none-any.whl.metadata (9.2 kB)\n",
      "Collecting fastapi (from gradio)\n",
      "  Using cached fastapi-0.110.2-py3-none-any.whl.metadata (24 kB)\n",
      "Requirement already satisfied: ffmpy in /opt/conda/lib/python3.8/site-packages (from gradio) (0.3.2)\n",
      "Collecting gradio-client==0.15.1 (from gradio)\n",
      "  Using cached gradio_client-0.15.1-py3-none-any.whl.metadata (7.1 kB)\n",
      "Collecting httpx>=0.24.1 (from gradio)\n",
      "  Using cached httpx-0.27.0-py3-none-any.whl.metadata (7.2 kB)\n",
      "Collecting huggingface-hub>=0.19.3 (from gradio)\n",
      "  Using cached huggingface_hub-0.22.2-py3-none-any.whl.metadata (12 kB)\n",
      "Requirement already satisfied: importlib-resources<7.0,>=1.3 in /opt/conda/lib/python3.8/site-packages (from gradio) (6.3.0)\n",
      "Requirement already satisfied: jinja2<4.0 in /opt/conda/lib/python3.8/site-packages (from gradio) (3.1.3)\n",
      "Requirement already satisfied: markupsafe~=2.0 in /opt/conda/lib/python3.8/site-packages (from gradio) (2.1.5)\n",
      "Requirement already satisfied: matplotlib~=3.0 in /opt/conda/lib/python3.8/site-packages (from gradio) (3.7.5)\n",
      "Requirement already satisfied: numpy~=1.0 in /opt/conda/lib/python3.8/site-packages (from gradio) (1.24.4)\n",
      "Collecting orjson~=3.0 (from gradio)\n",
      "  Using cached orjson-3.10.1-cp38-cp38-manylinux_2_17_x86_64.manylinux2014_x86_64.whl.metadata (49 kB)\n",
      "Requirement already satisfied: packaging in /opt/conda/lib/python3.8/site-packages (from gradio) (23.0)\n",
      "Requirement already satisfied: pandas<3.0,>=1.0 in /opt/conda/lib/python3.8/site-packages (from gradio) (2.0.3)\n",
      "Requirement already satisfied: pillow<11.0,>=8.0 in /opt/conda/lib/python3.8/site-packages (from gradio) (10.2.0)\n",
      "Collecting pydantic>=2.0 (from gradio)\n",
      "  Using cached pydantic-2.7.1-py3-none-any.whl.metadata (107 kB)\n",
      "Requirement already satisfied: pydub in /opt/conda/lib/python3.8/site-packages (from gradio) (0.25.1)\n",
      "Collecting python-multipart>=0.0.9 (from gradio)\n",
      "  Using cached python_multipart-0.0.9-py3-none-any.whl.metadata (2.5 kB)\n",
      "Requirement already satisfied: pyyaml<7.0,>=5.0 in /opt/conda/lib/python3.8/site-packages (from gradio) (6.0.1)\n",
      "Requirement already satisfied: ruff>=0.2.2 in /opt/conda/lib/python3.8/site-packages (from gradio) (0.4.1)\n",
      "Requirement already satisfied: semantic-version~=2.0 in /opt/conda/lib/python3.8/site-packages (from gradio) (2.10.0)\n",
      "Requirement already satisfied: tomlkit==0.12.0 in /opt/conda/lib/python3.8/site-packages (from gradio) (0.12.0)\n",
      "Collecting typer<1.0,>=0.12 (from gradio)\n",
      "  Using cached typer-0.12.3-py3-none-any.whl.metadata (15 kB)\n",
      "Requirement already satisfied: typing-extensions~=4.0 in /opt/conda/lib/python3.8/site-packages (from gradio) (4.10.0)\n",
      "Requirement already satisfied: urllib3~=2.0 in /opt/conda/lib/python3.8/site-packages (from gradio) (2.2.1)\n",
      "Collecting uvicorn>=0.14.0 (from gradio)\n",
      "  Using cached uvicorn-0.29.0-py3-none-any.whl.metadata (6.3 kB)\n",
      "Requirement already satisfied: fsspec in /opt/conda/lib/python3.8/site-packages (from gradio-client==0.15.1->gradio) (2024.2.0)\n",
      "Requirement already satisfied: websockets<12.0,>=10.0 in /opt/conda/lib/python3.8/site-packages (from gradio-client==0.15.1->gradio) (11.0.3)\n",
      "Requirement already satisfied: jsonschema>=3.0 in /opt/conda/lib/python3.8/site-packages (from altair<6.0,>=4.2.0->gradio) (4.21.1)\n",
      "Requirement already satisfied: toolz in /opt/conda/lib/python3.8/site-packages (from altair<6.0,>=4.2.0->gradio) (0.12.0)\n",
      "Requirement already satisfied: anyio in /opt/conda/lib/python3.8/site-packages (from httpx>=0.24.1->gradio) (4.3.0)\n",
      "Requirement already satisfied: certifi in /opt/conda/lib/python3.8/site-packages (from httpx>=0.24.1->gradio) (2023.5.7)\n",
      "Collecting httpcore==1.* (from httpx>=0.24.1->gradio)\n",
      "  Using cached httpcore-1.0.5-py3-none-any.whl.metadata (20 kB)\n",
      "Requirement already satisfied: idna in /opt/conda/lib/python3.8/site-packages (from httpx>=0.24.1->gradio) (3.4)\n",
      "Requirement already satisfied: sniffio in /opt/conda/lib/python3.8/site-packages (from httpx>=0.24.1->gradio) (1.3.1)\n",
      "Collecting h11<0.15,>=0.13 (from httpcore==1.*->httpx>=0.24.1->gradio)\n",
      "  Using cached h11-0.14.0-py3-none-any.whl.metadata (8.2 kB)\n",
      "Collecting filelock (from huggingface-hub>=0.19.3->gradio)\n",
      "  Using cached filelock-3.13.4-py3-none-any.whl.metadata (2.8 kB)\n",
      "Requirement already satisfied: requests in /opt/conda/lib/python3.8/site-packages (from huggingface-hub>=0.19.3->gradio) (2.29.0)\n",
      "Requirement already satisfied: tqdm>=4.42.1 in /opt/conda/lib/python3.8/site-packages (from huggingface-hub>=0.19.3->gradio) (4.65.0)\n",
      "Requirement already satisfied: zipp>=3.1.0 in /opt/conda/lib/python3.8/site-packages (from importlib-resources<7.0,>=1.3->gradio) (3.17.0)\n",
      "Requirement already satisfied: contourpy>=1.0.1 in /opt/conda/lib/python3.8/site-packages (from matplotlib~=3.0->gradio) (1.1.1)\n",
      "Requirement already satisfied: cycler>=0.10 in /opt/conda/lib/python3.8/site-packages (from matplotlib~=3.0->gradio) (0.12.1)\n",
      "Requirement already satisfied: fonttools>=4.22.0 in /opt/conda/lib/python3.8/site-packages (from matplotlib~=3.0->gradio) (4.49.0)\n",
      "Requirement already satisfied: kiwisolver>=1.0.1 in /opt/conda/lib/python3.8/site-packages (from matplotlib~=3.0->gradio) (1.4.5)\n",
      "Requirement already satisfied: pyparsing>=2.3.1 in /opt/conda/lib/python3.8/site-packages (from matplotlib~=3.0->gradio) (3.1.2)\n",
      "Requirement already satisfied: python-dateutil>=2.7 in /opt/conda/lib/python3.8/site-packages (from matplotlib~=3.0->gradio) (2.9.0)\n",
      "Requirement already satisfied: pytz>=2020.1 in /opt/conda/lib/python3.8/site-packages (from pandas<3.0,>=1.0->gradio) (2024.1)\n",
      "Requirement already satisfied: tzdata>=2022.1 in /opt/conda/lib/python3.8/site-packages (from pandas<3.0,>=1.0->gradio) (2024.1)\n",
      "Collecting annotated-types>=0.4.0 (from pydantic>=2.0->gradio)\n",
      "  Using cached annotated_types-0.6.0-py3-none-any.whl.metadata (12 kB)\n",
      "Collecting pydantic-core==2.18.2 (from pydantic>=2.0->gradio)\n",
      "  Using cached pydantic_core-2.18.2-cp38-cp38-manylinux_2_17_x86_64.manylinux2014_x86_64.whl.metadata (6.5 kB)\n",
      "Requirement already satisfied: click>=8.0.0 in /opt/conda/lib/python3.8/site-packages (from typer<1.0,>=0.12->gradio) (8.0.4)\n",
      "Requirement already satisfied: shellingham>=1.3.0 in /opt/conda/lib/python3.8/site-packages (from typer<1.0,>=0.12->gradio) (1.5.4)\n",
      "Requirement already satisfied: rich>=10.11.0 in /opt/conda/lib/python3.8/site-packages (from typer<1.0,>=0.12->gradio) (13.7.1)\n",
      "Collecting starlette<0.38.0,>=0.37.2 (from fastapi->gradio)\n",
      "  Using cached starlette-0.37.2-py3-none-any.whl.metadata (5.9 kB)\n",
      "Requirement already satisfied: attrs>=22.2.0 in /opt/conda/lib/python3.8/site-packages (from jsonschema>=3.0->altair<6.0,>=4.2.0->gradio) (23.2.0)\n",
      "Requirement already satisfied: jsonschema-specifications>=2023.03.6 in /opt/conda/lib/python3.8/site-packages (from jsonschema>=3.0->altair<6.0,>=4.2.0->gradio) (2023.12.1)\n",
      "Requirement already satisfied: pkgutil-resolve-name>=1.3.10 in /opt/conda/lib/python3.8/site-packages (from jsonschema>=3.0->altair<6.0,>=4.2.0->gradio) (1.3.10)\n",
      "Requirement already satisfied: referencing>=0.28.4 in /opt/conda/lib/python3.8/site-packages (from jsonschema>=3.0->altair<6.0,>=4.2.0->gradio) (0.33.0)\n",
      "Requirement already satisfied: rpds-py>=0.7.1 in /opt/conda/lib/python3.8/site-packages (from jsonschema>=3.0->altair<6.0,>=4.2.0->gradio) (0.18.0)\n",
      "Requirement already satisfied: six>=1.5 in /opt/conda/lib/python3.8/site-packages (from python-dateutil>=2.7->matplotlib~=3.0->gradio) (1.16.0)\n",
      "Requirement already satisfied: markdown-it-py>=2.2.0 in /opt/conda/lib/python3.8/site-packages (from rich>=10.11.0->typer<1.0,>=0.12->gradio) (3.0.0)\n",
      "Requirement already satisfied: pygments<3.0.0,>=2.13.0 in /opt/conda/lib/python3.8/site-packages (from rich>=10.11.0->typer<1.0,>=0.12->gradio) (2.17.2)\n",
      "Requirement already satisfied: exceptiongroup>=1.0.2 in /opt/conda/lib/python3.8/site-packages (from anyio->httpx>=0.24.1->gradio) (1.2.0)\n",
      "Requirement already satisfied: charset-normalizer<4,>=2 in /opt/conda/lib/python3.8/site-packages (from requests->huggingface-hub>=0.19.3->gradio) (2.0.4)\n",
      "INFO: pip is looking at multiple versions of requests to determine which version is compatible with other requirements. This could take a while.\n",
      "Collecting requests (from huggingface-hub>=0.19.3->gradio)\n",
      "  Using cached requests-2.31.0-py3-none-any.whl.metadata (4.6 kB)\n",
      "Requirement already satisfied: mdurl~=0.1 in /opt/conda/lib/python3.8/site-packages (from markdown-it-py>=2.2.0->rich>=10.11.0->typer<1.0,>=0.12->gradio) (0.1.2)\n",
      "Using cached gradio-4.27.0-py3-none-any.whl (17.1 MB)\n",
      "Using cached gradio_client-0.15.1-py3-none-any.whl (313 kB)\n",
      "Using cached altair-5.3.0-py3-none-any.whl (857 kB)\n",
      "Using cached httpx-0.27.0-py3-none-any.whl (75 kB)\n",
      "Using cached httpcore-1.0.5-py3-none-any.whl (77 kB)\n",
      "Using cached huggingface_hub-0.22.2-py3-none-any.whl (388 kB)\n",
      "Using cached orjson-3.10.1-cp38-cp38-manylinux_2_17_x86_64.manylinux2014_x86_64.whl (140 kB)\n",
      "Using cached pydantic-2.7.1-py3-none-any.whl (409 kB)\n",
      "Using cached pydantic_core-2.18.2-cp38-cp38-manylinux_2_17_x86_64.manylinux2014_x86_64.whl (2.1 MB)\n",
      "Using cached python_multipart-0.0.9-py3-none-any.whl (22 kB)\n",
      "Using cached typer-0.12.3-py3-none-any.whl (47 kB)\n",
      "Using cached uvicorn-0.29.0-py3-none-any.whl (60 kB)\n",
      "Using cached fastapi-0.110.2-py3-none-any.whl (91 kB)\n",
      "Using cached annotated_types-0.6.0-py3-none-any.whl (12 kB)\n",
      "Using cached h11-0.14.0-py3-none-any.whl (58 kB)\n",
      "Using cached starlette-0.37.2-py3-none-any.whl (71 kB)\n",
      "Using cached filelock-3.13.4-py3-none-any.whl (11 kB)\n",
      "Using cached requests-2.31.0-py3-none-any.whl (62 kB)\n",
      "Installing collected packages: requests, python-multipart, pydantic-core, orjson, h11, filelock, annotated-types, uvicorn, starlette, pydantic, huggingface-hub, httpcore, typer, httpx, fastapi, gradio-client, altair, gradio\n",
      "\u001b[33m  WARNING: The script uvicorn is installed in '/home/datascience/.local/bin' which is not on PATH.\n",
      "  Consider adding this directory to PATH or, if you prefer to suppress this warning, use --no-warn-script-location.\u001b[0m\u001b[33m\n",
      "\u001b[0m\u001b[33m  WARNING: The script huggingface-cli is installed in '/home/datascience/.local/bin' which is not on PATH.\n",
      "  Consider adding this directory to PATH or, if you prefer to suppress this warning, use --no-warn-script-location.\u001b[0m\u001b[33m\n",
      "\u001b[0m\u001b[33m  WARNING: The script typer is installed in '/home/datascience/.local/bin' which is not on PATH.\n",
      "  Consider adding this directory to PATH or, if you prefer to suppress this warning, use --no-warn-script-location.\u001b[0m\u001b[33m\n",
      "\u001b[0m\u001b[33m  WARNING: The script httpx is installed in '/home/datascience/.local/bin' which is not on PATH.\n",
      "  Consider adding this directory to PATH or, if you prefer to suppress this warning, use --no-warn-script-location.\u001b[0m\u001b[33m\n",
      "\u001b[0m\u001b[33m  WARNING: The scripts gradio and upload_theme are installed in '/home/datascience/.local/bin' which is not on PATH.\n",
      "  Consider adding this directory to PATH or, if you prefer to suppress this warning, use --no-warn-script-location.\u001b[0m\u001b[33m\n",
      "\u001b[0mSuccessfully installed altair-5.3.0 annotated-types-0.6.0 fastapi-0.110.2 filelock-3.13.4 gradio-4.27.0 gradio-client-0.15.1 h11-0.14.0 httpcore-1.0.5 httpx-0.27.0 huggingface-hub-0.22.2 orjson-3.10.1 pydantic-2.7.1 pydantic-core-2.18.2 python-multipart-0.0.9 requests-2.31.0 starlette-0.37.2 typer-0.12.3 uvicorn-0.29.0\n"
     ]
    }
   ],
   "source": [
    "!pip install gradio --user"
   ]
  },
  {
   "cell_type": "code",
   "execution_count": 1,
   "id": "b7a141e6-6f69-4560-b69a-456885b084fd",
   "metadata": {},
   "outputs": [],
   "source": [
    "import gradio as gr\n",
    "import pandas as pd\n",
    "from joblib import load\n",
    "from sklearn.metrics import accuracy_score, precision_score, recall_score, f1_score\n",
    "\n",
    "# Load your pre-trained model\n",
    "model = load(r'../linedev_classifier.joblib')\n",
    "\n",
    "def preprocess_and_predict(uploaded_file):\n",
    "    # Load the uploaded Excel file\n",
    "    df = pd.read_excel(uploaded_file)\n",
    "\n",
    "    # Preprocessing as per your code snippet above\n",
    "    df['amount_numeric'] = df['AMOUNT_DUE'].str.extract(r'(\\d+\\.\\d+)').astype(float)\n",
    "    df = df[df['CODE'].isin(['OCF_40', 'OCF_20', 'BAF_40', 'BAF_20', 'DTHC_40', 'DTHC_20', 'OTHC_40', 'OTHC_20'])]\n",
    "    df.drop(columns=['INVOICE_ID', 'AMOUNT_DUE'], inplace=True)\n",
    "    \n",
    "    # Conditions for deriving the target column\n",
    "    conditions = [\n",
    "        (df['LINE_DEVIATION'] < 0),\n",
    "        (df['LINE_DEVIATION'] == 0),\n",
    "        (df['LINE_DEVIATION'] > 0)\n",
    "    ]\n",
    "    choices = ['neg', 'ok', 'pos']\n",
    "    df['invoice_status'] = np.select(conditions, choices, default='ok')\n",
    "    status_mapping = {'ok': 0, 'neg': 1, 'pos': 2}\n",
    "    df['invoice_status_code'] = df['invoice_status'].replace(status_mapping)\n",
    "\n",
    "    # One-hot encode categorical variables\n",
    "    categorical_cols = df.select_dtypes(include=['object']).columns\n",
    "    df = pd.get_dummies(df, columns=categorical_cols)\n",
    "    df.dropna(inplace=True)\n",
    "    \n",
    "    # Prediction\n",
    "    X = df.drop('invoice_status_code', axis=1, errors='ignore')\n",
    "    predictions = model.predict(X)\n",
    "\n",
    "    # Compute Metrics\n",
    "    actuals = df['invoice_status_code'].copy()\n",
    "    accuracy = accuracy_score(actuals, predictions)\n",
    "    precision = precision_score(actuals, predictions, average='weighted')\n",
    "    recall = recall_score(actuals, predictions, average='weighted')\n",
    "    f1 = f1_score(actuals, predictions, average='weighted')\n",
    "\n",
    "    return {\n",
    "        \"Predictions\": predictions.tolist(),\n",
    "        \"Accuracy\": accuracy,\n",
    "        \"Precision\": precision,\n",
    "        \"Recall\": recall,\n",
    "        \"F1 Score\": f1\n",
    "    }"
   ]
  },
  {
   "cell_type": "code",
   "execution_count": null,
   "id": "853504be-e2c8-4a4d-bbdf-895fa9e3520c",
   "metadata": {},
   "outputs": [],
   "source": [
    "# Set up Gradio interface\n",
    "iface = gr.Interface(\n",
    "    fn=preprocess_and_predict,\n",
    "    inputs=gr.File(label=\"Upload your Excel file\"),\n",
    "    outputs=[\n",
    "        gr.Text(label=\"Predictions\"),\n",
    "        gr.Text(label=\"Accuracy\"),\n",
    "        gr.Text(label=\"Precision\"),\n",
    "        gr.Text(label=\"Recall\"),\n",
    "        gr.Text(label=\"F1 Score\")\n",
    "    ],\n",
    "    title=\"Invoice Risk Assessment\",\n",
    "    description=\"Upload an Excel file to assess the risk of invoices.\"\n",
    ")\n",
    "\n",
    "iface.launch(server_name='0.0.0.0')"
   ]
  },
  {
   "cell_type": "code",
   "execution_count": 201,
   "id": "3a5db6e1-1813-494f-b5f2-54475d6f4af1",
   "metadata": {},
   "outputs": [
    {
     "ename": "ModuleNotFoundError",
     "evalue": "No module named 'gradio'",
     "output_type": "error",
     "traceback": [
      "\u001b[0;31m---------------------------------------------------------------------------\u001b[0m",
      "\u001b[0;31mModuleNotFoundError\u001b[0m                       Traceback (most recent call last)",
      "Cell \u001b[0;32mIn[201], line 1\u001b[0m\n\u001b[0;32m----> 1\u001b[0m \u001b[38;5;28;01mimport\u001b[39;00m \u001b[38;5;21;01mgradio\u001b[39;00m\n",
      "\u001b[0;31mModuleNotFoundError\u001b[0m: No module named 'gradio'"
     ]
    }
   ],
   "source": [
    "import gradio"
   ]
  },
  {
   "cell_type": "code",
   "execution_count": null,
   "id": "e14d1d5e-8ef3-420d-a0f7-8dab7d891312",
   "metadata": {},
   "outputs": [],
   "source": []
  },
  {
   "cell_type": "code",
   "execution_count": null,
   "id": "df1cc665-4c93-46d9-8932-4ecb0c84d987",
   "metadata": {},
   "outputs": [],
   "source": []
  },
  {
   "cell_type": "code",
   "execution_count": null,
   "id": "4ef69292-465e-4b00-a648-1738a057cf16",
   "metadata": {},
   "outputs": [],
   "source": []
  },
  {
   "cell_type": "code",
   "execution_count": null,
   "id": "5145d796-1cec-44dd-a1b7-cd750d673942",
   "metadata": {},
   "outputs": [],
   "source": []
  },
  {
   "cell_type": "code",
   "execution_count": null,
   "id": "fced3783-fa55-4eed-9fc3-344c6fae2d32",
   "metadata": {},
   "outputs": [],
   "source": []
  }
 ],
 "metadata": {
  "kernelspec": {
   "display_name": "Python 3 (ipykernel)",
   "language": "python",
   "name": "python3"
  },
  "language_info": {
   "codemirror_mode": {
    "name": "ipython",
    "version": 3
   },
   "file_extension": ".py",
   "mimetype": "text/x-python",
   "name": "python",
   "nbconvert_exporter": "python",
   "pygments_lexer": "ipython3",
   "version": "3.8.18"
  }
 },
 "nbformat": 4,
 "nbformat_minor": 5
}
