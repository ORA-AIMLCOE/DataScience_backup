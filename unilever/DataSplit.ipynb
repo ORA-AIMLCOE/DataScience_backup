{
 "cells": [
  {
   "cell_type": "markdown",
   "id": "a981c18c-13a5-4d89-9b64-5880bbf5c7f7",
   "metadata": {},
   "source": [
    "### OCI Data Science - Useful Tips\n",
    "<details>\n",
    "<summary><font size=\"2\">Check for Public Internet Access</font></summary>\n",
    "\n",
    "```python\n",
    "import requests\n",
    "response = requests.get(\"https://oracle.com\")\n",
    "assert response.status_code==200, \"Internet connection failed\"\n",
    "```\n",
    "</details>\n",
    "<details>\n",
    "<summary><font size=\"2\">Helpful Documentation </font></summary>\n",
    "<ul><li><a href=\"https://docs.cloud.oracle.com/en-us/iaas/data-science/using/data-science.htm\">Data Science Service Documentation</a></li>\n",
    "<li><a href=\"https://docs.cloud.oracle.com/iaas/tools/ads-sdk/latest/index.html\">ADS documentation</a></li>\n",
    "</ul>\n",
    "</details>\n",
    "<details>\n",
    "<summary><font size=\"2\">Typical Cell Imports and Settings for ADS</font></summary>\n",
    "\n",
    "```python\n",
    "%load_ext autoreload\n",
    "%autoreload 2\n",
    "%matplotlib inline\n",
    "\n",
    "import warnings\n",
    "warnings.filterwarnings('ignore')\n",
    "\n",
    "import logging\n",
    "logging.basicConfig(format='%(levelname)s:%(message)s', level=logging.ERROR)\n",
    "\n",
    "import ads\n",
    "from ads.dataset.factory import DatasetFactory\n",
    "from ads.automl.provider import OracleAutoMLProvider\n",
    "from ads.automl.driver import AutoML\n",
    "from ads.evaluations.evaluator import ADSEvaluator\n",
    "from ads.common.data import ADSData\n",
    "from ads.explanations.explainer import ADSExplainer\n",
    "from ads.explanations.mlx_global_explainer import MLXGlobalExplainer\n",
    "from ads.explanations.mlx_local_explainer import MLXLocalExplainer\n",
    "from ads.catalog.model import ModelCatalog\n",
    "from ads.common.model_artifact import ModelArtifact\n",
    "```\n",
    "</details>\n",
    "<details>\n",
    "<summary><font size=\"2\">Useful Environment Variables</font></summary>\n",
    "\n",
    "```python\n",
    "import os\n",
    "print(os.environ[\"NB_SESSION_COMPARTMENT_OCID\"])\n",
    "print(os.environ[\"PROJECT_OCID\"])\n",
    "print(os.environ[\"USER_OCID\"])\n",
    "print(os.environ[\"TENANCY_OCID\"])\n",
    "print(os.environ[\"NB_REGION\"])\n",
    "```\n",
    "</details>"
   ]
  },
  {
   "cell_type": "code",
   "execution_count": 1,
   "id": "a64a1370-b5dd-4fa6-90b3-4e4fc2909f59",
   "metadata": {
    "tags": []
   },
   "outputs": [],
   "source": [
    "import pandas as pd"
   ]
  },
  {
   "cell_type": "code",
   "execution_count": 2,
   "id": "68d28c7a-c488-472d-a6b8-dd049b0413a3",
   "metadata": {
    "tags": []
   },
   "outputs": [
    {
     "name": "stderr",
     "output_type": "stream",
     "text": [
      "/tmp/ipykernel_32061/2536279612.py:6: DtypeWarning: Columns (3,8,48,70,75,76) have mixed types. Specify dtype option on import or set low_memory=False.\n",
      "  dataframes = [pd.read_csv(file) for file in file_paths]\n",
      "/tmp/ipykernel_32061/2536279612.py:6: DtypeWarning: Columns (3,32,53,54,73,74,76,77,78) have mixed types. Specify dtype option on import or set low_memory=False.\n",
      "  dataframes = [pd.read_csv(file) for file in file_paths]\n",
      "/tmp/ipykernel_32061/2536279612.py:6: DtypeWarning: Columns (70,74,75,76) have mixed types. Specify dtype option on import or set low_memory=False.\n",
      "  dataframes = [pd.read_csv(file) for file in file_paths]\n",
      "/tmp/ipykernel_32061/2536279612.py:6: DtypeWarning: Columns (51) have mixed types. Specify dtype option on import or set low_memory=False.\n",
      "  dataframes = [pd.read_csv(file) for file in file_paths]\n"
     ]
    }
   ],
   "source": [
    "# Paths to your CSV files\n",
    "file_paths = ['Inputs/UGOF.UL_INVOICE_PROCESS_REPORT_V1 (3).csv', 'Inputs/UGOF.UL_INVOICE_PROCESS_REPORT_V1 (4).csv', 'Inputs/UGOF.UL_INVOICE_PROCESS_REPORT_V1 (5).csv', \n",
    "              'Inputs/UGOF.UL_INVOICE_PROCESS_REPORT_V1 (6).csv']\n",
    "\n",
    "# Load each file into a DataFrame and store them in a list\n",
    "dataframes = [pd.read_csv(file) for file in file_paths]\n",
    "\n",
    "# Combine all DataFrames into one\n",
    "combined_df = pd.concat(dataframes, ignore_index=True)"
   ]
  },
  {
   "cell_type": "code",
   "execution_count": 3,
   "id": "4c1c4368-a771-446d-b723-e30183aec186",
   "metadata": {
    "tags": []
   },
   "outputs": [
    {
     "data": {
      "text/plain": [
       "(165326, 79)"
      ]
     },
     "execution_count": 3,
     "metadata": {},
     "output_type": "execute_result"
    }
   ],
   "source": [
    "combined_df.shape"
   ]
  },
  {
   "cell_type": "code",
   "execution_count": 7,
   "id": "64bf24f0-9bd0-463d-b123-ccdedf8663fe",
   "metadata": {
    "tags": []
   },
   "outputs": [
    {
     "data": {
      "text/plain": [
       "P_INV_START_DATE            0\n",
       "P_INV_END_DATE              0\n",
       "INVOICE_ID                  2\n",
       "INV                         0\n",
       "LANE_ID                    29\n",
       "                        ...  \n",
       "INV_COMMENTS           163828\n",
       "L_INV_LINE_COMMENTS    165306\n",
       "CONTRACT_NO            100773\n",
       "INV_REASON_CODE        165177\n",
       "INV_CATEGORY           165184\n",
       "Length: 79, dtype: int64"
      ]
     },
     "execution_count": 7,
     "metadata": {},
     "output_type": "execute_result"
    }
   ],
   "source": [
    "combined_df.isnull().sum().T"
   ]
  },
  {
   "cell_type": "code",
   "execution_count": 8,
   "id": "276d0cd7-20dc-468e-8103-a84dfce9a1c8",
   "metadata": {
    "tags": []
   },
   "outputs": [],
   "source": [
    "from sklearn.model_selection import train_test_split\n",
    "\n",
    "# First, split into 80% for (train + test) and 20% for validation\n",
    "train_test_df, validation_df = train_test_split(combined_df, test_size=0.2, random_state=42)"
   ]
  },
  {
   "cell_type": "code",
   "execution_count": 9,
   "id": "ea6d872e-bbf8-4d27-abac-256201b7f6fb",
   "metadata": {
    "tags": []
   },
   "outputs": [],
   "source": [
    "# Save the training, testing, and validation data as CSV files\n",
    "train_test_df.to_csv('train_test.csv', index=False)\n",
    "validation_df.to_csv('validation.csv', index=False)"
   ]
  }
 ],
 "metadata": {
  "kernelspec": {
   "display_name": "Python 3 (ipykernel)",
   "language": "python",
   "name": "python3"
  },
  "language_info": {
   "codemirror_mode": {
    "name": "ipython",
    "version": 3
   },
   "file_extension": ".py",
   "mimetype": "text/x-python",
   "name": "python",
   "nbconvert_exporter": "python",
   "pygments_lexer": "ipython3",
   "version": "3.8.17"
  }
 },
 "nbformat": 4,
 "nbformat_minor": 5
}
