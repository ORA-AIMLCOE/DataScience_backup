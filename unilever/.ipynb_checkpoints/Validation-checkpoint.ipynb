{
 "cells": [
  {
   "cell_type": "markdown",
   "id": "d4e32ce3-98a3-4e14-83fc-7672658f8af4",
   "metadata": {},
   "source": [
    "### OCI Data Science - Useful Tips\n",
    "<details>\n",
    "<summary><font size=\"2\">Check for Public Internet Access</font></summary>\n",
    "\n",
    "```python\n",
    "import requests\n",
    "response = requests.get(\"https://oracle.com\")\n",
    "assert response.status_code==200, \"Internet connection failed\"\n",
    "```\n",
    "</details>\n",
    "<details>\n",
    "<summary><font size=\"2\">Helpful Documentation </font></summary>\n",
    "<ul><li><a href=\"https://docs.cloud.oracle.com/en-us/iaas/data-science/using/data-science.htm\">Data Science Service Documentation</a></li>\n",
    "<li><a href=\"https://docs.cloud.oracle.com/iaas/tools/ads-sdk/latest/index.html\">ADS documentation</a></li>\n",
    "</ul>\n",
    "</details>\n",
    "<details>\n",
    "<summary><font size=\"2\">Typical Cell Imports and Settings for ADS</font></summary>\n",
    "\n",
    "```python\n",
    "%load_ext autoreload\n",
    "%autoreload 2\n",
    "%matplotlib inline\n",
    "\n",
    "import warnings\n",
    "warnings.filterwarnings('ignore')\n",
    "\n",
    "import logging\n",
    "logging.basicConfig(format='%(levelname)s:%(message)s', level=logging.ERROR)\n",
    "\n",
    "import ads\n",
    "from ads.dataset.factory import DatasetFactory\n",
    "from ads.automl.provider import OracleAutoMLProvider\n",
    "from ads.automl.driver import AutoML\n",
    "from ads.evaluations.evaluator import ADSEvaluator\n",
    "from ads.common.data import ADSData\n",
    "from ads.explanations.explainer import ADSExplainer\n",
    "from ads.explanations.mlx_global_explainer import MLXGlobalExplainer\n",
    "from ads.explanations.mlx_local_explainer import MLXLocalExplainer\n",
    "from ads.catalog.model import ModelCatalog\n",
    "from ads.common.model_artifact import ModelArtifact\n",
    "```\n",
    "</details>\n",
    "<details>\n",
    "<summary><font size=\"2\">Useful Environment Variables</font></summary>\n",
    "\n",
    "```python\n",
    "import os\n",
    "print(os.environ[\"NB_SESSION_COMPARTMENT_OCID\"])\n",
    "print(os.environ[\"PROJECT_OCID\"])\n",
    "print(os.environ[\"USER_OCID\"])\n",
    "print(os.environ[\"TENANCY_OCID\"])\n",
    "print(os.environ[\"NB_REGION\"])\n",
    "```\n",
    "</details>"
   ]
  },
  {
   "cell_type": "markdown",
   "id": "af706cab-9342-4fe1-8a27-6834c36f99b5",
   "metadata": {},
   "source": [
    "#### Validation for header devation concept"
   ]
  },
  {
   "cell_type": "code",
   "execution_count": 1,
   "id": "059239b7-9d8e-448e-af6d-dc0afee9d184",
   "metadata": {
    "tags": []
   },
   "outputs": [],
   "source": [
    "# importing the required packages\n",
    "import pandas as pd\n",
    "import numpy as np"
   ]
  },
  {
   "cell_type": "code",
   "execution_count": 2,
   "id": "f59a9f3c-dcab-4f2c-9dca-0fbc6b3ee0b0",
   "metadata": {
    "tags": []
   },
   "outputs": [],
   "source": [
    "import warnings\n",
    "warnings.filterwarnings('ignore')"
   ]
  },
  {
   "cell_type": "code",
   "execution_count": 138,
   "id": "9b12f461-329a-42a5-8bb1-059ef3a1afc6",
   "metadata": {
    "tags": []
   },
   "outputs": [],
   "source": [
    "# read the data\n",
    "df_4 = pd.read_csv(r'../validation.csv')"
   ]
  },
  {
   "cell_type": "code",
   "execution_count": 139,
   "id": "9f806fc1-0d47-445e-8d3b-badc16f7bc10",
   "metadata": {
    "tags": []
   },
   "outputs": [
    {
     "data": {
      "text/html": [
       "<div>\n",
       "<style scoped>\n",
       "    .dataframe tbody tr th:only-of-type {\n",
       "        vertical-align: middle;\n",
       "    }\n",
       "\n",
       "    .dataframe tbody tr th {\n",
       "        vertical-align: top;\n",
       "    }\n",
       "\n",
       "    .dataframe thead th {\n",
       "        text-align: right;\n",
       "    }\n",
       "</style>\n",
       "<table border=\"1\" class=\"dataframe\">\n",
       "  <thead>\n",
       "    <tr style=\"text-align: right;\">\n",
       "      <th></th>\n",
       "      <th>P_INV_START_DATE</th>\n",
       "      <th>P_INV_END_DATE</th>\n",
       "      <th>INVOICE_ID</th>\n",
       "      <th>INV</th>\n",
       "      <th>LANE_ID</th>\n",
       "      <th>CURRENCY</th>\n",
       "      <th>LOADING_DATE</th>\n",
       "      <th>INVOICE_DATE</th>\n",
       "      <th>BL_NUMBER</th>\n",
       "      <th>CARRIER</th>\n",
       "      <th>...</th>\n",
       "      <th>RATE_OFFERING_ID</th>\n",
       "      <th>INV_UNIT_PRICE</th>\n",
       "      <th>RATE_CURR</th>\n",
       "      <th>FOURTY_FEET_RATE_RECORD_ID</th>\n",
       "      <th>ASSIGNED_USER</th>\n",
       "      <th>INV_COMMENTS</th>\n",
       "      <th>L_INV_LINE_COMMENTS</th>\n",
       "      <th>CONTRACT_NO</th>\n",
       "      <th>INV_REASON_CODE</th>\n",
       "      <th>INV_CATEGORY</th>\n",
       "    </tr>\n",
       "  </thead>\n",
       "  <tbody>\n",
       "    <tr>\n",
       "      <th>0</th>\n",
       "      <td>1/1/2023</td>\n",
       "      <td>30-04-2023</td>\n",
       "      <td>HLCU-BSC2112AZSG4-2138011963</td>\n",
       "      <td>2138011963</td>\n",
       "      <td>USORF-PKKHI-DRY</td>\n",
       "      <td>PKR</td>\n",
       "      <td>12/31/2021</td>\n",
       "      <td>1/31/2022</td>\n",
       "      <td>BSC2112AZSG4</td>\n",
       "      <td>HLCU</td>\n",
       "      <td>...</td>\n",
       "      <td>NaN</td>\n",
       "      <td>25.0</td>\n",
       "      <td>NaN</td>\n",
       "      <td>NaN</td>\n",
       "      <td>NaN</td>\n",
       "      <td>NaN</td>\n",
       "      <td>NaN</td>\n",
       "      <td>NaN</td>\n",
       "      <td>NaN</td>\n",
       "      <td>NaN</td>\n",
       "    </tr>\n",
       "    <tr>\n",
       "      <th>1</th>\n",
       "      <td>1/5/2023</td>\n",
       "      <td>31-08-2023</td>\n",
       "      <td>MSCU-MEDUV8289492-DI157324</td>\n",
       "      <td>DI157324</td>\n",
       "      <td>ESALG-ZADUR-REEFER</td>\n",
       "      <td>ZAR</td>\n",
       "      <td>1/16/2023</td>\n",
       "      <td>2/17/2023</td>\n",
       "      <td>MEDUV8289492</td>\n",
       "      <td>MSCU</td>\n",
       "      <td>...</td>\n",
       "      <td>RO_MSCU_V1</td>\n",
       "      <td>NaN</td>\n",
       "      <td>USD</td>\n",
       "      <td>RR_MSCU_PTLIS-ZADUR-REEFER_MINI_141122</td>\n",
       "      <td>NaN</td>\n",
       "      <td>NaN</td>\n",
       "      <td>NaN</td>\n",
       "      <td>NaN</td>\n",
       "      <td>NaN</td>\n",
       "      <td>NaN</td>\n",
       "    </tr>\n",
       "    <tr>\n",
       "      <th>2</th>\n",
       "      <td>01-09-2023</td>\n",
       "      <td>31-12-2023</td>\n",
       "      <td>CMCU-JAXS3M078265-JAXS3M078265</td>\n",
       "      <td>JAXS3M078265</td>\n",
       "      <td>USPHL-PRSJU-DRY</td>\n",
       "      <td>USD</td>\n",
       "      <td>2023-08-24</td>\n",
       "      <td>2023-08-25</td>\n",
       "      <td>JAXS3M078265</td>\n",
       "      <td>CMCU</td>\n",
       "      <td>...</td>\n",
       "      <td>NaN</td>\n",
       "      <td>82.0</td>\n",
       "      <td>NaN</td>\n",
       "      <td>NaN</td>\n",
       "      <td>NaN</td>\n",
       "      <td>NaN</td>\n",
       "      <td>NaN</td>\n",
       "      <td>NaN</td>\n",
       "      <td>NaN</td>\n",
       "      <td>NaN</td>\n",
       "    </tr>\n",
       "    <tr>\n",
       "      <th>3</th>\n",
       "      <td>1/1/2023</td>\n",
       "      <td>30-04-2023</td>\n",
       "      <td>OOLU-2701363570-4163830711</td>\n",
       "      <td>4163830711</td>\n",
       "      <td>IDJKT-MYPKG-DRY</td>\n",
       "      <td>IDR</td>\n",
       "      <td>6/26/2022</td>\n",
       "      <td>6/28/2022</td>\n",
       "      <td>2701363570</td>\n",
       "      <td>OOLU</td>\n",
       "      <td>...</td>\n",
       "      <td>RO_OOLU_V1</td>\n",
       "      <td>145.0</td>\n",
       "      <td>USD</td>\n",
       "      <td>RR_OOLU_IDJKT-MYPKG-DRY_MAIN_010721</td>\n",
       "      <td>NaN</td>\n",
       "      <td>NaN</td>\n",
       "      <td>NaN</td>\n",
       "      <td>GW210021v038</td>\n",
       "      <td>NaN</td>\n",
       "      <td>NaN</td>\n",
       "    </tr>\n",
       "    <tr>\n",
       "      <th>4</th>\n",
       "      <td>01-01-2024</td>\n",
       "      <td>29-02-2024</td>\n",
       "      <td>HLCU-SYD231047907-2070014418</td>\n",
       "      <td>2070014418</td>\n",
       "      <td>AUSYD-HKHKG-DRY</td>\n",
       "      <td>HKD</td>\n",
       "      <td>2024-01-01</td>\n",
       "      <td>2024-02-02</td>\n",
       "      <td>SYD231047907</td>\n",
       "      <td>HLCU</td>\n",
       "      <td>...</td>\n",
       "      <td>RO_HLCU_V1</td>\n",
       "      <td>200.0</td>\n",
       "      <td>USD</td>\n",
       "      <td>RR_HLCU_AUSYD-HKHKG-DRY_40_MAIN_010723</td>\n",
       "      <td>NaN</td>\n",
       "      <td>NaN</td>\n",
       "      <td>NaN</td>\n",
       "      <td>NaN</td>\n",
       "      <td>NaN</td>\n",
       "      <td>NaN</td>\n",
       "    </tr>\n",
       "  </tbody>\n",
       "</table>\n",
       "<p>5 rows × 79 columns</p>\n",
       "</div>"
      ],
      "text/plain": [
       "  P_INV_START_DATE P_INV_END_DATE                      INVOICE_ID  \\\n",
       "0         1/1/2023     30-04-2023    HLCU-BSC2112AZSG4-2138011963   \n",
       "1         1/5/2023     31-08-2023      MSCU-MEDUV8289492-DI157324   \n",
       "2       01-09-2023     31-12-2023  CMCU-JAXS3M078265-JAXS3M078265   \n",
       "3         1/1/2023     30-04-2023      OOLU-2701363570-4163830711   \n",
       "4       01-01-2024     29-02-2024    HLCU-SYD231047907-2070014418   \n",
       "\n",
       "            INV             LANE_ID CURRENCY LOADING_DATE INVOICE_DATE  \\\n",
       "0    2138011963     USORF-PKKHI-DRY      PKR   12/31/2021    1/31/2022   \n",
       "1      DI157324  ESALG-ZADUR-REEFER      ZAR    1/16/2023    2/17/2023   \n",
       "2  JAXS3M078265     USPHL-PRSJU-DRY      USD   2023-08-24   2023-08-25   \n",
       "3    4163830711     IDJKT-MYPKG-DRY      IDR    6/26/2022    6/28/2022   \n",
       "4    2070014418     AUSYD-HKHKG-DRY      HKD   2024-01-01   2024-02-02   \n",
       "\n",
       "      BL_NUMBER CARRIER  ... RATE_OFFERING_ID INV_UNIT_PRICE RATE_CURR  \\\n",
       "0  BSC2112AZSG4    HLCU  ...              NaN           25.0       NaN   \n",
       "1  MEDUV8289492    MSCU  ...       RO_MSCU_V1            NaN       USD   \n",
       "2  JAXS3M078265    CMCU  ...              NaN           82.0       NaN   \n",
       "3    2701363570    OOLU  ...       RO_OOLU_V1          145.0       USD   \n",
       "4  SYD231047907    HLCU  ...       RO_HLCU_V1          200.0       USD   \n",
       "\n",
       "               FOURTY_FEET_RATE_RECORD_ID ASSIGNED_USER  INV_COMMENTS  \\\n",
       "0                                     NaN           NaN           NaN   \n",
       "1  RR_MSCU_PTLIS-ZADUR-REEFER_MINI_141122           NaN           NaN   \n",
       "2                                     NaN           NaN           NaN   \n",
       "3     RR_OOLU_IDJKT-MYPKG-DRY_MAIN_010721           NaN           NaN   \n",
       "4  RR_HLCU_AUSYD-HKHKG-DRY_40_MAIN_010723           NaN           NaN   \n",
       "\n",
       "   L_INV_LINE_COMMENTS   CONTRACT_NO INV_REASON_CODE INV_CATEGORY  \n",
       "0                  NaN           NaN             NaN          NaN  \n",
       "1                  NaN           NaN             NaN          NaN  \n",
       "2                  NaN           NaN             NaN          NaN  \n",
       "3                  NaN  GW210021v038             NaN          NaN  \n",
       "4                  NaN           NaN             NaN          NaN  \n",
       "\n",
       "[5 rows x 79 columns]"
      ]
     },
     "execution_count": 139,
     "metadata": {},
     "output_type": "execute_result"
    }
   ],
   "source": [
    "df_4.head()"
   ]
  },
  {
   "cell_type": "code",
   "execution_count": 140,
   "id": "a31dc141-9571-4ded-92cb-8eb1d7c2bb89",
   "metadata": {
    "tags": []
   },
   "outputs": [
    {
     "data": {
      "text/plain": [
       "(33066, 79)"
      ]
     },
     "execution_count": 140,
     "metadata": {},
     "output_type": "execute_result"
    }
   ],
   "source": [
    "df_4.shape"
   ]
  },
  {
   "cell_type": "code",
   "execution_count": 141,
   "id": "cdeec22f-8861-4ac3-b58f-913b1a9e5ec1",
   "metadata": {
    "tags": []
   },
   "outputs": [],
   "source": [
    "# taking the final dataframe\n",
    "df_for_modeling = df_4[['H_EXCESS_FREIGHT_EUR','REFUND_EUR','NO_OF_CONTAINERS','QUANTITY','INV_LINE_TOTAL','INV_LINE_TOTAL_EUR',\n",
    "                             'RATE_UNIT_PRICE','RLINE_TOTAL','RLINE_TOTAL_EUR','L_EXCESS_FREIGHT_EUR','INVOICE_ID','LANE_ID','CURRENCY','CARRIER','POL','POD','AMOUNT_DUE','AUDIT_STATUS','INVOICE_TYPE','RATETYPE',\n",
    "                                 'CALCTYPE','ALTCARRIER','CODE','INV_UNIT_PRICE','ILINE_CURR','ALTLANE_FLAG','CARRIER_NAME','INVOICE_SOURCE','H_TOTAL_DEVIATION']]"
   ]
  },
  {
   "cell_type": "code",
   "execution_count": 8,
   "id": "3d9c40e8-47ca-48e0-a119-13e2ee7bb73d",
   "metadata": {
    "tags": []
   },
   "outputs": [
    {
     "data": {
      "text/plain": [
       "H_EXCESS_FREIGHT_EUR        0\n",
       "REFUND_EUR                  0\n",
       "NO_OF_CONTAINERS            1\n",
       "QUANTITY                    1\n",
       "INV_LINE_TOTAL              0\n",
       "INV_LINE_TOTAL_EUR          0\n",
       "RATE_UNIT_PRICE             0\n",
       "RLINE_TOTAL                 0\n",
       "RLINE_TOTAL_EUR             0\n",
       "L_EXCESS_FREIGHT_EUR        0\n",
       "INVOICE_ID                  0\n",
       "LANE_ID                    27\n",
       "CURRENCY                    0\n",
       "CARRIER                     0\n",
       "POL                         0\n",
       "POD                         0\n",
       "AMOUNT_DUE                  0\n",
       "AUDIT_STATUS               27\n",
       "INVOICE_TYPE               27\n",
       "RATETYPE                   27\n",
       "CALCTYPE                   27\n",
       "ALTCARRIER              43831\n",
       "CODE                        0\n",
       "INV_UNIT_PRICE          18312\n",
       "ILINE_CURR                  0\n",
       "ALTLANE_FLAG                0\n",
       "CARRIER_NAME                0\n",
       "INVOICE_SOURCE              0\n",
       "H_TOTAL_DEVIATION           0\n",
       "dtype: int64"
      ]
     },
     "execution_count": 8,
     "metadata": {},
     "output_type": "execute_result"
    }
   ],
   "source": [
    "df_for_modeling.isnull().sum()"
   ]
  },
  {
   "cell_type": "code",
   "execution_count": 142,
   "id": "7afd417c-3503-4856-adbc-04c43c6925d1",
   "metadata": {
    "tags": []
   },
   "outputs": [],
   "source": [
    "# remove 'ALTCARRIER','INV_UNIT_PRICE' since there are many null values.\n",
    "df_for_modeling.drop(columns = ['ALTCARRIER','INV_UNIT_PRICE','LANE_ID'], inplace = True)"
   ]
  },
  {
   "cell_type": "code",
   "execution_count": 143,
   "id": "af9f97a3-4b74-4dd1-9bfe-80f3363d21ef",
   "metadata": {
    "tags": []
   },
   "outputs": [],
   "source": [
    "# Extract numeric values from strings using a regular expression\n",
    "df_for_modeling['amount_numeric'] = df_for_modeling['AMOUNT_DUE'].str.extract(r'(\\d+\\.\\d+)').astype(float)"
   ]
  },
  {
   "cell_type": "code",
   "execution_count": 144,
   "id": "586e508f-b51f-422a-94d0-67b06bd7ee45",
   "metadata": {
    "tags": []
   },
   "outputs": [],
   "source": [
    "df_for_modeling['H_TOTAL_DEVIATION'] = df_for_modeling['H_TOTAL_DEVIATION'].str.extract(r'([-]?\\d+\\.\\d+)').astype(float)"
   ]
  },
  {
   "cell_type": "code",
   "execution_count": 145,
   "id": "f1200d86-fdb2-40b9-826b-105c7635aecc",
   "metadata": {
    "tags": []
   },
   "outputs": [],
   "source": [
    "# consider only these contract charges OCF, BAF, DTHC, OTHC for both 20ft & 40ft\n",
    "df_for_modeling = df_for_modeling[(df_for_modeling['CODE'] == 'OCF_40')|(df_for_modeling['CODE'] == 'OCF_20') | (df_for_modeling['CODE'] == 'BAF_40') |(df_for_modeling['CODE'] == 'BAF_20') | (df_for_modeling['CODE'] == 'DTHC_40') |(df_for_modeling['CODE'] == 'DTHC_20') | (df_for_modeling['CODE'] == 'OTHC_40') | (df_for_modeling['CODE'] == 'OTHC_20')]"
   ]
  },
  {
   "cell_type": "code",
   "execution_count": 146,
   "id": "3085992d-d0c8-4101-9055-5c9540b84382",
   "metadata": {
    "tags": []
   },
   "outputs": [],
   "source": [
    "df_for_modeling.drop_duplicates(subset = 'INVOICE_ID', keep = 'first',inplace = True)"
   ]
  },
  {
   "cell_type": "code",
   "execution_count": 147,
   "id": "f1f2e3ac-0893-4582-8a89-a69c8e2bc232",
   "metadata": {
    "tags": []
   },
   "outputs": [],
   "source": [
    "# drop the invoice id column since it might lead to overfitting of the model\n",
    "df_for_modeling.drop(columns = ['INVOICE_ID','AMOUNT_DUE'], inplace = True)"
   ]
  },
  {
   "cell_type": "code",
   "execution_count": 148,
   "id": "eccdba26-e2d2-4cfd-b427-c0c568d0d635",
   "metadata": {
    "tags": []
   },
   "outputs": [],
   "source": [
    "# deriving the target column from 'H_EXCESS_FREIGHT_EUR', and 'L_EXCESS_FREIGHT_EUR' based on their values\n",
    "conditions = [\n",
    "    (df_for_modeling['H_TOTAL_DEVIATION'] < 0),  # Both negative\n",
    "    (df_for_modeling['H_TOTAL_DEVIATION'] == 0),\n",
    "    (df_for_modeling['H_TOTAL_DEVIATION'] > 0)\n",
    "]\n",
    "choices = ['neg', 'ok', 'pos']\n",
    "\n",
    "# Create the new column based on the conditions and choices\n",
    "df_for_modeling['act_invoice_status'] = np.select(conditions, choices, default='ok')"
   ]
  },
  {
   "cell_type": "code",
   "execution_count": 149,
   "id": "44abc127-66c9-4238-b34e-c7671bc9413d",
   "metadata": {
    "tags": []
   },
   "outputs": [],
   "source": [
    "# Define a mapping dictionary\n",
    "status_mapping = {'ok': 0, 'neg': 1, 'pos': 2}\n",
    "\n",
    "# Replace the categorical values with the defined mapping\n",
    "df_for_modeling['invoice_status_code'] = df_for_modeling['act_invoice_status'].replace(status_mapping)"
   ]
  },
  {
   "cell_type": "code",
   "execution_count": 150,
   "id": "fa7666bc-22e9-42bb-96d0-48929b005c6e",
   "metadata": {
    "tags": []
   },
   "outputs": [],
   "source": [
    "df_for_modeling.drop(columns = ['H_EXCESS_FREIGHT_EUR','L_EXCESS_FREIGHT_EUR','H_TOTAL_DEVIATION','act_invoice_status'], inplace = True)"
   ]
  },
  {
   "cell_type": "code",
   "execution_count": 151,
   "id": "d5bc2bcb-e197-4f32-86c4-f332390b867f",
   "metadata": {
    "tags": []
   },
   "outputs": [
    {
     "data": {
      "text/plain": [
       "(14460, 23)"
      ]
     },
     "execution_count": 151,
     "metadata": {},
     "output_type": "execute_result"
    }
   ],
   "source": [
    "df_for_modeling.shape"
   ]
  },
  {
   "cell_type": "code",
   "execution_count": 152,
   "id": "5133cd5c-b19a-400a-be97-4183a44deaea",
   "metadata": {
    "tags": []
   },
   "outputs": [
    {
     "data": {
      "text/plain": [
       "REFUND_EUR             float64\n",
       "NO_OF_CONTAINERS       float64\n",
       "QUANTITY               float64\n",
       "INV_LINE_TOTAL         float64\n",
       "INV_LINE_TOTAL_EUR     float64\n",
       "RATE_UNIT_PRICE        float64\n",
       "RLINE_TOTAL            float64\n",
       "RLINE_TOTAL_EUR        float64\n",
       "CURRENCY                object\n",
       "CARRIER                 object\n",
       "POL                     object\n",
       "POD                     object\n",
       "AUDIT_STATUS            object\n",
       "INVOICE_TYPE            object\n",
       "RATETYPE                object\n",
       "CALCTYPE                object\n",
       "CODE                    object\n",
       "ILINE_CURR              object\n",
       "ALTLANE_FLAG            object\n",
       "CARRIER_NAME            object\n",
       "INVOICE_SOURCE          object\n",
       "amount_numeric         float64\n",
       "invoice_status_code      int64\n",
       "dtype: object"
      ]
     },
     "execution_count": 152,
     "metadata": {},
     "output_type": "execute_result"
    }
   ],
   "source": [
    "df_for_modeling.dtypes"
   ]
  },
  {
   "cell_type": "code",
   "execution_count": 153,
   "id": "5abfca77-44c3-43fd-b294-f9eddedc6720",
   "metadata": {
    "tags": []
   },
   "outputs": [],
   "source": [
    "# Identify categorical variables. You might want to exclude certain columns that are not useful for modeling.\n",
    "categorical_cols = df_for_modeling.select_dtypes(include=['object']).columns\n",
    "\n",
    "# Apply One-Hot Encoding to these columns\n",
    "df_ohe = pd.get_dummies(df_for_modeling, columns=categorical_cols)"
   ]
  },
  {
   "cell_type": "code",
   "execution_count": 154,
   "id": "14e14d18-9bec-4198-814b-a648e8651ef9",
   "metadata": {
    "tags": []
   },
   "outputs": [],
   "source": [
    "df_ohe.dropna(inplace = True)"
   ]
  },
  {
   "cell_type": "code",
   "execution_count": 155,
   "id": "e4f296fa-716c-47ac-a9de-e69765b5fc07",
   "metadata": {
    "tags": []
   },
   "outputs": [
    {
     "data": {
      "text/plain": [
       "(13497, 698)"
      ]
     },
     "execution_count": 155,
     "metadata": {},
     "output_type": "execute_result"
    }
   ],
   "source": [
    "df_ohe.shape"
   ]
  },
  {
   "cell_type": "code",
   "execution_count": 156,
   "id": "e6dd7caa-ca91-4b61-85df-73357063a9c0",
   "metadata": {
    "tags": []
   },
   "outputs": [],
   "source": [
    "from joblib import load\n",
    "header_model = load(r'head_dev_classifier.joblib')"
   ]
  },
  {
   "cell_type": "code",
   "execution_count": 29,
   "id": "c0e4f055-5ef4-4220-b42b-6cea3f4f09fd",
   "metadata": {
    "tags": []
   },
   "outputs": [
    {
     "name": "stdout",
     "output_type": "stream",
     "text": [
      "invoice.csv\n",
      "UGOF.UL_INVOICE_PROCESS_REPORT_V1 (3).csv\n",
      "UGOF.UL_INVOICE_PROCESS_REPORT_V1 (4).csv\n",
      "UGOF.UL_INVOICE_PROCESS_REPORT_V1 (5).csv\n",
      "UGOF.UL_INVOICE_PROCESS_REPORT_V1 (6).csv\n"
     ]
    }
   ],
   "source": [
    "!ls"
   ]
  },
  {
   "cell_type": "code",
   "execution_count": 128,
   "id": "2850d7a3-732b-4bea-aeda-82f6fccbbc8e",
   "metadata": {
    "tags": []
   },
   "outputs": [],
   "source": [
    "def align_features(train_df, val_df):\n",
    "    # Add missing dummy columns to validation set\n",
    "    for column in train_df.columns:\n",
    "        if column not in val_df.columns:\n",
    "            val_df[column] = 0\n",
    "    \n",
    "    # Remove extra columns from validation set\n",
    "    for column in val_df.columns:\n",
    "        if column not in train_df.columns:\n",
    "            val_df.drop(column, axis=1, inplace=True)\n",
    "    \n",
    "    # Ensure the order of columns matches the training set\n",
    "    val_df = val_df[train_df.columns]\n",
    "    \n",
    "    return val_df"
   ]
  },
  {
   "cell_type": "code",
   "execution_count": 157,
   "id": "9d702982-dbee-4e2c-8600-c173050cd1cc",
   "metadata": {
    "tags": []
   },
   "outputs": [],
   "source": [
    "df_train = pd.read_csv(r'train.csv')"
   ]
  },
  {
   "cell_type": "code",
   "execution_count": 158,
   "id": "3baf0627-496f-4a0b-93cf-008af00f3ff5",
   "metadata": {
    "tags": []
   },
   "outputs": [],
   "source": [
    "df_val_processed = align_features(df_train, df_ohe)"
   ]
  },
  {
   "cell_type": "code",
   "execution_count": 159,
   "id": "4f3d3f39-3f5a-4a36-a793-66e5ce5b87e9",
   "metadata": {
    "tags": []
   },
   "outputs": [
    {
     "data": {
      "text/plain": [
       "(13497, 761)"
      ]
     },
     "execution_count": 159,
     "metadata": {},
     "output_type": "execute_result"
    }
   ],
   "source": [
    "df_val_processed.shape"
   ]
  },
  {
   "cell_type": "code",
   "execution_count": 160,
   "id": "afa193d6-df71-45db-bd57-d2d075ec6d7c",
   "metadata": {
    "tags": []
   },
   "outputs": [],
   "source": [
    "# target variable is not included in the unseen data\n",
    "y_actual = df_val_processed['invoice_status_code'].copy()\n",
    "X_unseen = df_val_processed.drop('invoice_status_code', axis=1, errors='ignore')"
   ]
  },
  {
   "cell_type": "code",
   "execution_count": 93,
   "id": "363a376f-7977-4177-bbd0-b839eb48890f",
   "metadata": {
    "tags": []
   },
   "outputs": [
    {
     "data": {
      "text/html": [
       "<div>\n",
       "<style scoped>\n",
       "    .dataframe tbody tr th:only-of-type {\n",
       "        vertical-align: middle;\n",
       "    }\n",
       "\n",
       "    .dataframe tbody tr th {\n",
       "        vertical-align: top;\n",
       "    }\n",
       "\n",
       "    .dataframe thead th {\n",
       "        text-align: right;\n",
       "    }\n",
       "</style>\n",
       "<table border=\"1\" class=\"dataframe\">\n",
       "  <thead>\n",
       "    <tr style=\"text-align: right;\">\n",
       "      <th></th>\n",
       "      <th>REFUND_EUR</th>\n",
       "      <th>NO_OF_CONTAINERS</th>\n",
       "      <th>QUANTITY</th>\n",
       "      <th>INV_LINE_TOTAL</th>\n",
       "      <th>INV_LINE_TOTAL_EUR</th>\n",
       "      <th>RATE_UNIT_PRICE</th>\n",
       "      <th>RLINE_TOTAL</th>\n",
       "      <th>RLINE_TOTAL_EUR</th>\n",
       "      <th>amount_numeric</th>\n",
       "      <th>invoice_status_code</th>\n",
       "      <th>...</th>\n",
       "      <th>INVOICE_SOURCE_MANUAL EXTRACTION -Q1 2023</th>\n",
       "      <th>INVOICE_SOURCE_MANUAL EXTRACTION MAY 2023</th>\n",
       "      <th>INVOICE_SOURCE_MANUAL EXTRACTION Q1 - 2023</th>\n",
       "      <th>INVOICE_SOURCE_OMPROMPT AUG 2023</th>\n",
       "      <th>INVOICE_SOURCE_OMPROMPT JULY 2023</th>\n",
       "      <th>INVOICE_SOURCE_OMPROMPT JUNE - 2023</th>\n",
       "      <th>INVOICE_SOURCE_OMPROMPT JUNE 2023</th>\n",
       "      <th>INVOICE_SOURCE_OMPROMPT MAY 2023</th>\n",
       "      <th>INVOICE_SOURCE_OMPROMPT Q2 - 2023</th>\n",
       "      <th>INVOICE_SOURCE_OMPROMPT SEP 2023</th>\n",
       "    </tr>\n",
       "  </thead>\n",
       "  <tbody>\n",
       "    <tr>\n",
       "      <th>1</th>\n",
       "      <td>0.0</td>\n",
       "      <td>2.0</td>\n",
       "      <td>2.0</td>\n",
       "      <td>17976.0</td>\n",
       "      <td>16950.34</td>\n",
       "      <td>0.0</td>\n",
       "      <td>0.0</td>\n",
       "      <td>0.00</td>\n",
       "      <td>32204.11</td>\n",
       "      <td>0</td>\n",
       "      <td>...</td>\n",
       "      <td>0</td>\n",
       "      <td>0</td>\n",
       "      <td>0</td>\n",
       "      <td>0</td>\n",
       "      <td>0</td>\n",
       "      <td>0</td>\n",
       "      <td>0</td>\n",
       "      <td>0</td>\n",
       "      <td>0</td>\n",
       "      <td>0</td>\n",
       "    </tr>\n",
       "    <tr>\n",
       "      <th>2</th>\n",
       "      <td>0.0</td>\n",
       "      <td>6.0</td>\n",
       "      <td>6.0</td>\n",
       "      <td>48240.0</td>\n",
       "      <td>40896.61</td>\n",
       "      <td>4300.0</td>\n",
       "      <td>25800.0</td>\n",
       "      <td>24327.92</td>\n",
       "      <td>44965.92</td>\n",
       "      <td>0</td>\n",
       "      <td>...</td>\n",
       "      <td>0</td>\n",
       "      <td>0</td>\n",
       "      <td>0</td>\n",
       "      <td>0</td>\n",
       "      <td>0</td>\n",
       "      <td>0</td>\n",
       "      <td>0</td>\n",
       "      <td>0</td>\n",
       "      <td>0</td>\n",
       "      <td>0</td>\n",
       "    </tr>\n",
       "    <tr>\n",
       "      <th>4</th>\n",
       "      <td>0.0</td>\n",
       "      <td>3.0</td>\n",
       "      <td>3.0</td>\n",
       "      <td>1248.0</td>\n",
       "      <td>1058.02</td>\n",
       "      <td>174.0</td>\n",
       "      <td>522.0</td>\n",
       "      <td>492.22</td>\n",
       "      <td>15046.29</td>\n",
       "      <td>2</td>\n",
       "      <td>...</td>\n",
       "      <td>0</td>\n",
       "      <td>0</td>\n",
       "      <td>0</td>\n",
       "      <td>0</td>\n",
       "      <td>0</td>\n",
       "      <td>0</td>\n",
       "      <td>0</td>\n",
       "      <td>0</td>\n",
       "      <td>0</td>\n",
       "      <td>0</td>\n",
       "    </tr>\n",
       "    <tr>\n",
       "      <th>6</th>\n",
       "      <td>0.0</td>\n",
       "      <td>2.0</td>\n",
       "      <td>2.0</td>\n",
       "      <td>16000.0</td>\n",
       "      <td>13564.38</td>\n",
       "      <td>9535.0</td>\n",
       "      <td>19070.0</td>\n",
       "      <td>18613.59</td>\n",
       "      <td>15378.62</td>\n",
       "      <td>1</td>\n",
       "      <td>...</td>\n",
       "      <td>0</td>\n",
       "      <td>0</td>\n",
       "      <td>0</td>\n",
       "      <td>0</td>\n",
       "      <td>0</td>\n",
       "      <td>0</td>\n",
       "      <td>0</td>\n",
       "      <td>0</td>\n",
       "      <td>0</td>\n",
       "      <td>0</td>\n",
       "    </tr>\n",
       "    <tr>\n",
       "      <th>11</th>\n",
       "      <td>0.0</td>\n",
       "      <td>1.0</td>\n",
       "      <td>1.0</td>\n",
       "      <td>14000.0</td>\n",
       "      <td>13664.94</td>\n",
       "      <td>0.0</td>\n",
       "      <td>0.0</td>\n",
       "      <td>0.00</td>\n",
       "      <td>16499.43</td>\n",
       "      <td>0</td>\n",
       "      <td>...</td>\n",
       "      <td>0</td>\n",
       "      <td>0</td>\n",
       "      <td>0</td>\n",
       "      <td>0</td>\n",
       "      <td>0</td>\n",
       "      <td>0</td>\n",
       "      <td>0</td>\n",
       "      <td>0</td>\n",
       "      <td>0</td>\n",
       "      <td>0</td>\n",
       "    </tr>\n",
       "  </tbody>\n",
       "</table>\n",
       "<p>5 rows × 592 columns</p>\n",
       "</div>"
      ],
      "text/plain": [
       "    REFUND_EUR  NO_OF_CONTAINERS  QUANTITY  INV_LINE_TOTAL  \\\n",
       "1          0.0               2.0       2.0         17976.0   \n",
       "2          0.0               6.0       6.0         48240.0   \n",
       "4          0.0               3.0       3.0          1248.0   \n",
       "6          0.0               2.0       2.0         16000.0   \n",
       "11         0.0               1.0       1.0         14000.0   \n",
       "\n",
       "    INV_LINE_TOTAL_EUR  RATE_UNIT_PRICE  RLINE_TOTAL  RLINE_TOTAL_EUR  \\\n",
       "1             16950.34              0.0          0.0             0.00   \n",
       "2             40896.61           4300.0      25800.0         24327.92   \n",
       "4              1058.02            174.0        522.0           492.22   \n",
       "6             13564.38           9535.0      19070.0         18613.59   \n",
       "11            13664.94              0.0          0.0             0.00   \n",
       "\n",
       "    amount_numeric  invoice_status_code  ...  \\\n",
       "1         32204.11                    0  ...   \n",
       "2         44965.92                    0  ...   \n",
       "4         15046.29                    2  ...   \n",
       "6         15378.62                    1  ...   \n",
       "11        16499.43                    0  ...   \n",
       "\n",
       "    INVOICE_SOURCE_MANUAL EXTRACTION -Q1 2023  \\\n",
       "1                                           0   \n",
       "2                                           0   \n",
       "4                                           0   \n",
       "6                                           0   \n",
       "11                                          0   \n",
       "\n",
       "    INVOICE_SOURCE_MANUAL EXTRACTION MAY 2023  \\\n",
       "1                                           0   \n",
       "2                                           0   \n",
       "4                                           0   \n",
       "6                                           0   \n",
       "11                                          0   \n",
       "\n",
       "    INVOICE_SOURCE_MANUAL EXTRACTION Q1 - 2023  \\\n",
       "1                                            0   \n",
       "2                                            0   \n",
       "4                                            0   \n",
       "6                                            0   \n",
       "11                                           0   \n",
       "\n",
       "    INVOICE_SOURCE_OMPROMPT AUG 2023  INVOICE_SOURCE_OMPROMPT JULY 2023  \\\n",
       "1                                  0                                  0   \n",
       "2                                  0                                  0   \n",
       "4                                  0                                  0   \n",
       "6                                  0                                  0   \n",
       "11                                 0                                  0   \n",
       "\n",
       "    INVOICE_SOURCE_OMPROMPT JUNE - 2023  INVOICE_SOURCE_OMPROMPT JUNE 2023  \\\n",
       "1                                     0                                  0   \n",
       "2                                     0                                  0   \n",
       "4                                     0                                  0   \n",
       "6                                     0                                  0   \n",
       "11                                    0                                  0   \n",
       "\n",
       "    INVOICE_SOURCE_OMPROMPT MAY 2023  INVOICE_SOURCE_OMPROMPT Q2 - 2023  \\\n",
       "1                                  0                                  0   \n",
       "2                                  0                                  0   \n",
       "4                                  0                                  0   \n",
       "6                                  0                                  0   \n",
       "11                                 0                                  0   \n",
       "\n",
       "    INVOICE_SOURCE_OMPROMPT SEP 2023  \n",
       "1                                  0  \n",
       "2                                  0  \n",
       "4                                  0  \n",
       "6                                  0  \n",
       "11                                 0  \n",
       "\n",
       "[5 rows x 592 columns]"
      ]
     },
     "execution_count": 93,
     "metadata": {},
     "output_type": "execute_result"
    }
   ],
   "source": [
    "df_val_processed.head()"
   ]
  },
  {
   "cell_type": "code",
   "execution_count": 161,
   "id": "b6493df8-9da7-48d1-a563-08cc00a06999",
   "metadata": {
    "tags": []
   },
   "outputs": [],
   "source": [
    "if 'Unnamed: 0' in X_unseen.columns:\n",
    "    X_unseen = X_unseen.drop('Unnamed: 0', axis=1)"
   ]
  },
  {
   "cell_type": "code",
   "execution_count": 162,
   "id": "e4b1a55f-2993-46c8-8a1c-3a52909c3e4a",
   "metadata": {
    "tags": []
   },
   "outputs": [],
   "source": [
    "# Make predictions\n",
    "predictions = header_model.predict(X_unseen)"
   ]
  },
  {
   "cell_type": "code",
   "execution_count": 163,
   "id": "b688b710-00e3-4d9c-8503-7f4cf719c2e2",
   "metadata": {
    "tags": []
   },
   "outputs": [],
   "source": [
    "# Create a DataFrame for the predictions\n",
    "df_predictions = pd.DataFrame(predictions, columns=['predictions'])\n",
    "\n",
    "# Append the actual values\n",
    "df_predictions['actual'] = y_actual.reset_index(drop=True)  # Reset index to ensure alignment if needed"
   ]
  },
  {
   "cell_type": "code",
   "execution_count": 164,
   "id": "0c05003e-c4b0-4f5c-8cc3-774d9f37e020",
   "metadata": {
    "tags": []
   },
   "outputs": [
    {
     "name": "stdout",
     "output_type": "stream",
     "text": [
      "Accuracy: 0.9250\n",
      "Precision: 0.9253\n",
      "Recall: 0.9250\n",
      "F1 Score: 0.9250\n"
     ]
    }
   ],
   "source": [
    "from sklearn.metrics import accuracy_score, precision_score, recall_score, f1_score\n",
    "\n",
    "# Calculate accuracy\n",
    "accuracy = accuracy_score(df_predictions['actual'], df_predictions['predictions'])\n",
    "print(f'Accuracy: {accuracy:.4f}')\n",
    "\n",
    "# Calculate precision\n",
    "precision = precision_score(df_predictions['actual'], df_predictions['predictions'], average='weighted')\n",
    "print(f'Precision: {precision:.4f}')\n",
    "\n",
    "# Calculate recall\n",
    "recall = recall_score(df_predictions['actual'], df_predictions['predictions'], average='weighted')\n",
    "print(f'Recall: {recall:.4f}')\n",
    "\n",
    "# Calculate F1 score\n",
    "f1 = f1_score(df_predictions['actual'], df_predictions['predictions'], average='weighted')\n",
    "print(f'F1 Score: {f1:.4f}')"
   ]
  },
  {
   "cell_type": "markdown",
   "id": "8a16b8c2-e800-4976-813f-517b0f056110",
   "metadata": {},
   "source": [
    "#### Validation for line level deviation concept"
   ]
  },
  {
   "cell_type": "code",
   "execution_count": 181,
   "id": "b8bdf717-3feb-4d8a-b077-87dfded25063",
   "metadata": {
    "tags": []
   },
   "outputs": [],
   "source": [
    "# taking the final dataframe\n",
    "df_for_ll_modeling = df_4[['H_EXCESS_FREIGHT_EUR','REFUND_EUR','NO_OF_CONTAINERS','QUANTITY','INV_LINE_TOTAL','INV_LINE_TOTAL_EUR',\n",
    "                             'RATE_UNIT_PRICE','RLINE_TOTAL','RLINE_TOTAL_EUR','L_EXCESS_FREIGHT_EUR','INVOICE_ID','LANE_ID','CURRENCY','CARRIER','POL','POD','AMOUNT_DUE','AUDIT_STATUS','INVOICE_TYPE','RATETYPE',\n",
    "                                 'CALCTYPE','ALTCARRIER','CODE','INV_UNIT_PRICE','ILINE_CURR','ALTLANE_FLAG','CARRIER_NAME','INVOICE_SOURCE','LINE_DEVIATION']]"
   ]
  },
  {
   "cell_type": "code",
   "execution_count": 182,
   "id": "1f85f7f2-85d0-4d95-b73e-968d0cec8922",
   "metadata": {
    "tags": []
   },
   "outputs": [],
   "source": [
    "# remove 'ALTCARRIER','INV_UNIT_PRICE' since there are many null values.\n",
    "df_for_ll_modeling.drop(columns = ['ALTCARRIER','INV_UNIT_PRICE','LANE_ID'], inplace = True)"
   ]
  },
  {
   "cell_type": "code",
   "execution_count": 183,
   "id": "64551835-21e7-4fa7-aab6-b255674165a4",
   "metadata": {
    "tags": []
   },
   "outputs": [],
   "source": [
    "# Extract numeric values from strings using a regular expression\n",
    "df_for_ll_modeling['amount_numeric'] = df_for_ll_modeling['AMOUNT_DUE'].str.extract(r'(\\d+\\.\\d+)').astype(float)"
   ]
  },
  {
   "cell_type": "code",
   "execution_count": 184,
   "id": "a1ee4ee1-1f0d-46e7-a3f8-fc999f377e52",
   "metadata": {
    "tags": []
   },
   "outputs": [],
   "source": [
    "df_for_ll_modeling['LINE_DEVIATION'] = df_for_ll_modeling['LINE_DEVIATION'].str.extract(r'([-]?\\d+\\.\\d+)').astype(float)"
   ]
  },
  {
   "cell_type": "code",
   "execution_count": 185,
   "id": "e52e47f5-c7e9-4b64-9738-fbf6d8ebeff1",
   "metadata": {
    "tags": []
   },
   "outputs": [],
   "source": [
    "# consider only these contract charges OCF, BAF, DTHC, OTHC for both 20ft & 40ft\n",
    "df_for_ll_modeling = df_for_ll_modeling[(df_for_ll_modeling['CODE'] == 'OCF_40')|(df_for_ll_modeling['CODE'] == 'OCF_20') | (df_for_ll_modeling['CODE'] == 'BAF_40') |(df_for_ll_modeling['CODE'] == 'BAF_20') | (df_for_ll_modeling['CODE'] == 'DTHC_40') |(df_for_ll_modeling['CODE'] == 'DTHC_20') | (df_for_ll_modeling['CODE'] == 'OTHC_40') | (df_for_ll_modeling['CODE'] == 'OTHC_20')]"
   ]
  },
  {
   "cell_type": "code",
   "execution_count": 186,
   "id": "d1582ce2-6c12-4561-986d-8cda251073a2",
   "metadata": {
    "tags": []
   },
   "outputs": [],
   "source": [
    "# drop the invoice id column since it might lead to overfitting of the model\n",
    "df_for_ll_modeling.drop(columns = ['INVOICE_ID','AMOUNT_DUE'], inplace = True)\n",
    "# deriving the target column from 'LINE_DEVIATION'\n",
    "conditions = [\n",
    "    (df_for_ll_modeling['LINE_DEVIATION'] < 0),  # Both negative\n",
    "    (df_for_ll_modeling['LINE_DEVIATION'] == 0),\n",
    "    (df_for_ll_modeling['LINE_DEVIATION'] > 0)\n",
    "]\n",
    "choices = ['neg', 'ok', 'pos']\n",
    "\n",
    "# Create the new column based on the conditions and choices\n",
    "df_for_ll_modeling['invoice_status'] = np.select(conditions, choices, default='ok')\n",
    "# Define a mapping dictionary\n",
    "status_mapping = {'ok': 0, 'neg': 1, 'pos': 2}\n",
    "\n",
    "# Replace the categorical values with the defined mapping\n",
    "df_for_ll_modeling['invoice_status_code'] = df_for_ll_modeling['invoice_status'].replace(status_mapping)\n",
    "df_for_ll_modeling.drop(columns = ['H_EXCESS_FREIGHT_EUR','L_EXCESS_FREIGHT_EUR','LINE_DEVIATION','invoice_status'], inplace = True)"
   ]
  },
  {
   "cell_type": "code",
   "execution_count": 187,
   "id": "e8c1a4eb-5c3f-4a92-908c-02d56412bb74",
   "metadata": {
    "tags": []
   },
   "outputs": [],
   "source": [
    "# Identify categorical variables. You might want to exclude certain columns that are not useful for modeling.\n",
    "categorical_cols = df_for_ll_modeling.select_dtypes(include=['object']).columns\n",
    "\n",
    "# Apply One-Hot Encoding to these columns\n",
    "df_ll_ohe = pd.get_dummies(df_for_ll_modeling, columns=categorical_cols)\n",
    "df_ll_ohe.dropna(inplace = True)"
   ]
  },
  {
   "cell_type": "code",
   "execution_count": 189,
   "id": "66bdcb31-fe4a-4f32-82dc-622185c3f6bf",
   "metadata": {
    "tags": []
   },
   "outputs": [],
   "source": [
    "line_model = load(r'../linedev_classifier.joblib')"
   ]
  },
  {
   "cell_type": "code",
   "execution_count": 190,
   "id": "506974cd-4667-4356-b761-e55edfb56c1a",
   "metadata": {
    "tags": []
   },
   "outputs": [],
   "source": [
    "df_val_processed = align_features(df_train, df_ll_ohe)"
   ]
  },
  {
   "cell_type": "code",
   "execution_count": 191,
   "id": "03708fe5-f625-465b-a0ed-601df3cb4b36",
   "metadata": {
    "tags": []
   },
   "outputs": [],
   "source": [
    "# target variable is not included in the unseen data\n",
    "y_actual = df_val_processed['invoice_status_code'].copy()\n",
    "X_unseen = df_val_processed.drop('invoice_status_code', axis=1, errors='ignore')"
   ]
  },
  {
   "cell_type": "code",
   "execution_count": 192,
   "id": "cc0f4033-a70d-47f8-b067-5fa3078533ab",
   "metadata": {
    "tags": []
   },
   "outputs": [],
   "source": [
    "if 'Unnamed: 0' in X_unseen.columns:\n",
    "    X_unseen = X_unseen.drop('Unnamed: 0', axis=1)"
   ]
  },
  {
   "cell_type": "code",
   "execution_count": 193,
   "id": "5be92af9-da7e-4107-8dea-24e67c2cd2d6",
   "metadata": {
    "tags": []
   },
   "outputs": [],
   "source": [
    "# Make predictions\n",
    "predictions = line_model.predict(X_unseen)"
   ]
  },
  {
   "cell_type": "code",
   "execution_count": 194,
   "id": "88933c1b-060d-4741-aa21-27a92d8a0de3",
   "metadata": {
    "tags": []
   },
   "outputs": [],
   "source": [
    "# Create a DataFrame for the predictions\n",
    "df_predictions = pd.DataFrame(predictions, columns=['predictions'])\n",
    "\n",
    "# Append the actual values\n",
    "df_predictions['actual'] = y_actual.reset_index(drop=True)  # Reset index to ensure alignment if needed"
   ]
  },
  {
   "cell_type": "code",
   "execution_count": 195,
   "id": "166b0b48-4de0-4a86-b9a3-33f38c9fafcf",
   "metadata": {
    "tags": []
   },
   "outputs": [
    {
     "name": "stdout",
     "output_type": "stream",
     "text": [
      "Accuracy: 0.9424\n",
      "Precision: 0.9424\n",
      "Recall: 0.9424\n",
      "F1 Score: 0.9424\n"
     ]
    }
   ],
   "source": [
    "# Calculate accuracy\n",
    "accuracy = accuracy_score(df_predictions['actual'], df_predictions['predictions'])\n",
    "print(f'Accuracy: {accuracy:.4f}')\n",
    "\n",
    "# Calculate precision\n",
    "precision = precision_score(df_predictions['actual'], df_predictions['predictions'], average='weighted')\n",
    "print(f'Precision: {precision:.4f}')\n",
    "\n",
    "# Calculate recall\n",
    "recall = recall_score(df_predictions['actual'], df_predictions['predictions'], average='weighted')\n",
    "print(f'Recall: {recall:.4f}')\n",
    "\n",
    "# Calculate F1 score\n",
    "f1 = f1_score(df_predictions['actual'], df_predictions['predictions'], average='weighted')\n",
    "print(f'F1 Score: {f1:.4f}')"
   ]
  },
  {
   "cell_type": "code",
   "execution_count": null,
   "id": "b7a141e6-6f69-4560-b69a-456885b084fd",
   "metadata": {},
   "outputs": [],
   "source": []
  },
  {
   "cell_type": "code",
   "execution_count": null,
   "id": "853504be-e2c8-4a4d-bbdf-895fa9e3520c",
   "metadata": {},
   "outputs": [],
   "source": []
  },
  {
   "cell_type": "code",
   "execution_count": null,
   "id": "3a5db6e1-1813-494f-b5f2-54475d6f4af1",
   "metadata": {},
   "outputs": [],
   "source": []
  },
  {
   "cell_type": "code",
   "execution_count": null,
   "id": "e14d1d5e-8ef3-420d-a0f7-8dab7d891312",
   "metadata": {},
   "outputs": [],
   "source": []
  },
  {
   "cell_type": "code",
   "execution_count": null,
   "id": "df1cc665-4c93-46d9-8932-4ecb0c84d987",
   "metadata": {},
   "outputs": [],
   "source": []
  },
  {
   "cell_type": "code",
   "execution_count": null,
   "id": "4ef69292-465e-4b00-a648-1738a057cf16",
   "metadata": {},
   "outputs": [],
   "source": []
  },
  {
   "cell_type": "code",
   "execution_count": null,
   "id": "5145d796-1cec-44dd-a1b7-cd750d673942",
   "metadata": {},
   "outputs": [],
   "source": []
  },
  {
   "cell_type": "code",
   "execution_count": null,
   "id": "fced3783-fa55-4eed-9fc3-344c6fae2d32",
   "metadata": {},
   "outputs": [],
   "source": []
  }
 ],
 "metadata": {
  "kernelspec": {
   "display_name": "Python 3 (ipykernel)",
   "language": "python",
   "name": "python3"
  },
  "language_info": {
   "codemirror_mode": {
    "name": "ipython",
    "version": 3
   },
   "file_extension": ".py",
   "mimetype": "text/x-python",
   "name": "python",
   "nbconvert_exporter": "python",
   "pygments_lexer": "ipython3",
   "version": "3.8.17"
  }
 },
 "nbformat": 4,
 "nbformat_minor": 5
}
