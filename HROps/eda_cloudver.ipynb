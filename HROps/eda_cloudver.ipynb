{
 "cells": [
  {
   "cell_type": "markdown",
   "id": "04ac267a-cc28-4266-9f4a-87547fb198bb",
   "metadata": {},
   "source": [
    "### OCI Data Science - Useful Tips\n",
    "<details>\n",
    "<summary><font size=\"2\">Check for Public Internet Access</font></summary>\n",
    "\n",
    "```python\n",
    "import requests\n",
    "response = requests.get(\"https://oracle.com\")\n",
    "assert response.status_code==200, \"Internet connection failed\"\n",
    "```\n",
    "</details>\n",
    "<details>\n",
    "<summary><font size=\"2\">Helpful Documentation </font></summary>\n",
    "<ul><li><a href=\"https://docs.cloud.oracle.com/en-us/iaas/data-science/using/data-science.htm\">Data Science Service Documentation</a></li>\n",
    "<li><a href=\"https://docs.cloud.oracle.com/iaas/tools/ads-sdk/latest/index.html\">ADS documentation</a></li>\n",
    "</ul>\n",
    "</details>\n",
    "<details>\n",
    "<summary><font size=\"2\">Typical Cell Imports and Settings for ADS</font></summary>\n",
    "\n",
    "```python\n",
    "%load_ext autoreload\n",
    "%autoreload 2\n",
    "%matplotlib inline\n",
    "\n",
    "import warnings\n",
    "warnings.filterwarnings('ignore')\n",
    "\n",
    "import logging\n",
    "logging.basicConfig(format='%(levelname)s:%(message)s', level=logging.ERROR)\n",
    "\n",
    "import ads\n",
    "from ads.dataset.factory import DatasetFactory\n",
    "from ads.automl.provider import OracleAutoMLProvider\n",
    "from ads.automl.driver import AutoML\n",
    "from ads.evaluations.evaluator import ADSEvaluator\n",
    "from ads.common.data import ADSData\n",
    "from ads.explanations.explainer import ADSExplainer\n",
    "from ads.explanations.mlx_global_explainer import MLXGlobalExplainer\n",
    "from ads.explanations.mlx_local_explainer import MLXLocalExplainer\n",
    "from ads.catalog.model import ModelCatalog\n",
    "from ads.common.model_artifact import ModelArtifact\n",
    "```\n",
    "</details>\n",
    "<details>\n",
    "<summary><font size=\"2\">Useful Environment Variables</font></summary>\n",
    "\n",
    "```python\n",
    "import os\n",
    "print(os.environ[\"NB_SESSION_COMPARTMENT_OCID\"])\n",
    "print(os.environ[\"PROJECT_OCID\"])\n",
    "print(os.environ[\"USER_OCID\"])\n",
    "print(os.environ[\"TENANCY_OCID\"])\n",
    "print(os.environ[\"NB_REGION\"])\n",
    "```\n",
    "</details>"
   ]
  },
  {
   "cell_type": "markdown",
   "id": "106f4327-269a-41ab-bbb7-823b1f55bf6b",
   "metadata": {},
   "source": [
    "•\tAny Relationship with Attrition & below factors\n",
    "o\tRegion / country in which consultant is working\n",
    "o\tDuration in same project\n",
    "o\tOvertime in the project\n",
    "o\tCases where there is no Promotion \n",
    "o\tTenure of Service\n",
    "o\tTraining hour / Internal initiatives\n",
    "o\tParameter to be linked are – Employee level, Onsite / offshore, Domain / Skill Role, Skill matrix, Location of the consultant, Pillar\n",
    "o\tFuture Forecast \n"
   ]
  },
  {
   "cell_type": "code",
   "execution_count": 1,
   "id": "9ec5d516-4157-406c-84e8-269325ced880",
   "metadata": {
    "tags": []
   },
   "outputs": [
    {
     "name": "stdout",
     "output_type": "stream",
     "text": [
      "2.9.1\n"
     ]
    }
   ],
   "source": [
    "import ads\n",
    "\n",
    "print(ads.__version__)"
   ]
  },
  {
   "cell_type": "code",
   "execution_count": 1,
   "id": "cc644b75-51a2-46d5-80ff-8b608cbc2a5b",
   "metadata": {
    "tags": []
   },
   "outputs": [],
   "source": [
    "import ads\n",
    "import pandas as pd\n",
    "\n",
    "ads.set_auth(\"resource_principal\")"
   ]
  },
  {
   "cell_type": "code",
   "execution_count": 2,
   "id": "4f82af01-1877-4b2c-a35f-57194046b255",
   "metadata": {
    "tags": []
   },
   "outputs": [
    {
     "name": "stdout",
     "output_type": "stream",
     "text": [
      "Requirement already satisfied: pyxlsb in /opt/conda/lib/python3.8/site-packages (1.0.10)\n"
     ]
    }
   ],
   "source": [
    "!pip install pyxlsb"
   ]
  },
  {
   "cell_type": "code",
   "execution_count": 3,
   "id": "de99190f-989c-409a-8e17-617b34bc04d1",
   "metadata": {
    "tags": []
   },
   "outputs": [],
   "source": [
    "bucket_name = \"HROps\"\n",
    "namespace = \"gc35013\"\n",
    "\n",
    "\n",
    "file_name = \"AI-ML Data Input for FY22 , FY23 and FY24(Q1Q2) 12Dec2023.xlsb\"\n",
    "df = pd.read_excel(\n",
    "    f\"oci://{bucket_name}@{namespace}/{file_name}\",\n",
    "    storage_options=ads.common.auth.default_signer(),\n",
    "engine = 'pyxlsb')"
   ]
  },
  {
   "cell_type": "code",
   "execution_count": 9,
   "id": "a6fcf9fe-c2ec-4f26-a55d-f24b04085928",
   "metadata": {
    "tags": []
   },
   "outputs": [
    {
     "data": {
      "text/html": [
       "<div>\n",
       "<style scoped>\n",
       "    .dataframe tbody tr th:only-of-type {\n",
       "        vertical-align: middle;\n",
       "    }\n",
       "\n",
       "    .dataframe tbody tr th {\n",
       "        vertical-align: top;\n",
       "    }\n",
       "\n",
       "    .dataframe thead th {\n",
       "        text-align: right;\n",
       "    }\n",
       "</style>\n",
       "<table border=\"1\" class=\"dataframe\">\n",
       "  <thead>\n",
       "    <tr style=\"text-align: right;\">\n",
       "      <th></th>\n",
       "      <th>Fiscal Year</th>\n",
       "      <th>Qtr</th>\n",
       "      <th>Consultant Mail ID</th>\n",
       "      <th>Control</th>\n",
       "      <th>E/C</th>\n",
       "      <th>Level</th>\n",
       "      <th>Manager</th>\n",
       "      <th>Pillar</th>\n",
       "      <th>Capacity Hours</th>\n",
       "      <th>Billable Hours</th>\n",
       "      <th>Domain 1</th>\n",
       "      <th>Domain 1.1</th>\n",
       "      <th>Resource Primary Skill</th>\n",
       "      <th>Secondary Primary Skill</th>\n",
       "    </tr>\n",
       "  </thead>\n",
       "  <tbody>\n",
       "    <tr>\n",
       "      <th>0</th>\n",
       "      <td>FY-22</td>\n",
       "      <td>Q1</td>\n",
       "      <td>a.aasik@oracle.com</td>\n",
       "      <td>FY-22Q1a.aasik@oracle.comC</td>\n",
       "      <td>C</td>\n",
       "      <td>C</td>\n",
       "      <td>jitendra.js.singh@oracle.com</td>\n",
       "      <td>CX Retail</td>\n",
       "      <td>520.0</td>\n",
       "      <td>432.0</td>\n",
       "      <td>App</td>\n",
       "      <td>CX</td>\n",
       "      <td>Global/CX/Technical Consultant</td>\n",
       "      <td>Global-R2/CX/Integration</td>\n",
       "    </tr>\n",
       "    <tr>\n",
       "      <th>1</th>\n",
       "      <td>FY-22</td>\n",
       "      <td>Q1</td>\n",
       "      <td>a.abhinav.s.sharma@oracle.com</td>\n",
       "      <td>FY-22Q1a.abhinav.s.sharma@oracle.comE</td>\n",
       "      <td>E</td>\n",
       "      <td>2</td>\n",
       "      <td>nitin.singh@oracle.com</td>\n",
       "      <td>CX Retail</td>\n",
       "      <td>520.0</td>\n",
       "      <td>504.0</td>\n",
       "      <td>App</td>\n",
       "      <td>CX</td>\n",
       "      <td>Global/CX/Technical Consultant</td>\n",
       "      <td>Global-R2/CX/Siebel/Data Migration(EIM)</td>\n",
       "    </tr>\n",
       "    <tr>\n",
       "      <th>2</th>\n",
       "      <td>FY-22</td>\n",
       "      <td>Q1</td>\n",
       "      <td>a.ashok.padmanaban@oracle.com</td>\n",
       "      <td>FY-22Q1a.ashok.padmanaban@oracle.comE</td>\n",
       "      <td>E</td>\n",
       "      <td>4</td>\n",
       "      <td>sreenivasa.venkatasubbarao@oracle.com</td>\n",
       "      <td>ERP SCM</td>\n",
       "      <td>280.0</td>\n",
       "      <td>192.0</td>\n",
       "      <td>App</td>\n",
       "      <td>SCM</td>\n",
       "      <td>Global/SCM/Functional Consultant</td>\n",
       "      <td>Global-R2/SCM/Procurement</td>\n",
       "    </tr>\n",
       "    <tr>\n",
       "      <th>3</th>\n",
       "      <td>FY-22</td>\n",
       "      <td>Q1</td>\n",
       "      <td>a.c.arun.thyagarajan@oracle.com</td>\n",
       "      <td>FY-22Q1a.c.arun.thyagarajan@oracle.comE</td>\n",
       "      <td>E</td>\n",
       "      <td>5</td>\n",
       "      <td>kishore.ludhani@oracle.com</td>\n",
       "      <td>ERP SCM</td>\n",
       "      <td>136.0</td>\n",
       "      <td>49.0</td>\n",
       "      <td>App</td>\n",
       "      <td>SCM</td>\n",
       "      <td>Global/SCM/Lead</td>\n",
       "      <td>Global-R2/SCM/Procurement</td>\n",
       "    </tr>\n",
       "    <tr>\n",
       "      <th>4</th>\n",
       "      <td>FY-22</td>\n",
       "      <td>Q1</td>\n",
       "      <td>a.rama.devi@oracle.com</td>\n",
       "      <td>FY-22Q1a.rama.devi@oracle.comE</td>\n",
       "      <td>E</td>\n",
       "      <td>4</td>\n",
       "      <td>anil.kumar.ragampeta@oracle.com</td>\n",
       "      <td>HCM</td>\n",
       "      <td>520.0</td>\n",
       "      <td>528.0</td>\n",
       "      <td>App</td>\n",
       "      <td>HCM</td>\n",
       "      <td>Global/HCM/Functional Consultant</td>\n",
       "      <td>Global-R2/HCM Cloud/Payroll/Functional</td>\n",
       "    </tr>\n",
       "  </tbody>\n",
       "</table>\n",
       "</div>"
      ],
      "text/plain": [
       "  Fiscal Year Qtr               Consultant Mail ID  \\\n",
       "0       FY-22  Q1               a.aasik@oracle.com   \n",
       "1       FY-22  Q1    a.abhinav.s.sharma@oracle.com   \n",
       "2       FY-22  Q1    a.ashok.padmanaban@oracle.com   \n",
       "3       FY-22  Q1  a.c.arun.thyagarajan@oracle.com   \n",
       "4       FY-22  Q1           a.rama.devi@oracle.com   \n",
       "\n",
       "                                   Control E/C Level  \\\n",
       "0               FY-22Q1a.aasik@oracle.comC   C     C   \n",
       "1    FY-22Q1a.abhinav.s.sharma@oracle.comE   E     2   \n",
       "2    FY-22Q1a.ashok.padmanaban@oracle.comE   E     4   \n",
       "3  FY-22Q1a.c.arun.thyagarajan@oracle.comE   E     5   \n",
       "4           FY-22Q1a.rama.devi@oracle.comE   E     4   \n",
       "\n",
       "                                 Manager     Pillar  Capacity Hours  \\\n",
       "0           jitendra.js.singh@oracle.com  CX Retail           520.0   \n",
       "1                 nitin.singh@oracle.com  CX Retail           520.0   \n",
       "2  sreenivasa.venkatasubbarao@oracle.com    ERP SCM           280.0   \n",
       "3             kishore.ludhani@oracle.com    ERP SCM           136.0   \n",
       "4        anil.kumar.ragampeta@oracle.com        HCM           520.0   \n",
       "\n",
       "   Billable Hours Domain 1 Domain 1.1            Resource Primary Skill  \\\n",
       "0           432.0      App         CX    Global/CX/Technical Consultant   \n",
       "1           504.0      App         CX    Global/CX/Technical Consultant   \n",
       "2           192.0      App        SCM  Global/SCM/Functional Consultant   \n",
       "3            49.0      App        SCM                   Global/SCM/Lead   \n",
       "4           528.0      App        HCM  Global/HCM/Functional Consultant   \n",
       "\n",
       "                   Secondary Primary Skill  \n",
       "0                 Global-R2/CX/Integration  \n",
       "1  Global-R2/CX/Siebel/Data Migration(EIM)  \n",
       "2                Global-R2/SCM/Procurement  \n",
       "3                Global-R2/SCM/Procurement  \n",
       "4   Global-R2/HCM Cloud/Payroll/Functional  "
      ]
     },
     "execution_count": 9,
     "metadata": {},
     "output_type": "execute_result"
    }
   ],
   "source": [
    "df.head()"
   ]
  },
  {
   "cell_type": "code",
   "execution_count": 4,
   "id": "36a093db-694d-4167-a8aa-5683e1fd7d65",
   "metadata": {
    "tags": []
   },
   "outputs": [],
   "source": [
    "#store data from mutliple sheets to a variable\n",
    "capacity = pd.read_excel(\n",
    "    f\"oci://{bucket_name}@{namespace}/{file_name}\",\n",
    "    storage_options=ads.common.auth.default_signer(),\n",
    "sheet_name = 'Capacity')\n",
    "billable = pd.read_excel(\n",
    "    f\"oci://{bucket_name}@{namespace}/{file_name}\",\n",
    "    storage_options=ads.common.auth.default_signer(),\n",
    "sheet_name = 'Billable Days')\n",
    "non_billable = pd.read_excel(\n",
    "    f\"oci://{bucket_name}@{namespace}/{file_name}\",\n",
    "    storage_options=ads.common.auth.default_signer(),\n",
    "sheet_name = 'NB Days')\n",
    "new_joiner = pd.read_excel(\n",
    "    f\"oci://{bucket_name}@{namespace}/{file_name}\",\n",
    "    storage_options=ads.common.auth.default_signer(),\n",
    "sheet_name = 'New Joiners ')\n",
    "exit = pd.read_excel(\n",
    "    f\"oci://{bucket_name}@{namespace}/{file_name}\",\n",
    "    storage_options=ads.common.auth.default_signer(),\n",
    "sheet_name = 'EXIT')\n",
    "promotion_list = pd.read_excel(\n",
    "    f\"oci://{bucket_name}@{namespace}/{file_name}\",\n",
    "    storage_options=ads.common.auth.default_signer(),\n",
    "sheet_name = 'Promotion List')\n",
    "location = pd.read_excel(\n",
    "    f\"oci://{bucket_name}@{namespace}/{file_name}\",\n",
    "    storage_options=ads.common.auth.default_signer(),\n",
    "sheet_name = 'Location')\n",
    "t_d_grad = pd.read_excel(\n",
    "    f\"oci://{bucket_name}@{namespace}/{file_name}\",\n",
    "    storage_options=ads.common.auth.default_signer(),\n",
    "sheet_name = 'T&D and Grads')\n",
    "act_emp = pd.read_excel(\n",
    "    f\"oci://{bucket_name}@{namespace}/{file_name}\",\n",
    "    storage_options=ads.common.auth.default_signer(),\n",
    "sheet_name = 'Active Employee and Contractors')\n",
    "ons_off = pd.read_excel(\n",
    "    f\"oci://{bucket_name}@{namespace}/{file_name}\",\n",
    "    storage_options=ads.common.auth.default_signer(),\n",
    "sheet_name = 'Onsite Offshore details')\n",
    "monthly_capacity = pd.read_excel(\n",
    "    f\"oci://{bucket_name}@{namespace}/{file_name}\",\n",
    "    storage_options=ads.common.auth.default_signer(),\n",
    "sheet_name = 'Monthly Capacity')\n",
    "allocation = pd.read_excel(\n",
    "    f\"oci://{bucket_name}@{namespace}/{file_name}\",\n",
    "    storage_options=ads.common.auth.default_signer(),\n",
    "sheet_name = 'Allocation')\n",
    "consultant = pd.read_excel(\n",
    "    f\"oci://{bucket_name}@{namespace}/{file_name}\",\n",
    "    storage_options=ads.common.auth.default_signer(),\n",
    "sheet_name = 'Consultants in Same project')\n",
    "utilization = pd.read_excel(\n",
    "    f\"oci://{bucket_name}@{namespace}/{file_name}\",\n",
    "    storage_options=ads.common.auth.default_signer(),\n",
    "sheet_name = 'Ex GSD FY22 Utl Details')\n",
    "sheet1 = pd.read_excel(\n",
    "    f\"oci://{bucket_name}@{namespace}/{file_name}\",\n",
    "    storage_options=ads.common.auth.default_signer(),\n",
    "sheet_name = 'Sheet1')\n",
    "sheet2 = pd.read_excel(\n",
    "    f\"oci://{bucket_name}@{namespace}/{file_name}\",\n",
    "    storage_options=ads.common.auth.default_signer(),\n",
    "sheet_name = 'Sheet2')\n",
    "sheet5 = pd.read_excel(\n",
    "    f\"oci://{bucket_name}@{namespace}/{file_name}\",\n",
    "    storage_options=ads.common.auth.default_signer(),\n",
    "sheet_name = 'Sheet5')"
   ]
  },
  {
   "cell_type": "code",
   "execution_count": 16,
   "id": "7f2158a0-f501-4ccc-8585-1050ef1ba7fb",
   "metadata": {
    "tags": []
   },
   "outputs": [
    {
     "name": "stdout",
     "output_type": "stream",
     "text": [
      "<class 'pandas.core.frame.DataFrame'>\n",
      "RangeIndex: 38376 entries, 0 to 38375\n",
      "Data columns (total 14 columns):\n",
      " #   Column                   Non-Null Count  Dtype  \n",
      "---  ------                   --------------  -----  \n",
      " 0   Fiscal Year              38376 non-null  object \n",
      " 1   Qtr                      38376 non-null  object \n",
      " 2   Consultant Mail ID       38376 non-null  object \n",
      " 3   Control                  38376 non-null  object \n",
      " 4   E/C                      38376 non-null  object \n",
      " 5   Level                    38376 non-null  object \n",
      " 6   Manager                  38376 non-null  object \n",
      " 7   Pillar                   38376 non-null  object \n",
      " 8   Capacity Hours           38353 non-null  float64\n",
      " 9   Billable Hours           38353 non-null  float64\n",
      " 10  Domain 1                 38376 non-null  object \n",
      " 11  Domain 1.1               38376 non-null  object \n",
      " 12  Resource Primary Skill   38162 non-null  object \n",
      " 13  Secondary Primary Skill  37129 non-null  object \n",
      "dtypes: float64(2), object(12)\n",
      "memory usage: 4.1+ MB\n"
     ]
    }
   ],
   "source": [
    "capacity.info()"
   ]
  },
  {
   "cell_type": "markdown",
   "id": "be86c618-4624-43dd-8e74-dbd02232f88a",
   "metadata": {},
   "source": [
    "### Region in which employee is working"
   ]
  },
  {
   "cell_type": "code",
   "execution_count": 28,
   "id": "a25cfef0-a07b-4bae-bfef-86ff8ba593d9",
   "metadata": {
    "tags": []
   },
   "outputs": [
    {
     "data": {
      "text/plain": [
       "Index(['Email ID', 'Employee / Contractor', 'Location'], dtype='object')"
      ]
     },
     "execution_count": 28,
     "metadata": {},
     "output_type": "execute_result"
    }
   ],
   "source": [
    "# let's investigate the sheet with region column\n",
    "location.columns"
   ]
  },
  {
   "cell_type": "code",
   "execution_count": 18,
   "id": "04212228-af9c-43a3-a723-e5ee9afb6ec1",
   "metadata": {
    "tags": []
   },
   "outputs": [
    {
     "data": {
      "text/plain": [
       "(5954, 3)"
      ]
     },
     "execution_count": 18,
     "metadata": {},
     "output_type": "execute_result"
    }
   ],
   "source": [
    "location.shape"
   ]
  },
  {
   "cell_type": "code",
   "execution_count": 19,
   "id": "167b1c37-33af-4150-b7c0-3aed38b92fb8",
   "metadata": {
    "tags": []
   },
   "outputs": [
    {
     "data": {
      "text/plain": [
       "5736"
      ]
     },
     "execution_count": 19,
     "metadata": {},
     "output_type": "execute_result"
    }
   ],
   "source": [
    "location['Consultant Mail ID'].nunique()"
   ]
  },
  {
   "cell_type": "code",
   "execution_count": 21,
   "id": "1c1ef2af-c32b-4a59-b3ef-308137f58545",
   "metadata": {
    "tags": []
   },
   "outputs": [
    {
     "name": "stdout",
     "output_type": "stream",
     "text": [
      "Collecting seaborn\n",
      "  Downloading seaborn-0.13.2-py3-none-any.whl.metadata (5.4 kB)\n",
      "Requirement already satisfied: numpy!=1.24.0,>=1.20 in /opt/conda/lib/python3.8/site-packages (from seaborn) (1.24.4)\n",
      "Requirement already satisfied: pandas>=1.2 in /opt/conda/lib/python3.8/site-packages (from seaborn) (2.0.3)\n",
      "Requirement already satisfied: matplotlib!=3.6.1,>=3.4 in /opt/conda/lib/python3.8/site-packages (from seaborn) (3.7.5)\n",
      "Requirement already satisfied: contourpy>=1.0.1 in /opt/conda/lib/python3.8/site-packages (from matplotlib!=3.6.1,>=3.4->seaborn) (1.1.1)\n",
      "Requirement already satisfied: cycler>=0.10 in /opt/conda/lib/python3.8/site-packages (from matplotlib!=3.6.1,>=3.4->seaborn) (0.12.1)\n",
      "Requirement already satisfied: fonttools>=4.22.0 in /opt/conda/lib/python3.8/site-packages (from matplotlib!=3.6.1,>=3.4->seaborn) (4.49.0)\n",
      "Requirement already satisfied: kiwisolver>=1.0.1 in /opt/conda/lib/python3.8/site-packages (from matplotlib!=3.6.1,>=3.4->seaborn) (1.4.5)\n",
      "Requirement already satisfied: packaging>=20.0 in /opt/conda/lib/python3.8/site-packages (from matplotlib!=3.6.1,>=3.4->seaborn) (23.0)\n",
      "Requirement already satisfied: pillow>=6.2.0 in /opt/conda/lib/python3.8/site-packages (from matplotlib!=3.6.1,>=3.4->seaborn) (10.0.1)\n",
      "Requirement already satisfied: pyparsing>=2.3.1 in /opt/conda/lib/python3.8/site-packages (from matplotlib!=3.6.1,>=3.4->seaborn) (3.1.1)\n",
      "Requirement already satisfied: python-dateutil>=2.7 in /opt/conda/lib/python3.8/site-packages (from matplotlib!=3.6.1,>=3.4->seaborn) (2.8.2)\n",
      "Requirement already satisfied: importlib-resources>=3.2.0 in /opt/conda/lib/python3.8/site-packages (from matplotlib!=3.6.1,>=3.4->seaborn) (6.1.2)\n",
      "Requirement already satisfied: pytz>=2020.1 in /opt/conda/lib/python3.8/site-packages (from pandas>=1.2->seaborn) (2024.1)\n",
      "Requirement already satisfied: tzdata>=2022.1 in /opt/conda/lib/python3.8/site-packages (from pandas>=1.2->seaborn) (2024.1)\n",
      "Requirement already satisfied: zipp>=3.1.0 in /opt/conda/lib/python3.8/site-packages (from importlib-resources>=3.2.0->matplotlib!=3.6.1,>=3.4->seaborn) (3.17.0)\n",
      "Requirement already satisfied: six>=1.5 in /opt/conda/lib/python3.8/site-packages (from python-dateutil>=2.7->matplotlib!=3.6.1,>=3.4->seaborn) (1.16.0)\n",
      "Downloading seaborn-0.13.2-py3-none-any.whl (294 kB)\n",
      "\u001b[2K   \u001b[90m━━━━━━━━━━━━━━━━━━━━━━━━━━━━━━━━━━━━━━━━\u001b[0m \u001b[32m294.9/294.9 kB\u001b[0m \u001b[31m27.9 MB/s\u001b[0m eta \u001b[36m0:00:00\u001b[0m\n",
      "\u001b[?25hInstalling collected packages: seaborn\n",
      "Successfully installed seaborn-0.13.2\n"
     ]
    }
   ],
   "source": [
    "!pip install seaborn"
   ]
  },
  {
   "cell_type": "code",
   "execution_count": 5,
   "id": "fcc457c6-8590-4082-868f-7c3e2655ab62",
   "metadata": {
    "tags": []
   },
   "outputs": [],
   "source": [
    "import seaborn as sns"
   ]
  },
  {
   "cell_type": "code",
   "execution_count": 27,
   "id": "44a0b837-ecb1-4d6b-a674-ce50c3e528cb",
   "metadata": {
    "tags": []
   },
   "outputs": [
    {
     "data": {
      "text/plain": [
       "<Axes: xlabel='count', ylabel='Location'>"
      ]
     },
     "execution_count": 27,
     "metadata": {},
     "output_type": "execute_result"
    },
    {
     "data": {
      "image/png": "[encoded data removed]",
      "text/plain": [
       "<Figure size 640x480 with 1 Axes>"
      ]
     },
     "metadata": {},
     "output_type": "display_data"
    }
   ],
   "source": [
    "import matplotlib.pyplot as plt\n",
    "sns.countplot(location, y = 'Location', orient = 'h')\n",
    "# plt.show()"
   ]
  },
  {
   "cell_type": "code",
   "execution_count": 6,
   "id": "b885172b-ea36-4cf3-9dcb-81b2ec1b8f28",
   "metadata": {
    "tags": []
   },
   "outputs": [],
   "source": [
    "location['Location'] = location['Location'].replace(['Bangalore'], 'Bengaluru')\n",
    "location['Location'] = location['Location'].replace(['HYDERABAD'], 'Hyderabad')"
   ]
  },
  {
   "cell_type": "code",
   "execution_count": 29,
   "id": "fc42f60f-1bff-42f0-a497-7c602975eb4f",
   "metadata": {
    "tags": []
   },
   "outputs": [
    {
     "data": {
      "text/plain": [
       "<Axes: xlabel='count', ylabel='Location'>"
      ]
     },
     "execution_count": 29,
     "metadata": {},
     "output_type": "execute_result"
    },
    {
     "data": {
      "image/png": "[encoded data removed]",
      "text/plain": [
       "<Figure size 640x480 with 1 Axes>"
      ]
     },
     "metadata": {},
     "output_type": "display_data"
    }
   ],
   "source": [
    "# replotting to see if the location typos have been corrected\n",
    "sns.countplot(location, y = 'Location', orient = 'h')"
   ]
  },
  {
   "cell_type": "markdown",
   "id": "cdf3e4de-87b3-4a63-bc1b-c50c2190a0d5",
   "metadata": {
    "tags": []
   },
   "source": [
    "### Cases where there is no promotion"
   ]
  },
  {
   "cell_type": "code",
   "execution_count": 31,
   "id": "2913e817-0876-4564-949d-29c6a05f6156",
   "metadata": {
    "tags": []
   },
   "outputs": [
    {
     "data": {
      "text/html": [
       "<div>\n",
       "<style scoped>\n",
       "    .dataframe tbody tr th:only-of-type {\n",
       "        vertical-align: middle;\n",
       "    }\n",
       "\n",
       "    .dataframe tbody tr th {\n",
       "        vertical-align: top;\n",
       "    }\n",
       "\n",
       "    .dataframe thead th {\n",
       "        text-align: right;\n",
       "    }\n",
       "</style>\n",
       "<table border=\"1\" class=\"dataframe\">\n",
       "  <thead>\n",
       "    <tr style=\"text-align: right;\">\n",
       "      <th></th>\n",
       "      <th>Fiscal Year</th>\n",
       "      <th>Email ID</th>\n",
       "      <th>New Level</th>\n",
       "    </tr>\n",
       "  </thead>\n",
       "  <tbody>\n",
       "    <tr>\n",
       "      <th>0</th>\n",
       "      <td>FY-22</td>\n",
       "      <td>sarat.palli@oracle.com</td>\n",
       "      <td>8</td>\n",
       "    </tr>\n",
       "    <tr>\n",
       "      <th>1</th>\n",
       "      <td>FY-22</td>\n",
       "      <td>sneha.mishra@oracle.com</td>\n",
       "      <td>6S</td>\n",
       "    </tr>\n",
       "    <tr>\n",
       "      <th>2</th>\n",
       "      <td>FY-22</td>\n",
       "      <td>padmini.shankar.rao@oracle.com</td>\n",
       "      <td>6S</td>\n",
       "    </tr>\n",
       "    <tr>\n",
       "      <th>3</th>\n",
       "      <td>FY-22</td>\n",
       "      <td>anand.deshpande@oracle.com</td>\n",
       "      <td>8</td>\n",
       "    </tr>\n",
       "    <tr>\n",
       "      <th>4</th>\n",
       "      <td>FY-22</td>\n",
       "      <td>bhanu.revuri@oracle.com</td>\n",
       "      <td>7T</td>\n",
       "    </tr>\n",
       "  </tbody>\n",
       "</table>\n",
       "</div>"
      ],
      "text/plain": [
       "  Fiscal Year                        Email ID New Level\n",
       "0       FY-22          sarat.palli@oracle.com         8\n",
       "1       FY-22         sneha.mishra@oracle.com        6S\n",
       "2       FY-22  padmini.shankar.rao@oracle.com        6S\n",
       "3       FY-22      anand.deshpande@oracle.com         8\n",
       "4       FY-22         bhanu.revuri@oracle.com        7T"
      ]
     },
     "execution_count": 31,
     "metadata": {},
     "output_type": "execute_result"
    }
   ],
   "source": [
    "promotion_list.head()"
   ]
  },
  {
   "cell_type": "code",
   "execution_count": 7,
   "id": "1a70a1d6-b6a6-4a9d-a7e3-9e6bed3e8c86",
   "metadata": {
    "tags": []
   },
   "outputs": [],
   "source": [
    "promotion_list['promotion_tag'] = 1"
   ]
  },
  {
   "cell_type": "code",
   "execution_count": 8,
   "id": "c67a50e9-ab59-4cf1-9f0e-00a3e79ae9cf",
   "metadata": {
    "tags": []
   },
   "outputs": [
    {
     "data": {
      "text/plain": [
       "promotion_tag\n",
       "1    717\n",
       "Name: count, dtype: int64"
      ]
     },
     "execution_count": 8,
     "metadata": {},
     "output_type": "execute_result"
    }
   ],
   "source": [
    "promotion_list['promotion_tag'].value_counts()"
   ]
  },
  {
   "cell_type": "code",
   "execution_count": 9,
   "id": "f96a7a35-50fc-4f4d-b935-115f1b59d0ed",
   "metadata": {
    "tags": []
   },
   "outputs": [],
   "source": [
    "# merge promotion and location table\n",
    "location = location.rename(columns={'Consultant Mail ID':'Email ID'})\n",
    "promotion_with_location = pd.merge(location, promotion_list[['Email ID','promotion_tag']], on = 'Email ID', how = 'left')\n",
    "promotion_with_location['promotion_tag'].fillna(0, inplace = True)\n",
    "promotion_with_location['promotion_tag'] = promotion_with_location['promotion_tag'].astype(int)"
   ]
  },
  {
   "cell_type": "code",
   "execution_count": 35,
   "id": "8a99d283-9745-4601-896f-167ba120e560",
   "metadata": {
    "tags": []
   },
   "outputs": [
    {
     "data": {
      "text/plain": [
       "promotion_tag\n",
       "0    5280\n",
       "1     674\n",
       "Name: count, dtype: int64"
      ]
     },
     "execution_count": 35,
     "metadata": {},
     "output_type": "execute_result"
    }
   ],
   "source": [
    "promotion_with_location['promotion_tag'].value_counts()"
   ]
  },
  {
   "cell_type": "code",
   "execution_count": 36,
   "id": "ee42c52a-d211-42c4-b092-2a2a3bb60dfc",
   "metadata": {},
   "outputs": [
    {
     "data": {
      "text/html": [
       "<div>\n",
       "<style scoped>\n",
       "    .dataframe tbody tr th:only-of-type {\n",
       "        vertical-align: middle;\n",
       "    }\n",
       "\n",
       "    .dataframe tbody tr th {\n",
       "        vertical-align: top;\n",
       "    }\n",
       "\n",
       "    .dataframe thead th {\n",
       "        text-align: right;\n",
       "    }\n",
       "</style>\n",
       "<table border=\"1\" class=\"dataframe\">\n",
       "  <thead>\n",
       "    <tr style=\"text-align: right;\">\n",
       "      <th></th>\n",
       "      <th>Email ID</th>\n",
       "      <th>Employee / Contractor</th>\n",
       "      <th>Location</th>\n",
       "      <th>promotion_tag</th>\n",
       "    </tr>\n",
       "  </thead>\n",
       "  <tbody>\n",
       "    <tr>\n",
       "      <th>0</th>\n",
       "      <td>a.aasik@oracle.com</td>\n",
       "      <td>C</td>\n",
       "      <td>Chennai</td>\n",
       "      <td>0</td>\n",
       "    </tr>\n",
       "    <tr>\n",
       "      <th>1</th>\n",
       "      <td>a.abhinav.s.sharma@oracle.com</td>\n",
       "      <td>E</td>\n",
       "      <td>Bengaluru</td>\n",
       "      <td>0</td>\n",
       "    </tr>\n",
       "    <tr>\n",
       "      <th>2</th>\n",
       "      <td>a.abhishek.tiwari@oracle.com</td>\n",
       "      <td>C</td>\n",
       "      <td>Noida</td>\n",
       "      <td>0</td>\n",
       "    </tr>\n",
       "    <tr>\n",
       "      <th>3</th>\n",
       "      <td>a.anurag.kumar@oracle.com</td>\n",
       "      <td>E</td>\n",
       "      <td>Hyderabad</td>\n",
       "      <td>0</td>\n",
       "    </tr>\n",
       "    <tr>\n",
       "      <th>4</th>\n",
       "      <td>a.ashish.agarwal@oracle.com</td>\n",
       "      <td>E</td>\n",
       "      <td>Pune</td>\n",
       "      <td>0</td>\n",
       "    </tr>\n",
       "    <tr>\n",
       "      <th>...</th>\n",
       "      <td>...</td>\n",
       "      <td>...</td>\n",
       "      <td>...</td>\n",
       "      <td>...</td>\n",
       "    </tr>\n",
       "    <tr>\n",
       "      <th>5949</th>\n",
       "      <td>vijay.kumar.velpula@oracle.com</td>\n",
       "      <td>E</td>\n",
       "      <td>NaN</td>\n",
       "      <td>0</td>\n",
       "    </tr>\n",
       "    <tr>\n",
       "      <th>5950</th>\n",
       "      <td>vikas.andugula@oracle.com</td>\n",
       "      <td>E</td>\n",
       "      <td>NaN</td>\n",
       "      <td>0</td>\n",
       "    </tr>\n",
       "    <tr>\n",
       "      <th>5951</th>\n",
       "      <td>vinod.kumar.ponde.gopal.rao@oracle.com</td>\n",
       "      <td>C</td>\n",
       "      <td>NaN</td>\n",
       "      <td>0</td>\n",
       "    </tr>\n",
       "    <tr>\n",
       "      <th>5952</th>\n",
       "      <td>vishakha.m.modi@oracle.com</td>\n",
       "      <td>C</td>\n",
       "      <td>NaN</td>\n",
       "      <td>0</td>\n",
       "    </tr>\n",
       "    <tr>\n",
       "      <th>5953</th>\n",
       "      <td>zeeshan.ahmed.tabrez@oracle.com</td>\n",
       "      <td>C</td>\n",
       "      <td>NaN</td>\n",
       "      <td>0</td>\n",
       "    </tr>\n",
       "  </tbody>\n",
       "</table>\n",
       "<p>5954 rows × 4 columns</p>\n",
       "</div>"
      ],
      "text/plain": [
       "                                    Email ID Employee / Contractor   Location  \\\n",
       "0                         a.aasik@oracle.com                     C    Chennai   \n",
       "1              a.abhinav.s.sharma@oracle.com                     E  Bengaluru   \n",
       "2               a.abhishek.tiwari@oracle.com                     C      Noida   \n",
       "3                  a.anurag.kumar@oracle.com                     E  Hyderabad   \n",
       "4                a.ashish.agarwal@oracle.com                     E       Pune   \n",
       "...                                      ...                   ...        ...   \n",
       "5949          vijay.kumar.velpula@oracle.com                     E        NaN   \n",
       "5950               vikas.andugula@oracle.com                     E        NaN   \n",
       "5951  vinod.kumar.ponde.gopal.rao@oracle.com                     C        NaN   \n",
       "5952              vishakha.m.modi@oracle.com                     C        NaN   \n",
       "5953         zeeshan.ahmed.tabrez@oracle.com                     C        NaN   \n",
       "\n",
       "      promotion_tag  \n",
       "0                 0  \n",
       "1                 0  \n",
       "2                 0  \n",
       "3                 0  \n",
       "4                 0  \n",
       "...             ...  \n",
       "5949              0  \n",
       "5950              0  \n",
       "5951              0  \n",
       "5952              0  \n",
       "5953              0  \n",
       "\n",
       "[5954 rows x 4 columns]"
      ]
     },
     "execution_count": 36,
     "metadata": {},
     "output_type": "execute_result"
    }
   ],
   "source": [
    "promotion_with_location"
   ]
  },
  {
   "cell_type": "code",
   "execution_count": 10,
   "id": "539d87bd-3fef-4ec4-afbd-c23aca00bf03",
   "metadata": {},
   "outputs": [],
   "source": [
    "promotion_with_location['Location'] = promotion_with_location['Location'].fillna('nil')"
   ]
  },
  {
   "cell_type": "code",
   "execution_count": 44,
   "id": "2b008817-4029-4233-8572-0337cf5588f2",
   "metadata": {},
   "outputs": [
    {
     "data": {
      "text/plain": [
       "Email ID                 3\n",
       "Employee / Contractor    4\n",
       "Location                 0\n",
       "promotion_tag            0\n",
       "dtype: int64"
      ]
     },
     "execution_count": 44,
     "metadata": {},
     "output_type": "execute_result"
    }
   ],
   "source": [
    "promotion_with_location.isnull().sum()"
   ]
  },
  {
   "cell_type": "markdown",
   "id": "d896245e-5569-4032-b6ef-602cd34e426e",
   "metadata": {},
   "source": [
    "### Tenure of Service"
   ]
  },
  {
   "cell_type": "code",
   "execution_count": 11,
   "id": "e03ca55b-7d81-4319-8253-b338b5ea80d6",
   "metadata": {
    "tags": []
   },
   "outputs": [],
   "source": [
    "# reformatting the date columns since it is interprested as integers\n",
    "exit['Hire Date'] = pd.to_datetime(exit['Hire Date'], unit='D', origin='1899-12-30')\n",
    "exit['Separation Date'] = pd.to_datetime(exit['Separation Date'], unit = 'D', origin = '1899-12-30')\n",
    "from datetime import timedelta\n",
    "exit['diff_in_days'] = exit['Separation Date'] - exit['Hire Date']\n",
    "exit['diff_in_years'] = exit[\"diff_in_days\"] / timedelta(days=365)"
   ]
  },
  {
   "cell_type": "code",
   "execution_count": 17,
   "id": "3d033d01-1dc1-4882-bbf7-b2b5962483b2",
   "metadata": {
    "tags": []
   },
   "outputs": [
    {
     "data": {
      "text/plain": [
       "(1855, 14)"
      ]
     },
     "execution_count": 17,
     "metadata": {},
     "output_type": "execute_result"
    }
   ],
   "source": [
    "exit.shape"
   ]
  },
  {
   "cell_type": "code",
   "execution_count": 18,
   "id": "8afc8983-7478-4e8d-b880-2537f5422e24",
   "metadata": {
    "tags": []
   },
   "outputs": [
    {
     "data": {
      "text/plain": [
       "Index(['Fiscal Year', 'Quarter', 'Employee / Contractor', 'Employee Number',\n",
       "       'Email Address', 'Hire Date', 'Separation Date', 'Check', 'Job Name',\n",
       "       'Level', 'CC', 'Pillar', 'diff_in_days', 'diff_in_years'],\n",
       "      dtype='object')"
      ]
     },
     "execution_count": 18,
     "metadata": {},
     "output_type": "execute_result"
    }
   ],
   "source": [
    "exit.columns"
   ]
  },
  {
   "cell_type": "code",
   "execution_count": 12,
   "id": "ccb4e4b2-72b4-49b4-9511-248ad041a4e5",
   "metadata": {
    "tags": []
   },
   "outputs": [
    {
     "data": {
      "text/html": [
       "<div>\n",
       "<style scoped>\n",
       "    .dataframe tbody tr th:only-of-type {\n",
       "        vertical-align: middle;\n",
       "    }\n",
       "\n",
       "    .dataframe tbody tr th {\n",
       "        vertical-align: top;\n",
       "    }\n",
       "\n",
       "    .dataframe thead th {\n",
       "        text-align: right;\n",
       "    }\n",
       "</style>\n",
       "<table border=\"1\" class=\"dataframe\">\n",
       "  <thead>\n",
       "    <tr style=\"text-align: right;\">\n",
       "      <th></th>\n",
       "      <th>Fiscal Year</th>\n",
       "      <th>Quarter</th>\n",
       "      <th>Employee / Contractor</th>\n",
       "      <th>Employee Number</th>\n",
       "      <th>Email Address</th>\n",
       "      <th>Hire Date</th>\n",
       "      <th>Job Name</th>\n",
       "      <th>Level</th>\n",
       "      <th>CC</th>\n",
       "      <th>Pillar</th>\n",
       "    </tr>\n",
       "  </thead>\n",
       "  <tbody>\n",
       "    <tr>\n",
       "      <th>0</th>\n",
       "      <td>FY-22</td>\n",
       "      <td>Q4</td>\n",
       "      <td>E</td>\n",
       "      <td>1577352</td>\n",
       "      <td>manoj.v.bagul@oracle.com</td>\n",
       "      <td>44707</td>\n",
       "      <td>20610.Senior Principal Consultant.IC3</td>\n",
       "      <td>6S</td>\n",
       "      <td>504736</td>\n",
       "      <td>ERP SCM</td>\n",
       "    </tr>\n",
       "    <tr>\n",
       "      <th>1</th>\n",
       "      <td>FY-22</td>\n",
       "      <td>Q4</td>\n",
       "      <td>E</td>\n",
       "      <td>1569826</td>\n",
       "      <td>vishal.deep@oracle.com</td>\n",
       "      <td>44707</td>\n",
       "      <td>20410.Senior Consultant.IC2</td>\n",
       "      <td>4</td>\n",
       "      <td>504636</td>\n",
       "      <td>CX Retail</td>\n",
       "    </tr>\n",
       "    <tr>\n",
       "      <th>2</th>\n",
       "      <td>FY-22</td>\n",
       "      <td>Q4</td>\n",
       "      <td>E</td>\n",
       "      <td>1615589</td>\n",
       "      <td>dharsana.george@oracle.com</td>\n",
       "      <td>44707</td>\n",
       "      <td>20310.Staff Consultant.IC1</td>\n",
       "      <td>3</td>\n",
       "      <td>504636</td>\n",
       "      <td>CX Retail</td>\n",
       "    </tr>\n",
       "    <tr>\n",
       "      <th>3</th>\n",
       "      <td>FY-22</td>\n",
       "      <td>Q4</td>\n",
       "      <td>E</td>\n",
       "      <td>1624093</td>\n",
       "      <td>riaz.haneef.mohammed@oracle.com</td>\n",
       "      <td>44707</td>\n",
       "      <td>20515.Principal Consultant.IC3</td>\n",
       "      <td>5</td>\n",
       "      <td>504776</td>\n",
       "      <td>HCM</td>\n",
       "    </tr>\n",
       "    <tr>\n",
       "      <th>4</th>\n",
       "      <td>FY-22</td>\n",
       "      <td>Q4</td>\n",
       "      <td>E</td>\n",
       "      <td>1610427</td>\n",
       "      <td>sridhar.s.kanaparthi@oracle.com</td>\n",
       "      <td>44707</td>\n",
       "      <td>20515.Principal Consultant.IC3</td>\n",
       "      <td>5</td>\n",
       "      <td>504826</td>\n",
       "      <td>Tech Cloud</td>\n",
       "    </tr>\n",
       "  </tbody>\n",
       "</table>\n",
       "</div>"
      ],
      "text/plain": [
       "  Fiscal Year Quarter Employee / Contractor Employee Number  \\\n",
       "0       FY-22      Q4                     E         1577352   \n",
       "1       FY-22      Q4                     E         1569826   \n",
       "2       FY-22      Q4                     E         1615589   \n",
       "3       FY-22      Q4                     E         1624093   \n",
       "4       FY-22      Q4                     E         1610427   \n",
       "\n",
       "                     Email Address  Hire Date  \\\n",
       "0         manoj.v.bagul@oracle.com      44707   \n",
       "1           vishal.deep@oracle.com      44707   \n",
       "2       dharsana.george@oracle.com      44707   \n",
       "3  riaz.haneef.mohammed@oracle.com      44707   \n",
       "4  sridhar.s.kanaparthi@oracle.com      44707   \n",
       "\n",
       "                                Job Name Level      CC      Pillar  \n",
       "0  20610.Senior Principal Consultant.IC3    6S  504736     ERP SCM  \n",
       "1            20410.Senior Consultant.IC2     4  504636   CX Retail  \n",
       "2             20310.Staff Consultant.IC1     3  504636   CX Retail  \n",
       "3         20515.Principal Consultant.IC3     5  504776         HCM  \n",
       "4         20515.Principal Consultant.IC3     5  504826  Tech Cloud  "
      ]
     },
     "execution_count": 12,
     "metadata": {},
     "output_type": "execute_result"
    }
   ],
   "source": [
    "new_joiner.head()"
   ]
  },
  {
   "cell_type": "code",
   "execution_count": 13,
   "id": "6db95e5e-9261-4589-9c71-d18a6fbb705a",
   "metadata": {
    "tags": []
   },
   "outputs": [
    {
     "data": {
      "text/plain": [
       "(3424, 10)"
      ]
     },
     "execution_count": 13,
     "metadata": {},
     "output_type": "execute_result"
    }
   ],
   "source": [
    "new_joiner.shape"
   ]
  },
  {
   "cell_type": "code",
   "execution_count": 14,
   "id": "230a8c51-fec0-4be1-a45f-acfe7a62b8b7",
   "metadata": {
    "tags": []
   },
   "outputs": [],
   "source": [
    "new_joiner['Hire Date'] = pd.to_datetime(new_joiner['Hire Date'], origin = '1899-12-30', unit = 'D')"
   ]
  },
  {
   "cell_type": "code",
   "execution_count": 15,
   "id": "7651d380-ccfe-416a-9b1d-a8ebec8d135c",
   "metadata": {
    "tags": []
   },
   "outputs": [
    {
     "data": {
      "text/html": [
       "<div>\n",
       "<style scoped>\n",
       "    .dataframe tbody tr th:only-of-type {\n",
       "        vertical-align: middle;\n",
       "    }\n",
       "\n",
       "    .dataframe tbody tr th {\n",
       "        vertical-align: top;\n",
       "    }\n",
       "\n",
       "    .dataframe thead th {\n",
       "        text-align: right;\n",
       "    }\n",
       "</style>\n",
       "<table border=\"1\" class=\"dataframe\">\n",
       "  <thead>\n",
       "    <tr style=\"text-align: right;\">\n",
       "      <th></th>\n",
       "      <th>Fiscal Year</th>\n",
       "      <th>Quarter</th>\n",
       "      <th>Employee / Contractor</th>\n",
       "      <th>Employee Number</th>\n",
       "      <th>Email Address</th>\n",
       "      <th>Hire Date</th>\n",
       "      <th>Job Name</th>\n",
       "      <th>Level</th>\n",
       "      <th>CC</th>\n",
       "      <th>Pillar</th>\n",
       "    </tr>\n",
       "  </thead>\n",
       "  <tbody>\n",
       "    <tr>\n",
       "      <th>0</th>\n",
       "      <td>FY-22</td>\n",
       "      <td>Q4</td>\n",
       "      <td>E</td>\n",
       "      <td>1577352</td>\n",
       "      <td>manoj.v.bagul@oracle.com</td>\n",
       "      <td>2022-05-26</td>\n",
       "      <td>20610.Senior Principal Consultant.IC3</td>\n",
       "      <td>6S</td>\n",
       "      <td>504736</td>\n",
       "      <td>ERP SCM</td>\n",
       "    </tr>\n",
       "    <tr>\n",
       "      <th>1</th>\n",
       "      <td>FY-22</td>\n",
       "      <td>Q4</td>\n",
       "      <td>E</td>\n",
       "      <td>1569826</td>\n",
       "      <td>vishal.deep@oracle.com</td>\n",
       "      <td>2022-05-26</td>\n",
       "      <td>20410.Senior Consultant.IC2</td>\n",
       "      <td>4</td>\n",
       "      <td>504636</td>\n",
       "      <td>CX Retail</td>\n",
       "    </tr>\n",
       "    <tr>\n",
       "      <th>2</th>\n",
       "      <td>FY-22</td>\n",
       "      <td>Q4</td>\n",
       "      <td>E</td>\n",
       "      <td>1615589</td>\n",
       "      <td>dharsana.george@oracle.com</td>\n",
       "      <td>2022-05-26</td>\n",
       "      <td>20310.Staff Consultant.IC1</td>\n",
       "      <td>3</td>\n",
       "      <td>504636</td>\n",
       "      <td>CX Retail</td>\n",
       "    </tr>\n",
       "    <tr>\n",
       "      <th>3</th>\n",
       "      <td>FY-22</td>\n",
       "      <td>Q4</td>\n",
       "      <td>E</td>\n",
       "      <td>1624093</td>\n",
       "      <td>riaz.haneef.mohammed@oracle.com</td>\n",
       "      <td>2022-05-26</td>\n",
       "      <td>20515.Principal Consultant.IC3</td>\n",
       "      <td>5</td>\n",
       "      <td>504776</td>\n",
       "      <td>HCM</td>\n",
       "    </tr>\n",
       "    <tr>\n",
       "      <th>4</th>\n",
       "      <td>FY-22</td>\n",
       "      <td>Q4</td>\n",
       "      <td>E</td>\n",
       "      <td>1610427</td>\n",
       "      <td>sridhar.s.kanaparthi@oracle.com</td>\n",
       "      <td>2022-05-26</td>\n",
       "      <td>20515.Principal Consultant.IC3</td>\n",
       "      <td>5</td>\n",
       "      <td>504826</td>\n",
       "      <td>Tech Cloud</td>\n",
       "    </tr>\n",
       "  </tbody>\n",
       "</table>\n",
       "</div>"
      ],
      "text/plain": [
       "  Fiscal Year Quarter Employee / Contractor Employee Number  \\\n",
       "0       FY-22      Q4                     E         1577352   \n",
       "1       FY-22      Q4                     E         1569826   \n",
       "2       FY-22      Q4                     E         1615589   \n",
       "3       FY-22      Q4                     E         1624093   \n",
       "4       FY-22      Q4                     E         1610427   \n",
       "\n",
       "                     Email Address  Hire Date  \\\n",
       "0         manoj.v.bagul@oracle.com 2022-05-26   \n",
       "1           vishal.deep@oracle.com 2022-05-26   \n",
       "2       dharsana.george@oracle.com 2022-05-26   \n",
       "3  riaz.haneef.mohammed@oracle.com 2022-05-26   \n",
       "4  sridhar.s.kanaparthi@oracle.com 2022-05-26   \n",
       "\n",
       "                                Job Name Level      CC      Pillar  \n",
       "0  20610.Senior Principal Consultant.IC3    6S  504736     ERP SCM  \n",
       "1            20410.Senior Consultant.IC2     4  504636   CX Retail  \n",
       "2             20310.Staff Consultant.IC1     3  504636   CX Retail  \n",
       "3         20515.Principal Consultant.IC3     5  504776         HCM  \n",
       "4         20515.Principal Consultant.IC3     5  504826  Tech Cloud  "
      ]
     },
     "execution_count": 15,
     "metadata": {},
     "output_type": "execute_result"
    }
   ],
   "source": [
    "new_joiner.head()"
   ]
  },
  {
   "cell_type": "code",
   "execution_count": 16,
   "id": "83e393a8-4258-4a71-9f34-9d11adaeae53",
   "metadata": {
    "tags": []
   },
   "outputs": [
    {
     "data": {
      "text/plain": [
       "3399"
      ]
     },
     "execution_count": 16,
     "metadata": {},
     "output_type": "execute_result"
    }
   ],
   "source": [
    "new_joiner['Employee Number'].nunique()"
   ]
  },
  {
   "cell_type": "code",
   "execution_count": 23,
   "id": "80b63f83-4d5d-49e9-b1eb-6d07e9af2135",
   "metadata": {
    "tags": []
   },
   "outputs": [],
   "source": [
    "tenure_of_service_table = pd.merge(exit[['Employee Number','Email Address','diff_in_years','Hire Date','Separation Date']],new_joiner[['Employee Number','Email Address','Hire Date']], on = 'Employee Number', how = 'inner')"
   ]
  },
  {
   "cell_type": "code",
   "execution_count": 24,
   "id": "13a573c1-5a26-4475-802d-f33eb66ebc8f",
   "metadata": {
    "tags": []
   },
   "outputs": [
    {
     "data": {
      "text/html": [
       "<div>\n",
       "<style scoped>\n",
       "    .dataframe tbody tr th:only-of-type {\n",
       "        vertical-align: middle;\n",
       "    }\n",
       "\n",
       "    .dataframe tbody tr th {\n",
       "        vertical-align: top;\n",
       "    }\n",
       "\n",
       "    .dataframe thead th {\n",
       "        text-align: right;\n",
       "    }\n",
       "</style>\n",
       "<table border=\"1\" class=\"dataframe\">\n",
       "  <thead>\n",
       "    <tr style=\"text-align: right;\">\n",
       "      <th></th>\n",
       "      <th>Employee Number</th>\n",
       "      <th>Email Address_x</th>\n",
       "      <th>diff_in_years</th>\n",
       "      <th>Hire Date_x</th>\n",
       "      <th>Separation Date</th>\n",
       "      <th>Email Address_y</th>\n",
       "      <th>Hire Date_y</th>\n",
       "    </tr>\n",
       "  </thead>\n",
       "  <tbody>\n",
       "    <tr>\n",
       "      <th>0</th>\n",
       "      <td>1457309</td>\n",
       "      <td>pratibha.b@oracle.com</td>\n",
       "      <td>1.005479</td>\n",
       "      <td>2021-06-14</td>\n",
       "      <td>2022-06-16</td>\n",
       "      <td>pratibha.b@oracle.com</td>\n",
       "      <td>2021-06-14</td>\n",
       "    </tr>\n",
       "    <tr>\n",
       "      <th>1</th>\n",
       "      <td>1499840</td>\n",
       "      <td>deepak.b.balaganapathi@oracle.com</td>\n",
       "      <td>0.660274</td>\n",
       "      <td>2021-10-25</td>\n",
       "      <td>2022-06-23</td>\n",
       "      <td>deepak.b.balaganapathi@oracle.com</td>\n",
       "      <td>2021-10-25</td>\n",
       "    </tr>\n",
       "    <tr>\n",
       "      <th>2</th>\n",
       "      <td>1542763</td>\n",
       "      <td>abhishek.nahar@oracle.com</td>\n",
       "      <td>0.356164</td>\n",
       "      <td>2022-02-14</td>\n",
       "      <td>2022-06-24</td>\n",
       "      <td>abhishek.nahar@oracle.com</td>\n",
       "      <td>2022-02-14</td>\n",
       "    </tr>\n",
       "    <tr>\n",
       "      <th>3</th>\n",
       "      <td>1451774</td>\n",
       "      <td>saurabh.sm.mehta@oracle.com</td>\n",
       "      <td>1.087671</td>\n",
       "      <td>2021-05-27</td>\n",
       "      <td>2022-06-28</td>\n",
       "      <td>saurabh.sm.mehta@oracle.com</td>\n",
       "      <td>2021-05-27</td>\n",
       "    </tr>\n",
       "    <tr>\n",
       "      <th>4</th>\n",
       "      <td>1514529</td>\n",
       "      <td>sufal.gupta@oracle.com</td>\n",
       "      <td>0.745205</td>\n",
       "      <td>2021-09-30</td>\n",
       "      <td>2022-06-29</td>\n",
       "      <td>sufal.gupta@oracle.com</td>\n",
       "      <td>2021-09-30</td>\n",
       "    </tr>\n",
       "  </tbody>\n",
       "</table>\n",
       "</div>"
      ],
      "text/plain": [
       "  Employee Number                    Email Address_x  diff_in_years  \\\n",
       "0         1457309              pratibha.b@oracle.com       1.005479   \n",
       "1         1499840  deepak.b.balaganapathi@oracle.com       0.660274   \n",
       "2         1542763          abhishek.nahar@oracle.com       0.356164   \n",
       "3         1451774        saurabh.sm.mehta@oracle.com       1.087671   \n",
       "4         1514529             sufal.gupta@oracle.com       0.745205   \n",
       "\n",
       "  Hire Date_x Separation Date                    Email Address_y Hire Date_y  \n",
       "0  2021-06-14      2022-06-16              pratibha.b@oracle.com  2021-06-14  \n",
       "1  2021-10-25      2022-06-23  deepak.b.balaganapathi@oracle.com  2021-10-25  \n",
       "2  2022-02-14      2022-06-24          abhishek.nahar@oracle.com  2022-02-14  \n",
       "3  2021-05-27      2022-06-28        saurabh.sm.mehta@oracle.com  2021-05-27  \n",
       "4  2021-09-30      2022-06-29             sufal.gupta@oracle.com  2021-09-30  "
      ]
     },
     "execution_count": 24,
     "metadata": {},
     "output_type": "execute_result"
    }
   ],
   "source": [
    "tenure_of_service_table.head()"
   ]
  },
  {
   "cell_type": "code",
   "execution_count": 25,
   "id": "3af806e5-22be-4605-8ddc-a531f4da8576",
   "metadata": {
    "tags": []
   },
   "outputs": [
    {
     "data": {
      "text/plain": [
       "(757, 7)"
      ]
     },
     "execution_count": 25,
     "metadata": {},
     "output_type": "execute_result"
    }
   ],
   "source": [
    "tenure_of_service_table.shape"
   ]
  },
  {
   "cell_type": "code",
   "execution_count": 26,
   "id": "add89e97-7ecc-4fe3-8921-a6550e2ed959",
   "metadata": {
    "tags": []
   },
   "outputs": [
    {
     "data": {
      "text/plain": [
       "Employee Number    0\n",
       "Email Address_x    0\n",
       "diff_in_years      0\n",
       "Hire Date_x        0\n",
       "Separation Date    0\n",
       "Email Address_y    0\n",
       "Hire Date_y        0\n",
       "dtype: int64"
      ]
     },
     "execution_count": 26,
     "metadata": {},
     "output_type": "execute_result"
    }
   ],
   "source": [
    "tenure_of_service_table.isnull().sum()"
   ]
  },
  {
   "cell_type": "markdown",
   "id": "b786fcac-8649-493f-a432-06f5865d0cf4",
   "metadata": {},
   "source": [
    "##### This table becomes obsolete because we don't have to join the exit and new joiners table since the study is performed only on those who have left the company"
   ]
  },
  {
   "cell_type": "code",
   "execution_count": 27,
   "id": "3026a4fe-81af-420d-bb6a-396cc225629f",
   "metadata": {
    "tags": []
   },
   "outputs": [
    {
     "data": {
      "text/html": [
       "<div>\n",
       "<style scoped>\n",
       "    .dataframe tbody tr th:only-of-type {\n",
       "        vertical-align: middle;\n",
       "    }\n",
       "\n",
       "    .dataframe tbody tr th {\n",
       "        vertical-align: top;\n",
       "    }\n",
       "\n",
       "    .dataframe thead th {\n",
       "        text-align: right;\n",
       "    }\n",
       "</style>\n",
       "<table border=\"1\" class=\"dataframe\">\n",
       "  <thead>\n",
       "    <tr style=\"text-align: right;\">\n",
       "      <th></th>\n",
       "      <th>Fiscal Year</th>\n",
       "      <th>Quarter</th>\n",
       "      <th>Employee / Contractor</th>\n",
       "      <th>Employee Number</th>\n",
       "      <th>Email Address</th>\n",
       "      <th>Hire Date</th>\n",
       "      <th>Separation Date</th>\n",
       "      <th>Check</th>\n",
       "      <th>Job Name</th>\n",
       "      <th>Level</th>\n",
       "      <th>CC</th>\n",
       "      <th>Pillar</th>\n",
       "      <th>diff_in_days</th>\n",
       "      <th>diff_in_years</th>\n",
       "    </tr>\n",
       "  </thead>\n",
       "  <tbody>\n",
       "    <tr>\n",
       "      <th>0</th>\n",
       "      <td>FY-23</td>\n",
       "      <td>Q1</td>\n",
       "      <td>E</td>\n",
       "      <td>1147685</td>\n",
       "      <td>swapna.yenugula@oracle.com</td>\n",
       "      <td>2019-10-10</td>\n",
       "      <td>2022-06-08</td>\n",
       "      <td>20515</td>\n",
       "      <td>20515.Principal Consultant.CONS.IMPDEL.IC3</td>\n",
       "      <td>5</td>\n",
       "      <td>504716</td>\n",
       "      <td>ERP FIN</td>\n",
       "      <td>972 days</td>\n",
       "      <td>2.663014</td>\n",
       "    </tr>\n",
       "    <tr>\n",
       "      <th>1</th>\n",
       "      <td>FY-23</td>\n",
       "      <td>Q1</td>\n",
       "      <td>E</td>\n",
       "      <td>734489</td>\n",
       "      <td>sumita.x.sanyal@oracle.com</td>\n",
       "      <td>2019-10-24</td>\n",
       "      <td>2022-06-09</td>\n",
       "      <td>20515</td>\n",
       "      <td>20515.Principal Consultant.CONS.IMPDEL.IC3</td>\n",
       "      <td>5</td>\n",
       "      <td>504776</td>\n",
       "      <td>HCM</td>\n",
       "      <td>959 days</td>\n",
       "      <td>2.627397</td>\n",
       "    </tr>\n",
       "    <tr>\n",
       "      <th>2</th>\n",
       "      <td>FY-23</td>\n",
       "      <td>Q1</td>\n",
       "      <td>E</td>\n",
       "      <td>894311</td>\n",
       "      <td>ravi.chandan.reddy@oracle.com</td>\n",
       "      <td>2016-06-09</td>\n",
       "      <td>2022-06-09</td>\n",
       "      <td>20515</td>\n",
       "      <td>20515.Principal Consultant.CONS.IMPDEL.IC3</td>\n",
       "      <td>5</td>\n",
       "      <td>504776</td>\n",
       "      <td>HCM</td>\n",
       "      <td>2191 days</td>\n",
       "      <td>6.002740</td>\n",
       "    </tr>\n",
       "    <tr>\n",
       "      <th>3</th>\n",
       "      <td>FY-23</td>\n",
       "      <td>Q1</td>\n",
       "      <td>E</td>\n",
       "      <td>1072381</td>\n",
       "      <td>vinothkannan.lakshmanan@oracle.com</td>\n",
       "      <td>2018-12-03</td>\n",
       "      <td>2022-06-10</td>\n",
       "      <td>20515</td>\n",
       "      <td>20515.Principal Consultant.CONS.IMPDEL.IC3</td>\n",
       "      <td>5</td>\n",
       "      <td>501185</td>\n",
       "      <td>ERP FIN</td>\n",
       "      <td>1285 days</td>\n",
       "      <td>3.520548</td>\n",
       "    </tr>\n",
       "    <tr>\n",
       "      <th>4</th>\n",
       "      <td>FY-23</td>\n",
       "      <td>Q1</td>\n",
       "      <td>E</td>\n",
       "      <td>1138808</td>\n",
       "      <td>milind.d.joshi@oracle.com</td>\n",
       "      <td>2019-09-23</td>\n",
       "      <td>2022-06-10</td>\n",
       "      <td>20515</td>\n",
       "      <td>20515.Principal Consultant.CONS.IMPDEL.IC3</td>\n",
       "      <td>5</td>\n",
       "      <td>504686</td>\n",
       "      <td>EPM</td>\n",
       "      <td>991 days</td>\n",
       "      <td>2.715068</td>\n",
       "    </tr>\n",
       "  </tbody>\n",
       "</table>\n",
       "</div>"
      ],
      "text/plain": [
       "  Fiscal Year Quarter Employee / Contractor Employee Number  \\\n",
       "0       FY-23      Q1                     E         1147685   \n",
       "1       FY-23      Q1                     E          734489   \n",
       "2       FY-23      Q1                     E          894311   \n",
       "3       FY-23      Q1                     E         1072381   \n",
       "4       FY-23      Q1                     E         1138808   \n",
       "\n",
       "                        Email Address  Hire Date Separation Date  Check  \\\n",
       "0          swapna.yenugula@oracle.com 2019-10-10      2022-06-08  20515   \n",
       "1          sumita.x.sanyal@oracle.com 2019-10-24      2022-06-09  20515   \n",
       "2       ravi.chandan.reddy@oracle.com 2016-06-09      2022-06-09  20515   \n",
       "3  vinothkannan.lakshmanan@oracle.com 2018-12-03      2022-06-10  20515   \n",
       "4           milind.d.joshi@oracle.com 2019-09-23      2022-06-10  20515   \n",
       "\n",
       "                                     Job Name Level      CC   Pillar  \\\n",
       "0  20515.Principal Consultant.CONS.IMPDEL.IC3     5  504716  ERP FIN   \n",
       "1  20515.Principal Consultant.CONS.IMPDEL.IC3     5  504776      HCM   \n",
       "2  20515.Principal Consultant.CONS.IMPDEL.IC3     5  504776      HCM   \n",
       "3  20515.Principal Consultant.CONS.IMPDEL.IC3     5  501185  ERP FIN   \n",
       "4  20515.Principal Consultant.CONS.IMPDEL.IC3     5  504686      EPM   \n",
       "\n",
       "  diff_in_days  diff_in_years  \n",
       "0     972 days       2.663014  \n",
       "1     959 days       2.627397  \n",
       "2    2191 days       6.002740  \n",
       "3    1285 days       3.520548  \n",
       "4     991 days       2.715068  "
      ]
     },
     "execution_count": 27,
     "metadata": {},
     "output_type": "execute_result"
    }
   ],
   "source": [
    "exit.head()"
   ]
  },
  {
   "cell_type": "markdown",
   "id": "a0a0d983-e633-4297-9f40-4a60c7b8ec28",
   "metadata": {},
   "source": [
    "### Location  + Promotion + Exit"
   ]
  },
  {
   "cell_type": "code",
   "execution_count": 29,
   "id": "ad2cbd6f-cd3f-4b1f-b685-1f76ffff5092",
   "metadata": {},
   "outputs": [
    {
     "data": {
      "text/html": [
       "<div>\n",
       "<style scoped>\n",
       "    .dataframe tbody tr th:only-of-type {\n",
       "        vertical-align: middle;\n",
       "    }\n",
       "\n",
       "    .dataframe tbody tr th {\n",
       "        vertical-align: top;\n",
       "    }\n",
       "\n",
       "    .dataframe thead th {\n",
       "        text-align: right;\n",
       "    }\n",
       "</style>\n",
       "<table border=\"1\" class=\"dataframe\">\n",
       "  <thead>\n",
       "    <tr style=\"text-align: right;\">\n",
       "      <th></th>\n",
       "      <th>Email ID</th>\n",
       "      <th>Employee / Contractor</th>\n",
       "      <th>Location</th>\n",
       "      <th>promotion_tag</th>\n",
       "    </tr>\n",
       "  </thead>\n",
       "  <tbody>\n",
       "    <tr>\n",
       "      <th>0</th>\n",
       "      <td>a.aasik@oracle.com</td>\n",
       "      <td>C</td>\n",
       "      <td>Chennai</td>\n",
       "      <td>0</td>\n",
       "    </tr>\n",
       "    <tr>\n",
       "      <th>1</th>\n",
       "      <td>a.abhinav.s.sharma@oracle.com</td>\n",
       "      <td>E</td>\n",
       "      <td>Bengaluru</td>\n",
       "      <td>0</td>\n",
       "    </tr>\n",
       "    <tr>\n",
       "      <th>2</th>\n",
       "      <td>a.abhishek.tiwari@oracle.com</td>\n",
       "      <td>C</td>\n",
       "      <td>Noida</td>\n",
       "      <td>0</td>\n",
       "    </tr>\n",
       "    <tr>\n",
       "      <th>3</th>\n",
       "      <td>a.anurag.kumar@oracle.com</td>\n",
       "      <td>E</td>\n",
       "      <td>Hyderabad</td>\n",
       "      <td>0</td>\n",
       "    </tr>\n",
       "    <tr>\n",
       "      <th>4</th>\n",
       "      <td>a.ashish.agarwal@oracle.com</td>\n",
       "      <td>E</td>\n",
       "      <td>Pune</td>\n",
       "      <td>0</td>\n",
       "    </tr>\n",
       "  </tbody>\n",
       "</table>\n",
       "</div>"
      ],
      "text/plain": [
       "                        Email ID Employee / Contractor   Location  \\\n",
       "0             a.aasik@oracle.com                     C    Chennai   \n",
       "1  a.abhinav.s.sharma@oracle.com                     E  Bengaluru   \n",
       "2   a.abhishek.tiwari@oracle.com                     C      Noida   \n",
       "3      a.anurag.kumar@oracle.com                     E  Hyderabad   \n",
       "4    a.ashish.agarwal@oracle.com                     E       Pune   \n",
       "\n",
       "   promotion_tag  \n",
       "0              0  \n",
       "1              0  \n",
       "2              0  \n",
       "3              0  \n",
       "4              0  "
      ]
     },
     "execution_count": 29,
     "metadata": {},
     "output_type": "execute_result"
    }
   ],
   "source": [
    "promotion_with_location.head()"
   ]
  },
  {
   "cell_type": "code",
   "execution_count": 32,
   "id": "ab375628-168d-4578-a495-996f5faebce1",
   "metadata": {},
   "outputs": [],
   "source": [
    "exit.rename(columns = {'diff_in_years' : 'tenureofservice'}, inplace = True)"
   ]
  },
  {
   "cell_type": "code",
   "execution_count": 34,
   "id": "0780214b-b2fa-4c2c-8780-29623626d8f6",
   "metadata": {
    "tags": []
   },
   "outputs": [
    {
     "data": {
      "text/html": [
       "<div>\n",
       "<style scoped>\n",
       "    .dataframe tbody tr th:only-of-type {\n",
       "        vertical-align: middle;\n",
       "    }\n",
       "\n",
       "    .dataframe tbody tr th {\n",
       "        vertical-align: top;\n",
       "    }\n",
       "\n",
       "    .dataframe thead th {\n",
       "        text-align: right;\n",
       "    }\n",
       "</style>\n",
       "<table border=\"1\" class=\"dataframe\">\n",
       "  <thead>\n",
       "    <tr style=\"text-align: right;\">\n",
       "      <th></th>\n",
       "      <th>Fiscal Year</th>\n",
       "      <th>Quarter</th>\n",
       "      <th>Employee / Contractor</th>\n",
       "      <th>Employee Number</th>\n",
       "      <th>Email Address</th>\n",
       "      <th>Hire Date</th>\n",
       "      <th>Separation Date</th>\n",
       "      <th>Check</th>\n",
       "      <th>Job Name</th>\n",
       "      <th>Level</th>\n",
       "      <th>CC</th>\n",
       "      <th>Pillar</th>\n",
       "      <th>diff_in_days</th>\n",
       "      <th>tenureofservice</th>\n",
       "    </tr>\n",
       "  </thead>\n",
       "  <tbody>\n",
       "    <tr>\n",
       "      <th>0</th>\n",
       "      <td>FY-23</td>\n",
       "      <td>Q1</td>\n",
       "      <td>E</td>\n",
       "      <td>1147685</td>\n",
       "      <td>swapna.yenugula@oracle.com</td>\n",
       "      <td>2019-10-10</td>\n",
       "      <td>2022-06-08</td>\n",
       "      <td>20515</td>\n",
       "      <td>20515.Principal Consultant.CONS.IMPDEL.IC3</td>\n",
       "      <td>5</td>\n",
       "      <td>504716</td>\n",
       "      <td>ERP FIN</td>\n",
       "      <td>972 days</td>\n",
       "      <td>2.663014</td>\n",
       "    </tr>\n",
       "    <tr>\n",
       "      <th>1</th>\n",
       "      <td>FY-23</td>\n",
       "      <td>Q1</td>\n",
       "      <td>E</td>\n",
       "      <td>734489</td>\n",
       "      <td>sumita.x.sanyal@oracle.com</td>\n",
       "      <td>2019-10-24</td>\n",
       "      <td>2022-06-09</td>\n",
       "      <td>20515</td>\n",
       "      <td>20515.Principal Consultant.CONS.IMPDEL.IC3</td>\n",
       "      <td>5</td>\n",
       "      <td>504776</td>\n",
       "      <td>HCM</td>\n",
       "      <td>959 days</td>\n",
       "      <td>2.627397</td>\n",
       "    </tr>\n",
       "    <tr>\n",
       "      <th>2</th>\n",
       "      <td>FY-23</td>\n",
       "      <td>Q1</td>\n",
       "      <td>E</td>\n",
       "      <td>894311</td>\n",
       "      <td>ravi.chandan.reddy@oracle.com</td>\n",
       "      <td>2016-06-09</td>\n",
       "      <td>2022-06-09</td>\n",
       "      <td>20515</td>\n",
       "      <td>20515.Principal Consultant.CONS.IMPDEL.IC3</td>\n",
       "      <td>5</td>\n",
       "      <td>504776</td>\n",
       "      <td>HCM</td>\n",
       "      <td>2191 days</td>\n",
       "      <td>6.002740</td>\n",
       "    </tr>\n",
       "    <tr>\n",
       "      <th>3</th>\n",
       "      <td>FY-23</td>\n",
       "      <td>Q1</td>\n",
       "      <td>E</td>\n",
       "      <td>1072381</td>\n",
       "      <td>vinothkannan.lakshmanan@oracle.com</td>\n",
       "      <td>2018-12-03</td>\n",
       "      <td>2022-06-10</td>\n",
       "      <td>20515</td>\n",
       "      <td>20515.Principal Consultant.CONS.IMPDEL.IC3</td>\n",
       "      <td>5</td>\n",
       "      <td>501185</td>\n",
       "      <td>ERP FIN</td>\n",
       "      <td>1285 days</td>\n",
       "      <td>3.520548</td>\n",
       "    </tr>\n",
       "    <tr>\n",
       "      <th>4</th>\n",
       "      <td>FY-23</td>\n",
       "      <td>Q1</td>\n",
       "      <td>E</td>\n",
       "      <td>1138808</td>\n",
       "      <td>milind.d.joshi@oracle.com</td>\n",
       "      <td>2019-09-23</td>\n",
       "      <td>2022-06-10</td>\n",
       "      <td>20515</td>\n",
       "      <td>20515.Principal Consultant.CONS.IMPDEL.IC3</td>\n",
       "      <td>5</td>\n",
       "      <td>504686</td>\n",
       "      <td>EPM</td>\n",
       "      <td>991 days</td>\n",
       "      <td>2.715068</td>\n",
       "    </tr>\n",
       "  </tbody>\n",
       "</table>\n",
       "</div>"
      ],
      "text/plain": [
       "  Fiscal Year Quarter Employee / Contractor Employee Number  \\\n",
       "0       FY-23      Q1                     E         1147685   \n",
       "1       FY-23      Q1                     E          734489   \n",
       "2       FY-23      Q1                     E          894311   \n",
       "3       FY-23      Q1                     E         1072381   \n",
       "4       FY-23      Q1                     E         1138808   \n",
       "\n",
       "                        Email Address  Hire Date Separation Date  Check  \\\n",
       "0          swapna.yenugula@oracle.com 2019-10-10      2022-06-08  20515   \n",
       "1          sumita.x.sanyal@oracle.com 2019-10-24      2022-06-09  20515   \n",
       "2       ravi.chandan.reddy@oracle.com 2016-06-09      2022-06-09  20515   \n",
       "3  vinothkannan.lakshmanan@oracle.com 2018-12-03      2022-06-10  20515   \n",
       "4           milind.d.joshi@oracle.com 2019-09-23      2022-06-10  20515   \n",
       "\n",
       "                                     Job Name Level      CC   Pillar  \\\n",
       "0  20515.Principal Consultant.CONS.IMPDEL.IC3     5  504716  ERP FIN   \n",
       "1  20515.Principal Consultant.CONS.IMPDEL.IC3     5  504776      HCM   \n",
       "2  20515.Principal Consultant.CONS.IMPDEL.IC3     5  504776      HCM   \n",
       "3  20515.Principal Consultant.CONS.IMPDEL.IC3     5  501185  ERP FIN   \n",
       "4  20515.Principal Consultant.CONS.IMPDEL.IC3     5  504686      EPM   \n",
       "\n",
       "  diff_in_days  tenureofservice  \n",
       "0     972 days         2.663014  \n",
       "1     959 days         2.627397  \n",
       "2    2191 days         6.002740  \n",
       "3    1285 days         3.520548  \n",
       "4     991 days         2.715068  "
      ]
     },
     "execution_count": 34,
     "metadata": {},
     "output_type": "execute_result"
    }
   ],
   "source": [
    "exit.head()"
   ]
  },
  {
   "cell_type": "code",
   "execution_count": 35,
   "id": "e7414f87-4711-427f-847f-ef62e16c0ce1",
   "metadata": {
    "tags": []
   },
   "outputs": [],
   "source": [
    "promotion_with_location.rename(columns = {'Email ID': 'Email Address'}, inplace = True)"
   ]
  },
  {
   "cell_type": "code",
   "execution_count": 37,
   "id": "c80a95a8-6a0f-48b9-a9dc-c26850b1be35",
   "metadata": {},
   "outputs": [],
   "source": [
    "# context of studying if there is a relation of exit with location and promotion\n",
    "promo_loc_exit = pd.merge(exit, promotion_with_location[['Email Address','promotion_tag','Location']], on = 'Email Address', how = 'inner')"
   ]
  },
  {
   "cell_type": "code",
   "execution_count": 39,
   "id": "77db6788-a2ef-4c7c-ba30-a4090d973616",
   "metadata": {},
   "outputs": [
    {
     "data": {
      "text/plain": [
       "Index(['Fiscal Year', 'Quarter', 'Employee / Contractor', 'Employee Number',\n",
       "       'Email Address', 'Hire Date', 'Separation Date', 'Check', 'Job Name',\n",
       "       'Level', 'CC', 'Pillar', 'diff_in_days', 'tenureofservice',\n",
       "       'promotion_tag', 'Location'],\n",
       "      dtype='object')"
      ]
     },
     "execution_count": 39,
     "metadata": {},
     "output_type": "execute_result"
    }
   ],
   "source": [
    "promo_loc_exit.columns"
   ]
  },
  {
   "cell_type": "code",
   "execution_count": 41,
   "id": "24bf1013-3cb1-47b3-bf6d-cddfd56481cc",
   "metadata": {},
   "outputs": [
    {
     "data": {
      "text/plain": [
       "Fiscal Year                0\n",
       "Quarter                    0\n",
       "Employee / Contractor      0\n",
       "Employee Number            0\n",
       "Email Address              0\n",
       "Hire Date                  0\n",
       "Separation Date            0\n",
       "Check                    528\n",
       "Job Name                   0\n",
       "Level                      0\n",
       "CC                         0\n",
       "Pillar                     0\n",
       "diff_in_days               0\n",
       "tenureofservice            0\n",
       "promotion_tag              0\n",
       "Location                   0\n",
       "dtype: int64"
      ]
     },
     "execution_count": 41,
     "metadata": {},
     "output_type": "execute_result"
    }
   ],
   "source": [
    "promo_loc_exit.isnull().sum()"
   ]
  },
  {
   "cell_type": "code",
   "execution_count": 55,
   "id": "44708190-fc45-453e-ba6b-a2781876534a",
   "metadata": {},
   "outputs": [
    {
     "data": {
      "text/plain": [
       "<Axes: xlabel='count', ylabel='Pillar'>"
      ]
     },
     "execution_count": 55,
     "metadata": {},
     "output_type": "execute_result"
    },
    {
     "data": {
      "image/png": "[encoded data removed]",
      "text/plain": [
       "<Figure size 640x480 with 1 Axes>"
      ]
     },
     "metadata": {},
     "output_type": "display_data"
    }
   ],
   "source": [
    "sns.countplot(promo_loc_exit, y = 'Pillar', orient = 'h', order = promo_loc_exit['Pillar'].value_counts().index)"
   ]
  },
  {
   "cell_type": "code",
   "execution_count": 48,
   "id": "3acd9e40-cd54-4b08-ac18-4cbde8f2228b",
   "metadata": {},
   "outputs": [
    {
     "data": {
      "text/plain": [
       "(array([ 0,  1,  2,  3,  4,  5,  6,  7,  8,  9, 10]),\n",
       " [Text(0, 0, 'Bengaluru'),\n",
       "  Text(1, 0, 'Chennai'),\n",
       "  Text(2, 0, 'GANDHI NAGAR'),\n",
       "  Text(3, 0, 'Gurgaon'),\n",
       "  Text(4, 0, 'Hyderabad'),\n",
       "  Text(5, 0, 'Kolkata'),\n",
       "  Text(6, 0, 'Mumbai'),\n",
       "  Text(7, 0, 'Noida'),\n",
       "  Text(8, 0, 'Philippines'),\n",
       "  Text(9, 0, 'Pune'),\n",
       "  Text(10, 0, 'nil')])"
      ]
     },
     "execution_count": 48,
     "metadata": {},
     "output_type": "execute_result"
    },
    {
     "data": {
      "image/png": "[encoded data removed]",
      "text/plain": [
       "<Figure size 1000x600 with 1 Axes>"
      ]
     },
     "metadata": {},
     "output_type": "display_data"
    }
   ],
   "source": [
    "import matplotlib.pyplot as plt\n",
    "#create a plot for cross tab\n",
    "pd.crosstab(promo_loc_exit['Location'],promo_loc_exit['promotion_tag']).plot(kind=\"bar\", figsize=(10,6))\n",
    "plt.title(\"Promotion vs Location\")\n",
    "plt.xlabel(\"Location\")\n",
    "plt.ylabel(\"No. of people who were/not promoted\")\n",
    "plt.legend([\"Not Promoted\",\"Promoted\"])\n",
    "plt.xticks(rotation=90)"
   ]
  },
  {
   "cell_type": "code",
   "execution_count": 57,
   "id": "b98ee70c-94de-424d-9ccc-229c3daa8adf",
   "metadata": {},
   "outputs": [
    {
     "name": "stdout",
     "output_type": "stream",
     "text": [
      "                   Pillar  Average_Tenure_of_Service\n",
      "3                     EPM                   1.537399\n",
      "0                     ACX                   1.561644\n",
      "4               ERP (GSD)                   1.866166\n",
      "9              Tech Cloud                   2.146338\n",
      "6                 ERP SCM                   2.178109\n",
      "5                 ERP FIN                   2.312979\n",
      "2  Cloud Infra & Platform                   2.427419\n",
      "7                     HCM                   2.790895\n",
      "1               CX Retail                   2.826027\n",
      "8                  Others                   5.402740\n"
     ]
    }
   ],
   "source": [
    "# Group by 'Pillar' and calculate the mean 'Tenure_of_Service' for each group\n",
    "average_tenure = promo_loc_exit.groupby('Pillar')['tenureofservice'].mean().reset_index()\n",
    "\n",
    "# Rename columns for clarity\n",
    "average_tenure.columns = ['Pillar', 'Average_Tenure_of_Service']\n",
    "\n",
    "# Display the result\n",
    "print(average_tenure.sort_values(by = 'Average_Tenure_of_Service',ascending = True))"
   ]
  },
  {
   "cell_type": "markdown",
   "id": "eac2e4da-97ee-48bf-8ad2-a4039a490879",
   "metadata": {},
   "source": [
    "### Chi-Square test to study the relationship between categorical variables (for ex: status of stay/left vs promotion vs location vs region"
   ]
  },
  {
   "cell_type": "code",
   "execution_count": 58,
   "id": "00a94726-36ab-4796-824e-4f63b9523189",
   "metadata": {},
   "outputs": [
    {
     "data": {
      "text/plain": [
       "(1915, 16)"
      ]
     },
     "execution_count": 58,
     "metadata": {},
     "output_type": "execute_result"
    }
   ],
   "source": [
    "promo_loc_exit.shape"
   ]
  },
  {
   "cell_type": "code",
   "execution_count": 59,
   "id": "9f41e61a-2a8e-4820-b57d-ceba855750bb",
   "metadata": {},
   "outputs": [
    {
     "data": {
      "text/html": [
       "<div>\n",
       "<style scoped>\n",
       "    .dataframe tbody tr th:only-of-type {\n",
       "        vertical-align: middle;\n",
       "    }\n",
       "\n",
       "    .dataframe tbody tr th {\n",
       "        vertical-align: top;\n",
       "    }\n",
       "\n",
       "    .dataframe thead th {\n",
       "        text-align: right;\n",
       "    }\n",
       "</style>\n",
       "<table border=\"1\" class=\"dataframe\">\n",
       "  <thead>\n",
       "    <tr style=\"text-align: right;\">\n",
       "      <th></th>\n",
       "      <th>Fiscal Year</th>\n",
       "      <th>Quarter</th>\n",
       "      <th>Employee / Contractor</th>\n",
       "      <th>Employee Number</th>\n",
       "      <th>Email Address</th>\n",
       "      <th>Hire Date</th>\n",
       "      <th>Separation Date</th>\n",
       "      <th>Check</th>\n",
       "      <th>Job Name</th>\n",
       "      <th>Level</th>\n",
       "      <th>CC</th>\n",
       "      <th>Pillar</th>\n",
       "      <th>diff_in_days</th>\n",
       "      <th>tenureofservice</th>\n",
       "      <th>promotion_tag</th>\n",
       "      <th>Location</th>\n",
       "    </tr>\n",
       "  </thead>\n",
       "  <tbody>\n",
       "    <tr>\n",
       "      <th>0</th>\n",
       "      <td>FY-23</td>\n",
       "      <td>Q1</td>\n",
       "      <td>E</td>\n",
       "      <td>1147685</td>\n",
       "      <td>swapna.yenugula@oracle.com</td>\n",
       "      <td>2019-10-10</td>\n",
       "      <td>2022-06-08</td>\n",
       "      <td>20515</td>\n",
       "      <td>20515.Principal Consultant.CONS.IMPDEL.IC3</td>\n",
       "      <td>5</td>\n",
       "      <td>504716</td>\n",
       "      <td>ERP FIN</td>\n",
       "      <td>972 days</td>\n",
       "      <td>2.663014</td>\n",
       "      <td>1</td>\n",
       "      <td>Bengaluru</td>\n",
       "    </tr>\n",
       "    <tr>\n",
       "      <th>1</th>\n",
       "      <td>FY-23</td>\n",
       "      <td>Q1</td>\n",
       "      <td>E</td>\n",
       "      <td>734489</td>\n",
       "      <td>sumita.x.sanyal@oracle.com</td>\n",
       "      <td>2019-10-24</td>\n",
       "      <td>2022-06-09</td>\n",
       "      <td>20515</td>\n",
       "      <td>20515.Principal Consultant.CONS.IMPDEL.IC3</td>\n",
       "      <td>5</td>\n",
       "      <td>504776</td>\n",
       "      <td>HCM</td>\n",
       "      <td>959 days</td>\n",
       "      <td>2.627397</td>\n",
       "      <td>0</td>\n",
       "      <td>Pune</td>\n",
       "    </tr>\n",
       "    <tr>\n",
       "      <th>2</th>\n",
       "      <td>FY-23</td>\n",
       "      <td>Q1</td>\n",
       "      <td>E</td>\n",
       "      <td>894311</td>\n",
       "      <td>ravi.chandan.reddy@oracle.com</td>\n",
       "      <td>2016-06-09</td>\n",
       "      <td>2022-06-09</td>\n",
       "      <td>20515</td>\n",
       "      <td>20515.Principal Consultant.CONS.IMPDEL.IC3</td>\n",
       "      <td>5</td>\n",
       "      <td>504776</td>\n",
       "      <td>HCM</td>\n",
       "      <td>2191 days</td>\n",
       "      <td>6.002740</td>\n",
       "      <td>1</td>\n",
       "      <td>Hyderabad</td>\n",
       "    </tr>\n",
       "    <tr>\n",
       "      <th>3</th>\n",
       "      <td>FY-23</td>\n",
       "      <td>Q1</td>\n",
       "      <td>E</td>\n",
       "      <td>1072381</td>\n",
       "      <td>vinothkannan.lakshmanan@oracle.com</td>\n",
       "      <td>2018-12-03</td>\n",
       "      <td>2022-06-10</td>\n",
       "      <td>20515</td>\n",
       "      <td>20515.Principal Consultant.CONS.IMPDEL.IC3</td>\n",
       "      <td>5</td>\n",
       "      <td>501185</td>\n",
       "      <td>ERP FIN</td>\n",
       "      <td>1285 days</td>\n",
       "      <td>3.520548</td>\n",
       "      <td>1</td>\n",
       "      <td>Chennai</td>\n",
       "    </tr>\n",
       "    <tr>\n",
       "      <th>4</th>\n",
       "      <td>FY-23</td>\n",
       "      <td>Q1</td>\n",
       "      <td>E</td>\n",
       "      <td>1138808</td>\n",
       "      <td>milind.d.joshi@oracle.com</td>\n",
       "      <td>2019-09-23</td>\n",
       "      <td>2022-06-10</td>\n",
       "      <td>20515</td>\n",
       "      <td>20515.Principal Consultant.CONS.IMPDEL.IC3</td>\n",
       "      <td>5</td>\n",
       "      <td>504686</td>\n",
       "      <td>EPM</td>\n",
       "      <td>991 days</td>\n",
       "      <td>2.715068</td>\n",
       "      <td>0</td>\n",
       "      <td>Pune</td>\n",
       "    </tr>\n",
       "  </tbody>\n",
       "</table>\n",
       "</div>"
      ],
      "text/plain": [
       "  Fiscal Year Quarter Employee / Contractor Employee Number  \\\n",
       "0       FY-23      Q1                     E         1147685   \n",
       "1       FY-23      Q1                     E          734489   \n",
       "2       FY-23      Q1                     E          894311   \n",
       "3       FY-23      Q1                     E         1072381   \n",
       "4       FY-23      Q1                     E         1138808   \n",
       "\n",
       "                        Email Address  Hire Date Separation Date  Check  \\\n",
       "0          swapna.yenugula@oracle.com 2019-10-10      2022-06-08  20515   \n",
       "1          sumita.x.sanyal@oracle.com 2019-10-24      2022-06-09  20515   \n",
       "2       ravi.chandan.reddy@oracle.com 2016-06-09      2022-06-09  20515   \n",
       "3  vinothkannan.lakshmanan@oracle.com 2018-12-03      2022-06-10  20515   \n",
       "4           milind.d.joshi@oracle.com 2019-09-23      2022-06-10  20515   \n",
       "\n",
       "                                     Job Name Level      CC   Pillar  \\\n",
       "0  20515.Principal Consultant.CONS.IMPDEL.IC3     5  504716  ERP FIN   \n",
       "1  20515.Principal Consultant.CONS.IMPDEL.IC3     5  504776      HCM   \n",
       "2  20515.Principal Consultant.CONS.IMPDEL.IC3     5  504776      HCM   \n",
       "3  20515.Principal Consultant.CONS.IMPDEL.IC3     5  501185  ERP FIN   \n",
       "4  20515.Principal Consultant.CONS.IMPDEL.IC3     5  504686      EPM   \n",
       "\n",
       "  diff_in_days  tenureofservice  promotion_tag   Location  \n",
       "0     972 days         2.663014              1  Bengaluru  \n",
       "1     959 days         2.627397              0       Pune  \n",
       "2    2191 days         6.002740              1  Hyderabad  \n",
       "3    1285 days         3.520548              1    Chennai  \n",
       "4     991 days         2.715068              0       Pune  "
      ]
     },
     "execution_count": 59,
     "metadata": {},
     "output_type": "execute_result"
    }
   ],
   "source": [
    "promo_loc_exit.head()"
   ]
  },
  {
   "cell_type": "code",
   "execution_count": 60,
   "id": "60c3a2d1-ecfa-408c-b33b-e075bedcc7e0",
   "metadata": {},
   "outputs": [],
   "source": [
    "promo_loc_exit.to_csv(r'promo_loc_exit.to_csv')"
   ]
  },
  {
   "cell_type": "code",
   "execution_count": null,
   "id": "4af8cd1a-1cfc-4f94-9e33-6f91afec7a09",
   "metadata": {},
   "outputs": [],
   "source": []
  },
  {
   "cell_type": "code",
   "execution_count": null,
   "id": "38d41edd-a9af-4979-9c25-54b9c3fc5944",
   "metadata": {},
   "outputs": [],
   "source": []
  },
  {
   "cell_type": "code",
   "execution_count": null,
   "id": "b344da0a-5575-4bfe-b339-ba20e643264d",
   "metadata": {},
   "outputs": [],
   "source": []
  },
  {
   "cell_type": "code",
   "execution_count": null,
   "id": "76ca5cbf-06da-424f-aff4-cb7035702170",
   "metadata": {},
   "outputs": [],
   "source": []
  },
  {
   "cell_type": "code",
   "execution_count": null,
   "id": "d567d79f-ea94-4888-9091-1fac343a7b94",
   "metadata": {},
   "outputs": [],
   "source": []
  },
  {
   "cell_type": "code",
   "execution_count": null,
   "id": "05d405bf-bb08-4d48-b316-3aa9d850caec",
   "metadata": {},
   "outputs": [],
   "source": []
  },
  {
   "cell_type": "code",
   "execution_count": null,
   "id": "93475dc9-9702-4e08-9c45-637b5e2d2b9e",
   "metadata": {},
   "outputs": [],
   "source": []
  },
  {
   "cell_type": "code",
   "execution_count": null,
   "id": "a3093fb4-89ec-49b9-ac88-459732625fef",
   "metadata": {},
   "outputs": [],
   "source": []
  },
  {
   "cell_type": "code",
   "execution_count": null,
   "id": "4d2901e3-8baf-4a1f-8353-a5241aaad8dd",
   "metadata": {},
   "outputs": [],
   "source": []
  },
  {
   "cell_type": "code",
   "execution_count": null,
   "id": "9ee1a480-91f7-4ac1-a9cd-d9fbc5b40a8c",
   "metadata": {},
   "outputs": [],
   "source": []
  },
  {
   "cell_type": "code",
   "execution_count": null,
   "id": "bc25a827-a241-4430-b2d2-ff3929417de9",
   "metadata": {},
   "outputs": [],
   "source": []
  },
  {
   "cell_type": "code",
   "execution_count": null,
   "id": "5795bb01-82a2-424d-a128-c19524de670d",
   "metadata": {},
   "outputs": [],
   "source": []
  }
 ],
 "metadata": {
  "kernelspec": {
   "display_name": "Python 3 (ipykernel)",
   "language": "python",
   "name": "python3"
  },
  "language_info": {
   "codemirror_mode": {
    "name": "ipython",
    "version": 3
   },
   "file_extension": ".py",
   "mimetype": "text/x-python",
   "name": "python",
   "nbconvert_exporter": "python",
   "pygments_lexer": "ipython3",
   "version": "3.8.19"
  }
 },
 "nbformat": 4,
 "nbformat_minor": 5
}
